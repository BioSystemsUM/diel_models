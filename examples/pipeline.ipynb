{
 "cells": [
  {
   "cell_type": "code",
   "execution_count": 16,
   "metadata": {
    "collapsed": true,
    "ExecuteTime": {
     "start_time": "2023-05-17T18:53:51.440546Z",
     "end_time": "2023-05-17T18:53:51.461685Z"
    }
   },
   "outputs": [],
   "source": [
    "from cobra import Model\n",
    "from typing import List\n",
    "from abc import ABC, abstractmethod\n",
    "import cobra.io\n",
    "from diel_models.compartments_creator import CompartmentsCreator\n",
    "from diel_models.storage_pool_creator import StoragePoolCreator\n",
    "from diel_models.photon_reaction_restrictor import PhotonReactionRestrictor\n",
    "from diel_models.biomass_adjuster import BiomassAdjuster\n",
    "\n",
    "\n",
    "class Step(ABC):\n",
    "    @abstractmethod\n",
    "    def run(self):\n",
    "        pass\n",
    "\n",
    "    def validate(self):\n",
    "        pass\n",
    "\n",
    "class Compartments(Step):\n",
    "\n",
    "    def __init__(self, model: Model):\n",
    "        self.model = model\n",
    "\n",
    "    def run(self):\n",
    "        test = CompartmentsCreator(self.model)\n",
    "        test.day_attribution()\n",
    "        test.duplicate()\n",
    "\n",
    "    def validate(self):\n",
    "        assert len(self.model.reactions) > 0, \"O modelo não possui nenhuma reação.\"\n",
    "        assert len(self.model.metabolites) > 0, \"O modelo não possui nenhum metabolito.\"\n",
    "        assert self.model.objective is not None, \"O modelo não possui uma função objetivo definida.\"\n",
    "\n",
    "class StoragePool(Step):\n",
    "\n",
    "    def __init__(self, model: Model, metabolites: List[str]):\n",
    "        self.model = model\n",
    "        self.metabolites = metabolites\n",
    "\n",
    "    def run(self):\n",
    "        test = StoragePoolCreator(self.model, self.metabolites)\n",
    "        test.create_storage_pool_metabolites()\n",
    "        test.create_storage_pool_first_reactions()\n",
    "        test.create_storage_pool_second_reactions()\n",
    "\n",
    "    def validate(self):\n",
    "        assert len(self.model.reactions) > 0, \"O modelo não possui nenhuma reação.\"\n",
    "        assert len(self.model.metabolites) > 0, \"O modelo não possui nenhum metabolito.\"\n",
    "        assert self.model.objective is not None, \"O modelo não possui uma função objetivo definida.\"\n",
    "\n",
    "        for reaction in self.model.reactions:\n",
    "            assert \"_Day\" in reaction.id or \"_Night\" in reaction.id, \"O modelo não possui Day and Night Reactions.\"\n",
    "        for metabolite in self.model.metabolites:\n",
    "            assert \"_Day\" in metabolite.id or \"_Night\" in metabolite.id, \"O modelo não possui Day and Night Metabolites.\"\n",
    "        for compartment in self.model.compartments:\n",
    "            assert \"_Day\" in compartment or \"_Night\" in compartment, \"O modelo não possui Day and Night Compartments.\"\n",
    "\n",
    "\n",
    "class PhotonRestrictor(Step):\n",
    "\n",
    "    def __init__(self, model: Model, id_photon_reaction_night: str):\n",
    "        self.model: Model = model\n",
    "        self.id_photon_reaction_night: str = id_photon_reaction_night\n",
    "\n",
    "    def run(self):\n",
    "        test = PhotonReactionRestrictor(self.model, self.id_photon_reaction_night)\n",
    "        test.restrain()\n",
    "\n",
    "    def validate(self):\n",
    "        assert len(self.model.reactions) > 0, \"O modelo não possui nenhuma reação.\"\n",
    "        assert len(self.model.metabolites) > 0, \"O modelo não possui nenhum metabolito.\"\n",
    "        assert self.model.objective is not None, \"O modelo não possui uma função objetivo definida.\"\n",
    "\n",
    "        for reaction in self.model.reactions:\n",
    "            assert \"_Day\" in reaction.id or \"_Night\" in reaction.id, \"O modelo não possui Day and Night Reactions.\"\n",
    "        for metabolite in self.model.metabolites:\n",
    "            assert \"_Day\" in metabolite.id or \"_Night\" in metabolite.id, \"O modelo não possui Day and Night Metabolites.\"\n",
    "        for compartment in self.model.compartments:\n",
    "            assert \"_Day\" in compartment or \"_Night\" in compartment or 'sp' in compartment, \"O modelo não possui Day and Night Compartments or SP.\"\n",
    "\n",
    "        for metabolite in self.model.metabolites:\n",
    "            if metabolite.compartment == \"sp\":\n",
    "                assert \"_sp\" in metabolite.id\n",
    "                assert \"Day\" not in metabolite.name or \"Night\" not in metabolite.name\n",
    "\n",
    "class Biomass(Step):\n",
    "\n",
    "    def __init__(self, model: Model, id_biomass_reaction_day: str, id_biomass_reaction_night: str,\n",
    "                 photosynthesis_reactions_at_night: List[str]):\n",
    "        self.model: Model = model\n",
    "        self.id_biomass_reaction_day: str = id_biomass_reaction_day\n",
    "        self.id_biomass_reaction_night: str = id_biomass_reaction_night\n",
    "        self.photosynthesis_reactions_at_night: List[str] = photosynthesis_reactions_at_night\n",
    "\n",
    "    def run(self):\n",
    "        test = BiomassAdjuster(self.model, self.id_biomass_reaction_day, self.id_biomass_reaction_night, self.photosynthesis_reactions_at_night)\n",
    "        test.reset_boundaries()\n",
    "        test.total_biomass_reaction()\n",
    "\n",
    "    def validate(self):\n",
    "        assert len(self.model.reactions) > 0, \"O modelo não possui nenhuma reação.\"\n",
    "        assert len(self.model.metabolites) > 0, \"O modelo não possui nenhum metabolito.\"\n",
    "        assert self.model.objective is not None, \"O modelo não possui uma função objetivo definida.\"\n",
    "\n",
    "        for reaction in self.model.reactions:\n",
    "            assert \"_Day\" in reaction.id or \"_Night\" in reaction.id, \"O modelo não possui Day and Night Reactions.\"\n",
    "        for metabolite in self.model.metabolites:\n",
    "            assert \"_Day\" in metabolite.id or \"_Night\" in metabolite.id, \"O modelo não possui Day and Night Metabolites.\"\n",
    "        for compartment in self.model.compartments:\n",
    "            assert \"_Day\" in compartment or \"_Night\" in compartment or 'sp' in compartment, \"O modelo não possui Day and Night Compartments or SP.\"\n",
    "\n",
    "        for metabolite in self.model.metabolites:\n",
    "            if metabolite.compartment == \"sp\":\n",
    "                assert \"_sp\" in metabolite.id\n",
    "                assert \"Day\" not in metabolite.name or \"Night\" not in metabolite.name"
   ]
  },
  {
   "cell_type": "code",
   "execution_count": 17,
   "outputs": [],
   "source": [
    "from cobra import Object\n",
    "\n",
    "class Pipeline:\n",
    "    def __init__(self, model: Model, steps: List[Object]):\n",
    "        self.steps = steps\n",
    "        self.model = model\n",
    "\n",
    "    def run(self):\n",
    "        for step in self.steps:\n",
    "            step.validate()\n",
    "            step.run()\n",
    "            cobra.io.write_sbml_model(self.model, \"Model.xml\")\n",
    "            self.model = cobra.io.read_sbml_model(\"Model.xml\")"
   ],
   "metadata": {
    "collapsed": false,
    "ExecuteTime": {
     "start_time": "2023-05-17T18:53:52.290234Z",
     "end_time": "2023-05-17T18:53:52.319415Z"
    }
   }
  },
  {
   "cell_type": "code",
   "execution_count": 18,
   "outputs": [],
   "source": [
    "import os\n",
    "from tests import TEST_DIR\n",
    "\n",
    "aragem_model_path = os.path.join(TEST_DIR, 'data', 'aragem_photo.xml')\n",
    "\n",
    "model = cobra.io.read_sbml_model(aragem_model_path)\n",
    "\n",
    "steps = [\n",
    "    Compartments(model),\n",
    "    StoragePool(model, [\"S_Sucrose_c[C_c]_Day\", \"S_Sulfate_c[C_c]_Day\", \"S_Nitrate_c[C_c]_Day\", \"S_L_45_Histidine_c[C_c]_Day\", \"S_L_45_Isoleucine_c[C_c]_Day\", \"S_L_45_Leucine_c[C_c]_Day\", \"S_L_45_Lysine_c[C_c]_Day\", \"S_L_45_Methionine_c[C_c]_Day\", \"S_L_45_Phenylalanine_c[C_c]_Day\", \"S_L_45_Threonine_c[C_c]_Day\", \"S_L_45_Tryptophan_c[C_c]_Day\", \"S_L_45_Valine_c[C_c]_Day\", \"S_L_45_Arginine_c[C_c]_Day\", \"S_L_45_Cysteine_c[C_c]_Day\", \"S_L_45_Glutamine_c[C_c]_Day\", \"S_L_45_Glutamate_c[C_c]_Day\", \"S_Glycine_c[C_c]_Day\", \"S_L_45_Proline_c[C_c]_Day\", \"S_L_45_Tyrosine_c[C_c]_Day\", \"S_L_45_Alanine_c[C_c]_Day\", \"S_L_45_Asparagine_c[C_c]_Day\", \"S_L_45_Serine_c[C_c]_Day\", \"S_Orthophosphate_c[C_c]_Day\", \"S_Starch_p[C_p]_Day\", \"S_D_45_Fructose_c[C_c]_Day\", \"S__40_S_41__45_Malate_c[C_c]_Day\", \"S_Fumarate_c[C_c]_Day\", \"S_Citrate_c[C_c]_Day\"]),\n",
    "    PhotonRestrictor(model, \"Ex16_Night\"),\n",
    "    Biomass(model, \"BIO_L_Day\", \"BIO_L_Night\", [\"R03845_c_Night\", \"R06267_c_Night\", \"R06286_c_Night\", \"R04801_c_Night\", \"R07856_c_Night\", \"R04803_c_Night\", \"R06961_c_Night\", \"R06960_c_Night\", \"R07856_c_Night\", \"V0004_Night\", \"R06284_c_Night\", \"R05618_c_Night\", \"R03845_c_Night\", \"R03824_c_Night\", \"R05341_c_Night\", \"R06965_c_Night\", \"R07558_c_Night\", \"R04798_c_Night\", \"R04787_c_Night\", \"R07840_c_Night\", \"R06963_c_Night\", \"R06962_c_Night\", \"R06961_c_Night\"])\n",
    "]\n",
    "\n",
    "pipeline = Pipeline(model, steps)\n",
    "pipeline.run()"
   ],
   "metadata": {
    "collapsed": false,
    "ExecuteTime": {
     "start_time": "2023-05-17T18:53:54.670056Z",
     "end_time": "2023-05-17T18:54:28.824415Z"
    }
   }
  },
  {
   "cell_type": "code",
   "execution_count": 19,
   "outputs": [
    {
     "data": {
      "text/plain": "<Model M_ at 0x1a9881ca0d0>",
      "text/html": "\n        <table>\n            <tr>\n                <td><strong>Name</strong></td>\n                <td>M_</td>\n            </tr><tr>\n                <td><strong>Memory address</strong></td>\n                <td>1a9881ca0d0</td>\n            </tr><tr>\n                <td><strong>Number of metabolites</strong></td>\n                <td>3474</td>\n            </tr><tr>\n                <td><strong>Number of reactions</strong></td>\n                <td>3202</td>\n            </tr><tr>\n                <td><strong>Number of genes</strong></td>\n                <td>1404</td>\n            </tr><tr>\n                <td><strong>Number of groups</strong></td>\n                <td>306</td>\n            </tr><tr>\n                <td><strong>Objective expression</strong></td>\n                <td>0.01*Ex16_Day - 0.01*Ex16_Day_reverse_efba9</td>\n            </tr><tr>\n                <td><strong>Compartments</strong></td>\n                <td>unknownCompartment3 Day, unknownCompartment6 Day, unknownCompartment5 Day, unknownCompartment8 Day, unknownCompartment7 Day, unknownCompartment2 Day, unknownCompartment1 Day, unknownCompartment4 Day, unknownCompartment3 Night, unknownCompartment2 Night, unknownCompartment6 Night, unknownCompartment1 Night, unknownCompartment4 Night, unknownCompartment5 Night, unknownCompartment7 Night, unknownCompartment8 Night</td>\n            </tr>\n          </table>"
     },
     "execution_count": 19,
     "metadata": {},
     "output_type": "execute_result"
    }
   ],
   "source": [
    "res_model = pipeline.model\n",
    "res_model"
   ],
   "metadata": {
    "collapsed": false,
    "ExecuteTime": {
     "start_time": "2023-05-17T18:54:28.826148Z",
     "end_time": "2023-05-17T18:54:28.855531Z"
    }
   }
  },
  {
   "cell_type": "code",
   "execution_count": null,
   "outputs": [],
   "source": [],
   "metadata": {
    "collapsed": false
   }
  }
 ],
 "metadata": {
  "kernelspec": {
   "display_name": "Python 3",
   "language": "python",
   "name": "python3"
  },
  "language_info": {
   "codemirror_mode": {
    "name": "ipython",
    "version": 2
   },
   "file_extension": ".py",
   "mimetype": "text/x-python",
   "name": "python",
   "nbconvert_exporter": "python",
   "pygments_lexer": "ipython2",
   "version": "2.7.6"
  }
 },
 "nbformat": 4,
 "nbformat_minor": 0
}
