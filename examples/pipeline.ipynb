{
 "cells": [
  {
   "cell_type": "code",
   "execution_count": null,
   "outputs": [],
   "source": [
    "from diel_models.pipeline import Pipeline\n",
    "import cobra\n",
    "import os\n",
    "from tests import TEST_DIR\n",
    "from diel_models.day_night_creator import DayNightCreator\n",
    "from diel_models.storage_pool_generator import StoragePoolGenerator\n",
    "from diel_models.photon_reaction_inhibitor import PhotonReactionInhibitor\n",
    "from diel_models.biomass_regulator import BiomassAdjuster\n",
    "from diel_models.nitrate_uptake_ratio import NitrateUptakeRatioCalibrator\n",
    "\n",
    "aragem_model_path = os.path.join(TEST_DIR, 'data', 'aragem_photo.xml')\n",
    "\n",
    "modelo = cobra.io.read_sbml_model(aragem_model_path)\n",
    "\n",
    "Steps = [\n",
    "    DayNightCreator(modelo),\n",
    "    StoragePoolGenerator(modelo, [\"S_Sucrose_c[C_c]_Day\", \"S_Sulfate_c[C_c]_Day\", \"S_Nitrate_c[C_c]_Day\", \"S_L_45_Histidine_c[C_c]_Day\", \"S_L_45_Isoleucine_c[C_c]_Day\", \"S_L_45_Leucine_c[C_c]_Day\", \"S_L_45_Lysine_c[C_c]_Day\", \"S_L_45_Methionine_c[C_c]_Day\", \"S_L_45_Phenylalanine_c[C_c]_Day\", \"S_L_45_Threonine_c[C_c]_Day\", \"S_L_45_Tryptophan_c[C_c]_Day\", \"S_L_45_Valine_c[C_c]_Day\", \"S_L_45_Arginine_c[C_c]_Day\", \"S_L_45_Cysteine_c[C_c]_Day\", \"S_L_45_Glutamine_c[C_c]_Day\", \"S_L_45_Glutamate_c[C_c]_Day\", \"S_Glycine_c[C_c]_Day\", \"S_L_45_Proline_c[C_c]_Day\", \"S_L_45_Tyrosine_c[C_c]_Day\", \"S_L_45_Alanine_c[C_c]_Day\", \"S_L_45_Asparagine_c[C_c]_Day\", \"S_L_45_Serine_c[C_c]_Day\", \"S_Orthophosphate_c[C_c]_Day\", \"S_Starch_p[C_p]_Day\", \"S_D_45_Fructose_c[C_c]_Day\", \"S__40_S_41__45_Malate_c[C_c]_Day\", \"S_Fumarate_c[C_c]_Day\", \"S_Citrate_c[C_c]_Day\"]),\n",
    "    PhotonReactionInhibitor(modelo, \"Ex16_Night\"),\n",
    "    BiomassAdjuster(modelo, \"BIO_L_Day\", \"BIO_L_Night\"),\n",
    "    NitrateUptakeRatioCalibrator(modelo, \"Ex4_Day\", \"Ex4_Night\")\n",
    "]\n",
    "\n",
    "pipeline = Pipeline(modelo, Steps)\n",
    "pipeline.run()"
   ],
   "metadata": {
    "collapsed": false,
    "ExecuteTime": {
     "start_time": "2023-05-24T18:01:27.004905Z",
     "end_time": "2023-05-24T18:03:26.475124Z"
    },
    "pycharm": {
     "is_executing": true
    }
   }
  },
  {
   "cell_type": "code",
   "execution_count": 2,
   "outputs": [
    {
     "data": {
      "text/plain": "<Model M_ at 0x226cfd45910>",
      "text/html": "\n        <table>\n            <tr>\n                <td><strong>Name</strong></td>\n                <td>M_</td>\n            </tr><tr>\n                <td><strong>Memory address</strong></td>\n                <td>226cfd45910</td>\n            </tr><tr>\n                <td><strong>Number of metabolites</strong></td>\n                <td>3474</td>\n            </tr><tr>\n                <td><strong>Number of reactions</strong></td>\n                <td>3231</td>\n            </tr><tr>\n                <td><strong>Number of genes</strong></td>\n                <td>1404</td>\n            </tr><tr>\n                <td><strong>Number of groups</strong></td>\n                <td>306</td>\n            </tr><tr>\n                <td><strong>Objective expression</strong></td>\n                <td>1.0*Biomass_Total - 1.0*Biomass_Total_reverse_a0aa3</td>\n            </tr><tr>\n                <td><strong>Compartments</strong></td>\n                <td>unknownCompartment3 Day, unknownCompartment6 Day, unknownCompartment5 Day, unknownCompartment8 Day, unknownCompartment7 Day, unknownCompartment2 Day, unknownCompartment1 Day, unknownCompartment4 Day, unknownCompartment3 Night, unknownCompartment2 Night, unknownCompartment6 Night, unknownCompartment1 Night, unknownCompartment4 Night, unknownCompartment5 Night, unknownCompartment7 Night, unknownCompartment8 Night</td>\n            </tr>\n          </table>"
     },
     "execution_count": 2,
     "metadata": {},
     "output_type": "execute_result"
    }
   ],
   "source": [
    "res_model = pipeline.model\n",
    "res_model"
   ],
   "metadata": {
    "collapsed": false,
    "ExecuteTime": {
     "start_time": "2023-05-24T17:50:12.046042Z",
     "end_time": "2023-05-24T17:50:12.093085Z"
    }
   }
  },
  {
   "cell_type": "code",
   "execution_count": 3,
   "outputs": [],
   "source": [
    "cobra.io.write_sbml_model(res_model, 'AraGEM_Photo_after_Pipeline.xml')"
   ],
   "metadata": {
    "collapsed": false,
    "ExecuteTime": {
     "start_time": "2023-05-24T17:50:56.962025Z",
     "end_time": "2023-05-24T17:50:59.150184Z"
    }
   }
  },
  {
   "cell_type": "code",
   "execution_count": null,
   "outputs": [],
   "source": [],
   "metadata": {
    "collapsed": false
   }
  }
 ],
 "metadata": {
  "kernelspec": {
   "display_name": "Python 3",
   "language": "python",
   "name": "python3"
  },
  "language_info": {
   "codemirror_mode": {
    "name": "ipython",
    "version": 2
   },
   "file_extension": ".py",
   "mimetype": "text/x-python",
   "name": "python",
   "nbconvert_exporter": "python",
   "pygments_lexer": "ipython2",
   "version": "2.7.6"
  }
 },
 "nbformat": 4,
 "nbformat_minor": 0
}
