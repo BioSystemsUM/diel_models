{
 "cells": [
  {
   "cell_type": "code",
   "execution_count": 1,
   "outputs": [
    {
     "ename": "ModuleNotFoundError",
     "evalue": "No module named 'numpy'",
     "output_type": "error",
     "traceback": [
      "\u001B[0;31m---------------------------------------------------------------------------\u001B[0m",
      "\u001B[0;31mModuleNotFoundError\u001B[0m                       Traceback (most recent call last)",
      "Cell \u001B[0;32mIn[1], line 1\u001B[0m\n\u001B[0;32m----> 1\u001B[0m \u001B[38;5;28;01mfrom\u001B[39;00m \u001B[38;5;21;01mdiel_models\u001B[39;00m\u001B[38;5;21;01m.\u001B[39;00m\u001B[38;5;21;01mpipeline\u001B[39;00m \u001B[38;5;28;01mimport\u001B[39;00m Pipeline\n\u001B[1;32m      2\u001B[0m \u001B[38;5;28;01mimport\u001B[39;00m \u001B[38;5;21;01mcobra\u001B[39;00m\n\u001B[1;32m      3\u001B[0m \u001B[38;5;28;01mimport\u001B[39;00m \u001B[38;5;21;01mos\u001B[39;00m\n",
      "File \u001B[0;32m~/Desktop/DielModels/src/diel_models/pipeline.py:1\u001B[0m\n\u001B[0;32m----> 1\u001B[0m \u001B[38;5;28;01mimport\u001B[39;00m \u001B[38;5;21;01mcobra\u001B[39;00m\n\u001B[1;32m      2\u001B[0m \u001B[38;5;28;01mfrom\u001B[39;00m \u001B[38;5;21;01mcobra\u001B[39;00m \u001B[38;5;28;01mimport\u001B[39;00m Model\n\u001B[1;32m      3\u001B[0m \u001B[38;5;28;01mfrom\u001B[39;00m \u001B[38;5;21;01mabc\u001B[39;00m \u001B[38;5;28;01mimport\u001B[39;00m ABC, abstractmethod\n",
      "File \u001B[0;32m~/miniconda3/envs/diel_models/lib/python3.8/site-packages/cobra/__init__.py:5\u001B[0m\n\u001B[1;32m      1\u001B[0m __author__ \u001B[38;5;241m=\u001B[39m \u001B[38;5;124m\"\u001B[39m\u001B[38;5;124mThe cobrapy core development team.\u001B[39m\u001B[38;5;124m\"\u001B[39m\n\u001B[1;32m      2\u001B[0m __version__ \u001B[38;5;241m=\u001B[39m \u001B[38;5;124m\"\u001B[39m\u001B[38;5;124m0.26.3\u001B[39m\u001B[38;5;124m\"\u001B[39m\n\u001B[0;32m----> 5\u001B[0m \u001B[38;5;28;01mfrom\u001B[39;00m \u001B[38;5;21;01mcobra\u001B[39;00m\u001B[38;5;21;01m.\u001B[39;00m\u001B[38;5;21;01mcore\u001B[39;00m \u001B[38;5;28;01mimport\u001B[39;00m (\n\u001B[1;32m      6\u001B[0m     Configuration,\n\u001B[1;32m      7\u001B[0m     DictList,\n\u001B[1;32m      8\u001B[0m     Gene,\n\u001B[1;32m      9\u001B[0m     Metabolite,\n\u001B[1;32m     10\u001B[0m     Model,\n\u001B[1;32m     11\u001B[0m     Object,\n\u001B[1;32m     12\u001B[0m     Reaction,\n\u001B[1;32m     13\u001B[0m     Solution,\n\u001B[1;32m     14\u001B[0m     Species,\n\u001B[1;32m     15\u001B[0m )\n\u001B[1;32m     16\u001B[0m \u001B[38;5;28;01mfrom\u001B[39;00m \u001B[38;5;21;01mcobra\u001B[39;00m \u001B[38;5;28;01mimport\u001B[39;00m flux_analysis\n\u001B[1;32m     17\u001B[0m \u001B[38;5;28;01mfrom\u001B[39;00m \u001B[38;5;21;01mcobra\u001B[39;00m \u001B[38;5;28;01mimport\u001B[39;00m io\n",
      "File \u001B[0;32m~/miniconda3/envs/diel_models/lib/python3.8/site-packages/cobra/core/__init__.py:1\u001B[0m\n\u001B[0;32m----> 1\u001B[0m \u001B[38;5;28;01mfrom\u001B[39;00m \u001B[38;5;21;01mcobra\u001B[39;00m\u001B[38;5;21;01m.\u001B[39;00m\u001B[38;5;21;01mcore\u001B[39;00m\u001B[38;5;21;01m.\u001B[39;00m\u001B[38;5;21;01mconfiguration\u001B[39;00m \u001B[38;5;28;01mimport\u001B[39;00m Configuration\n\u001B[1;32m      2\u001B[0m \u001B[38;5;28;01mfrom\u001B[39;00m \u001B[38;5;21;01mcobra\u001B[39;00m\u001B[38;5;21;01m.\u001B[39;00m\u001B[38;5;21;01mcore\u001B[39;00m\u001B[38;5;21;01m.\u001B[39;00m\u001B[38;5;21;01mdictlist\u001B[39;00m \u001B[38;5;28;01mimport\u001B[39;00m DictList\n\u001B[1;32m      3\u001B[0m \u001B[38;5;28;01mfrom\u001B[39;00m \u001B[38;5;21;01mcobra\u001B[39;00m\u001B[38;5;21;01m.\u001B[39;00m\u001B[38;5;21;01mcore\u001B[39;00m\u001B[38;5;21;01m.\u001B[39;00m\u001B[38;5;21;01mgene\u001B[39;00m \u001B[38;5;28;01mimport\u001B[39;00m Gene, GPR\n",
      "File \u001B[0;32m~/miniconda3/envs/diel_models/lib/python3.8/site-packages/cobra/core/configuration.py:15\u001B[0m\n\u001B[1;32m     12\u001B[0m \u001B[38;5;28;01mimport\u001B[39;00m \u001B[38;5;21;01mappdirs\u001B[39;00m\n\u001B[1;32m     14\u001B[0m \u001B[38;5;28;01mfrom\u001B[39;00m \u001B[38;5;21;01m.\u001B[39;00m\u001B[38;5;21;01m.\u001B[39;00m\u001B[38;5;21;01mexceptions\u001B[39;00m \u001B[38;5;28;01mimport\u001B[39;00m SolverNotFound\n\u001B[0;32m---> 15\u001B[0m \u001B[38;5;28;01mfrom\u001B[39;00m \u001B[38;5;21;01m.\u001B[39;00m\u001B[38;5;21;01m.\u001B[39;00m\u001B[38;5;21;01mutil\u001B[39;00m\u001B[38;5;21;01m.\u001B[39;00m\u001B[38;5;21;01msolver\u001B[39;00m \u001B[38;5;28;01mimport\u001B[39;00m interface_to_str\n\u001B[1;32m     16\u001B[0m \u001B[38;5;28;01mfrom\u001B[39;00m \u001B[38;5;21;01m.\u001B[39;00m\u001B[38;5;21;01m.\u001B[39;00m\u001B[38;5;21;01mutil\u001B[39;00m\u001B[38;5;21;01m.\u001B[39;00m\u001B[38;5;21;01msolver\u001B[39;00m \u001B[38;5;28;01mimport\u001B[39;00m solvers \u001B[38;5;28;01mas\u001B[39;00m SOLVERS\n\u001B[1;32m     17\u001B[0m \u001B[38;5;28;01mfrom\u001B[39;00m \u001B[38;5;21;01m.\u001B[39;00m\u001B[38;5;21;01msingleton\u001B[39;00m \u001B[38;5;28;01mimport\u001B[39;00m Singleton\n",
      "File \u001B[0;32m~/miniconda3/envs/diel_models/lib/python3.8/site-packages/cobra/util/__init__.py:1\u001B[0m\n\u001B[0;32m----> 1\u001B[0m \u001B[38;5;28;01mfrom\u001B[39;00m \u001B[38;5;21;01mcobra\u001B[39;00m\u001B[38;5;21;01m.\u001B[39;00m\u001B[38;5;21;01mutil\u001B[39;00m\u001B[38;5;21;01m.\u001B[39;00m\u001B[38;5;21;01marray\u001B[39;00m \u001B[38;5;28;01mimport\u001B[39;00m \u001B[38;5;241m*\u001B[39m\n\u001B[1;32m      2\u001B[0m \u001B[38;5;28;01mfrom\u001B[39;00m \u001B[38;5;21;01mcobra\u001B[39;00m\u001B[38;5;21;01m.\u001B[39;00m\u001B[38;5;21;01mutil\u001B[39;00m\u001B[38;5;21;01m.\u001B[39;00m\u001B[38;5;21;01mcontext\u001B[39;00m \u001B[38;5;28;01mimport\u001B[39;00m \u001B[38;5;241m*\u001B[39m\n\u001B[1;32m      3\u001B[0m \u001B[38;5;28;01mfrom\u001B[39;00m \u001B[38;5;21;01mcobra\u001B[39;00m\u001B[38;5;21;01m.\u001B[39;00m\u001B[38;5;21;01mutil\u001B[39;00m\u001B[38;5;21;01m.\u001B[39;00m\u001B[38;5;21;01msolver\u001B[39;00m \u001B[38;5;28;01mimport\u001B[39;00m \u001B[38;5;241m*\u001B[39m\n",
      "File \u001B[0;32m~/miniconda3/envs/diel_models/lib/python3.8/site-packages/cobra/util/array.py:5\u001B[0m\n\u001B[1;32m      1\u001B[0m \u001B[38;5;124;03m\"\"\"Helper functions for array operations and sampling.\"\"\"\u001B[39;00m\n\u001B[1;32m      3\u001B[0m \u001B[38;5;28;01mfrom\u001B[39;00m \u001B[38;5;21;01mtyping\u001B[39;00m \u001B[38;5;28;01mimport\u001B[39;00m TYPE_CHECKING, NamedTuple, Optional, Union\n\u001B[0;32m----> 5\u001B[0m \u001B[38;5;28;01mimport\u001B[39;00m \u001B[38;5;21;01mnumpy\u001B[39;00m \u001B[38;5;28;01mas\u001B[39;00m \u001B[38;5;21;01mnp\u001B[39;00m\n\u001B[1;32m      6\u001B[0m \u001B[38;5;28;01mimport\u001B[39;00m \u001B[38;5;21;01mpandas\u001B[39;00m \u001B[38;5;28;01mas\u001B[39;00m \u001B[38;5;21;01mpd\u001B[39;00m\n\u001B[1;32m      9\u001B[0m \u001B[38;5;66;03m# Used to avoid cyclic reference and enable third-party static type checkers to work\u001B[39;00m\n",
      "\u001B[0;31mModuleNotFoundError\u001B[0m: No module named 'numpy'"
     ]
    }
   ],
   "source": [
    "from diel_models.pipeline import Pipeline\n",
    "import cobra\n",
    "import os\n",
    "from tests import TEST_DIR\n",
    "from diel_models.day_night_creator import DayNightCreator\n",
    "from diel_models.storage_pool_generator import StoragePoolGenerator\n",
    "from diel_models.photon_reaction_inhibitor import PhotonReactionInhibitor\n",
    "from diel_models.biomass_regulator import BiomassAdjuster\n",
    "from diel_models.nitrate_uptake_ratio import NitrateUptakeRatioCalibrator\n",
    "\n",
    "aragem_model_path = os.path.join(TEST_DIR, 'data', 'aragem_photo.xml')\n",
    "\n",
    "modelo = cobra.io.read_sbml_model(aragem_model_path)\n",
    "\n",
    "Steps = [\n",
    "    DayNightCreator(modelo),\n",
    "    StoragePoolGenerator(modelo, [\"S_Sucrose_c[C_c]_Day\", \"S_Sulfate_c[C_c]_Day\", \"S_Nitrate_c[C_c]_Day\", \"S_L_45_Histidine_c[C_c]_Day\", \"S_L_45_Isoleucine_c[C_c]_Day\", \"S_L_45_Leucine_c[C_c]_Day\", \"S_L_45_Lysine_c[C_c]_Day\", \"S_L_45_Methionine_c[C_c]_Day\", \"S_L_45_Phenylalanine_c[C_c]_Day\", \"S_L_45_Threonine_c[C_c]_Day\", \"S_L_45_Tryptophan_c[C_c]_Day\", \"S_L_45_Valine_c[C_c]_Day\", \"S_L_45_Arginine_c[C_c]_Day\", \"S_L_45_Cysteine_c[C_c]_Day\", \"S_L_45_Glutamine_c[C_c]_Day\", \"S_L_45_Glutamate_c[C_c]_Day\", \"S_Glycine_c[C_c]_Day\", \"S_L_45_Proline_c[C_c]_Day\", \"S_L_45_Tyrosine_c[C_c]_Day\", \"S_L_45_Alanine_c[C_c]_Day\", \"S_L_45_Asparagine_c[C_c]_Day\", \"S_L_45_Serine_c[C_c]_Day\", \"S_Orthophosphate_c[C_c]_Day\", \"S_Starch_p[C_p]_Day\", \"S_D_45_Fructose_c[C_c]_Day\", \"S__40_S_41__45_Malate_c[C_c]_Day\", \"S_Fumarate_c[C_c]_Day\", \"S_Citrate_c[C_c]_Day\"]),\n",
    "    PhotonReactionInhibitor(modelo, \"Ex16_Night\"),\n",
    "    BiomassAdjuster(modelo, \"BIO_L_Day\", \"BIO_L_Night\", [\"R03845_c_Night\", \"R06267_c_Night\", \"R06286_c_Night\", \"R04801_c_Night\", \"R07856_c_Night\", \"R04803_c_Night\", \"R06961_c_Night\", \"R06960_c_Night\", \"R07856_c_Night\", \"V0004_Night\", \"R06284_c_Night\", \"R05618_c_Night\", \"R03845_c_Night\", \"R03824_c_Night\", \"R05341_c_Night\", \"R06965_c_Night\", \"R07558_c_Night\", \"R04798_c_Night\", \"R04787_c_Night\", \"R07840_c_Night\", \"R06963_c_Night\", \"R06962_c_Night\", \"R06961_c_Night\"]),\n",
    "    NitrateUptakeRatioCalibrator(modelo, \"Ex4_Day\", \"Ex4_Night\")\n",
    "]\n",
    "\n",
    "pipeline = Pipeline(modelo, Steps)\n",
    "pipeline.run()"
   ],
   "metadata": {
    "collapsed": false,
    "ExecuteTime": {
     "end_time": "2023-05-24T16:14:19.527453915Z",
     "start_time": "2023-05-24T16:14:19.013362202Z"
    }
   }
  },
  {
   "cell_type": "code",
   "execution_count": 3,
   "outputs": [
    {
     "data": {
      "text/plain": "<Model M_ at 0x23a24aaddc0>",
      "text/html": "\n        <table>\n            <tr>\n                <td><strong>Name</strong></td>\n                <td>M_</td>\n            </tr><tr>\n                <td><strong>Memory address</strong></td>\n                <td>23a24aaddc0</td>\n            </tr><tr>\n                <td><strong>Number of metabolites</strong></td>\n                <td>3474</td>\n            </tr><tr>\n                <td><strong>Number of reactions</strong></td>\n                <td>3259</td>\n            </tr><tr>\n                <td><strong>Number of genes</strong></td>\n                <td>1404</td>\n            </tr><tr>\n                <td><strong>Number of groups</strong></td>\n                <td>306</td>\n            </tr><tr>\n                <td><strong>Objective expression</strong></td>\n                <td>1.0*Biomass_Total - 1.0*Biomass_Total_reverse_a0aa3</td>\n            </tr><tr>\n                <td><strong>Compartments</strong></td>\n                <td>unknownCompartment3 Day, unknownCompartment6 Day, unknownCompartment5 Day, unknownCompartment8 Day, unknownCompartment7 Day, unknownCompartment2 Day, unknownCompartment1 Day, unknownCompartment4 Day, unknownCompartment3 Night, unknownCompartment2 Night, unknownCompartment6 Night, unknownCompartment1 Night, unknownCompartment4 Night, unknownCompartment5 Night, unknownCompartment7 Night, unknownCompartment8 Night</td>\n            </tr>\n          </table>"
     },
     "execution_count": 3,
     "metadata": {},
     "output_type": "execute_result"
    }
   ],
   "source": [
    "res_model = pipeline.model\n",
    "res_model"
   ],
   "metadata": {
    "collapsed": false,
    "ExecuteTime": {
     "start_time": "2023-05-24T09:21:16.962082Z",
     "end_time": "2023-05-24T09:21:17.028667Z"
    }
   }
  },
  {
   "cell_type": "code",
   "execution_count": null,
   "outputs": [],
   "source": [],
   "metadata": {
    "collapsed": false
   }
  }
 ],
 "metadata": {
  "kernelspec": {
   "display_name": "Python 3",
   "language": "python",
   "name": "python3"
  },
  "language_info": {
   "codemirror_mode": {
    "name": "ipython",
    "version": 2
   },
   "file_extension": ".py",
   "mimetype": "text/x-python",
   "name": "python",
   "nbconvert_exporter": "python",
   "pygments_lexer": "ipython2",
   "version": "2.7.6"
  }
 },
 "nbformat": 4,
 "nbformat_minor": 0
}
