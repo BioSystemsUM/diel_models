{
 "cells": [
  {
   "cell_type": "markdown",
   "source": [
    "### DFA"
   ],
   "metadata": {
    "collapsed": false
   }
  },
  {
   "cell_type": "code",
   "execution_count": 1,
   "outputs": [],
   "source": [
    "from diel_models.differential_flux_analysis import DFA"
   ],
   "metadata": {
    "collapsed": false,
    "ExecuteTime": {
     "start_time": "2023-05-26T09:27:36.046872Z",
     "end_time": "2023-05-26T09:27:40.729308Z"
    }
   }
  },
  {
   "cell_type": "code",
   "execution_count": 2,
   "outputs": [
    {
     "data": {
      "text/plain": "(               Bc1_Day   Bc2_Day   Bc3_Day   Bc4_Day   Bc5_Day   Bc6_Day  \\\n diel_model 0  0.001155  0.002092  0.006645  0.005774  0.006144  0.008497   \n            1  0.001293  0.002341  0.007438  0.006463  0.006877  0.009511   \n            2  0.001711  0.003100  0.009849  0.008557  0.009106  0.012593   \n \n                Bc7_Day   Bc8_Day   Bc9_Day  Bc10_Day  ...  R02095_c_Day  \\\n diel_model 0  0.002331  0.003530  0.003050  0.004575  ...      0.000005   \n            1  0.002610  0.003951  0.003414  0.005121  ...      0.002020   \n            2  0.003455  0.005231  0.004521  0.006781  ...      0.002005   \n \n               R02102_c_Day  R02296_c_Day  R02484_c_Day  R03925_c_Day  \\\n diel_model 0      0.000025      0.000030      0.000014  3.936202e-19   \n            1      0.000049      0.009907      0.000010  1.885684e-18   \n            2      0.042213      0.010080      0.000011  4.445710e-15   \n \n               R06601_c_Day  R06605_c_Day  R04457_c_Day  R03066_c_Day  \\\n diel_model 0 -3.943801e-19 -3.936202e-19      0.072169    126.522019   \n            1 -1.888098e-18 -1.885684e-18      0.073112    143.383764   \n            2 -4.445711e-15 -4.445710e-15      0.070233    149.763833   \n \n               R03165_c_Day  \n diel_model 0  1.405687e-23  \n            1  1.126805e-22  \n            2  8.504313e-23  \n \n [3 rows x 1601 columns],\n               Bc1_Night  Bc2_Night  Bc3_Night  Bc4_Night  Bc5_Night  \\\n diel_model 0   0.001155   0.002092   0.006645   0.005774   0.006144   \n            1   0.001293   0.002341   0.007438   0.006463   0.006877   \n            2   0.001711   0.003100   0.009849   0.008557   0.009106   \n \n               Bc6_Night  Bc7_Night  Bc8_Night  Bc9_Night  Bc10_Night  ...  \\\n diel_model 0   0.008497   0.002331   0.003530   0.003050    0.004575  ...   \n            1   0.009511   0.002610   0.003951   0.003414    0.005121  ...   \n            2   0.012593   0.003455   0.005231   0.004521    0.006781  ...   \n \n               R02095_c_Night  R02102_c_Night  R02296_c_Night  R02484_c_Night  \\\n diel_model 0        0.000005        0.000055        0.000031        0.000030   \n            1        0.000017        0.000084        0.002252        0.000035   \n            2        0.000007        0.000064        0.485151        0.000034   \n \n               R03925_c_Night  R06601_c_Night  R06605_c_Night  R04457_c_Night  \\\n diel_model 0    1.448861e-15   -1.448861e-15   -1.448861e-15        0.017943   \n            1    1.420112e-15   -1.420114e-15   -1.420114e-15        0.020501   \n            2    2.537118e-14   -2.537118e-14   -2.537118e-14        0.068856   \n \n               R03066_c_Night  R03165_c_Night  \n diel_model 0        0.000176             0.0  \n            1        0.026037             0.0  \n            2        0.099075             0.0  \n \n [3 rows x 1601 columns])"
     },
     "execution_count": 2,
     "metadata": {},
     "output_type": "execute_result"
    }
   ],
   "source": [
    "model_id = 'MODEL1507180028'\n",
    "dataset_id = 'DielModel'\n",
    "model_specifics = {'diel_model': 'Diel_Model_after_complete_pipeline'}\n",
    "objectives = {'diel_model': 'Biomass_Total'}\n",
    "\n",
    "dfa = DFA(model_id, dataset_id, model_specifics, objectives)\n",
    "\n",
    "dfa.sampling()"
   ],
   "metadata": {
    "collapsed": false,
    "ExecuteTime": {
     "start_time": "2023-05-26T09:27:40.730643Z",
     "end_time": "2023-05-26T09:27:40.886388Z"
    }
   }
  },
  {
   "cell_type": "code",
   "execution_count": 3,
   "outputs": [
    {
     "name": "stdout",
     "output_type": "stream",
     "text": [
      "0\n"
     ]
    }
   ],
   "source": [
    "dfa.kstest()"
   ],
   "metadata": {
    "collapsed": false,
    "ExecuteTime": {
     "start_time": "2023-05-26T09:27:40.893400Z",
     "end_time": "2023-05-26T09:27:42.067183Z"
    }
   }
  },
  {
   "cell_type": "code",
   "execution_count": null,
   "outputs": [],
   "source": [],
   "metadata": {
    "collapsed": false
   }
  }
 ],
 "metadata": {
  "kernelspec": {
   "display_name": "Python 3",
   "language": "python",
   "name": "python3"
  },
  "language_info": {
   "codemirror_mode": {
    "name": "ipython",
    "version": 2
   },
   "file_extension": ".py",
   "mimetype": "text/x-python",
   "name": "python",
   "nbconvert_exporter": "python",
   "pygments_lexer": "ipython2",
   "version": "2.7.6"
  }
 },
 "nbformat": 4,
 "nbformat_minor": 0
}
