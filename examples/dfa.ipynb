{
 "cells": [
  {
   "cell_type": "markdown",
   "source": [
    "### Separação do diel_model em model_day e model_night"
   ],
   "metadata": {
    "collapsed": false
   }
  },
  {
   "cell_type": "code",
   "execution_count": 1,
   "outputs": [],
   "source": [
    "import os\n",
    "from diel_models.pipeline import Pipeline\n",
    "import cobra\n",
    "from tests import TEST_DIR\n",
    "from diel_models.day_night_creator import DayNightCreator\n",
    "from diel_models.storage_pool_generator import StoragePoolGenerator\n",
    "from diel_models.photon_reaction_inhibitor import PhotonReactionInhibitor\n",
    "from diel_models.biomass_regulator import BiomassRegulator\n",
    "from diel_models.nitrate_uptake_ratio import NitrateUptakeRatioCalibrator\n",
    "\n",
    "aragem_model_path = os.path.join(TEST_DIR, 'data', 'AraGEM2010.xml')\n",
    "\n",
    "modelo = cobra.io.read_sbml_model(aragem_model_path)\n",
    "\n",
    "Steps = [\n",
    "    DayNightCreator(modelo),\n",
    "    StoragePoolGenerator(modelo, [\"S_Sucrose_c_Day\", \"S_Sulfate_c_Day\", \"S_Nitrate_c_Day\", \"S_L_45_Histidine_c_Day\", \"S_L_45_Isoleucine_c_Day\", \"S_L_45_Leucine_c_Day\", \"S_L_45_Lysine_c_Day\", \"S_L_45_Methionine_c_Day\", \"S_L_45_Phenylalanine_c_Day\", \"S_L_45_Threonine_c_Day\", \"S_L_45_Tryptophan_c_Day\", \"S_L_45_Valine_c_Day\", \"S_L_45_Arginine_c_Day\", \"S_L_45_Cysteine_c_Day\", \"S_L_45_Glutamine_c_Day\", \"S_L_45_Glutamate_c_Day\", \"S_Glycine_c_Day\", \"S_L_45_Proline_c_Day\", \"S_L_45_Tyrosine_c_Day\", \"S_L_45_Alanine_c_Day\", \"S_L_45_Asparagine_c_Day\", \"S_L_45_Serine_c_Day\", \"S_Orthophosphate_c_Day\", \"S_Starch_p_Day\", \"S_D_45_Fructose_c_Day\", \"S__40_S_41__45_Malate_c_Day\", \"S_Fumarate_c_Day\", \"S_Citrate_c_Day\"]),\n",
    "    PhotonReactionInhibitor(modelo, \"Ex16_Night\"),\n",
    "    NitrateUptakeRatioCalibrator(modelo, \"Ex4_Day\", \"Ex4_Night\")\n",
    "]\n",
    "\n",
    "pipeline = Pipeline(modelo, Steps)\n",
    "pipeline.run()"
   ],
   "metadata": {
    "collapsed": false,
    "ExecuteTime": {
     "start_time": "2023-05-24T14:33:48.428528Z",
     "end_time": "2023-05-24T14:34:00.356322Z"
    }
   }
  },
  {
   "cell_type": "code",
   "execution_count": 2,
   "outputs": [
    {
     "data": {
      "text/plain": "<Model MODEL1507180028 at 0x2dd1a115a60>",
      "text/html": "\n        <table>\n            <tr>\n                <td><strong>Name</strong></td>\n                <td>MODEL1507180028</td>\n            </tr><tr>\n                <td><strong>Memory address</strong></td>\n                <td>2dd1a115a60</td>\n            </tr><tr>\n                <td><strong>Number of metabolites</strong></td>\n                <td>3494</td>\n            </tr><tr>\n                <td><strong>Number of reactions</strong></td>\n                <td>3258</td>\n            </tr><tr>\n                <td><strong>Number of genes</strong></td>\n                <td>1404</td>\n            </tr><tr>\n                <td><strong>Number of groups</strong></td>\n                <td>0</td>\n            </tr><tr>\n                <td><strong>Objective expression</strong></td>\n                <td>0.01*Ex16_Day - 0.01*Ex16_Day_reverse_efba9</td>\n            </tr><tr>\n                <td><strong>Compartments</strong></td>\n                <td>Cytosol Day, Plastid Day, Mitochondrion Day, Peroxisome Day, Vacuole Day, Biomass Day, Accumulation Day, External Day, Cytosol Night, Biomass Night, Plastid Night, Accumulation Night, External Night, Mitochondrion Night, Vacuole Night, Peroxisome Night, Storage Pool</td>\n            </tr>\n          </table>"
     },
     "execution_count": 2,
     "metadata": {},
     "output_type": "execute_result"
    }
   ],
   "source": [
    "modelo"
   ],
   "metadata": {
    "collapsed": false,
    "ExecuteTime": {
     "start_time": "2023-05-24T14:34:00.363297Z",
     "end_time": "2023-05-24T14:34:00.473332Z"
    }
   }
  },
  {
   "cell_type": "code",
   "execution_count": 3,
   "outputs": [],
   "source": [
    "model_day = modelo.copy()"
   ],
   "metadata": {
    "collapsed": false,
    "ExecuteTime": {
     "start_time": "2023-05-24T14:34:07.347506Z",
     "end_time": "2023-05-24T14:34:08.478661Z"
    }
   }
  },
  {
   "cell_type": "code",
   "execution_count": 4,
   "outputs": [],
   "source": [
    "reactions_to_remove = [reaction for reaction in model_day.reactions if \"_Night\" in reaction.id]\n",
    "model_day.remove_reactions(reactions_to_remove)"
   ],
   "metadata": {
    "collapsed": false,
    "ExecuteTime": {
     "start_time": "2023-05-24T14:34:08.973129Z",
     "end_time": "2023-05-24T14:34:13.121552Z"
    }
   }
  },
  {
   "cell_type": "code",
   "execution_count": 5,
   "outputs": [],
   "source": [
    "metabolites_to_remove = [metabolite for metabolite in model_day.metabolites if \"_Night\" in metabolite.id]\n",
    "model_day.remove_metabolites(metabolites_to_remove)"
   ],
   "metadata": {
    "collapsed": false,
    "ExecuteTime": {
     "start_time": "2023-05-24T14:34:13.122641Z",
     "end_time": "2023-05-24T14:34:13.508522Z"
    }
   }
  },
  {
   "cell_type": "code",
   "execution_count": 6,
   "outputs": [
    {
     "data": {
      "text/plain": "<Model MODEL1507180028 at 0x2dd213e0880>",
      "text/html": "\n        <table>\n            <tr>\n                <td><strong>Name</strong></td>\n                <td>MODEL1507180028</td>\n            </tr><tr>\n                <td><strong>Memory address</strong></td>\n                <td>2dd213e0880</td>\n            </tr><tr>\n                <td><strong>Number of metabolites</strong></td>\n                <td>1765</td>\n            </tr><tr>\n                <td><strong>Number of reactions</strong></td>\n                <td>1629</td>\n            </tr><tr>\n                <td><strong>Number of genes</strong></td>\n                <td>1404</td>\n            </tr><tr>\n                <td><strong>Number of groups</strong></td>\n                <td>0</td>\n            </tr><tr>\n                <td><strong>Objective expression</strong></td>\n                <td>0.01*Ex16_Day - 0.01*Ex16_Day_reverse_efba9</td>\n            </tr><tr>\n                <td><strong>Compartments</strong></td>\n                <td>Cytosol Day, Plastid Day, Mitochondrion Day, Peroxisome Day, Vacuole Day, Biomass Day, Accumulation Day, External Day, Storage Pool</td>\n            </tr>\n          </table>"
     },
     "execution_count": 6,
     "metadata": {},
     "output_type": "execute_result"
    }
   ],
   "source": [
    "model_day"
   ],
   "metadata": {
    "collapsed": false,
    "ExecuteTime": {
     "start_time": "2023-05-24T14:34:13.508522Z",
     "end_time": "2023-05-24T14:34:13.522171Z"
    }
   }
  },
  {
   "cell_type": "code",
   "execution_count": 7,
   "outputs": [],
   "source": [
    "model_night = modelo.copy()"
   ],
   "metadata": {
    "collapsed": false,
    "ExecuteTime": {
     "start_time": "2023-05-24T14:34:15.048171Z",
     "end_time": "2023-05-24T14:34:16.481790Z"
    }
   }
  },
  {
   "cell_type": "code",
   "execution_count": 8,
   "outputs": [],
   "source": [
    "reactions_to_remove = [reaction for reaction in model_night.reactions if \"Day\" in reaction.id]\n",
    "model_night.remove_reactions(reactions_to_remove)"
   ],
   "metadata": {
    "collapsed": false,
    "ExecuteTime": {
     "start_time": "2023-05-24T14:34:16.497439Z",
     "end_time": "2023-05-24T14:34:23.378025Z"
    }
   }
  },
  {
   "cell_type": "code",
   "execution_count": 9,
   "outputs": [],
   "source": [
    "metabolites_to_remove = [metabolite for metabolite in model_night.metabolites if \"Day\" in metabolite.id]\n",
    "model_night.remove_metabolites(metabolites_to_remove)"
   ],
   "metadata": {
    "collapsed": false,
    "ExecuteTime": {
     "start_time": "2023-05-24T14:34:23.378025Z",
     "end_time": "2023-05-24T14:34:24.011173Z"
    }
   }
  },
  {
   "cell_type": "code",
   "execution_count": 10,
   "outputs": [],
   "source": [
    "model_night.objective = \"Ex16_Night\""
   ],
   "metadata": {
    "collapsed": false,
    "ExecuteTime": {
     "start_time": "2023-05-24T14:34:24.016131Z",
     "end_time": "2023-05-24T14:34:24.041608Z"
    }
   }
  },
  {
   "cell_type": "code",
   "execution_count": 11,
   "outputs": [
    {
     "data": {
      "text/plain": "<Model MODEL1507180028 at 0x2dd221ea1f0>",
      "text/html": "\n        <table>\n            <tr>\n                <td><strong>Name</strong></td>\n                <td>MODEL1507180028</td>\n            </tr><tr>\n                <td><strong>Memory address</strong></td>\n                <td>2dd221ea1f0</td>\n            </tr><tr>\n                <td><strong>Number of metabolites</strong></td>\n                <td>1757</td>\n            </tr><tr>\n                <td><strong>Number of reactions</strong></td>\n                <td>1629</td>\n            </tr><tr>\n                <td><strong>Number of genes</strong></td>\n                <td>1404</td>\n            </tr><tr>\n                <td><strong>Number of groups</strong></td>\n                <td>0</td>\n            </tr><tr>\n                <td><strong>Objective expression</strong></td>\n                <td>1.0*Ex16_Night - 1.0*Ex16_Night_reverse_6d321</td>\n            </tr><tr>\n                <td><strong>Compartments</strong></td>\n                <td>Cytosol Night, Biomass Night, Plastid Night, Accumulation Night, External Night, Mitochondrion Night, Vacuole Night, Peroxisome Night, Storage Pool</td>\n            </tr>\n          </table>"
     },
     "execution_count": 11,
     "metadata": {},
     "output_type": "execute_result"
    }
   ],
   "source": [
    "model_night"
   ],
   "metadata": {
    "collapsed": false,
    "ExecuteTime": {
     "start_time": "2023-05-24T14:34:24.041608Z",
     "end_time": "2023-05-24T14:34:24.076645Z"
    }
   }
  },
  {
   "cell_type": "code",
   "execution_count": 12,
   "outputs": [],
   "source": [
    "cobra.io.write_sbml_model(model_day, 'Model_Day.xml')\n",
    "cobra.io.write_sbml_model(model_night, 'Model_Night.xml')"
   ],
   "metadata": {
    "collapsed": false,
    "ExecuteTime": {
     "start_time": "2023-05-24T14:34:29.975445Z",
     "end_time": "2023-05-24T14:34:31.809355Z"
    }
   }
  },
  {
   "cell_type": "markdown",
   "source": [
    "### DFA"
   ],
   "metadata": {
    "collapsed": false
   }
  },
  {
   "cell_type": "code",
   "execution_count": 13,
   "outputs": [
    {
     "ename": "ModuleNotFoundError",
     "evalue": "No module named 'utils.config'",
     "output_type": "error",
     "traceback": [
      "\u001B[1;31m---------------------------------------------------------------------------\u001B[0m",
      "\u001B[1;31mModuleNotFoundError\u001B[0m                       Traceback (most recent call last)",
      "Cell \u001B[1;32mIn[13], line 1\u001B[0m\n\u001B[1;32m----> 1\u001B[0m \u001B[38;5;28;01mfrom\u001B[39;00m \u001B[38;5;21;01mdiel_models\u001B[39;00m\u001B[38;5;21;01m.\u001B[39;00m\u001B[38;5;21;01mdifferential_flux_analysis\u001B[39;00m \u001B[38;5;28;01mimport\u001B[39;00m DFA\n",
      "File \u001B[1;32m~\\Desktop\\DielModels\\src\\diel_models\\differential_flux_analysis.py:7\u001B[0m\n\u001B[0;32m      5\u001B[0m \u001B[38;5;28;01mfrom\u001B[39;00m \u001B[38;5;21;01mcobra\u001B[39;00m\u001B[38;5;21;01m.\u001B[39;00m\u001B[38;5;21;01msampling\u001B[39;00m \u001B[38;5;28;01mimport\u001B[39;00m ACHRSampler\n\u001B[0;32m      6\u001B[0m \u001B[38;5;28;01mfrom\u001B[39;00m \u001B[38;5;21;01mcobra\u001B[39;00m\u001B[38;5;21;01m.\u001B[39;00m\u001B[38;5;21;01mio\u001B[39;00m \u001B[38;5;28;01mimport\u001B[39;00m read_sbml_model\n\u001B[1;32m----> 7\u001B[0m \u001B[38;5;28;01mfrom\u001B[39;00m \u001B[38;5;21;01mutils\u001B[39;00m\u001B[38;5;21;01m.\u001B[39;00m\u001B[38;5;21;01mconfig\u001B[39;00m \u001B[38;5;28;01mimport\u001B[39;00m PROJECT_PATH\n\u001B[0;32m      8\u001B[0m \u001B[38;5;28;01mimport\u001B[39;00m \u001B[38;5;21;01mmatplotlib\u001B[39;00m\u001B[38;5;21;01m.\u001B[39;00m\u001B[38;5;21;01mpyplot\u001B[39;00m \u001B[38;5;28;01mas\u001B[39;00m \u001B[38;5;21;01mplt\u001B[39;00m\n\u001B[0;32m      9\u001B[0m \u001B[38;5;28;01mimport\u001B[39;00m \u001B[38;5;21;01mnumpy\u001B[39;00m \u001B[38;5;28;01mas\u001B[39;00m \u001B[38;5;21;01mnp\u001B[39;00m\n",
      "\u001B[1;31mModuleNotFoundError\u001B[0m: No module named 'utils.config'"
     ]
    }
   ],
   "source": [
    "from diel_models.differential_flux_analysis import DFA"
   ],
   "metadata": {
    "collapsed": false
   }
  },
  {
   "cell_type": "code",
   "execution_count": null,
   "outputs": [],
   "source": [
    "model_id = 'MODEL1507180028'\n",
    "dataset_id = ?\n",
    "model_specifics = {'model_day': 'Model_Day.xml', 'model_night': 'Model_Night.xml'}\n",
    "objectives = {'model_day': 'Ex16_Day', 'model_night': 'Ex16_Night'}\n",
    "\n",
    "\n",
    "dfa = DFA(model_id, dataset_id, model_specifics, objectives)"
   ],
   "metadata": {
    "collapsed": false
   }
  },
  {
   "cell_type": "code",
   "execution_count": null,
   "outputs": [],
   "source": [
    "solution = dfa.sampling()"
   ],
   "metadata": {
    "collapsed": false
   }
  }
 ],
 "metadata": {
  "kernelspec": {
   "display_name": "Python 3",
   "language": "python",
   "name": "python3"
  },
  "language_info": {
   "codemirror_mode": {
    "name": "ipython",
    "version": 2
   },
   "file_extension": ".py",
   "mimetype": "text/x-python",
   "name": "python",
   "nbconvert_exporter": "python",
   "pygments_lexer": "ipython2",
   "version": "2.7.6"
  }
 },
 "nbformat": 4,
 "nbformat_minor": 0
}
