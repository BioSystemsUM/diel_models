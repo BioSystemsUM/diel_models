{
 "cells": [
  {
   "cell_type": "markdown",
   "source": [
    "### DFA"
   ],
   "metadata": {
    "collapsed": false
   }
  },
  {
   "cell_type": "code",
   "execution_count": 1,
   "outputs": [],
   "source": [
    "from diel_models.differential_flux_analysis import DFA"
   ],
   "metadata": {
    "collapsed": false,
    "ExecuteTime": {
     "start_time": "2023-05-25T22:46:01.515037Z",
     "end_time": "2023-05-25T22:46:05.948323Z"
    }
   }
  },
  {
   "cell_type": "code",
   "execution_count": 2,
   "outputs": [
    {
     "data": {
      "text/plain": "(               Bc1_Day   Bc2_Day   Bc3_Day   Bc4_Day   Bc5_Day   Bc6_Day  \\\n diel_model 0  0.167942  0.304197  0.966461  0.839712  0.893580  1.235802   \n            1  0.152978  0.277092  0.880344  0.764889  0.813958  1.125686   \n            2  0.300603  0.544488  1.729883  1.503013  1.599432  2.211981   \n \n                Bc7_Day   Bc8_Day   Bc9_Day  Bc10_Day  ...  R02095_c_Day  \\\n diel_model 0  0.339053  0.513333  0.443621  0.665432  ...      0.260367   \n            1  0.308842  0.467593  0.404093  0.606139  ...      0.247095   \n            2  0.606877  0.918823  0.794045  1.191067  ...      0.242349   \n \n               R02102_c_Day  R02296_c_Day  R02484_c_Day  R03925_c_Day  \\\n diel_model 0     22.421426      0.135795     22.376474 -3.521692e-17   \n            1     21.115790      0.534913     21.076397 -2.553582e-17   \n            2     20.700543      3.667404     20.654407 -2.449382e-17   \n \n               R06601_c_Day  R06605_c_Day  R04457_c_Day  R03066_c_Day  \\\n diel_model 0  3.521692e-17  3.521692e-17     22.047693    481.723603   \n            1  2.553582e-17  2.553582e-17     35.251282    461.866399   \n            2  2.449382e-17  2.449382e-17     30.316897    454.064780   \n \n               R03165_c_Day  \n diel_model 0           0.0  \n            1           0.0  \n            2           0.0  \n \n [3 rows x 1601 columns],\n               Bc1_Night  Bc2_Night  Bc3_Night  Bc4_Night  Bc5_Night  \\\n diel_model 0   0.167942   0.304197   0.966461   0.839712   0.893580   \n            1   0.152978   0.277092   0.880344   0.764889   0.813958   \n            2   0.300603   0.544488   1.729883   1.503013   1.599432   \n \n               Bc6_Night  Bc7_Night  Bc8_Night  Bc9_Night  Bc10_Night  ...  \\\n diel_model 0   1.235802   0.339053   0.513333   0.443621    0.665432  ...   \n            1   1.125686   0.308842   0.467593   0.404093    0.606139  ...   \n            2   2.211981   0.606877   0.918823   0.794045    1.191067  ...   \n \n               R02095_c_Night  R02102_c_Night  R02296_c_Night  R02484_c_Night  \\\n diel_model 0        0.040785        0.066143        0.739545        0.020265   \n            1        0.035547        0.056191        0.700438        0.016095   \n            2        0.034451        0.054370        0.076756        0.007478   \n \n               R03925_c_Night  R06601_c_Night  R06605_c_Night  R04457_c_Night  \\\n diel_model 0   -1.360514e-17    1.291298e-17    1.292409e-17       41.079953   \n            1   -1.161334e-17    1.101008e-17    1.101976e-17       38.759397   \n            2   -1.134565e-17    1.076097e-17    1.077036e-17       32.071404   \n \n               R03066_c_Night  R03165_c_Night  \n diel_model 0        2.601383             0.0  \n            1        4.606797             0.0  \n            2       17.698994             0.0  \n \n [3 rows x 1601 columns])"
     },
     "execution_count": 2,
     "metadata": {},
     "output_type": "execute_result"
    }
   ],
   "source": [
    "model_id = 'MODEL1507180028'\n",
    "dataset_id = 'DielModel'\n",
    "model_specifics = {'diel_model': 'Diel_Model_after_complete_pipeline'}\n",
    "objectives = {'diel_model': 'Biomass_Total'}\n",
    "\n",
    "dfa = DFA(model_id, dataset_id, model_specifics, objectives)\n",
    "\n",
    "dfa.sampling()"
   ],
   "metadata": {
    "collapsed": false,
    "ExecuteTime": {
     "start_time": "2023-05-25T22:46:05.950345Z",
     "end_time": "2023-05-25T22:49:32.924672Z"
    }
   }
  },
  {
   "cell_type": "code",
   "execution_count": 3,
   "outputs": [
    {
     "name": "stdout",
     "output_type": "stream",
     "text": [
      "Reaction\n",
      "R04144_c_Day    0.142195\n",
      "R01290_c_Day    0.142195\n",
      "R00899_c_Day    1.000000\n",
      "R05070_c_Day    0.142195\n",
      "R07672_c_Day    0.142195\n",
      "                  ...   \n",
      "Bc34_Day        1.000000\n",
      "R00964_c_Day    0.142195\n",
      "TCX4_Day        0.142195\n",
      "TCM27_Day       0.142195\n",
      "R02092_c_Day    1.000000\n",
      "Name: Padj, Length: 583, dtype: float64\n"
     ]
    }
   ],
   "source": [
    "dfa.kstest()"
   ],
   "metadata": {
    "collapsed": false,
    "ExecuteTime": {
     "start_time": "2023-05-25T22:40:46.998807Z",
     "end_time": "2023-05-25T22:40:48.208440Z"
    }
   }
  },
  {
   "cell_type": "code",
   "execution_count": null,
   "outputs": [],
   "source": [],
   "metadata": {
    "collapsed": false
   }
  }
 ],
 "metadata": {
  "kernelspec": {
   "display_name": "Python 3",
   "language": "python",
   "name": "python3"
  },
  "language_info": {
   "codemirror_mode": {
    "name": "ipython",
    "version": 2
   },
   "file_extension": ".py",
   "mimetype": "text/x-python",
   "name": "python",
   "nbconvert_exporter": "python",
   "pygments_lexer": "ipython2",
   "version": "2.7.6"
  }
 },
 "nbformat": 4,
 "nbformat_minor": 0
}
