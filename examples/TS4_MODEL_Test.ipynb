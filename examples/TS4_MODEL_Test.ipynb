{
 "cells": [
  {
   "cell_type": "code",
   "execution_count": 25,
   "metadata": {
    "collapsed": true,
    "ExecuteTime": {
     "start_time": "2023-07-22T18:08:18.671380Z",
     "end_time": "2023-07-22T18:09:38.600638Z"
    }
   },
   "outputs": [],
   "source": [
    "import os\n",
    "import cobra\n",
    "from tests import TEST_DIR\n",
    "\n",
    "file = os.path.join(TEST_DIR, \"data\", \"TS4_Model_lv3.xml\")\n",
    "\n",
    "multi_model = cobra.io.read_sbml_model(file)"
   ]
  },
  {
   "cell_type": "code",
   "execution_count": 41,
   "outputs": [
    {
     "data": {
      "text/plain": "<Metabolite C00244[e] at 0x198c11551c0>",
      "text/html": "\n        <table>\n            <tr>\n                <td><strong>Metabolite identifier</strong></td><td>C00244[e]</td>\n            </tr><tr>\n                <td><strong>Name</strong></td><td>Nitrate</td>\n            </tr><tr>\n                <td><strong>Memory address</strong></td>\n                <td>0x198c11551c0</td>\n            </tr><tr>\n                <td><strong>Formula</strong></td><td>None</td>\n            </tr><tr>\n                <td><strong>Compartment</strong></td><td>e</td>\n            </tr><tr>\n                <td><strong>In 2 reaction(s)</strong></td><td>\n                    TransBc10, ExBe10\n                    </td>\n            </tr>\n        </table>"
     },
     "execution_count": 41,
     "metadata": {},
     "output_type": "execute_result"
    }
   ],
   "source": [
    "multi_model.metabolites.get_by_id(\"C00244[e]\")"
   ],
   "metadata": {
    "collapsed": false,
    "ExecuteTime": {
     "start_time": "2023-07-19T21:50:11.127694Z",
     "end_time": "2023-07-19T21:50:11.136998Z"
    }
   }
  },
  {
   "cell_type": "code",
   "execution_count": 35,
   "outputs": [
    {
     "data": {
      "text/plain": "<Reaction ExBe10 at 0x199325ea760>",
      "text/html": "\n        <table>\n            <tr>\n                <td><strong>Reaction identifier</strong></td><td>ExBe10</td>\n            </tr><tr>\n                <td><strong>Name</strong></td><td>BSC exchange of NITRATE</td>\n            </tr><tr>\n                <td><strong>Memory address</strong></td>\n                <td>0x199325ea760</td>\n            </tr><tr>\n                <td><strong>Stoichiometry</strong></td>\n                <td>\n                    <p style='text-align:right'>C00244[e] <=></p>\n                    <p style='text-align:right'>Nitrate <=></p>\n                </td>\n            </tr><tr>\n                <td><strong>GPR</strong></td><td>GRMZM2G179294 or GRMZM2G163866 or GRMZM2G179294 or GRMZM2G010280 or GRMZM2G179294 or...</td>\n            </tr><tr>\n                <td><strong>Lower bound</strong></td><td>-100.0</td>\n            </tr><tr>\n                <td><strong>Upper bound</strong></td><td>100.0</td>\n            </tr>\n        </table>\n        "
     },
     "execution_count": 35,
     "metadata": {},
     "output_type": "execute_result"
    }
   ],
   "source": [
    "multi_model.reactions.get_by_id(\"ExBe10\")"
   ],
   "metadata": {
    "collapsed": false,
    "ExecuteTime": {
     "start_time": "2023-07-19T21:38:55.488447Z",
     "end_time": "2023-07-19T21:38:55.506028Z"
    }
   }
  },
  {
   "cell_type": "code",
   "execution_count": 36,
   "outputs": [
    {
     "data": {
      "text/plain": "<Reaction ExLM_C00244 at 0x1993266c7f0>",
      "text/html": "\n        <table>\n            <tr>\n                <td><strong>Reaction identifier</strong></td><td>ExLM_C00244</td>\n            </tr><tr>\n                <td><strong>Name</strong></td><td>MC Exchange of NITRATE</td>\n            </tr><tr>\n                <td><strong>Memory address</strong></td>\n                <td>0x1993266c7f0</td>\n            </tr><tr>\n                <td><strong>Stoichiometry</strong></td>\n                <td>\n                    <p style='text-align:right'>C00244[d] --> C00244[L]</p>\n                    <p style='text-align:right'>Nitrate --> Nitrate</p>\n                </td>\n            </tr><tr>\n                <td><strong>GPR</strong></td><td></td>\n            </tr><tr>\n                <td><strong>Lower bound</strong></td><td>0.0</td>\n            </tr><tr>\n                <td><strong>Upper bound</strong></td><td>1000.0</td>\n            </tr>\n        </table>\n        "
     },
     "execution_count": 36,
     "metadata": {},
     "output_type": "execute_result"
    }
   ],
   "source": [
    "multi_model.reactions.get_by_id(\"ExLM_C00244\")"
   ],
   "metadata": {
    "collapsed": false,
    "ExecuteTime": {
     "start_time": "2023-07-19T21:40:28.926742Z",
     "end_time": "2023-07-19T21:40:28.971736Z"
    }
   }
  },
  {
   "cell_type": "code",
   "execution_count": 31,
   "outputs": [
    {
     "data": {
      "text/plain": "<Reaction ExBe15 at 0x199325f6220>",
      "text/html": "\n        <table>\n            <tr>\n                <td><strong>Reaction identifier</strong></td><td>ExBe15</td>\n            </tr><tr>\n                <td><strong>Name</strong></td><td>BSC exchange of Light</td>\n            </tr><tr>\n                <td><strong>Memory address</strong></td>\n                <td>0x199325f6220</td>\n            </tr><tr>\n                <td><strong>Stoichiometry</strong></td>\n                <td>\n                    <p style='text-align:right'>C00205[e] <=></p>\n                    <p style='text-align:right'>Hn <=></p>\n                </td>\n            </tr><tr>\n                <td><strong>GPR</strong></td><td></td>\n            </tr><tr>\n                <td><strong>Lower bound</strong></td><td>-1000.0</td>\n            </tr><tr>\n                <td><strong>Upper bound</strong></td><td>1000.0</td>\n            </tr>\n        </table>\n        "
     },
     "execution_count": 31,
     "metadata": {},
     "output_type": "execute_result"
    }
   ],
   "source": [
    "multi_model.reactions.get_by_id(\"ExBe15\")"
   ],
   "metadata": {
    "collapsed": false,
    "ExecuteTime": {
     "start_time": "2023-07-19T21:33:56.944174Z",
     "end_time": "2023-07-19T21:33:56.965735Z"
    }
   }
  },
  {
   "cell_type": "code",
   "execution_count": 26,
   "outputs": [
    {
     "data": {
      "text/plain": "<Reaction ExMe15 at 0x1993268b730>",
      "text/html": "\n        <table>\n            <tr>\n                <td><strong>Reaction identifier</strong></td><td>ExMe15</td>\n            </tr><tr>\n                <td><strong>Name</strong></td><td>MC Exchange of Light</td>\n            </tr><tr>\n                <td><strong>Memory address</strong></td>\n                <td>0x1993268b730</td>\n            </tr><tr>\n                <td><strong>Stoichiometry</strong></td>\n                <td>\n                    <p style='text-align:right'>C00205[f] <=></p>\n                    <p style='text-align:right'>Hn <=></p>\n                </td>\n            </tr><tr>\n                <td><strong>GPR</strong></td><td></td>\n            </tr><tr>\n                <td><strong>Lower bound</strong></td><td>-1000.0</td>\n            </tr><tr>\n                <td><strong>Upper bound</strong></td><td>1000.0</td>\n            </tr>\n        </table>\n        "
     },
     "execution_count": 26,
     "metadata": {},
     "output_type": "execute_result"
    }
   ],
   "source": [
    "multi_model.reactions.get_by_id(\"ExMe15\")"
   ],
   "metadata": {
    "collapsed": false,
    "ExecuteTime": {
     "start_time": "2023-07-19T21:20:46.508616Z",
     "end_time": "2023-07-19T21:20:46.516291Z"
    }
   }
  },
  {
   "cell_type": "code",
   "execution_count": 26,
   "outputs": [],
   "source": [
    "from diel_models.day_night_creator import DayNightCreator\n",
    "from diel_models.storage_pool_generator import StoragePoolGenerator"
   ],
   "metadata": {
    "collapsed": false,
    "ExecuteTime": {
     "start_time": "2023-07-22T18:10:44.441317Z",
     "end_time": "2023-07-22T18:10:44.455722Z"
    }
   }
  },
  {
   "cell_type": "code",
   "execution_count": 27,
   "outputs": [],
   "source": [
    "test1 = DayNightCreator(multi_model)"
   ],
   "metadata": {
    "collapsed": false,
    "ExecuteTime": {
     "start_time": "2023-07-22T18:10:45.479891Z",
     "end_time": "2023-07-22T18:10:45.495961Z"
    }
   }
  },
  {
   "cell_type": "code",
   "execution_count": 28,
   "outputs": [],
   "source": [
    "test1.day_attribution()\n",
    "test1.duplicate()"
   ],
   "metadata": {
    "collapsed": false,
    "ExecuteTime": {
     "start_time": "2023-07-22T18:10:46.209717Z",
     "end_time": "2023-07-22T18:12:24.951246Z"
    }
   }
  },
  {
   "cell_type": "code",
   "execution_count": 29,
   "outputs": [
    {
     "data": {
      "text/plain": "<Model M_TS3_xml at 0x1b8cb47e0d0>",
      "text/html": "\n        <table>\n            <tr>\n                <td><strong>Name</strong></td>\n                <td>M_TS3_xml</td>\n            </tr><tr>\n                <td><strong>Memory address</strong></td>\n                <td>1b8cb47e0d0</td>\n            </tr><tr>\n                <td><strong>Number of metabolites</strong></td>\n                <td>18050</td>\n            </tr><tr>\n                <td><strong>Number of reactions</strong></td>\n                <td>17050</td>\n            </tr><tr>\n                <td><strong>Number of genes</strong></td>\n                <td>6518</td>\n            </tr><tr>\n                <td><strong>Number of groups</strong></td>\n                <td>1</td>\n            </tr><tr>\n                <td><strong>Objective expression</strong></td>\n                <td>1.0*Bio_Nplus_Day - 1.0*Bio_Nplus_Day_reverse_d1d0a</td>\n            </tr><tr>\n                <td><strong>Compartments</strong></td>\n                <td>Mesophyll cytosol Day, Leaf Day, Bundle sheath exocellular Day, Bundle Sheath cytosol Day, Bundle Sheath chloroplast Day, Mesophyll exocellular Day, Mesophyll chloroplast Day, Bundle Sheath mitochondria Day, Mesophyll mitochondria Day, Bundle Sheath vacuole Day, Mesophyll vacuole Day, Bundle Sheath peroxisome Day, Bundle Sheath plasma membrane Day, Bundle Sheath inner mitochond Day, Mesophyll inner mitochondrial Day, Bundles Sheath thylakoid memb Day, Mesophyll thylakoid Day, Mesophyll cytosol Night, Leaf Night, Bundle sheath exocellular Night, Bundle Sheath cytosol Night, Bundle Sheath chloroplast Night, Mesophyll exocellular Night, Mesophyll chloroplast Night, Bundle Sheath mitochondria Night, Mesophyll mitochondria Night, Bundle Sheath vacuole Night, Mesophyll vacuole Night, Bundle Sheath peroxisome Night, Bundle Sheath plasma membrane Night, Bundle Sheath inner mitochond Night, Mesophyll inner mitochondrial Night, Bundles Sheath thylakoid memb Night, Mesophyll thylakoid Night</td>\n            </tr>\n          </table>"
     },
     "execution_count": 29,
     "metadata": {},
     "output_type": "execute_result"
    }
   ],
   "source": [
    "multi_model"
   ],
   "metadata": {
    "collapsed": false,
    "ExecuteTime": {
     "start_time": "2023-07-22T18:12:24.952476Z",
     "end_time": "2023-07-22T18:12:25.002184Z"
    }
   }
  },
  {
   "cell_type": "code",
   "execution_count": 30,
   "outputs": [],
   "source": [
    "test2 = StoragePoolGenerator(multi_model, ['C00095[c]_Day', 'C00095[d]_Day', 'C00099[d]_Day',\n",
    "'C00099[c]_Day', 'C00064[c]_Day', 'C00064[d]_Day',\n",
    "'C00042[c]_Day', 'C00042[d]_Day', 'C00089[c]_Day',\n",
    "'C00089[d]_Day', 'C00122[c]_Day', 'C00122[d]_Day'],\n",
    "[\"Bundle Sheath\", \"Mesophyll\"])"
   ],
   "metadata": {
    "collapsed": false,
    "ExecuteTime": {
     "start_time": "2023-07-22T18:12:25.002184Z",
     "end_time": "2023-07-22T18:12:25.017472Z"
    }
   }
  },
  {
   "cell_type": "code",
   "execution_count": 31,
   "outputs": [],
   "source": [
    "test2.create_storage_pool_metabolites()"
   ],
   "metadata": {
    "collapsed": false,
    "ExecuteTime": {
     "start_time": "2023-07-22T18:12:25.082100Z",
     "end_time": "2023-07-22T18:12:25.188750Z"
    }
   }
  },
  {
   "cell_type": "code",
   "execution_count": 32,
   "outputs": [
    {
     "data": {
      "text/plain": "<Model M_TS3_xml at 0x1b8cb47e0d0>",
      "text/html": "\n        <table>\n            <tr>\n                <td><strong>Name</strong></td>\n                <td>M_TS3_xml</td>\n            </tr><tr>\n                <td><strong>Memory address</strong></td>\n                <td>1b8cb47e0d0</td>\n            </tr><tr>\n                <td><strong>Number of metabolites</strong></td>\n                <td>18062</td>\n            </tr><tr>\n                <td><strong>Number of reactions</strong></td>\n                <td>17050</td>\n            </tr><tr>\n                <td><strong>Number of genes</strong></td>\n                <td>6518</td>\n            </tr><tr>\n                <td><strong>Number of groups</strong></td>\n                <td>1</td>\n            </tr><tr>\n                <td><strong>Objective expression</strong></td>\n                <td>1.0*Bio_Nplus_Day - 1.0*Bio_Nplus_Day_reverse_d1d0a</td>\n            </tr><tr>\n                <td><strong>Compartments</strong></td>\n                <td>Mesophyll cytosol Day, Leaf Day, Bundle sheath exocellular Day, Bundle Sheath cytosol Day, Bundle Sheath chloroplast Day, Mesophyll exocellular Day, Mesophyll chloroplast Day, Bundle Sheath mitochondria Day, Mesophyll mitochondria Day, Bundle Sheath vacuole Day, Mesophyll vacuole Day, Bundle Sheath peroxisome Day, Bundle Sheath plasma membrane Day, Bundle Sheath inner mitochond Day, Mesophyll inner mitochondrial Day, Bundles Sheath thylakoid memb Day, Mesophyll thylakoid Day, Mesophyll cytosol Night, Leaf Night, Bundle sheath exocellular Night, Bundle Sheath cytosol Night, Bundle Sheath chloroplast Night, Mesophyll exocellular Night, Mesophyll chloroplast Night, Bundle Sheath mitochondria Night, Mesophyll mitochondria Night, Bundle Sheath vacuole Night, Mesophyll vacuole Night, Bundle Sheath peroxisome Night, Bundle Sheath plasma membrane Night, Bundle Sheath inner mitochond Night, Mesophyll inner mitochondrial Night, Bundles Sheath thylakoid memb Night, Mesophyll thylakoid Night, Storage Pool Bundle Sheath, Storage Pool Mesophyll</td>\n            </tr>\n          </table>"
     },
     "execution_count": 32,
     "metadata": {},
     "output_type": "execute_result"
    }
   ],
   "source": [
    "multi_model"
   ],
   "metadata": {
    "collapsed": false,
    "ExecuteTime": {
     "start_time": "2023-07-22T18:12:25.193749Z",
     "end_time": "2023-07-22T18:12:25.237086Z"
    }
   }
  },
  {
   "cell_type": "code",
   "execution_count": 33,
   "outputs": [
    {
     "data": {
      "text/plain": "{'d_Day': 'Mesophyll cytosol Day',\n 'L_Day': 'Leaf Day',\n 'e_Day': 'Bundle sheath exocellular Day',\n 'c_Day': 'Bundle Sheath cytosol Day',\n 'p_Day': 'Bundle Sheath chloroplast Day',\n 'f_Day': 'Mesophyll exocellular Day',\n 'q_Day': 'Mesophyll chloroplast Day',\n 'm_Day': 'Bundle Sheath mitochondria Day',\n 'n_Day': 'Mesophyll mitochondria Day',\n 'v_Day': 'Bundle Sheath vacuole Day',\n 'w_Day': 'Mesophyll vacuole Day',\n 'x_Day': 'Bundle Sheath peroxisome Day',\n 'a_Day': 'Bundle Sheath plasma membrane Day',\n 'i_Day': 'Bundle Sheath inner mitochond Day',\n 'j_Day': 'Mesophyll inner mitochondrial Day',\n 't_Day': 'Bundles Sheath thylakoid memb Day',\n 'u_Day': 'Mesophyll thylakoid Day',\n 'd_Night': 'Mesophyll cytosol Night',\n 'L_Night': 'Leaf Night',\n 'e_Night': 'Bundle sheath exocellular Night',\n 'c_Night': 'Bundle Sheath cytosol Night',\n 'p_Night': 'Bundle Sheath chloroplast Night',\n 'f_Night': 'Mesophyll exocellular Night',\n 'q_Night': 'Mesophyll chloroplast Night',\n 'm_Night': 'Bundle Sheath mitochondria Night',\n 'n_Night': 'Mesophyll mitochondria Night',\n 'v_Night': 'Bundle Sheath vacuole Night',\n 'w_Night': 'Mesophyll vacuole Night',\n 'x_Night': 'Bundle Sheath peroxisome Night',\n 'a_Night': 'Bundle Sheath plasma membrane Night',\n 'i_Night': 'Bundle Sheath inner mitochond Night',\n 'j_Night': 'Mesophyll inner mitochondrial Night',\n 't_Night': 'Bundles Sheath thylakoid memb Night',\n 'u_Night': 'Mesophyll thylakoid Night',\n 'Bundle_Sheath_sp': 'Storage Pool Bundle Sheath',\n 'Mesophyll_sp': 'Storage Pool Mesophyll'}"
     },
     "execution_count": 33,
     "metadata": {},
     "output_type": "execute_result"
    }
   ],
   "source": [
    "multi_model.compartments"
   ],
   "metadata": {
    "collapsed": false,
    "ExecuteTime": {
     "start_time": "2023-07-22T18:12:25.225421Z",
     "end_time": "2023-07-22T18:12:25.263655Z"
    }
   }
  },
  {
   "cell_type": "code",
   "execution_count": 34,
   "outputs": [
    {
     "data": {
      "text/plain": "[<Metabolite C00095[c]__Bundle_Sheath_sp at 0x1b8dd2cfdc0>,\n <Metabolite C00095[d]__Mesophyll_sp at 0x1b8dd2cfb20>,\n <Metabolite C00099[d]__Mesophyll_sp at 0x1b8dd2cf5e0>,\n <Metabolite C00099[c]__Bundle_Sheath_sp at 0x1b8da477ee0>,\n <Metabolite C00064[c]__Bundle_Sheath_sp at 0x1b8dd2cf760>,\n <Metabolite C00064[d]__Mesophyll_sp at 0x1b85af79970>,\n <Metabolite C00042[c]__Bundle_Sheath_sp at 0x1b8dd2cf610>,\n <Metabolite C00042[d]__Mesophyll_sp at 0x1b8cb5abe50>,\n <Metabolite C00089[c]__Bundle_Sheath_sp at 0x1b8cb5abc70>,\n <Metabolite C00089[d]__Mesophyll_sp at 0x1b8da4771c0>,\n <Metabolite C00122[c]__Bundle_Sheath_sp at 0x1b8bf4e7760>,\n <Metabolite C00122[d]__Mesophyll_sp at 0x1b8c3bf5cd0>]"
     },
     "execution_count": 34,
     "metadata": {},
     "output_type": "execute_result"
    }
   ],
   "source": [
    "multi_model.metabolites.query(\"_sp\")"
   ],
   "metadata": {
    "collapsed": false,
    "ExecuteTime": {
     "start_time": "2023-07-22T18:12:44.813366Z",
     "end_time": "2023-07-22T18:12:45.692382Z"
    }
   }
  },
  {
   "cell_type": "code",
   "execution_count": 35,
   "outputs": [],
   "source": [
    "test2.create_storage_pool_first_reactions()"
   ],
   "metadata": {
    "collapsed": false,
    "ExecuteTime": {
     "start_time": "2023-07-22T18:13:06.494011Z",
     "end_time": "2023-07-22T18:13:06.519975Z"
    }
   }
  },
  {
   "cell_type": "code",
   "execution_count": 36,
   "outputs": [],
   "source": [
    "test2.create_storage_pool_second_reactions()"
   ],
   "metadata": {
    "collapsed": false,
    "ExecuteTime": {
     "start_time": "2023-07-22T18:13:06.673339Z",
     "end_time": "2023-07-22T18:13:06.704255Z"
    }
   }
  },
  {
   "cell_type": "code",
   "execution_count": 37,
   "outputs": [
    {
     "data": {
      "text/plain": "[<Reaction D-Fructose__Bundle_Sheath_Day_sp_exchange at 0x1b8dd2cfb50>,\n <Reaction D-Fructose__Mesophyll_Day_sp_exchange at 0x1b8dd2cf9d0>,\n <Reaction B-Alanine__Mesophyll_Day_sp_exchange at 0x1b8dd2cfc70>,\n <Reaction B-Alanine__Bundle_Sheath_Day_sp_exchange at 0x1b8dd2cf820>,\n <Reaction Gln__Bundle_Sheath_Day_sp_exchange at 0x1b8dd2bf550>,\n <Reaction Gln__Mesophyll_Day_sp_exchange at 0x1b8dd2bf5b0>,\n <Reaction Suc__Bundle_Sheath_Day_sp_exchange at 0x1b8dd2bf310>,\n <Reaction Suc__Mesophyll_Day_sp_exchange at 0x1b8dd2bf280>,\n <Reaction Sucrose__Bundle_Sheath_Day_sp_exchange at 0x1b8dd2bf6a0>,\n <Reaction Sucrose__Mesophyll_Day_sp_exchange at 0x1b8dd2bf1f0>,\n <Reaction Fum__Bundle_Sheath_Day_sp_exchange at 0x1b8dd2bf910>,\n <Reaction Fum__Mesophyll_Day_sp_exchange at 0x1b8dd2bf0a0>,\n <Reaction D-Fructose__Bundle_Sheath_Night_sp_exchange at 0x1b8dd2cfd90>,\n <Reaction D-Fructose__Mesophyll_Night_sp_exchange at 0x1b8dd2d0850>,\n <Reaction B-Alanine__Mesophyll_Night_sp_exchange at 0x1b8dd2d0940>,\n <Reaction B-Alanine__Bundle_Sheath_Night_sp_exchange at 0x1b8dd2cfca0>,\n <Reaction Gln__Bundle_Sheath_Night_sp_exchange at 0x1b8dd2d0e80>,\n <Reaction Gln__Mesophyll_Night_sp_exchange at 0x1b8dd2d0bb0>,\n <Reaction Suc__Bundle_Sheath_Night_sp_exchange at 0x1b8dd2d08e0>,\n <Reaction Suc__Mesophyll_Night_sp_exchange at 0x1b8dd2d06d0>,\n <Reaction Sucrose__Bundle_Sheath_Night_sp_exchange at 0x1b8dd2d0b20>,\n <Reaction Sucrose__Mesophyll_Night_sp_exchange at 0x1b85aab59a0>,\n <Reaction Fum__Bundle_Sheath_Night_sp_exchange at 0x1b8dbf20970>,\n <Reaction Fum__Mesophyll_Night_sp_exchange at 0x1b8dd2d6100>]"
     },
     "execution_count": 37,
     "metadata": {},
     "output_type": "execute_result"
    }
   ],
   "source": [
    "multi_model.reactions.query(\"exchange\")"
   ],
   "metadata": {
    "collapsed": false,
    "ExecuteTime": {
     "start_time": "2023-07-22T18:13:07.083078Z",
     "end_time": "2023-07-22T18:13:07.103773Z"
    }
   }
  },
  {
   "cell_type": "code",
   "execution_count": 14,
   "outputs": [],
   "source": [
    "from diel_models.photon_reaction_inhibitor import PhotonReactionInhibitor"
   ],
   "metadata": {
    "collapsed": false,
    "ExecuteTime": {
     "start_time": "2023-07-22T13:41:41.647686Z",
     "end_time": "2023-07-22T13:41:41.696604Z"
    }
   }
  },
  {
   "cell_type": "code",
   "execution_count": 15,
   "outputs": [],
   "source": [
    "test3 = PhotonReactionInhibitor(multi_model, [\"ExMe15_Night\", \"ExBe15_Night\"])"
   ],
   "metadata": {
    "collapsed": false,
    "ExecuteTime": {
     "start_time": "2023-07-22T13:42:15.372186Z",
     "end_time": "2023-07-22T13:42:15.403596Z"
    }
   }
  },
  {
   "cell_type": "code",
   "execution_count": 16,
   "outputs": [],
   "source": [
    "test3.restrain()"
   ],
   "metadata": {
    "collapsed": false,
    "ExecuteTime": {
     "start_time": "2023-07-22T13:42:19.537183Z",
     "end_time": "2023-07-22T13:42:19.584339Z"
    }
   }
  },
  {
   "cell_type": "code",
   "execution_count": 17,
   "outputs": [
    {
     "data": {
      "text/plain": "<Model M_TS3_xml at 0x1b8627fd520>",
      "text/html": "\n        <table>\n            <tr>\n                <td><strong>Name</strong></td>\n                <td>M_TS3_xml</td>\n            </tr><tr>\n                <td><strong>Memory address</strong></td>\n                <td>1b8627fd520</td>\n            </tr><tr>\n                <td><strong>Number of metabolites</strong></td>\n                <td>18052</td>\n            </tr><tr>\n                <td><strong>Number of reactions</strong></td>\n                <td>17054</td>\n            </tr><tr>\n                <td><strong>Number of genes</strong></td>\n                <td>6518</td>\n            </tr><tr>\n                <td><strong>Number of groups</strong></td>\n                <td>1</td>\n            </tr><tr>\n                <td><strong>Objective expression</strong></td>\n                <td>1.0*Bio_Nplus_Day - 1.0*Bio_Nplus_Day_reverse_d1d0a</td>\n            </tr><tr>\n                <td><strong>Compartments</strong></td>\n                <td>Mesophyll cytosol Day, Leaf Day, Bundle sheath exocellular Day, Bundle Sheath cytosol Day, Bundle Sheath chloroplast Day, Mesophyll exocellular Day, Mesophyll chloroplast Day, Bundle Sheath mitochondria Day, Mesophyll mitochondria Day, Bundle Sheath vacuole Day, Mesophyll vacuole Day, Bundle Sheath peroxisome Day, Bundle Sheath plasma membrane Day, Bundle Sheath inner mitochond Day, Mesophyll inner mitochondrial Day, Bundles Sheath thylakoid memb Day, Mesophyll thylakoid Day, Mesophyll cytosol Night, Leaf Night, Bundle sheath exocellular Night, Bundle Sheath cytosol Night, Bundle Sheath chloroplast Night, Mesophyll exocellular Night, Mesophyll chloroplast Night, Bundle Sheath mitochondria Night, Mesophyll mitochondria Night, Bundle Sheath vacuole Night, Mesophyll vacuole Night, Bundle Sheath peroxisome Night, Bundle Sheath plasma membrane Night, Bundle Sheath inner mitochond Night, Mesophyll inner mitochondrial Night, Bundles Sheath thylakoid memb Night, Mesophyll thylakoid Night, Storage Pool Bundle sheath, Storage Pool Mesophyll</td>\n            </tr>\n          </table>"
     },
     "execution_count": 17,
     "metadata": {},
     "output_type": "execute_result"
    }
   ],
   "source": [
    "multi_model"
   ],
   "metadata": {
    "collapsed": false,
    "ExecuteTime": {
     "start_time": "2023-07-22T13:42:22.384611Z",
     "end_time": "2023-07-22T13:42:22.611366Z"
    }
   }
  },
  {
   "cell_type": "code",
   "execution_count": 20,
   "outputs": [
    {
     "data": {
      "text/plain": "<Reaction ExBe15_Day at 0x1b8bf56f040>",
      "text/html": "\n        <table>\n            <tr>\n                <td><strong>Reaction identifier</strong></td><td>ExBe15_Day</td>\n            </tr><tr>\n                <td><strong>Name</strong></td><td>BSC exchange of Light</td>\n            </tr><tr>\n                <td><strong>Memory address</strong></td>\n                <td>0x1b8bf56f040</td>\n            </tr><tr>\n                <td><strong>Stoichiometry</strong></td>\n                <td>\n                    <p style='text-align:right'>C00205[e]_Day <=></p>\n                    <p style='text-align:right'>Hn Day <=></p>\n                </td>\n            </tr><tr>\n                <td><strong>GPR</strong></td><td></td>\n            </tr><tr>\n                <td><strong>Lower bound</strong></td><td>-1000.0</td>\n            </tr><tr>\n                <td><strong>Upper bound</strong></td><td>1000.0</td>\n            </tr>\n        </table>\n        "
     },
     "execution_count": 20,
     "metadata": {},
     "output_type": "execute_result"
    }
   ],
   "source": [
    "multi_model.reactions.get_by_id(\"ExBe15_Day\")"
   ],
   "metadata": {
    "collapsed": false,
    "ExecuteTime": {
     "start_time": "2023-07-22T13:42:41.040125Z",
     "end_time": "2023-07-22T13:42:41.072856Z"
    }
   }
  },
  {
   "cell_type": "code",
   "execution_count": 21,
   "outputs": [
    {
     "data": {
      "text/plain": "[<Reaction D-Fructose__Bundle_sheath_Day_sp_exchange at 0x1b8cb5ce730>,\n <Reaction D-Fructose__Mesophyll_Day_sp_exchange at 0x1b8cb5ce760>,\n <Reaction D-Fructose__Bundle_sheath_Night_sp_exchange at 0x1b8cb5cecd0>,\n <Reaction D-Fructose__Mesophyll_Night_sp_exchange at 0x1b8cb5cedc0>]"
     },
     "execution_count": 21,
     "metadata": {},
     "output_type": "execute_result"
    }
   ],
   "source": [
    "multi_model.reactions.query(\"_sp\")"
   ],
   "metadata": {
    "collapsed": false,
    "ExecuteTime": {
     "start_time": "2023-07-22T17:52:02.972205Z",
     "end_time": "2023-07-22T17:52:03.583869Z"
    }
   }
  },
  {
   "cell_type": "code",
   "execution_count": 23,
   "outputs": [
    {
     "data": {
      "text/plain": "{<Metabolite C00095[m]_Day at 0x1b8bd95c2e0>: -1.0,\n <Metabolite C00095[m]__Bundle_Sheath_sp at 0x1b8cb47e100>: 1.0}"
     },
     "execution_count": 23,
     "metadata": {},
     "output_type": "execute_result"
    }
   ],
   "source": [
    "multi_model.reactions.get_by_id(\"D-Fructose__Bundle_sheath_Day_sp_exchange\").metabolites"
   ],
   "metadata": {
    "collapsed": false,
    "ExecuteTime": {
     "start_time": "2023-07-22T17:52:27.407288Z",
     "end_time": "2023-07-22T17:52:27.419084Z"
    }
   }
  },
  {
   "cell_type": "code",
   "execution_count": 24,
   "outputs": [
    {
     "data": {
      "text/plain": "<Metabolite C00095[m]__Bundle_Sheath_sp at 0x1b8cb47e100>",
      "text/html": "\n        <table>\n            <tr>\n                <td><strong>Metabolite identifier</strong></td><td>C00095[m]__Bundle_Sheath_sp</td>\n            </tr><tr>\n                <td><strong>Name</strong></td><td>D-Fructose Bundle sheath</td>\n            </tr><tr>\n                <td><strong>Memory address</strong></td>\n                <td>0x1b8cb47e100</td>\n            </tr><tr>\n                <td><strong>Formula</strong></td><td>None</td>\n            </tr><tr>\n                <td><strong>Compartment</strong></td><td>Bundle_Sheath_sp</td>\n            </tr><tr>\n                <td><strong>In 2 reaction(s)</strong></td><td>\n                    D-Fructose__Bundle_sheath_Day_sp_exchange, D-Fructose__Bundle_sheath_Night_sp_exchange\n                    </td>\n            </tr>\n        </table>"
     },
     "execution_count": 24,
     "metadata": {},
     "output_type": "execute_result"
    }
   ],
   "source": [
    "multi_model.metabolites.get_by_id(\"C00095[m]__Bundle_Sheath_sp\")"
   ],
   "metadata": {
    "collapsed": false,
    "ExecuteTime": {
     "start_time": "2023-07-22T17:52:39.039116Z",
     "end_time": "2023-07-22T17:52:39.093886Z"
    }
   }
  },
  {
   "cell_type": "code",
   "execution_count": 38,
   "outputs": [
    {
     "data": {
      "text/plain": "<Model M_TS3_xml at 0x1b8cb47e0d0>",
      "text/html": "\n        <table>\n            <tr>\n                <td><strong>Name</strong></td>\n                <td>M_TS3_xml</td>\n            </tr><tr>\n                <td><strong>Memory address</strong></td>\n                <td>1b8cb47e0d0</td>\n            </tr><tr>\n                <td><strong>Number of metabolites</strong></td>\n                <td>18062</td>\n            </tr><tr>\n                <td><strong>Number of reactions</strong></td>\n                <td>17074</td>\n            </tr><tr>\n                <td><strong>Number of genes</strong></td>\n                <td>6518</td>\n            </tr><tr>\n                <td><strong>Number of groups</strong></td>\n                <td>1</td>\n            </tr><tr>\n                <td><strong>Objective expression</strong></td>\n                <td>1.0*Bio_Nplus_Day - 1.0*Bio_Nplus_Day_reverse_d1d0a</td>\n            </tr><tr>\n                <td><strong>Compartments</strong></td>\n                <td>Mesophyll cytosol Day, Leaf Day, Bundle sheath exocellular Day, Bundle Sheath cytosol Day, Bundle Sheath chloroplast Day, Mesophyll exocellular Day, Mesophyll chloroplast Day, Bundle Sheath mitochondria Day, Mesophyll mitochondria Day, Bundle Sheath vacuole Day, Mesophyll vacuole Day, Bundle Sheath peroxisome Day, Bundle Sheath plasma membrane Day, Bundle Sheath inner mitochond Day, Mesophyll inner mitochondrial Day, Bundles Sheath thylakoid memb Day, Mesophyll thylakoid Day, Mesophyll cytosol Night, Leaf Night, Bundle sheath exocellular Night, Bundle Sheath cytosol Night, Bundle Sheath chloroplast Night, Mesophyll exocellular Night, Mesophyll chloroplast Night, Bundle Sheath mitochondria Night, Mesophyll mitochondria Night, Bundle Sheath vacuole Night, Mesophyll vacuole Night, Bundle Sheath peroxisome Night, Bundle Sheath plasma membrane Night, Bundle Sheath inner mitochond Night, Mesophyll inner mitochondrial Night, Bundles Sheath thylakoid memb Night, Mesophyll thylakoid Night, Storage Pool Bundle Sheath, Storage Pool Mesophyll</td>\n            </tr>\n          </table>"
     },
     "execution_count": 38,
     "metadata": {},
     "output_type": "execute_result"
    }
   ],
   "source": [
    "multi_model"
   ],
   "metadata": {
    "collapsed": false,
    "ExecuteTime": {
     "start_time": "2023-07-22T18:55:11.230643Z",
     "end_time": "2023-07-22T18:55:11.832208Z"
    }
   }
  },
  {
   "cell_type": "code",
   "execution_count": 39,
   "outputs": [
    {
     "data": {
      "text/plain": "<Reaction ExBe5_Day at 0x1b8d141fb80>",
      "text/html": "\n        <table>\n            <tr>\n                <td><strong>Reaction identifier</strong></td><td>ExBe5_Day</td>\n            </tr><tr>\n                <td><strong>Name</strong></td><td>BSC exchange of AMMONIA</td>\n            </tr><tr>\n                <td><strong>Memory address</strong></td>\n                <td>0x1b8d141fb80</td>\n            </tr><tr>\n                <td><strong>Stoichiometry</strong></td>\n                <td>\n                    <p style='text-align:right'>C00014[e]_Day --></p>\n                    <p style='text-align:right'>Ammonia Day --></p>\n                </td>\n            </tr><tr>\n                <td><strong>GPR</strong></td><td></td>\n            </tr><tr>\n                <td><strong>Lower bound</strong></td><td>0.0</td>\n            </tr><tr>\n                <td><strong>Upper bound</strong></td><td>1000.0</td>\n            </tr>\n        </table>\n        "
     },
     "execution_count": 39,
     "metadata": {},
     "output_type": "execute_result"
    }
   ],
   "source": [
    "multi_model.reactions.get_by_id(\"ExBe5_Day\")"
   ],
   "metadata": {
    "collapsed": false,
    "ExecuteTime": {
     "start_time": "2023-07-22T18:55:19.852736Z",
     "end_time": "2023-07-22T18:55:19.884363Z"
    }
   }
  },
  {
   "cell_type": "code",
   "execution_count": 48,
   "outputs": [
    {
     "ename": "KeyError",
     "evalue": "'ExMe10_Day'",
     "output_type": "error",
     "traceback": [
      "\u001B[1;31m---------------------------------------------------------------------------\u001B[0m",
      "\u001B[1;31mKeyError\u001B[0m                                  Traceback (most recent call last)",
      "Cell \u001B[1;32mIn[48], line 1\u001B[0m\n\u001B[1;32m----> 1\u001B[0m \u001B[43mmulti_model\u001B[49m\u001B[38;5;241;43m.\u001B[39;49m\u001B[43mreactions\u001B[49m\u001B[38;5;241;43m.\u001B[39;49m\u001B[43mget_by_id\u001B[49m\u001B[43m(\u001B[49m\u001B[38;5;124;43m\"\u001B[39;49m\u001B[38;5;124;43mExMe10_Day\u001B[39;49m\u001B[38;5;124;43m\"\u001B[39;49m\u001B[43m)\u001B[49m\n",
      "File \u001B[1;32m~\\anaconda3\\envs\\diel_models\\lib\\site-packages\\cobra\\core\\dictlist.py:75\u001B[0m, in \u001B[0;36mDictList.get_by_id\u001B[1;34m(self, id)\u001B[0m\n\u001B[0;32m     73\u001B[0m \u001B[38;5;28;01mdef\u001B[39;00m \u001B[38;5;21mget_by_id\u001B[39m(\u001B[38;5;28mself\u001B[39m, \u001B[38;5;28mid\u001B[39m: Union[Object, \u001B[38;5;28mstr\u001B[39m]) \u001B[38;5;241m-\u001B[39m\u001B[38;5;241m>\u001B[39m Object:\n\u001B[0;32m     74\u001B[0m     \u001B[38;5;124;03m\"\"\"Return the element with a matching id.\"\"\"\u001B[39;00m\n\u001B[1;32m---> 75\u001B[0m     \u001B[38;5;28;01mreturn\u001B[39;00m \u001B[38;5;28mlist\u001B[39m\u001B[38;5;241m.\u001B[39m\u001B[38;5;21m__getitem__\u001B[39m(\u001B[38;5;28mself\u001B[39m, \u001B[38;5;28;43mself\u001B[39;49m\u001B[38;5;241;43m.\u001B[39;49m\u001B[43m_dict\u001B[49m\u001B[43m[\u001B[49m\u001B[38;5;28;43mid\u001B[39;49m\u001B[43m]\u001B[49m)\n",
      "\u001B[1;31mKeyError\u001B[0m: 'ExMe10_Day'"
     ]
    }
   ],
   "source": [
    "multi_model.reactions.get_by_id(\"ExMe10_Day\")"
   ],
   "metadata": {
    "collapsed": false,
    "ExecuteTime": {
     "start_time": "2023-07-22T18:57:31.084004Z",
     "end_time": "2023-07-22T18:57:31.105911Z"
    }
   }
  },
  {
   "cell_type": "code",
   "execution_count": null,
   "outputs": [],
   "source": [],
   "metadata": {
    "collapsed": false
   }
  }
 ],
 "metadata": {
  "kernelspec": {
   "display_name": "Python 3",
   "language": "python",
   "name": "python3"
  },
  "language_info": {
   "codemirror_mode": {
    "name": "ipython",
    "version": 2
   },
   "file_extension": ".py",
   "mimetype": "text/x-python",
   "name": "python",
   "nbconvert_exporter": "python",
   "pygments_lexer": "ipython2",
   "version": "2.7.6"
  }
 },
 "nbformat": 4,
 "nbformat_minor": 0
}
