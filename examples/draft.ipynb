{
 "cells": [
  {
   "cell_type": "code",
   "execution_count": 11,
   "outputs": [],
   "source": [
    "import cobra.io\n",
    "\n",
    "modelo = cobra.io.read_sbml_model('Diel_Model_after_complete_pipeline.xml')"
   ],
   "metadata": {
    "collapsed": false,
    "ExecuteTime": {
     "start_time": "2023-05-27T11:14:49.018584Z",
     "end_time": "2023-05-27T11:14:57.515046Z"
    }
   }
  },
  {
   "cell_type": "code",
   "execution_count": 12,
   "outputs": [],
   "source": [
    "modelo.objective_direction = \"max\""
   ],
   "metadata": {
    "collapsed": false,
    "ExecuteTime": {
     "start_time": "2023-05-27T11:14:57.509877Z",
     "end_time": "2023-05-27T11:14:57.530840Z"
    }
   }
  },
  {
   "cell_type": "code",
   "execution_count": 13,
   "outputs": [
    {
     "data": {
      "text/plain": "<cobra.summary.model_summary.ModelSummary at 0x2353b764d60>",
      "text/html": "<h3>Objective</h3><p>1.0 Biomass_Total = 4.722968585816293</p><h4>Uptake</h4><table border=\"1\" class=\"dataframe\">\n  <thead>\n    <tr style=\"text-align: right;\">\n      <th>Metabolite</th>\n      <th>Reaction</th>\n      <th>Flux</th>\n      <th>C-Number</th>\n      <th>C-Flux</th>\n    </tr>\n  </thead>\n  <tbody>\n    <tr>\n      <td>S_Hydrogen_32_sulfide_c[C_c]_Day</td>\n      <td>Ex11_Day</td>\n      <td>0.1228</td>\n      <td>0</td>\n      <td>0.00%</td>\n    </tr>\n    <tr>\n      <td>S_hv_p[C_p]_Day</td>\n      <td>Ex16_Day</td>\n      <td>1000</td>\n      <td>0</td>\n      <td>0.00%</td>\n    </tr>\n    <tr>\n      <td>S_Orthophosphate_c[C_c]_Day</td>\n      <td>Ex18_Day</td>\n      <td>0.05219</td>\n      <td>0</td>\n      <td>0.00%</td>\n    </tr>\n    <tr>\n      <td>S_Orthophosphate_c[C_c]_Night</td>\n      <td>Ex18_Night</td>\n      <td>0.05219</td>\n      <td>0</td>\n      <td>0.00%</td>\n    </tr>\n    <tr>\n      <td>S_CO2_c[C_c]_Day</td>\n      <td>Ex1_Day</td>\n      <td>99.39</td>\n      <td>0</td>\n      <td>0.00%</td>\n    </tr>\n    <tr>\n      <td>S_H2O_c[C_c]_Day</td>\n      <td>Ex2_Day</td>\n      <td>406.8</td>\n      <td>0</td>\n      <td>0.00%</td>\n    </tr>\n    <tr>\n      <td>S_Oxygen_c[C_c]_Night</td>\n      <td>Ex3_Night</td>\n      <td>17.02</td>\n      <td>0</td>\n      <td>0.00%</td>\n    </tr>\n    <tr>\n      <td>S_NH3_c[C_c]_Day</td>\n      <td>Ex5_Day</td>\n      <td>15.77</td>\n      <td>0</td>\n      <td>0.00%</td>\n    </tr>\n  </tbody>\n</table><h4>Secretion</h4><table border=\"1\" class=\"dataframe\">\n  <thead>\n    <tr style=\"text-align: right;\">\n      <th>Metabolite</th>\n      <th>Reaction</th>\n      <th>Flux</th>\n      <th>C-Number</th>\n      <th>C-Flux</th>\n    </tr>\n  </thead>\n  <tbody>\n    <tr>\n      <td>S_H2O_c[C_c]_Night</td>\n      <td>Ex2_Night</td>\n      <td>-12.37</td>\n      <td>0</td>\n      <td>0.00%</td>\n    </tr>\n    <tr>\n      <td>S_Oxygen_c[C_c]_Day</td>\n      <td>Ex3_Day</td>\n      <td>-121.8</td>\n      <td>0</td>\n      <td>0.00%</td>\n    </tr>\n    <tr>\n      <td>S_NH3_c[C_c]_Night</td>\n      <td>Ex5_Night</td>\n      <td>-0.7262</td>\n      <td>0</td>\n      <td>0.00%</td>\n    </tr>\n  </tbody>\n</table>"
     },
     "execution_count": 13,
     "metadata": {},
     "output_type": "execute_result"
    }
   ],
   "source": [
    "modelo.summary()"
   ],
   "metadata": {
    "collapsed": false,
    "ExecuteTime": {
     "start_time": "2023-05-27T11:14:57.526326Z",
     "end_time": "2023-05-27T11:15:02.580098Z"
    }
   }
  },
  {
   "cell_type": "code",
   "execution_count": 14,
   "outputs": [],
   "source": [
    "from cobra.flux_analysis import pfba\n",
    "\n",
    "solution = pfba(modelo).fluxes"
   ],
   "metadata": {
    "collapsed": false,
    "ExecuteTime": {
     "start_time": "2023-05-27T11:15:02.580098Z",
     "end_time": "2023-05-27T11:15:03.593596Z"
    }
   }
  },
  {
   "cell_type": "code",
   "execution_count": 27,
   "outputs": [
    {
     "data": {
      "text/plain": "0.337456105367242"
     },
     "execution_count": 27,
     "metadata": {},
     "output_type": "execute_result"
    }
   ],
   "source": [
    "solution['R00024_p_Night']"
   ],
   "metadata": {
    "collapsed": false,
    "ExecuteTime": {
     "start_time": "2023-05-26T18:34:39.204947Z",
     "end_time": "2023-05-26T18:34:39.344989Z"
    }
   }
  },
  {
   "cell_type": "code",
   "execution_count": 28,
   "outputs": [
    {
     "data": {
      "text/plain": "106.77663763979817"
     },
     "execution_count": 28,
     "metadata": {},
     "output_type": "execute_result"
    }
   ],
   "source": [
    "solution['R00024_p_Day']"
   ],
   "metadata": {
    "collapsed": false,
    "ExecuteTime": {
     "start_time": "2023-05-26T18:35:15.871002Z",
     "end_time": "2023-05-26T18:35:15.951024Z"
    }
   }
  },
  {
   "cell_type": "code",
   "execution_count": 30,
   "outputs": [
    {
     "data": {
      "text/plain": "0.0"
     },
     "execution_count": 30,
     "metadata": {},
     "output_type": "execute_result"
    }
   ],
   "source": [
    "solution['R03140_p_Day']"
   ],
   "metadata": {
    "collapsed": false,
    "ExecuteTime": {
     "start_time": "2023-05-26T18:35:58.781422Z",
     "end_time": "2023-05-26T18:35:58.806038Z"
    }
   }
  },
  {
   "cell_type": "code",
   "execution_count": 32,
   "outputs": [
    {
     "data": {
      "text/plain": "0.0"
     },
     "execution_count": 32,
     "metadata": {},
     "output_type": "execute_result"
    }
   ],
   "source": [
    "solution['R03140_p_Night']"
   ],
   "metadata": {
    "collapsed": false,
    "ExecuteTime": {
     "start_time": "2023-05-26T18:36:11.674982Z",
     "end_time": "2023-05-26T18:36:11.708393Z"
    }
   }
  },
  {
   "cell_type": "code",
   "execution_count": 33,
   "outputs": [
    {
     "data": {
      "text/plain": "<Reaction R03140_p_Day at 0x24c2f105970>",
      "text/html": "\n        <table>\n            <tr>\n                <td><strong>Reaction identifier</strong></td><td>R03140_p_Day</td>\n            </tr><tr>\n                <td><strong>Name</strong></td><td>ribulose bisphosphate carboxylase small chain 1A / RuBisCO small subunit 1A (RBCS-1A) (ATS1A)</td>\n            </tr><tr>\n                <td><strong>Memory address</strong></td>\n                <td>0x24c2f105970</td>\n            </tr><tr>\n                <td><strong>Stoichiometry</strong></td>\n                <td>\n                    <p style='text-align:right'>S_D_45_Ribulose_32_1_44_5_45_bisphosphate_p[C_p]_Day + S_Oxygen_p[C_p]_Day --> S_2_45_Phosphoglycolate_p[C_p]_Day + S_3_45_Phospho_45_D_45_glycerate_p[C_p]_Day</p>\n                    <p style='text-align:right'>D-Ribulose 1,5-bisphosphate Day + Oxygen_p Day --> 2-Phosphoglycolate Day + 3-Phospho-D-glycerate_p Day</p>\n                </td>\n            </tr><tr>\n                <td><strong>GPR</strong></td><td>ARTHCP030 or AT1G67090 or AT5G38410 or AT5G38420 or AT5G38430</td>\n            </tr><tr>\n                <td><strong>Lower bound</strong></td><td>0.0</td>\n            </tr><tr>\n                <td><strong>Upper bound</strong></td><td>1000.0</td>\n            </tr>\n        </table>\n        "
     },
     "execution_count": 33,
     "metadata": {},
     "output_type": "execute_result"
    }
   ],
   "source": [
    "modelo.reactions.get_by_id('R03140_p_Day')"
   ],
   "metadata": {
    "collapsed": false,
    "ExecuteTime": {
     "start_time": "2023-05-26T18:44:29.931636Z",
     "end_time": "2023-05-26T18:44:29.970168Z"
    }
   }
  },
  {
   "cell_type": "code",
   "execution_count": 34,
   "outputs": [
    {
     "data": {
      "text/plain": "<Reaction R00024_p_Day at 0x24c2ed2ed30>",
      "text/html": "\n        <table>\n            <tr>\n                <td><strong>Reaction identifier</strong></td><td>R00024_p_Day</td>\n            </tr><tr>\n                <td><strong>Name</strong></td><td>ribulose bisphosphate carboxylase small chain 1A / RuBisCO small subunit 1A (RBCS-1A) (ATS1A)</td>\n            </tr><tr>\n                <td><strong>Memory address</strong></td>\n                <td>0x24c2ed2ed30</td>\n            </tr><tr>\n                <td><strong>Stoichiometry</strong></td>\n                <td>\n                    <p style='text-align:right'>S_CO2_p[C_p]_Day + S_D_45_Ribulose_32_1_44_5_45_bisphosphate_p[C_p]_Day + S_H2O_p[C_p]_Day --> 2.0 S_3_45_Phospho_45_D_45_glycerate_p[C_p]_Day</p>\n                    <p style='text-align:right'>CO2_p Day + D-Ribulose 1,5-bisphosphate Day + H2O_p Day --> 2.0 3-Phospho-D-glycerate_p Day</p>\n                </td>\n            </tr><tr>\n                <td><strong>GPR</strong></td><td>ARTHCP030 or AT1G67090 or AT5G38410 or AT5G38420 or AT5G38430</td>\n            </tr><tr>\n                <td><strong>Lower bound</strong></td><td>0.0</td>\n            </tr><tr>\n                <td><strong>Upper bound</strong></td><td>1000.0</td>\n            </tr>\n        </table>\n        "
     },
     "execution_count": 34,
     "metadata": {},
     "output_type": "execute_result"
    }
   ],
   "source": [
    "modelo.reactions.get_by_id('R00024_p_Day')"
   ],
   "metadata": {
    "collapsed": false,
    "ExecuteTime": {
     "start_time": "2023-05-26T18:44:41.803691Z",
     "end_time": "2023-05-26T18:44:41.899080Z"
    }
   }
  },
  {
   "cell_type": "code",
   "execution_count": 36,
   "outputs": [],
   "source": [
    "original_model = cobra.io.read_sbml_model('C:\\\\Users\\\\lucia\\\\Desktop\\\\DielModels\\\\tests\\\\data\\\\aragem_photo.xml')"
   ],
   "metadata": {
    "collapsed": false,
    "ExecuteTime": {
     "start_time": "2023-05-26T18:54:26.091761Z",
     "end_time": "2023-05-26T18:54:28.465010Z"
    }
   }
  },
  {
   "cell_type": "code",
   "execution_count": 37,
   "outputs": [
    {
     "data": {
      "text/plain": "<Reaction R00024_p at 0x24c30be3a90>",
      "text/html": "\n        <table>\n            <tr>\n                <td><strong>Reaction identifier</strong></td><td>R00024_p</td>\n            </tr><tr>\n                <td><strong>Name</strong></td><td>ribulose bisphosphate carboxylase small chain 1A / RuBisCO small subunit 1A (RBCS-1A) (ATS1A)</td>\n            </tr><tr>\n                <td><strong>Memory address</strong></td>\n                <td>0x24c30be3a90</td>\n            </tr><tr>\n                <td><strong>Stoichiometry</strong></td>\n                <td>\n                    <p style='text-align:right'>S_CO2_p[C_p] + S_D_45_Ribulose_32_1_44_5_45_bisphosphate_p[C_p] + S_H2O_p[C_p] --> 2.0 S_3_45_Phospho_45_D_45_glycerate_p[C_p]</p>\n                    <p style='text-align:right'>CO2_p + D-Ribulose 1,5-bisphosphate + H2O_p --> 2.0 3-Phospho-D-glycerate_p</p>\n                </td>\n            </tr><tr>\n                <td><strong>GPR</strong></td><td>ARTHCP030 or AT1G67090 or AT5G38410 or AT5G38420 or AT5G38430</td>\n            </tr><tr>\n                <td><strong>Lower bound</strong></td><td>0.0</td>\n            </tr><tr>\n                <td><strong>Upper bound</strong></td><td>1000.0</td>\n            </tr>\n        </table>\n        "
     },
     "execution_count": 37,
     "metadata": {},
     "output_type": "execute_result"
    }
   ],
   "source": [
    "original_model.reactions.get_by_id('R00024_p')"
   ],
   "metadata": {
    "collapsed": false,
    "ExecuteTime": {
     "start_time": "2023-05-26T18:54:52.026803Z",
     "end_time": "2023-05-26T18:54:52.099033Z"
    }
   }
  },
  {
   "cell_type": "code",
   "execution_count": 38,
   "outputs": [
    {
     "data": {
      "text/plain": "<Reaction R03140_p at 0x24c30edae50>",
      "text/html": "\n        <table>\n            <tr>\n                <td><strong>Reaction identifier</strong></td><td>R03140_p</td>\n            </tr><tr>\n                <td><strong>Name</strong></td><td>ribulose bisphosphate carboxylase small chain 1A / RuBisCO small subunit 1A (RBCS-1A) (ATS1A)</td>\n            </tr><tr>\n                <td><strong>Memory address</strong></td>\n                <td>0x24c30edae50</td>\n            </tr><tr>\n                <td><strong>Stoichiometry</strong></td>\n                <td>\n                    <p style='text-align:right'>S_D_45_Ribulose_32_1_44_5_45_bisphosphate_p[C_p] + S_Oxygen_p[C_p] --> S_2_45_Phosphoglycolate_p[C_p] + S_3_45_Phospho_45_D_45_glycerate_p[C_p]</p>\n                    <p style='text-align:right'>D-Ribulose 1,5-bisphosphate + Oxygen_p --> 2-Phosphoglycolate + 3-Phospho-D-glycerate_p</p>\n                </td>\n            </tr><tr>\n                <td><strong>GPR</strong></td><td>ARTHCP030 or AT1G67090 or AT5G38410 or AT5G38420 or AT5G38430</td>\n            </tr><tr>\n                <td><strong>Lower bound</strong></td><td>0.0</td>\n            </tr><tr>\n                <td><strong>Upper bound</strong></td><td>1000.0</td>\n            </tr>\n        </table>\n        "
     },
     "execution_count": 38,
     "metadata": {},
     "output_type": "execute_result"
    }
   ],
   "source": [
    "original_model.reactions.get_by_id('R03140_p')"
   ],
   "metadata": {
    "collapsed": false,
    "ExecuteTime": {
     "start_time": "2023-05-26T18:55:05.298852Z",
     "end_time": "2023-05-26T18:55:05.339532Z"
    }
   }
  },
  {
   "cell_type": "code",
   "execution_count": 40,
   "outputs": [],
   "source": [
    "original_model.objective_direction = 'max'"
   ],
   "metadata": {
    "collapsed": false,
    "ExecuteTime": {
     "start_time": "2023-05-26T18:55:14.499018Z",
     "end_time": "2023-05-26T18:55:14.532035Z"
    }
   }
  },
  {
   "cell_type": "code",
   "execution_count": 45,
   "outputs": [
    {
     "data": {
      "text/plain": "<Model M_ at 0x24c307171f0>",
      "text/html": "\n        <table>\n            <tr>\n                <td><strong>Name</strong></td>\n                <td>M_</td>\n            </tr><tr>\n                <td><strong>Memory address</strong></td>\n                <td>24c307171f0</td>\n            </tr><tr>\n                <td><strong>Number of metabolites</strong></td>\n                <td>1737</td>\n            </tr><tr>\n                <td><strong>Number of reactions</strong></td>\n                <td>1601</td>\n            </tr><tr>\n                <td><strong>Number of genes</strong></td>\n                <td>1404</td>\n            </tr><tr>\n                <td><strong>Number of groups</strong></td>\n                <td>306</td>\n            </tr><tr>\n                <td><strong>Objective expression</strong></td>\n                <td>0.01*Ex16 - 0.01*Ex16_reverse_92c36</td>\n            </tr><tr>\n                <td><strong>Compartments</strong></td>\n                <td>unknownCompartment3, unknownCompartment6, unknownCompartment5, unknownCompartment8, unknownCompartment7, unknownCompartment2, unknownCompartment1, unknownCompartment4</td>\n            </tr>\n          </table>"
     },
     "execution_count": 45,
     "metadata": {},
     "output_type": "execute_result"
    }
   ],
   "source": [
    "original_model"
   ],
   "metadata": {
    "collapsed": false,
    "ExecuteTime": {
     "start_time": "2023-05-26T18:56:02.806152Z",
     "end_time": "2023-05-26T18:56:02.825658Z"
    }
   }
  },
  {
   "cell_type": "code",
   "execution_count": 46,
   "outputs": [],
   "source": [
    "from cobra.flux_analysis import pfba"
   ],
   "metadata": {
    "collapsed": false,
    "ExecuteTime": {
     "start_time": "2023-05-26T18:56:25.522148Z",
     "end_time": "2023-05-26T18:56:25.556069Z"
    }
   }
  },
  {
   "cell_type": "code",
   "execution_count": 47,
   "outputs": [],
   "source": [
    "solution = pfba(original_model)"
   ],
   "metadata": {
    "collapsed": false,
    "ExecuteTime": {
     "start_time": "2023-05-26T18:56:37.142838Z",
     "end_time": "2023-05-26T18:56:38.382375Z"
    }
   }
  },
  {
   "cell_type": "code",
   "execution_count": 48,
   "outputs": [
    {
     "data": {
      "text/plain": "Bc1         0.005830\nBc2         0.010560\nBc3         0.033550\nBc4         0.029150\nBc5         0.031020\n              ...   \nR06601_c    0.000000\nR06605_c    0.000000\nR04457_c    0.002464\nR03066_c    0.000000\nR03165_c    0.000000\nName: fluxes, Length: 1601, dtype: float64"
     },
     "execution_count": 48,
     "metadata": {},
     "output_type": "execute_result"
    }
   ],
   "source": [
    "solution.fluxes"
   ],
   "metadata": {
    "collapsed": false,
    "ExecuteTime": {
     "start_time": "2023-05-26T18:56:41.724273Z",
     "end_time": "2023-05-26T18:56:41.779541Z"
    }
   }
  },
  {
   "cell_type": "code",
   "execution_count": 49,
   "outputs": [
    {
     "data": {
      "text/plain": "0.034760000000071505"
     },
     "execution_count": 49,
     "metadata": {},
     "output_type": "execute_result"
    }
   ],
   "source": [
    "solution.fluxes['R03140_p']"
   ],
   "metadata": {
    "collapsed": false,
    "ExecuteTime": {
     "start_time": "2023-05-26T18:57:02.666877Z",
     "end_time": "2023-05-26T18:57:02.714680Z"
    }
   }
  },
  {
   "cell_type": "code",
   "execution_count": 50,
   "outputs": [
    {
     "data": {
      "text/plain": "2.464902000000343"
     },
     "execution_count": 50,
     "metadata": {},
     "output_type": "execute_result"
    }
   ],
   "source": [
    "solution.fluxes['R00024_p']"
   ],
   "metadata": {
    "collapsed": false,
    "ExecuteTime": {
     "start_time": "2023-05-26T18:57:11.394169Z",
     "end_time": "2023-05-26T18:57:11.457305Z"
    }
   }
  }
 ],
 "metadata": {
  "kernelspec": {
   "display_name": "Python 3",
   "language": "python",
   "name": "python3"
  },
  "language_info": {
   "codemirror_mode": {
    "name": "ipython",
    "version": 2
   },
   "file_extension": ".py",
   "mimetype": "text/x-python",
   "name": "python",
   "nbconvert_exporter": "python",
   "pygments_lexer": "ipython2",
   "version": "2.7.6"
  }
 },
 "nbformat": 4,
 "nbformat_minor": 0
}
