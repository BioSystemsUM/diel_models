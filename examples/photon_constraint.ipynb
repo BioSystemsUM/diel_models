{
 "cells": [
  {
   "cell_type": "code",
   "execution_count": 2,
   "metadata": {
    "collapsed": true,
    "ExecuteTime": {
     "start_time": "2023-05-06T12:02:20.607875Z",
     "end_time": "2023-05-06T12:02:20.625522Z"
    }
   },
   "outputs": [],
   "source": [
    "from cobra import Model\n",
    "\n",
    "class PhotonReactionRestrictor:\n",
    "\n",
    "    def __init__(self, model: Model, id_photon_reaction_night: str) -> None:\n",
    "        self.model: Model = model\n",
    "        self.id_photon_reaction_night: str = id_photon_reaction_night\n",
    "\n",
    "    def restrain(self):\n",
    "        photon_reaction_night = self.model.reactions.get_by_id(self.id_photon_reaction_night)\n",
    "        photon_reaction_night.lower_bound = 0\n",
    "        photon_reaction_night.upper_bound = 0"
   ]
  },
  {
   "cell_type": "code",
   "execution_count": 1,
   "outputs": [],
   "source": [
    "import os\n",
    "import cobra\n",
    "from tests import TEST_DIR\n",
    "\n",
    "diel_storagepool_model = os.path.join(TEST_DIR, \"data\", \"Diel_AraGEM2010_with_storage_pool.xml\")\n",
    "diel_storagepool_model_2 = cobra.io.read_sbml_model(diel_storagepool_model)"
   ],
   "metadata": {
    "collapsed": false,
    "ExecuteTime": {
     "start_time": "2023-05-06T12:01:58.265214Z",
     "end_time": "2023-05-06T12:02:05.182441Z"
    }
   }
  },
  {
   "cell_type": "code",
   "execution_count": 3,
   "outputs": [],
   "source": [
    "test = PhotonReactionRestrictor(diel_storagepool_model_2, id_photon_reaction_night = \"Ex16_Night\")"
   ],
   "metadata": {
    "collapsed": false,
    "ExecuteTime": {
     "start_time": "2023-05-06T12:03:41.656097Z",
     "end_time": "2023-05-06T12:03:41.683166Z"
    }
   }
  },
  {
   "cell_type": "code",
   "execution_count": 4,
   "outputs": [],
   "source": [
    "test.restrain()"
   ],
   "metadata": {
    "collapsed": false,
    "ExecuteTime": {
     "start_time": "2023-05-06T12:03:51.734833Z",
     "end_time": "2023-05-06T12:03:51.775347Z"
    }
   }
  },
  {
   "cell_type": "code",
   "execution_count": 5,
   "outputs": [
    {
     "data": {
      "text/plain": "<Reaction Ex16_Night at 0x25cfcb6bd60>",
      "text/html": "\n        <table>\n            <tr>\n                <td><strong>Reaction identifier</strong></td><td>Ex16_Night</td>\n            </tr><tr>\n                <td><strong>Name</strong></td><td></td>\n            </tr><tr>\n                <td><strong>Memory address</strong></td>\n                <td>0x25cfcb6bd60</td>\n            </tr><tr>\n                <td><strong>Stoichiometry</strong></td>\n                <td>\n                    <p style='text-align:right'>--> S_hv_p_Night</p>\n                    <p style='text-align:right'>--> hv_p Night</p>\n                </td>\n            </tr><tr>\n                <td><strong>GPR</strong></td><td></td>\n            </tr><tr>\n                <td><strong>Lower bound</strong></td><td>0</td>\n            </tr><tr>\n                <td><strong>Upper bound</strong></td><td>0</td>\n            </tr>\n        </table>\n        "
     },
     "execution_count": 5,
     "metadata": {},
     "output_type": "execute_result"
    }
   ],
   "source": [
    "diel_storagepool_model_2.reactions.get_by_id(\"Ex16_Night\")"
   ],
   "metadata": {
    "collapsed": false,
    "ExecuteTime": {
     "start_time": "2023-05-06T12:04:07.020814Z",
     "end_time": "2023-05-06T12:04:07.125978Z"
    }
   }
  },
  {
   "cell_type": "code",
   "execution_count": 22,
   "outputs": [],
   "source": [
    "reaction = diel_storagepool_model_2.reactions.get_by_id(\"Ex16_Night\")"
   ],
   "metadata": {
    "collapsed": false,
    "ExecuteTime": {
     "start_time": "2023-05-06T12:16:49.003993Z",
     "end_time": "2023-05-06T12:16:49.017932Z"
    }
   }
  },
  {
   "cell_type": "code",
   "execution_count": 25,
   "outputs": [
    {
     "data": {
      "text/plain": "True"
     },
     "execution_count": 25,
     "metadata": {},
     "output_type": "execute_result"
    }
   ],
   "source": [
    "reaction.lower_bound == 0"
   ],
   "metadata": {
    "collapsed": false,
    "ExecuteTime": {
     "start_time": "2023-05-06T12:17:08.075763Z",
     "end_time": "2023-05-06T12:17:08.118102Z"
    }
   }
  },
  {
   "cell_type": "code",
   "execution_count": null,
   "outputs": [],
   "source": [],
   "metadata": {
    "collapsed": false
   }
  }
 ],
 "metadata": {
  "kernelspec": {
   "display_name": "Python 3",
   "language": "python",
   "name": "python3"
  },
  "language_info": {
   "codemirror_mode": {
    "name": "ipython",
    "version": 2
   },
   "file_extension": ".py",
   "mimetype": "text/x-python",
   "name": "python",
   "nbconvert_exporter": "python",
   "pygments_lexer": "ipython2",
   "version": "2.7.6"
  }
 },
 "nbformat": 4,
 "nbformat_minor": 0
}
