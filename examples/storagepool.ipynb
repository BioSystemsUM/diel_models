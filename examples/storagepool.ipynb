{
 "cells": [
  {
   "cell_type": "code",
   "execution_count": 77,
   "outputs": [],
   "source": [
    "import copy\n",
    "import os\n",
    "import cobra\n",
    "from tests import TEST_DIR\n",
    "from diel_models.compartments_creator import CompartmentsCreator\n",
    "\n",
    "ara_gem_model = os.path.join(TEST_DIR, \"data\", \"AraGEM2010.xml\")\n",
    "non_diel_model = cobra.io.read_sbml_model(ara_gem_model)\n",
    "non_diel_model_copy = copy.deepcopy(non_diel_model)"
   ],
   "metadata": {
    "collapsed": false
   }
  },
  {
   "cell_type": "code",
   "execution_count": null,
   "outputs": [],
   "source": [
    "diel_model = CompartmentsCreator(non_diel_model_copy)\n",
    "diel_model.day_attribution()\n",
    "DM = diel_model.duplicate()"
   ],
   "metadata": {
    "collapsed": false
   }
  },
  {
   "cell_type": "code",
   "execution_count": 44,
   "outputs": [],
   "source": [
    "import cobra\n",
    "\n",
    "load_model = cobra.io.read_sbml_model(\"AraGEM2010_day_night_copy.xml\")"
   ],
   "metadata": {
    "collapsed": false,
    "ExecuteTime": {
     "start_time": "2023-04-28T16:23:13.389858Z",
     "end_time": "2023-04-28T16:23:26.004477Z"
    }
   }
  },
  {
   "cell_type": "code",
   "execution_count": 45,
   "outputs": [],
   "source": [
    "from typing import List\n",
    "from cobra import Model, Metabolite, Reaction\n",
    "\n",
    "\n",
    "class StoragePoolCreator:\n",
    "\n",
    "    def __init__(self, model: Model, metabolites: List[str]):\n",
    "        \"\"\"\n",
    "        Constructor\n",
    "\n",
    "        Parameters\n",
    "        ----------\n",
    "        model: cobra.Model\n",
    "        metabolites: List[str]\n",
    "        \"\"\"\n",
    "        self.model: Model = model\n",
    "        self.metabolites: List[str] = metabolites\n",
    "        self.new_ids: List[str] = []\n",
    "        self.met_names: List[str] = []\n",
    "\n",
    "    def sp_metabolites(self) -> None:\n",
    "        \"\"\"\n",
    "        According to the given metabolite IDs,\n",
    "        this function creates new metabolites for a new compartment: storage pool\n",
    "\n",
    "        Raises:\n",
    "            ValueError: If a metabolite ID is not present in the given model.\n",
    "        \"\"\"\n",
    "        metabolite_objs: List[Metabolite] = []\n",
    "        names: List[str] = []\n",
    "\n",
    "        for id in self.metabolites:\n",
    "            if id in self.model.metabolites:\n",
    "                new_id: str = id.replace(self.model.metabolites.get_by_id(id).compartment, \"sp\")\n",
    "                names.append(self.model.metabolites.get_by_id(id).name)\n",
    "                self.new_ids.append(new_id)\n",
    "            else:\n",
    "                raise ValueError(\"Metabolite id not present in the model that was given.\")\n",
    "        for new_id in self.new_ids:\n",
    "            metabolite = Metabolite(new_id)\n",
    "            metabolite.compartment = \"sp\"\n",
    "            metabolite_objs.append(metabolite)\n",
    "        for idx, met in enumerate(metabolite_objs):\n",
    "            met.name = names[idx]\n",
    "            if \"Day\" in met.name:\n",
    "                met.name = met.name.replace(\"Day\", \"\")\n",
    "            elif \"Night\" in met.name:\n",
    "                met.name = met.name.replace(\"Night\", \"\")\n",
    "            self.met_names.append(met.name)\n",
    "        self.model.add_metabolites(metabolite_objs)\n",
    "        self.model._compartments[\"sp\"] = \"Storage Pool\"\n",
    "\n",
    "    def sp_first_reactions(self) -> None:\n",
    "        \"\"\"\n",
    "        According to the given metabolite IDs,\n",
    "        this function creates the corresponding exchange reaction\n",
    "        of the metabolite to the storage pool.\n",
    "        \"\"\"\n",
    "        exchanges_r: List[Reaction] = []\n",
    "\n",
    "        for met_id, new_id in zip(self.metabolites, self.new_ids):\n",
    "            if \"Day\" in met_id:\n",
    "                met = self.model.metabolites.get_by_id(met_id)\n",
    "                exchange_r = Reaction(f\"{met_id}_exchange\")\n",
    "                exchange_r.add_metabolites({\n",
    "                    self.model.metabolites.get_by_id(met_id): -1.0,\n",
    "                    self.model.metabolites.get_by_id(new_id): 1.0\n",
    "                })\n",
    "                exchange_r.lower_bound = -1000.0\n",
    "                exchange_r.upper_bound = 1000.0\n",
    "                exchange_r.name = f\"{met.name} exchange\"\n",
    "                exchanges_r.append(exchange_r)\n",
    "            if \"Night\" in met_id:\n",
    "                met = self.model.metabolites.get_by_id(met_id)\n",
    "                exchange_r = Reaction(f\"{met_id}_exchange\")\n",
    "                exchange_r.add_metabolites({\n",
    "                    self.model.metabolites.get_by_id(new_id): -1.0,\n",
    "                    self.model.metabolites.get_by_id(met_id): 1.0\n",
    "                })\n",
    "                exchange_r.lower_bound = -1000.0\n",
    "                exchange_r.upper_bound = 1000.0\n",
    "                exchange_r.name = f\"{met.name} exchange\"\n",
    "                exchanges_r.append(exchange_r)\n",
    "        self.model.add_reactions(exchanges_r)\n",
    "\n",
    "    def sp_second_reactions(self) -> None:\n",
    "        \"\"\"\n",
    "        According to the given metabolite IDs,\n",
    "        this function creates the complementary reactions,\n",
    "        i.e. if it previously created the Day<->Storage Pool reaction,\n",
    "        it now creates the Storage Pool <-> Night reaction and vice versa.\n",
    "        \"\"\"\n",
    "        other_side_exchanges_r: List[Reaction] = []\n",
    "\n",
    "        for met_id, new_id in zip(self.metabolites, self.new_ids):\n",
    "            if \"Day\" in met_id:\n",
    "                met = self.model.metabolites.get_by_id(met_id)\n",
    "                other_side_exchange_r = Reaction(f\"{met_id.replace('Day', 'Night')}_exchange\")\n",
    "                other_side_exchange_r.add_metabolites({\n",
    "                    self.model.metabolites.get_by_id(new_id): -1.0,\n",
    "                    self.model.metabolites.get_by_id(met_id.replace('Day', 'Night')): 1.0\n",
    "                })\n",
    "                other_side_exchange_r.lower_bound = -1000.0\n",
    "                other_side_exchange_r.upper_bound = 1000.0\n",
    "                other_side_exchange_r.name = f\"{met.name.replace('Day', 'Night')} exchange\"\n",
    "                other_side_exchanges_r.append(other_side_exchange_r)\n",
    "            if \"Night\" in met_id:\n",
    "                met = self.model.metabolites.get_by_id(met_id)\n",
    "                other_side_exchange_r = Reaction(f\"{met_id.replace('Night', 'Day')}_exchange\")\n",
    "                other_side_exchange_r.add_metabolites({\n",
    "                    self.model.metabolites.get_by_id(met_id.replace('Night', 'Day')): -1.0,\n",
    "                    self.model.metabolites.get_by_id(new_id): 1.0\n",
    "                })\n",
    "                other_side_exchange_r.lower_bound = -1000.0\n",
    "                other_side_exchange_r.upper_bound = 1000.0\n",
    "                other_side_exchange_r.name = f\"{met.name.replace('Night', 'Day')} exchange\"\n",
    "                other_side_exchanges_r.append(other_side_exchange_r)\n",
    "\n",
    "        self.model.add_reactions(other_side_exchanges_r)"
   ],
   "metadata": {
    "collapsed": false,
    "ExecuteTime": {
     "start_time": "2023-04-28T16:23:26.010198Z",
     "end_time": "2023-04-28T16:23:26.088397Z"
    }
   }
  },
  {
   "cell_type": "code",
   "execution_count": 46,
   "outputs": [],
   "source": [
    "test = StoragePoolCreator(load_model, [\"S_Holo_45__91_carboxylase_93__c_Day\",\"S_Homoeriodictyol_32_chalcone_c_Night\", \"S_Homogentisate_c_Day\", \"S_Hordenine_c_Day\"])\n",
    "test.sp_metabolites()\n",
    "test.sp_first_reactions()\n",
    "test.sp_second_reactions()"
   ],
   "metadata": {
    "collapsed": false,
    "ExecuteTime": {
     "start_time": "2023-04-28T16:23:26.088397Z",
     "end_time": "2023-04-28T16:23:26.123209Z"
    }
   }
  },
  {
   "cell_type": "code",
   "execution_count": 47,
   "outputs": [
    {
     "data": {
      "text/plain": "[<Reaction S_Holo_45__91_carboxylase_93__c_Day_exchange at 0x23490a47d00>,\n <Reaction S_Homoeriodictyol_32_chalcone_c_Night_exchange at 0x2348c5ff880>,\n <Reaction S_Homogentisate_c_Day_exchange at 0x23486b26fa0>,\n <Reaction S_Hordenine_c_Day_exchange at 0x23491b3ef70>,\n <Reaction S_Holo_45__91_carboxylase_93__c_Night_exchange at 0x2348c604b50>,\n <Reaction S_Homoeriodictyol_32_chalcone_c_Day_exchange at 0x23491b3e6d0>,\n <Reaction S_Homogentisate_c_Night_exchange at 0x23491b3e310>,\n <Reaction S_Hordenine_c_Night_exchange at 0x23491b3e0a0>]"
     },
     "execution_count": 47,
     "metadata": {},
     "output_type": "execute_result"
    }
   ],
   "source": [
    "load_model.reactions.query(\"exchange\")"
   ],
   "metadata": {
    "collapsed": false,
    "ExecuteTime": {
     "start_time": "2023-04-28T16:23:26.135727Z",
     "end_time": "2023-04-28T16:23:26.277293Z"
    }
   }
  },
  {
   "cell_type": "code",
   "execution_count": 48,
   "outputs": [
    {
     "data": {
      "text/plain": "<Reaction S_Homogentisate_c_Night_exchange at 0x23491b3e310>",
      "text/html": "\n        <table>\n            <tr>\n                <td><strong>Reaction identifier</strong></td><td>S_Homogentisate_c_Night_exchange</td>\n            </tr><tr>\n                <td><strong>Name</strong></td><td>Homogentisate Night exchange</td>\n            </tr><tr>\n                <td><strong>Memory address</strong></td>\n                <td>0x23491b3e310</td>\n            </tr><tr>\n                <td><strong>Stoichiometry</strong></td>\n                <td>\n                    <p style='text-align:right'>S_Homogentisate_sp <=> S_Homogentisate_c_Night</p>\n                    <p style='text-align:right'>Homogentisate <=> Homogentisate Night</p>\n                </td>\n            </tr><tr>\n                <td><strong>GPR</strong></td><td></td>\n            </tr><tr>\n                <td><strong>Lower bound</strong></td><td>-1000.0</td>\n            </tr><tr>\n                <td><strong>Upper bound</strong></td><td>1000.0</td>\n            </tr>\n        </table>\n        "
     },
     "execution_count": 48,
     "metadata": {},
     "output_type": "execute_result"
    }
   ],
   "source": [
    "load_model.reactions.get_by_id(\"S_Homogentisate_c_Night_exchange\")"
   ],
   "metadata": {
    "collapsed": false,
    "ExecuteTime": {
     "start_time": "2023-04-28T16:23:26.173726Z",
     "end_time": "2023-04-28T16:23:26.289333Z"
    }
   }
  },
  {
   "cell_type": "code",
   "execution_count": 49,
   "outputs": [
    {
     "data": {
      "text/plain": "<Reaction S_Homogentisate_c_Day_exchange at 0x23486b26fa0>",
      "text/html": "\n        <table>\n            <tr>\n                <td><strong>Reaction identifier</strong></td><td>S_Homogentisate_c_Day_exchange</td>\n            </tr><tr>\n                <td><strong>Name</strong></td><td>Homogentisate Day exchange</td>\n            </tr><tr>\n                <td><strong>Memory address</strong></td>\n                <td>0x23486b26fa0</td>\n            </tr><tr>\n                <td><strong>Stoichiometry</strong></td>\n                <td>\n                    <p style='text-align:right'>S_Homogentisate_c_Day <=> S_Homogentisate_sp</p>\n                    <p style='text-align:right'>Homogentisate Day <=> Homogentisate</p>\n                </td>\n            </tr><tr>\n                <td><strong>GPR</strong></td><td></td>\n            </tr><tr>\n                <td><strong>Lower bound</strong></td><td>-1000.0</td>\n            </tr><tr>\n                <td><strong>Upper bound</strong></td><td>1000.0</td>\n            </tr>\n        </table>\n        "
     },
     "execution_count": 49,
     "metadata": {},
     "output_type": "execute_result"
    }
   ],
   "source": [
    "load_model.reactions.get_by_id(\"S_Homogentisate_c_Day_exchange\")"
   ],
   "metadata": {
    "collapsed": false,
    "ExecuteTime": {
     "start_time": "2023-04-28T16:23:26.206724Z",
     "end_time": "2023-04-28T16:23:26.289333Z"
    }
   }
  },
  {
   "cell_type": "code",
   "execution_count": 50,
   "outputs": [
    {
     "data": {
      "text/plain": "[<Metabolite S_Holo_45__91_carboxylase_93__sp at 0x23490a47be0>,\n <Metabolite S_Homoeriodictyol_32_chalcone_sp at 0x2349127baf0>,\n <Metabolite S_Homogentisate_sp at 0x2349127bac0>,\n <Metabolite S_Hordenine_sp at 0x2348c6041c0>]"
     },
     "execution_count": 50,
     "metadata": {},
     "output_type": "execute_result"
    }
   ],
   "source": [
    "load_model.metabolites.query(\"_sp\")"
   ],
   "metadata": {
    "collapsed": false,
    "ExecuteTime": {
     "start_time": "2023-04-28T16:23:26.241987Z",
     "end_time": "2023-04-28T16:23:26.289333Z"
    }
   }
  },
  {
   "cell_type": "code",
   "execution_count": 51,
   "outputs": [
    {
     "data": {
      "text/plain": "{'c_Day': 'Cytosol Day',\n 'p_Day': 'Plastid Day',\n 'm_Day': 'Mitochondrion Day',\n 'x_Day': 'Peroxisome Day',\n 'v_Day': 'Vacuole Day',\n 'biomass_Day': 'Biomass Day',\n 'acc_Day': 'Accumulation Day',\n 'ext_Day': 'External Day',\n 'c_Night': 'Cytosol Night',\n 'biomass_Night': 'Biomass Night',\n 'p_Night': 'Plastid Night',\n 'acc_Night': 'Accumulation Night',\n 'ext_Night': 'External Night',\n 'm_Night': 'Mitochondrion Night',\n 'v_Night': 'Vacuole Night',\n 'x_Night': 'Peroxisome Night',\n 'sp': 'Storage Pool'}"
     },
     "execution_count": 51,
     "metadata": {},
     "output_type": "execute_result"
    }
   ],
   "source": [
    "load_model.compartments"
   ],
   "metadata": {
    "collapsed": false,
    "ExecuteTime": {
     "start_time": "2023-04-28T16:23:26.269284Z",
     "end_time": "2023-04-28T16:23:26.289333Z"
    }
   }
  },
  {
   "cell_type": "code",
   "execution_count": null,
   "outputs": [],
   "source": [],
   "metadata": {
    "collapsed": false
   }
  }
 ],
 "metadata": {
  "kernelspec": {
   "display_name": "Python 3",
   "language": "python",
   "name": "python3"
  },
  "language_info": {
   "codemirror_mode": {
    "name": "ipython",
    "version": 2
   },
   "file_extension": ".py",
   "mimetype": "text/x-python",
   "name": "python",
   "nbconvert_exporter": "python",
   "pygments_lexer": "ipython2",
   "version": "2.7.6"
  }
 },
 "nbformat": 4,
 "nbformat_minor": 0
}
