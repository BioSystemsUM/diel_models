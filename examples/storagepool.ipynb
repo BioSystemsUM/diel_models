{
 "cells": [
  {
   "cell_type": "code",
   "execution_count": 77,
   "outputs": [],
   "source": [
    "import copy\n",
    "import os\n",
    "import cobra\n",
    "from tests import TEST_DIR\n",
    "from diel_models.compartments_creator import CompartmentsCreator\n",
    "\n",
    "ara_gem_model = os.path.join(TEST_DIR, \"data\", \"AraGEM2010.xml\")\n",
    "non_diel_model = cobra.io.read_sbml_model(ara_gem_model)\n",
    "non_diel_model_copy = copy.deepcopy(non_diel_model)"
   ],
   "metadata": {
    "collapsed": false
   }
  },
  {
   "cell_type": "code",
   "execution_count": null,
   "outputs": [],
   "source": [
    "diel_model = CompartmentsCreator(non_diel_model_copy)\n",
    "diel_model.day_attribution()\n",
    "DM = diel_model.duplicate()"
   ],
   "metadata": {
    "collapsed": false
   }
  },
  {
   "cell_type": "code",
   "execution_count": 55,
   "outputs": [],
   "source": [
    "import cobra\n",
    "\n",
    "load_model = cobra.io.read_sbml_model(\"AraGEM2010_day_night_copy.xml\")"
   ],
   "metadata": {
    "collapsed": false,
    "ExecuteTime": {
     "start_time": "2023-05-02T11:45:15.439201Z",
     "end_time": "2023-05-02T11:45:20.592777Z"
    }
   }
  },
  {
   "cell_type": "code",
   "execution_count": 56,
   "outputs": [],
   "source": [
    "from typing import List\n",
    "import cobra\n",
    "from cobra import Model, Metabolite, Reaction\n",
    "\n",
    "\n",
    "class StoragePoolCreator:\n",
    "\n",
    "    def __init__(self, model: Model, metabolites: List[str]):\n",
    "        \"\"\"\n",
    "        Constructor\n",
    "\n",
    "        Parameters\n",
    "        ----------\n",
    "        model: cobra.Model\n",
    "        metabolites: List[str]\n",
    "        \"\"\"\n",
    "        self.model: Model = model\n",
    "        self.metabolites: List[str] = metabolites\n",
    "        self.metabolite_sp_ids: List[str] = []\n",
    "        self.metabolite_names: List[str] = []\n",
    "\n",
    "    def create_storage_pool_metabolites(self) -> None:\n",
    "        \"\"\"\n",
    "        According to the given metabolite IDs,\n",
    "        this function creates new metabolites for a new compartment: storage pool\n",
    "\n",
    "        Raises:\n",
    "            ValueError: If a metabolite ID is not present in the given model.\n",
    "        \"\"\"\n",
    "        metabolite_objs: List[Metabolite] = []\n",
    "        names: List[str] = []\n",
    "\n",
    "        for identification in self.metabolites:\n",
    "            if identification in self.model.metabolites:\n",
    "                metabolite_sp_id: str = identification.replace(self.model.metabolites.get_by_id(identification).compartment, \"sp\")\n",
    "                names.append(self.model.metabolites.get_by_id(identification).name)\n",
    "                self.metabolite_sp_ids.append(metabolite_sp_id)\n",
    "            else:\n",
    "                raise ValueError(\"Metabolite id not present in the model that was given.\")\n",
    "        for metabolite_sp_id in self.metabolite_sp_ids:\n",
    "            metabolite = Metabolite(metabolite_sp_id)\n",
    "            metabolite.compartment = \"sp\"\n",
    "            metabolite_objs.append(metabolite)\n",
    "        for idx, met in enumerate(metabolite_objs):\n",
    "            met.name = names[idx]\n",
    "            if \"Day\" in met.name:\n",
    "                met.name = met.name.replace(\"Day\", \"\")\n",
    "            elif \"Night\" in met.name:\n",
    "                met.name = met.name.replace(\"Night\", \"\")\n",
    "            self.metabolite_names.append(met.name)\n",
    "        self.model.add_metabolites(metabolite_objs)\n",
    "        self.model._compartments[\"sp\"] = \"Storage Pool\"\n",
    "\n",
    "    def create_exchange_reaction(self, metabolite_id: str, metabolite_sp_id: str, direction: str) -> Reaction:\n",
    "        \"\"\"\n",
    "        It creates a Reaction object representing an exchange reaction\n",
    "        for the specified metabolite in the specified direction.\n",
    "\n",
    "        Parameters\n",
    "        ----------\n",
    "        metabolite_id\n",
    "        metabolite_sp_id\n",
    "        direction\n",
    "\n",
    "        Returns\n",
    "        -------\n",
    "        Reaction object\n",
    "        \"\"\"\n",
    "\n",
    "        met = self.model.metabolites.get_by_id(metabolite_sp_id)\n",
    "        exchange_reaction = Reaction(f\"{met.name}_{direction}_exchange\".replace(\" \", \"\"))\n",
    "        if direction == \"Day\" and \"Day\" in metabolite_id:\n",
    "            exchange_reaction.add_metabolites({\n",
    "                self.model.metabolites.get_by_id(metabolite_id): -1.0,\n",
    "                self.model.metabolites.get_by_id(metabolite_sp_id): 1.0\n",
    "            })\n",
    "        if direction == \"Day\" and \"Night\" in metabolite_id:\n",
    "            exchange_reaction.add_metabolites({\n",
    "                self.model.metabolites.get_by_id(metabolite_id.replace('Night', 'Day')): -1.0,\n",
    "                self.model.metabolites.get_by_id(metabolite_sp_id): 1.0\n",
    "            })\n",
    "        if direction == \"Night\" and \"Night\" in metabolite_id:\n",
    "            exchange_reaction.add_metabolites({\n",
    "                self.model.metabolites.get_by_id(metabolite_sp_id): -1.0,\n",
    "                self.model.metabolites.get_by_id(metabolite_id): 1.0\n",
    "            })\n",
    "        if direction == \"Night\" and \"Day\" in metabolite_id:\n",
    "            exchange_reaction.add_metabolites({\n",
    "                self.model.metabolites.get_by_id(metabolite_sp_id): -1.0,\n",
    "                self.model.metabolites.get_by_id(metabolite_id.replace('Day', 'Night')): 1.0\n",
    "            })\n",
    "        exchange_reaction.lower_bound = -1000.0\n",
    "        exchange_reaction.upper_bound = 1000.0\n",
    "        exchange_reaction.name = f\"{met.name} {direction} exchange\"\n",
    "        return exchange_reaction\n",
    "\n",
    "    def create_storage_pool_first_reactions(self) -> None:\n",
    "        \"\"\"\n",
    "        According to the given metabolite IDs,\n",
    "        this function creates the corresponding exchange reaction\n",
    "        of the metabolite to the storage pool.\n",
    "        \"\"\"\n",
    "        exchange_reactions: List[Reaction] = []\n",
    "\n",
    "        for metabolite_id, metabolite_sp_id in zip(self.metabolites, self.metabolite_sp_ids):\n",
    "            if \"Day\" in metabolite_id:\n",
    "                exchange_reactions.append(self.create_exchange_reaction(metabolite_id, metabolite_sp_id, \"Day\"))\n",
    "            if \"Night\" in metabolite_id:\n",
    "                exchange_reactions.append(self.create_exchange_reaction(metabolite_id, metabolite_sp_id, \"Night\"))\n",
    "\n",
    "        self.model.add_reactions(exchange_reactions)\n",
    "\n",
    "    def create_storage_pool_second_reactions(self) -> None:\n",
    "        \"\"\"\n",
    "        According to the given metabolite IDs,\n",
    "        this function creates the complementary reactions,\n",
    "        i.e. if it previously created the Day <-> Storage Pool reaction,\n",
    "        it now creates the Storage Pool <-> Night reaction and vice versa.\n",
    "        \"\"\"\n",
    "        other_side_exchange_reactions: List[Reaction] = []\n",
    "\n",
    "        for metabolite_id, metabolite_sp_id in zip(self.metabolites, self.metabolite_sp_ids):\n",
    "            if \"Day\" in metabolite_id:\n",
    "                other_side_exchange_reactions.append(self.create_exchange_reaction(metabolite_id, metabolite_sp_id, \"Night\"))\n",
    "            if \"Night\" in metabolite_id:\n",
    "                other_side_exchange_reactions.append(self.create_exchange_reaction(metabolite_id, metabolite_sp_id, \"Day\"))\n",
    "\n",
    "        self.model.add_reactions(other_side_exchange_reactions)"
   ],
   "metadata": {
    "collapsed": false,
    "ExecuteTime": {
     "start_time": "2023-05-02T11:45:20.602405Z",
     "end_time": "2023-05-02T11:45:20.641741Z"
    }
   }
  },
  {
   "cell_type": "code",
   "execution_count": 57,
   "outputs": [],
   "source": [
    "test = StoragePoolCreator(load_model, [\"S_Holo_45__91_carboxylase_93__c_Day\",\"S_Homoeriodictyol_32_chalcone_c_Night\", \"S_Homogentisate_c_Day\", \"S_Hordenine_c_Day\"])\n",
    "test.create_storage_pool_metabolites()\n",
    "test.create_storage_pool_first_reactions()"
   ],
   "metadata": {
    "collapsed": false,
    "ExecuteTime": {
     "start_time": "2023-05-02T11:45:20.638736Z",
     "end_time": "2023-05-02T11:45:20.688717Z"
    }
   }
  },
  {
   "cell_type": "code",
   "execution_count": 58,
   "outputs": [],
   "source": [
    "test.create_storage_pool_second_reactions()"
   ],
   "metadata": {
    "collapsed": false,
    "ExecuteTime": {
     "start_time": "2023-05-02T11:45:22.244574Z",
     "end_time": "2023-05-02T11:45:22.263143Z"
    }
   }
  },
  {
   "cell_type": "code",
   "execution_count": 59,
   "outputs": [
    {
     "data": {
      "text/plain": "[<Reaction Holo-[carboxylase]_Day_exchange at 0x24868f75100>,\n <Reaction Homoeriodictyolchalcone_Night_exchange at 0x2486d2d9700>,\n <Reaction Homogentisate_Day_exchange at 0x2486d2d9580>,\n <Reaction Hordenine_Day_exchange at 0x2486d39dd00>,\n <Reaction Holo-[carboxylase]_Night_exchange at 0x2486a1da490>,\n <Reaction Homoeriodictyolchalcone_Day_exchange at 0x2486afed220>,\n <Reaction Homogentisate_Night_exchange at 0x24861d64c10>,\n <Reaction Hordenine_Night_exchange at 0x24869d8e130>]"
     },
     "execution_count": 59,
     "metadata": {},
     "output_type": "execute_result"
    }
   ],
   "source": [
    "load_model.reactions.query(\"exchange\")"
   ],
   "metadata": {
    "collapsed": false,
    "ExecuteTime": {
     "start_time": "2023-05-02T11:45:23.493914Z",
     "end_time": "2023-05-02T11:45:23.521129Z"
    }
   }
  },
  {
   "cell_type": "code",
   "execution_count": 60,
   "outputs": [
    {
     "data": {
      "text/plain": "<Reaction Holo-[carboxylase]_Day_exchange at 0x24868f75100>",
      "text/html": "\n        <table>\n            <tr>\n                <td><strong>Reaction identifier</strong></td><td>Holo-[carboxylase]_Day_exchange</td>\n            </tr><tr>\n                <td><strong>Name</strong></td><td>Holo-[carboxylase] Day exchange</td>\n            </tr><tr>\n                <td><strong>Memory address</strong></td>\n                <td>0x24868f75100</td>\n            </tr><tr>\n                <td><strong>Stoichiometry</strong></td>\n                <td>\n                    <p style='text-align:right'>S_Holo_45__91_carboxylase_93__c_Day <=> S_Holo_45__91_carboxylase_93__sp</p>\n                    <p style='text-align:right'>Holo-[carboxylase] Day <=> Holo-[carboxylase]</p>\n                </td>\n            </tr><tr>\n                <td><strong>GPR</strong></td><td></td>\n            </tr><tr>\n                <td><strong>Lower bound</strong></td><td>-1000.0</td>\n            </tr><tr>\n                <td><strong>Upper bound</strong></td><td>1000.0</td>\n            </tr>\n        </table>\n        "
     },
     "execution_count": 60,
     "metadata": {},
     "output_type": "execute_result"
    }
   ],
   "source": [
    "load_model.reactions.get_by_id(\"Holo-[carboxylase]_Day_exchange\")"
   ],
   "metadata": {
    "collapsed": false,
    "ExecuteTime": {
     "start_time": "2023-05-02T11:45:41.594622Z",
     "end_time": "2023-05-02T11:45:41.639858Z"
    }
   }
  },
  {
   "cell_type": "code",
   "execution_count": 61,
   "outputs": [
    {
     "data": {
      "text/plain": "<Reaction Holo-[carboxylase]_Night_exchange at 0x2486a1da490>",
      "text/html": "\n        <table>\n            <tr>\n                <td><strong>Reaction identifier</strong></td><td>Holo-[carboxylase]_Night_exchange</td>\n            </tr><tr>\n                <td><strong>Name</strong></td><td>Holo-[carboxylase] Night exchange</td>\n            </tr><tr>\n                <td><strong>Memory address</strong></td>\n                <td>0x2486a1da490</td>\n            </tr><tr>\n                <td><strong>Stoichiometry</strong></td>\n                <td>\n                    <p style='text-align:right'>S_Holo_45__91_carboxylase_93__sp <=> S_Holo_45__91_carboxylase_93__c_Night</p>\n                    <p style='text-align:right'>Holo-[carboxylase] <=> Holo-[carboxylase] Night</p>\n                </td>\n            </tr><tr>\n                <td><strong>GPR</strong></td><td></td>\n            </tr><tr>\n                <td><strong>Lower bound</strong></td><td>-1000.0</td>\n            </tr><tr>\n                <td><strong>Upper bound</strong></td><td>1000.0</td>\n            </tr>\n        </table>\n        "
     },
     "execution_count": 61,
     "metadata": {},
     "output_type": "execute_result"
    }
   ],
   "source": [
    "load_model.reactions.get_by_id(\"Holo-[carboxylase]_Night_exchange\")"
   ],
   "metadata": {
    "collapsed": false,
    "ExecuteTime": {
     "start_time": "2023-05-02T11:45:51.798804Z",
     "end_time": "2023-05-02T11:45:51.819988Z"
    }
   }
  },
  {
   "cell_type": "code",
   "execution_count": 2,
   "outputs": [],
   "source": [
    "from typing import List\n",
    "from cobra import Model, Metabolite, Reaction\n",
    "\n",
    "\n",
    "class StoragePoolCreator:\n",
    "\n",
    "    def __init__(self, model: Model, metabolites: List[str]):\n",
    "        \"\"\"\n",
    "        Constructor\n",
    "\n",
    "        Parameters\n",
    "        ----------\n",
    "        model: cobra.Model\n",
    "        metabolites: List[str]\n",
    "        \"\"\"\n",
    "        self.model: Model = model\n",
    "        self.metabolites: List[str] = metabolites\n",
    "        self.new_ids: List[str] = []\n",
    "        self.met_names: List[str] = []\n",
    "\n",
    "    def sp_metabolites(self) -> None:\n",
    "        \"\"\"\n",
    "        According to the given metabolite IDs,\n",
    "        this function creates new metabolites for a new compartment: storage pool\n",
    "\n",
    "        Raises:\n",
    "            ValueError: If a metabolite ID is not present in the given model.\n",
    "        \"\"\"\n",
    "        metabolite_objs: List[Metabolite] = []\n",
    "        names: List[str] = []\n",
    "\n",
    "        for id in self.metabolites:\n",
    "            if id in self.model.metabolites:\n",
    "                new_id: str = id.replace(self.model.metabolites.get_by_id(id).compartment, \"sp\")\n",
    "                names.append(self.model.metabolites.get_by_id(id).name)\n",
    "                self.new_ids.append(new_id)\n",
    "            else:\n",
    "                raise ValueError(\"Metabolite id not present in the model that was given.\")\n",
    "        for new_id in self.new_ids:\n",
    "            metabolite = Metabolite(new_id)\n",
    "            metabolite.compartment = \"sp\"\n",
    "            metabolite_objs.append(metabolite)\n",
    "        for idx, met in enumerate(metabolite_objs):\n",
    "            met.name = names[idx]\n",
    "            if \"Day\" in met.name:\n",
    "                met.name = met.name.replace(\"Day\", \"\")\n",
    "            elif \"Night\" in met.name:\n",
    "                met.name = met.name.replace(\"Night\", \"\")\n",
    "            self.met_names.append(met.name)\n",
    "        self.model.add_metabolites(metabolite_objs)\n",
    "        self.model._compartments[\"sp\"] = \"Storage Pool\"\n",
    "\n",
    "    def sp_first_reactions(self) -> None:\n",
    "        \"\"\"\n",
    "        According to the given metabolite IDs,\n",
    "        this function creates the corresponding exchange reaction\n",
    "        of the metabolite to the storage pool.\n",
    "        \"\"\"\n",
    "        exchanges_r: List[Reaction] = []\n",
    "\n",
    "        for met_id, new_id in zip(self.metabolites, self.new_ids):\n",
    "            if \"Day\" in met_id:\n",
    "                met = self.model.metabolites.get_by_id(met_id)\n",
    "                exchange_r = Reaction(f\"{met_id}_exchange\")\n",
    "                exchange_r.add_metabolites({\n",
    "                    self.model.metabolites.get_by_id(met_id): -1.0,\n",
    "                    self.model.metabolites.get_by_id(new_id): 1.0\n",
    "                })\n",
    "                exchange_r.lower_bound = -1000.0\n",
    "                exchange_r.upper_bound = 1000.0\n",
    "                exchange_r.name = f\"{met.name} exchange\"\n",
    "                exchanges_r.append(exchange_r)\n",
    "            if \"Night\" in met_id:\n",
    "                met = self.model.metabolites.get_by_id(met_id)\n",
    "                exchange_r = Reaction(f\"{met_id}_exchange\")\n",
    "                exchange_r.add_metabolites({\n",
    "                    self.model.metabolites.get_by_id(new_id): -1.0,\n",
    "                    self.model.metabolites.get_by_id(met_id): 1.0\n",
    "                })\n",
    "                exchange_r.lower_bound = -1000.0\n",
    "                exchange_r.upper_bound = 1000.0\n",
    "                exchange_r.name = f\"{met.name} exchange\"\n",
    "                exchanges_r.append(exchange_r)\n",
    "        self.model.add_reactions(exchanges_r)\n",
    "\n",
    "    def sp_second_reactions(self) -> None:\n",
    "        \"\"\"\n",
    "        According to the given metabolite IDs,\n",
    "        this function creates the complementary reactions,\n",
    "        i.e. if it previously created the Day<->Storage Pool reaction,\n",
    "        it now creates the Storage Pool <-> Night reaction and vice versa.\n",
    "        \"\"\"\n",
    "        other_side_exchanges_r: List[Reaction] = []\n",
    "\n",
    "        for met_id, new_id in zip(self.metabolites, self.new_ids):\n",
    "            if \"Day\" in met_id:\n",
    "                met = self.model.metabolites.get_by_id(met_id)\n",
    "                other_side_exchange_r = Reaction(f\"{met_id.replace('Day', 'Night')}_exchange\")\n",
    "                other_side_exchange_r.add_metabolites({\n",
    "                    self.model.metabolites.get_by_id(new_id): -1.0,\n",
    "                    self.model.metabolites.get_by_id(met_id.replace('Day', 'Night')): 1.0\n",
    "                })\n",
    "                other_side_exchange_r.lower_bound = -1000.0\n",
    "                other_side_exchange_r.upper_bound = 1000.0\n",
    "                other_side_exchange_r.name = f\"{met.name.replace('Day', 'Night')} exchange\"\n",
    "                other_side_exchanges_r.append(other_side_exchange_r)\n",
    "            if \"Night\" in met_id:\n",
    "                met = self.model.metabolites.get_by_id(met_id)\n",
    "                other_side_exchange_r = Reaction(f\"{met_id.replace('Night', 'Day')}_exchange\")\n",
    "                other_side_exchange_r.add_metabolites({\n",
    "                    self.model.metabolites.get_by_id(met_id.replace('Night', 'Day')): -1.0,\n",
    "                    self.model.metabolites.get_by_id(new_id): 1.0\n",
    "                })\n",
    "                other_side_exchange_r.lower_bound = -1000.0\n",
    "                other_side_exchange_r.upper_bound = 1000.0\n",
    "                other_side_exchange_r.name = f\"{met.name.replace('Night', 'Day')} exchange\"\n",
    "                other_side_exchanges_r.append(other_side_exchange_r)\n",
    "\n",
    "        self.model.add_reactions(other_side_exchanges_r)"
   ],
   "metadata": {
    "collapsed": false,
    "ExecuteTime": {
     "start_time": "2023-04-30T15:09:54.221245Z",
     "end_time": "2023-04-30T15:09:54.291377Z"
    }
   }
  },
  {
   "cell_type": "code",
   "execution_count": 6,
   "outputs": [],
   "source": [
    "test = StoragePoolCreator(load_model, [\"S_Holo_45__91_carboxylase_93__c_Day\",\"S_Homoeriodictyol_32_chalcone_c_Night\", \"S_Homogentisate_c_Day\", \"S_Hordenine_c_Day\"])\n",
    "test.sp_metabolites()\n",
    "test.sp_first_reactions()\n",
    "test.sp_second_reactions()"
   ],
   "metadata": {
    "collapsed": false,
    "ExecuteTime": {
     "start_time": "2023-04-30T15:10:40.841508Z",
     "end_time": "2023-04-30T15:10:40.882857Z"
    }
   }
  },
  {
   "cell_type": "code",
   "execution_count": 7,
   "outputs": [
    {
     "data": {
      "text/plain": "<Model MODEL1507180028 at 0x19269a20f40>",
      "text/html": "\n        <table>\n            <tr>\n                <td><strong>Name</strong></td>\n                <td>MODEL1507180028</td>\n            </tr><tr>\n                <td><strong>Memory address</strong></td>\n                <td>19269a20f40</td>\n            </tr><tr>\n                <td><strong>Number of metabolites</strong></td>\n                <td>3470</td>\n            </tr><tr>\n                <td><strong>Number of reactions</strong></td>\n                <td>3210</td>\n            </tr><tr>\n                <td><strong>Number of genes</strong></td>\n                <td>1404</td>\n            </tr><tr>\n                <td><strong>Number of groups</strong></td>\n                <td>0</td>\n            </tr><tr>\n                <td><strong>Objective expression</strong></td>\n                <td>0.01*Ex16_Day - 0.01*Ex16_Day_reverse_efba9</td>\n            </tr><tr>\n                <td><strong>Compartments</strong></td>\n                <td>Cytosol Day, Plastid Day, Mitochondrion Day, Peroxisome Day, Vacuole Day, Biomass Day, Accumulation Day, External Day, Cytosol Night, Biomass Night, Plastid Night, Accumulation Night, External Night, Mitochondrion Night, Vacuole Night, Peroxisome Night, Storage Pool</td>\n            </tr>\n          </table>"
     },
     "execution_count": 7,
     "metadata": {},
     "output_type": "execute_result"
    }
   ],
   "source": [
    "load_model"
   ],
   "metadata": {
    "collapsed": false,
    "ExecuteTime": {
     "start_time": "2023-04-30T15:10:45.986217Z",
     "end_time": "2023-04-30T15:10:46.181086Z"
    }
   }
  },
  {
   "cell_type": "code",
   "execution_count": 48,
   "outputs": [
    {
     "data": {
      "text/plain": "<Reaction S_Homogentisate_c_Night_exchange at 0x23491b3e310>",
      "text/html": "\n        <table>\n            <tr>\n                <td><strong>Reaction identifier</strong></td><td>S_Homogentisate_c_Night_exchange</td>\n            </tr><tr>\n                <td><strong>Name</strong></td><td>Homogentisate Night exchange</td>\n            </tr><tr>\n                <td><strong>Memory address</strong></td>\n                <td>0x23491b3e310</td>\n            </tr><tr>\n                <td><strong>Stoichiometry</strong></td>\n                <td>\n                    <p style='text-align:right'>S_Homogentisate_sp <=> S_Homogentisate_c_Night</p>\n                    <p style='text-align:right'>Homogentisate <=> Homogentisate Night</p>\n                </td>\n            </tr><tr>\n                <td><strong>GPR</strong></td><td></td>\n            </tr><tr>\n                <td><strong>Lower bound</strong></td><td>-1000.0</td>\n            </tr><tr>\n                <td><strong>Upper bound</strong></td><td>1000.0</td>\n            </tr>\n        </table>\n        "
     },
     "execution_count": 48,
     "metadata": {},
     "output_type": "execute_result"
    }
   ],
   "source": [
    "load_model.reactions.get_by_id(\"S_Homogentisate_c_Night_exchange\")"
   ],
   "metadata": {
    "collapsed": false,
    "ExecuteTime": {
     "start_time": "2023-04-28T16:23:26.173726Z",
     "end_time": "2023-04-28T16:23:26.289333Z"
    }
   }
  },
  {
   "cell_type": "code",
   "execution_count": 49,
   "outputs": [
    {
     "data": {
      "text/plain": "<Reaction S_Homogentisate_c_Day_exchange at 0x23486b26fa0>",
      "text/html": "\n        <table>\n            <tr>\n                <td><strong>Reaction identifier</strong></td><td>S_Homogentisate_c_Day_exchange</td>\n            </tr><tr>\n                <td><strong>Name</strong></td><td>Homogentisate Day exchange</td>\n            </tr><tr>\n                <td><strong>Memory address</strong></td>\n                <td>0x23486b26fa0</td>\n            </tr><tr>\n                <td><strong>Stoichiometry</strong></td>\n                <td>\n                    <p style='text-align:right'>S_Homogentisate_c_Day <=> S_Homogentisate_sp</p>\n                    <p style='text-align:right'>Homogentisate Day <=> Homogentisate</p>\n                </td>\n            </tr><tr>\n                <td><strong>GPR</strong></td><td></td>\n            </tr><tr>\n                <td><strong>Lower bound</strong></td><td>-1000.0</td>\n            </tr><tr>\n                <td><strong>Upper bound</strong></td><td>1000.0</td>\n            </tr>\n        </table>\n        "
     },
     "execution_count": 49,
     "metadata": {},
     "output_type": "execute_result"
    }
   ],
   "source": [
    "load_model.reactions.get_by_id(\"S_Homogentisate_c_Day_exchange\")"
   ],
   "metadata": {
    "collapsed": false,
    "ExecuteTime": {
     "start_time": "2023-04-28T16:23:26.206724Z",
     "end_time": "2023-04-28T16:23:26.289333Z"
    }
   }
  },
  {
   "cell_type": "code",
   "execution_count": 50,
   "outputs": [
    {
     "data": {
      "text/plain": "[<Metabolite S_Holo_45__91_carboxylase_93__sp at 0x23490a47be0>,\n <Metabolite S_Homoeriodictyol_32_chalcone_sp at 0x2349127baf0>,\n <Metabolite S_Homogentisate_sp at 0x2349127bac0>,\n <Metabolite S_Hordenine_sp at 0x2348c6041c0>]"
     },
     "execution_count": 50,
     "metadata": {},
     "output_type": "execute_result"
    }
   ],
   "source": [
    "load_model.metabolites.query(\"_sp\")"
   ],
   "metadata": {
    "collapsed": false,
    "ExecuteTime": {
     "start_time": "2023-04-28T16:23:26.241987Z",
     "end_time": "2023-04-28T16:23:26.289333Z"
    }
   }
  },
  {
   "cell_type": "code",
   "execution_count": 51,
   "outputs": [
    {
     "data": {
      "text/plain": "{'c_Day': 'Cytosol Day',\n 'p_Day': 'Plastid Day',\n 'm_Day': 'Mitochondrion Day',\n 'x_Day': 'Peroxisome Day',\n 'v_Day': 'Vacuole Day',\n 'biomass_Day': 'Biomass Day',\n 'acc_Day': 'Accumulation Day',\n 'ext_Day': 'External Day',\n 'c_Night': 'Cytosol Night',\n 'biomass_Night': 'Biomass Night',\n 'p_Night': 'Plastid Night',\n 'acc_Night': 'Accumulation Night',\n 'ext_Night': 'External Night',\n 'm_Night': 'Mitochondrion Night',\n 'v_Night': 'Vacuole Night',\n 'x_Night': 'Peroxisome Night',\n 'sp': 'Storage Pool'}"
     },
     "execution_count": 51,
     "metadata": {},
     "output_type": "execute_result"
    }
   ],
   "source": [
    "load_model.compartments"
   ],
   "metadata": {
    "collapsed": false,
    "ExecuteTime": {
     "start_time": "2023-04-28T16:23:26.269284Z",
     "end_time": "2023-04-28T16:23:26.289333Z"
    }
   }
  }
 ],
 "metadata": {
  "kernelspec": {
   "display_name": "Python 3",
   "language": "python",
   "name": "python3"
  },
  "language_info": {
   "codemirror_mode": {
    "name": "ipython",
    "version": 2
   },
   "file_extension": ".py",
   "mimetype": "text/x-python",
   "name": "python",
   "nbconvert_exporter": "python",
   "pygments_lexer": "ipython2",
   "version": "2.7.6"
  }
 },
 "nbformat": 4,
 "nbformat_minor": 0
}
