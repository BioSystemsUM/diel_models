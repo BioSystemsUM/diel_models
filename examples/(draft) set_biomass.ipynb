{
 "cells": [
  {
   "cell_type": "code",
   "execution_count": 10,
   "outputs": [],
   "source": [
    "import cobra\n",
    "import os\n",
    "from tests import TEST_DIR\n",
    "import copy\n",
    "\n",
    "diel_storagepool_model = os.path.join(TEST_DIR, \"data\", \"Diel_AraGEM2010_with_storage_pool.xml\")\n",
    "diel_storagepool_model_2 = cobra.io.read_sbml_model(diel_storagepool_model)\n",
    "diel_storagepool_model_copy = copy.deepcopy(diel_storagepool_model_2)"
   ],
   "metadata": {
    "collapsed": false,
    "ExecuteTime": {
     "start_time": "2023-05-08T10:42:02.310524Z",
     "end_time": "2023-05-08T10:42:06.298225Z"
    }
   }
  },
  {
   "cell_type": "code",
   "execution_count": 36,
   "outputs": [
    {
     "name": "stdout",
     "output_type": "stream",
     "text": [
      "frozenset({<Reaction Bc1_Night at 0x1887da2d0a0>, <Reaction BIO_L_Night at 0x1887da69040>})\n",
      "frozenset({<Reaction BIO_L_Night at 0x1887da69040>, <Reaction Bc2_Night at 0x1887da2d250>})\n",
      "frozenset({<Reaction BIO_L_Night at 0x1887da69040>, <Reaction Bc3_Night at 0x1887da2d3d0>})\n",
      "frozenset({<Reaction Bc4_Night at 0x1887da2d4c0>, <Reaction BIO_L_Night at 0x1887da69040>})\n",
      "frozenset({<Reaction Bc5_Night at 0x1887da2d5b0>, <Reaction BIO_L_Night at 0x1887da69040>})\n",
      "frozenset({<Reaction Bc6_Night at 0x1887da2d6a0>, <Reaction BIO_L_Night at 0x1887da69040>})\n",
      "frozenset({<Reaction Bc7_Night at 0x1887da2d8b0>, <Reaction BIO_L_Night at 0x1887da69040>})\n",
      "frozenset({<Reaction BIO_L_Night at 0x1887da69040>, <Reaction Bc8_Night at 0x1887da2d9d0>})\n",
      "frozenset({<Reaction BIO_L_Night at 0x1887da69040>, <Reaction Bc9_Night at 0x1887da2daf0>})\n",
      "frozenset({<Reaction Bc10_Night at 0x1887da2dc10>, <Reaction BIO_L_Night at 0x1887da69040>})\n",
      "frozenset({<Reaction Bc11_Night at 0x1887da2dd30>, <Reaction BIO_L_Night at 0x1887da69040>})\n",
      "frozenset({<Reaction BIO_L_Night at 0x1887da69040>, <Reaction Bc12_Night at 0x1887da2de50>})\n",
      "frozenset({<Reaction BIO_L_Night at 0x1887da69040>, <Reaction Bc13_Night at 0x1887da2df70>})\n",
      "frozenset({<Reaction Bc14_Night at 0x1887da2deb0>, <Reaction BIO_L_Night at 0x1887da69040>})\n",
      "frozenset({<Reaction BIO_L_Night at 0x1887da69040>, <Reaction Bc15_Night at 0x1887da3e1f0>})\n",
      "frozenset({<Reaction Bc16_Night at 0x1887da3e310>, <Reaction BIO_L_Night at 0x1887da69040>})\n",
      "frozenset({<Reaction Bc17_Night at 0x1887da3e430>, <Reaction BIO_L_Night at 0x1887da69040>})\n",
      "frozenset({<Reaction Bc18_Night at 0x1887da3e550>})\n",
      "frozenset({<Reaction BIO_L_Night at 0x1887da69040>, <Reaction Bc19_Night at 0x1887da3e670>})\n",
      "frozenset({<Reaction Bc20_Night at 0x1887da3e790>, <Reaction BIO_L_Night at 0x1887da69040>})\n",
      "frozenset({<Reaction Bc21_Night at 0x1887da3e8b0>})\n",
      "frozenset({<Reaction BIO_L_Night at 0x1887da69040>, <Reaction Bc22_Night at 0x1887da3e9d0>})\n",
      "frozenset({<Reaction BIO_L_Night at 0x1887da69040>, <Reaction Bc23_Night at 0x1887da3eaf0>})\n",
      "frozenset({<Reaction Bc24_Night at 0x1887da3ec10>, <Reaction BIO_L_Night at 0x1887da69040>})\n",
      "frozenset({<Reaction Bc25_Night at 0x1887da3ed30>, <Reaction BIO_L_Night at 0x1887da69040>})\n",
      "frozenset({<Reaction BIO_L_Night at 0x1887da69040>, <Reaction Bc26_Night at 0x1887da3ecd0>})\n",
      "frozenset({<Reaction Bc27_Night at 0x1887da3ee20>, <Reaction BIO_L_Night at 0x1887da69040>})\n",
      "frozenset({<Reaction Bc28_Night at 0x1887da3ee80>, <Reaction BIO_L_Night at 0x1887da69040>})\n",
      "frozenset({<Reaction BIO_L_Night at 0x1887da69040>, <Reaction Bc29_Night at 0x1887da52160>})\n",
      "frozenset({<Reaction Bc30_Night at 0x1887da52130>, <Reaction BIO_L_Night at 0x1887da69040>})\n",
      "frozenset({<Reaction Bc31_Night at 0x1887da52220>, <Reaction BIO_L_Night at 0x1887da69040>})\n",
      "frozenset({<Reaction Bc32_Night at 0x1887da52430>, <Reaction BIO_L_Night at 0x1887da69040>})\n",
      "frozenset({<Reaction BIO_L_Night at 0x1887da69040>, <Reaction Bc33_Night at 0x1887da523d0>})\n",
      "frozenset({<Reaction Bc34_Night at 0x1887da52520>, <Reaction BIO_L_Night at 0x1887da69040>})\n",
      "frozenset({<Reaction Bc35_Night at 0x1887da52610>, <Reaction BIO_L_Night at 0x1887da69040>})\n",
      "frozenset({<Reaction Bc36_Night at 0x1887da52700>, <Reaction BIO_L_Night at 0x1887da69040>})\n",
      "frozenset({<Reaction BIO_L_Night at 0x1887da69040>, <Reaction Bc37_Night at 0x1887da527f0>})\n",
      "frozenset({<Reaction BIO_L_Night at 0x1887da69040>, <Reaction Bc38_Night at 0x1887da528e0>})\n"
     ]
    }
   ],
   "source": [
    "for m in diel_storagepool_model_copy.metabolites:\n",
    "    if m.compartment == \"biomass_Night\":\n",
    "        print(m.reactions)"
   ],
   "metadata": {
    "collapsed": false,
    "ExecuteTime": {
     "start_time": "2023-05-07T19:11:31.756950Z",
     "end_time": "2023-05-07T19:11:31.767615Z"
    }
   }
  },
  {
   "cell_type": "code",
   "execution_count": 42,
   "outputs": [],
   "source": [
    "reaction = diel_storagepool_model_copy.reactions.get_by_id(\"BIO_L_Night\")"
   ],
   "metadata": {
    "collapsed": false,
    "ExecuteTime": {
     "start_time": "2023-05-07T19:28:31.396469Z",
     "end_time": "2023-05-07T19:28:31.422476Z"
    }
   }
  },
  {
   "cell_type": "code",
   "execution_count": 52,
   "outputs": [
    {
     "name": "stdout",
     "output_type": "stream",
     "text": [
      "30.0\n",
      "30.0\n"
     ]
    }
   ],
   "source": [
    "for m in reaction.products:\n",
    "    print(reaction.get_coefficient(m))"
   ],
   "metadata": {
    "collapsed": false,
    "ExecuteTime": {
     "start_time": "2023-05-07T19:30:46.969958Z",
     "end_time": "2023-05-07T19:30:46.980468Z"
    }
   }
  },
  {
   "cell_type": "code",
   "execution_count": 54,
   "outputs": [
    {
     "name": "stdout",
     "output_type": "stream",
     "text": [
      "37 39 2\n"
     ]
    }
   ],
   "source": [
    "print(len(reaction.reactants), len(reaction.metabolites), len(reaction.products))"
   ],
   "metadata": {
    "collapsed": false,
    "ExecuteTime": {
     "start_time": "2023-05-07T19:34:05.336313Z",
     "end_time": "2023-05-07T19:34:05.352856Z"
    }
   }
  },
  {
   "cell_type": "code",
   "execution_count": 6,
   "outputs": [
    {
     "name": "stdout",
     "output_type": "stream",
     "text": [
      "frozenset({<Reaction R06286_c_Day at 0x1887d819130>})\n",
      "frozenset({<Reaction R06286_c_Day at 0x1887d819130>, <Reaction R06267_c_Day at 0x1887d8197c0>})\n",
      "frozenset({<Reaction R03845_c_Day at 0x1887d588fd0>})\n",
      "frozenset({<Reaction R03845_c_Night at 0x1887dd17400>})\n",
      "frozenset({<Reaction R06286_c_Night at 0x1887d6fc940>, <Reaction R06267_c_Night at 0x1887d6fc6d0>})\n",
      "frozenset({<Reaction R06286_c_Night at 0x1887d6fc940>})\n"
     ]
    }
   ],
   "source": [
    "for m in diel_storagepool_model_copy.metabolites.query(\"chlorophyl\"):\n",
    "    print(m.reactions)"
   ],
   "metadata": {
    "collapsed": false,
    "ExecuteTime": {
     "start_time": "2023-05-07T17:41:39.991551Z",
     "end_time": "2023-05-07T17:41:40.013208Z"
    }
   }
  },
  {
   "cell_type": "code",
   "execution_count": 11,
   "outputs": [
    {
     "name": "stdout",
     "output_type": "stream",
     "text": [
      "frozenset({<Reaction R07856_c_Day at 0x1887d9e9ac0>})\n",
      "frozenset({<Reaction R06960_c_Day at 0x1887d112b80>, <Reaction R06961_c_Day at 0x1887d08cfa0>})\n",
      "frozenset({<Reaction R04801_c_Day at 0x1887d5eb610>, <Reaction R07856_c_Day at 0x1887d9e9ac0>, <Reaction R04803_c_Day at 0x1887d5f2f70>})\n",
      "frozenset({<Reaction R07856_c_Night at 0x1887e12d610>, <Reaction R04801_c_Night at 0x1887d6570a0>, <Reaction R04803_c_Night at 0x1887d657160>})\n",
      "frozenset({<Reaction R06960_c_Night at 0x1887d737e80>, <Reaction R06961_c_Night at 0x1887d74b040>})\n",
      "frozenset({<Reaction R07856_c_Night at 0x1887e12d610>})\n"
     ]
    }
   ],
   "source": [
    "for m in diel_storagepool_model_copy.metabolites.query(\"carotene\"):\n",
    "    print(m.reactions)"
   ],
   "metadata": {
    "collapsed": false,
    "ExecuteTime": {
     "start_time": "2023-05-07T17:50:16.873214Z",
     "end_time": "2023-05-07T17:50:16.920781Z"
    }
   }
  },
  {
   "cell_type": "code",
   "execution_count": 1,
   "outputs": [],
   "source": [
    "from cobra import Model, Reaction\n",
    "from typing import List\n",
    "\n",
    "class BiomassAdjuster:\n",
    "\n",
    "    def __init__(self, model: Model, id_biomass_reaction_day: str, id_biomass_reaction_night: str, photosynthesis_reactions_at_night: List[str]) -> None:\n",
    "\n",
    "        self.model: Model = model\n",
    "        self.id_biomass_reaction_day: str = id_biomass_reaction_day\n",
    "        self.id_biomass_reaction_night: str = id_biomass_reaction_night\n",
    "        self.photosynthesis_reactions_at_night: List[str] = photosynthesis_reactions_at_night\n",
    "\n",
    "    def reset_boundaries(self) -> None:\n",
    "\n",
    "        for photosynthesis_reaction in self.photosynthesis_reactions_at_night:\n",
    "            self.model.reactions.get_by_id(photosynthesis_reaction).lower_bound = 0\n",
    "            self.model.reactions.get_by_id(photosynthesis_reaction).upper_bound = 0\n",
    "\n",
    "    def total_biomass_reaction(self) -> None:\n",
    "\n",
    "        biomass_reaction_day = self.model.reactions.get_by_id(self.id_biomass_reaction_day)\n",
    "        biomass_reaction_night = self.model.reactions.get_by_id(self.id_biomass_reaction_night)\n",
    "\n",
    "        biomass_reaction_total = Reaction(id = \"Biomass_Total\",\n",
    "                                          name = \"Total Biomass Reaction\",\n",
    "                                          subsystem = '',\n",
    "                                          lower_bound = 0,\n",
    "                                          upper_bound = 1000)\n",
    "\n",
    "        for reaction in [biomass_reaction_day, biomass_reaction_night]:\n",
    "            for metabolite in reaction.metabolites:\n",
    "                coefficient = reaction.get_coefficient(metabolite.id)\n",
    "                biomass_reaction_total.add_metabolites({metabolite: coefficient})\n",
    "\n",
    "        self.model.add_reactions([biomass_reaction_total])\n",
    "        self.model.objective = biomass_reaction_total\n",
    "\n",
    "        return biomass_reaction_total"
   ],
   "metadata": {
    "collapsed": false,
    "ExecuteTime": {
     "start_time": "2023-05-08T10:38:44.803665Z",
     "end_time": "2023-05-08T10:38:50.146287Z"
    }
   }
  },
  {
   "cell_type": "code",
   "execution_count": 3,
   "outputs": [],
   "source": [
    "import os\n",
    "import cobra\n",
    "from tests import TEST_DIR\n",
    "\n",
    "diel_model = os.path.join(TEST_DIR, \"data\", \"AraGEM_day_night.xml\")\n",
    "DM = cobra.io.read_sbml_model(diel_model)\n",
    "\n",
    "test = BiomassAdjuster(DM, \"BIO_L_Day\", \"BIO_L_Night\", [\"R03845_c_Night\", \"R07856_c_Night\"])"
   ],
   "metadata": {
    "collapsed": false,
    "ExecuteTime": {
     "start_time": "2023-05-08T10:39:12.652556Z",
     "end_time": "2023-05-08T10:39:17.432382Z"
    }
   }
  },
  {
   "cell_type": "code",
   "execution_count": 4,
   "outputs": [],
   "source": [
    "test.reset_boundaries()"
   ],
   "metadata": {
    "collapsed": false,
    "ExecuteTime": {
     "start_time": "2023-05-08T10:39:17.428111Z",
     "end_time": "2023-05-08T10:39:17.441201Z"
    }
   }
  },
  {
   "cell_type": "code",
   "execution_count": 5,
   "outputs": [
    {
     "data": {
      "text/plain": "<Reaction Biomass_Total at 0x293439cb7c0>",
      "text/html": "\n        <table>\n            <tr>\n                <td><strong>Reaction identifier</strong></td><td>Biomass_Total</td>\n            </tr><tr>\n                <td><strong>Name</strong></td><td>Total Biomass Reaction</td>\n            </tr><tr>\n                <td><strong>Memory address</strong></td>\n                <td>0x293439cb7c0</td>\n            </tr><tr>\n                <td><strong>Stoichiometry</strong></td>\n                <td>\n                    <p style='text-align:right'>0.04 S_4_45_Coumaryl_32_alcohol_biomass_Day + 0.04 S_4_45_Coumaryl_32_alcohol_biomass_Night + 0.0029 S_ATP_biomass_Day + 0.0029 S_ATP_biomass_Night + 30.0 S_ATP_c_Day + 30.0 S_ATP_c_Night + 0.0033...</p>\n                    <p style='text-align:right'>0.04 4-Coumaryl alcohol_biomass Day + 0.04 4-Coumaryl alcohol_biomass Night + 0.0029 ATP_biomass Day + 0.0029 ATP_biomass Night + 30.0 ATP_c Day + 30.0 ATP_c Night + 0.0033 CTP_biomass Day + 0.0033...</p>\n                </td>\n            </tr><tr>\n                <td><strong>GPR</strong></td><td></td>\n            </tr><tr>\n                <td><strong>Lower bound</strong></td><td>0</td>\n            </tr><tr>\n                <td><strong>Upper bound</strong></td><td>1000</td>\n            </tr>\n        </table>\n        "
     },
     "execution_count": 5,
     "metadata": {},
     "output_type": "execute_result"
    }
   ],
   "source": [
    "test.total_biomass_reaction()"
   ],
   "metadata": {
    "collapsed": false,
    "ExecuteTime": {
     "start_time": "2023-05-08T10:39:17.442238Z",
     "end_time": "2023-05-08T10:39:17.610197Z"
    }
   }
  },
  {
   "cell_type": "code",
   "execution_count": 11,
   "outputs": [
    {
     "data": {
      "text/plain": "<Model MODEL1507180028 at 0x293190a81f0>",
      "text/html": "\n        <table>\n            <tr>\n                <td><strong>Name</strong></td>\n                <td>MODEL1507180028</td>\n            </tr><tr>\n                <td><strong>Memory address</strong></td>\n                <td>293190a81f0</td>\n            </tr><tr>\n                <td><strong>Number of metabolites</strong></td>\n                <td>3466</td>\n            </tr><tr>\n                <td><strong>Number of reactions</strong></td>\n                <td>3202</td>\n            </tr><tr>\n                <td><strong>Number of genes</strong></td>\n                <td>1404</td>\n            </tr><tr>\n                <td><strong>Number of groups</strong></td>\n                <td>0</td>\n            </tr><tr>\n                <td><strong>Objective expression</strong></td>\n                <td>0.01*Ex16_Day - 0.01*Ex16_Day_reverse_efba9</td>\n            </tr><tr>\n                <td><strong>Compartments</strong></td>\n                <td>Cytosol Day, Plastid Day, Mitochondrion Day, Peroxisome Day, Vacuole Day, Biomass Day, Accumulation Day, External Day, Cytosol Night, Biomass Night, Plastid Night, Accumulation Night, External Night, Mitochondrion Night, Vacuole Night, Peroxisome Night</td>\n            </tr>\n          </table>"
     },
     "execution_count": 11,
     "metadata": {},
     "output_type": "execute_result"
    }
   ],
   "source": [
    "diel_storagepool_model_2"
   ],
   "metadata": {
    "collapsed": false,
    "ExecuteTime": {
     "start_time": "2023-05-08T10:42:12.891320Z",
     "end_time": "2023-05-08T10:42:12.915596Z"
    }
   }
  },
  {
   "cell_type": "code",
   "execution_count": 91,
   "outputs": [
    {
     "name": "stdout",
     "output_type": "stream",
     "text": [
      "74 4 78\n",
      "37 2 39\n"
     ]
    }
   ],
   "source": [
    "biomass_after = DM.reactions.get_by_id(\"Biomass_Total\")\n",
    "biomass_before = diel_storagepool_model_copy.reactions.get_by_id(\"BIO_L_Night\")\n",
    "\n",
    "print(len(biomass_after.reactants), len(biomass_after.products), len(biomass_after.metabolites))\n",
    "print(len(biomass_before.reactants), len(biomass_before.products), len(biomass_before.metabolites))"
   ],
   "metadata": {
    "collapsed": false,
    "ExecuteTime": {
     "start_time": "2023-05-07T20:02:29.529837Z",
     "end_time": "2023-05-07T20:02:29.574211Z"
    }
   }
  },
  {
   "cell_type": "code",
   "execution_count": 13,
   "outputs": [
    {
     "data": {
      "text/plain": "'1.0*Biomass_Total - 1.0*Biomass_Total_reverse_a0aa3'"
     },
     "execution_count": 13,
     "metadata": {},
     "output_type": "execute_result"
    }
   ],
   "source": [
    "str(DM.objective.expression)"
   ],
   "metadata": {
    "collapsed": false,
    "ExecuteTime": {
     "start_time": "2023-05-08T11:21:50.197924Z",
     "end_time": "2023-05-08T11:21:50.284877Z"
    }
   }
  },
  {
   "cell_type": "code",
   "execution_count": null,
   "outputs": [],
   "source": [],
   "metadata": {
    "collapsed": false
   }
  }
 ],
 "metadata": {
  "kernelspec": {
   "display_name": "Python 3",
   "language": "python",
   "name": "python3"
  },
  "language_info": {
   "codemirror_mode": {
    "name": "ipython",
    "version": 2
   },
   "file_extension": ".py",
   "mimetype": "text/x-python",
   "name": "python",
   "nbconvert_exporter": "python",
   "pygments_lexer": "ipython2",
   "version": "2.7.6"
  }
 },
 "nbformat": 4,
 "nbformat_minor": 0
}
