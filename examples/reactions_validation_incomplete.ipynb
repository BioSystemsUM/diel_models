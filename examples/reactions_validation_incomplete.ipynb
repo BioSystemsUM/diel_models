{
 "cells": [
  {
   "cell_type": "code",
   "execution_count": 1,
   "outputs": [],
   "source": [
    "from diel_models.pipeline import Pipeline, PhotonRestrictor, Compartments, Biomass, NitrateUptake, StoragePool\n",
    "import os\n",
    "import cobra\n",
    "from tests import TEST_DIR\n",
    "\n",
    "aragem_model_path = os.path.join(TEST_DIR, 'data', 'AraGEM2010.xml')\n",
    "\n",
    "modelo = cobra.io.read_sbml_model(aragem_model_path)\n",
    "\n",
    "Steps = [\n",
    "    Compartments(modelo),\n",
    "    StoragePool(modelo, metabolites = [\"S_Sucrose_c_Day\", \"S_Sulfate_c_Day\", \"S_Nitrate_c_Day\", \"S_L_45_Histidine_c_Day\", \"S_L_45_Isoleucine_c_Day\", \"S_L_45_Leucine_c_Day\", \"S_L_45_Lysine_c_Day\", \"S_L_45_Methionine_c_Day\", \"S_L_45_Phenylalanine_c_Day\", \"S_L_45_Threonine_c_Day\", \"S_L_45_Tryptophan_c_Day\", \"S_L_45_Valine_c_Day\", \"S_L_45_Arginine_c_Day\", \"S_L_45_Cysteine_c_Day\", \"S_L_45_Glutamine_c_Day\", \"S_L_45_Glutamate_c_Day\", \"S_Glycine_c_Day\", \"S_L_45_Proline_c_Day\", \"S_L_45_Tyrosine_c_Day\", \"S_L_45_Alanine_c_Day\", \"S_L_45_Asparagine_c_Day\", \"S_L_45_Serine_c_Day\", \"S_Orthophosphate_c_Day\", \"S_Starch_p_Day\", \"S_D_45_Fructose_c_Day\", \"S__40_S_41__45_Malate_c_Day\", \"S_Fumarate_c_Day\", \"S_Citrate_c_Day\"]),\n",
    "    PhotonRestrictor(modelo, \"Ex16_Night\"),\n",
    "    Biomass(modelo, \"BIO_L_Day\", \"BIO_L_Night\", [\"R03845_c_Night\", \"R06267_c_Night\", \"R06286_c_Night\", \"R04801_c_Night\", \"R07856_c_Night\", \"R04803_c_Night\", \"R06961_c_Night\", \"R06960_c_Night\", \"V0004_Night\", \"R06284_c_Night\", \"R05618_c_Night\", \"R03824_c_Night\", \"R05341_c_Night\", \"R06965_c_Night\", \"R07558_c_Night\", \"R04798_c_Night\", \"R04787_c_Night\", \"R07840_c_Night\", \"R06963_c_Night\", \"R06962_c_Night\", \"R07850_c_Night\", \"R07530_c_Night\"]),\n",
    "    NitrateUptake(modelo, \"Ex4_Day\", \"Ex4_Night\")\n",
    "]\n",
    "\n",
    "pipeline = Pipeline(modelo, Steps)\n",
    "pipeline.run()"
   ],
   "metadata": {
    "collapsed": false,
    "ExecuteTime": {
     "start_time": "2023-05-21T19:29:02.961972Z",
     "end_time": "2023-05-21T19:29:38.199537Z"
    }
   }
  },
  {
   "cell_type": "code",
   "execution_count": 2,
   "outputs": [],
   "source": [
    "modelo.reactions.get_by_id(\"Biomass_Total\").upper_bound = 0.11\n",
    "modelo.reactions.get_by_id(\"Biomass_Total\").lower_bound = 0.11\n",
    "modelo.objective = \"Ex16_Day\"\n",
    "modelo.objective_direction = \"max\""
   ],
   "metadata": {
    "collapsed": false,
    "ExecuteTime": {
     "start_time": "2023-05-21T19:29:38.197599Z",
     "end_time": "2023-05-21T19:29:38.206591Z"
    }
   }
  },
  {
   "cell_type": "code",
   "execution_count": 4,
   "outputs": [
    {
     "name": "stdout",
     "output_type": "stream",
     "text": [
      "9.31\n"
     ]
    }
   ],
   "source": [
    "from cobra.flux_analysis import pfba\n",
    "\n",
    "solution = pfba(modelo)\n",
    "R02732 = solution.fluxes[\"R02732_c_Day\"]\n",
    "R01070N = solution.fluxes[\"R01070N_c_Day\"]\n",
    "R00762 = solution.fluxes[\"R00762_c_Day\"]\n",
    "chex2 = round(((R02732 - R01070N) + R00762) / 2, 2)\n",
    "print(chex2)"
   ],
   "metadata": {
    "collapsed": false,
    "ExecuteTime": {
     "start_time": "2023-05-21T19:29:51.114909Z",
     "end_time": "2023-05-21T19:29:55.517054Z"
    }
   }
  },
  {
   "cell_type": "code",
   "execution_count": 6,
   "outputs": [
    {
     "data": {
      "text/plain": "-39.42"
     },
     "execution_count": 6,
     "metadata": {},
     "output_type": "execute_result"
    }
   ],
   "source": [
    "R04779 = solution.fluxes[\"R04779_p_Day\"]\n",
    "R00762 = solution.fluxes[\"R00762_p_Day\"]\n",
    "R01070N = solution.fluxes[\"R01070N_p_Day\"]\n",
    "\n",
    "phex1 = round(((R04779 - R00762) + R01070N) / 2, 2)\n",
    "phex1"
   ],
   "metadata": {
    "collapsed": false,
    "ExecuteTime": {
     "start_time": "2023-05-21T19:30:02.581018Z",
     "end_time": "2023-05-21T19:30:02.608656Z"
    }
   }
  },
  {
   "cell_type": "code",
   "execution_count": null,
   "outputs": [],
   "source": [],
   "metadata": {
    "collapsed": false
   }
  }
 ],
 "metadata": {
  "kernelspec": {
   "display_name": "Python 3",
   "language": "python",
   "name": "python3"
  },
  "language_info": {
   "codemirror_mode": {
    "name": "ipython",
    "version": 2
   },
   "file_extension": ".py",
   "mimetype": "text/x-python",
   "name": "python",
   "nbconvert_exporter": "python",
   "pygments_lexer": "ipython2",
   "version": "2.7.6"
  }
 },
 "nbformat": 4,
 "nbformat_minor": 0
}
