{
 "cells": [
  {
   "cell_type": "code",
   "execution_count": 42,
   "outputs": [],
   "source": [
    "from diel_models.pipeline import Pipeline, Compartments, StoragePool, PhotonRestrictor, Biomass\n",
    "import cobra.io\n",
    "import os\n",
    "from tests import TEST_DIR\n",
    "\n",
    "aragem_model_path = os.path.join(TEST_DIR, 'data', 'AraGEM2010.xml')\n",
    "\n",
    "modelo = cobra.io.read_sbml_model(aragem_model_path)\n",
    "\n",
    "Steps = [\n",
    "    Compartments(modelo),\n",
    "    StoragePool(modelo, metabolites = [\"S_Sucrose_c_Day\", \"S_Sulfate_c_Day\", \"S_Nitrate_c_Day\", \"S_L_45_Histidine_c_Day\", \"S_L_45_Isoleucine_c_Day\", \"S_L_45_Leucine_c_Day\", \"S_L_45_Lysine_c_Day\", \"S_L_45_Methionine_c_Day\", \"S_L_45_Phenylalanine_c_Day\", \"S_L_45_Threonine_c_Day\", \"S_L_45_Tryptophan_c_Day\", \"S_L_45_Valine_c_Day\", \"S_L_45_Arginine_c_Day\", \"S_L_45_Cysteine_c_Day\", \"S_L_45_Glutamine_c_Day\", \"S_L_45_Glutamate_c_Day\", \"S_Glycine_c_Day\", \"S_L_45_Proline_c_Day\", \"S_L_45_Tyrosine_c_Day\", \"S_L_45_Alanine_c_Day\", \"S_L_45_Asparagine_c_Day\", \"S_L_45_Serine_c_Day\", \"S_Orthophosphate_c_Day\", \"S_Starch_p_Day\", \"S_D_45_Fructose_c_Day\", \"S__40_S_41__45_Malate_c_Day\", \"S_Fumarate_c_Day\", \"S_Citrate_c_Day\"]),\n",
    "    PhotonRestrictor(modelo, \"Ex16_Night\"),\n",
    "    Biomass(modelo, \"BIO_L_Day\", \"BIO_L_Night\", [\"R03845_c_Night\", \"R06267_c_Night\", \"R06286_c_Night\", \"R04801_c_Night\", \"R07856_c_Night\", \"R04803_c_Night\", \"R06961_c_Night\", \"R06960_c_Night\", \"R07856_c_Night\"])\n",
    "]\n",
    "\n",
    "pipeline = Pipeline(modelo, Steps)\n",
    "pipeline.run()"
   ],
   "metadata": {
    "collapsed": false,
    "ExecuteTime": {
     "start_time": "2023-05-19T18:31:01.028187Z",
     "end_time": "2023-05-19T18:31:30.212025Z"
    }
   }
  },
  {
   "cell_type": "code",
   "execution_count": 51,
   "outputs": [],
   "source": [
    "modelo.reactions.get_by_id(\"Biomass_Total\").upper_bound = 0.11\n",
    "modelo.reactions.get_by_id(\"Biomass_Total\").lower_bound = 0.11\n",
    "modelo.objective = \"Ex16_Day\"\n",
    "modelo.objective_direction = \"max\""
   ],
   "metadata": {
    "collapsed": false,
    "ExecuteTime": {
     "start_time": "2023-05-19T14:31:55.260759Z",
     "end_time": "2023-05-19T14:31:55.276436Z"
    }
   }
  },
  {
   "cell_type": "code",
   "execution_count": 52,
   "outputs": [
    {
     "name": "stdout",
     "output_type": "stream",
     "text": [
      "9.31\n"
     ]
    }
   ],
   "source": [
    "from cobra.flux_analysis import pfba\n",
    "\n",
    "solution = pfba(modelo)\n",
    "R02732 = solution.fluxes[\"R02732_c_Day\"]\n",
    "R01070N = solution.fluxes[\"R01070N_c_Day\"]\n",
    "R00762 = solution.fluxes[\"R00762_c_Day\"]\n",
    "chex2 = round(((R02732 - R01070N) + R00762) / 2, 2)\n",
    "print(chex2)"
   ],
   "metadata": {
    "collapsed": false,
    "ExecuteTime": {
     "start_time": "2023-05-19T14:31:55.276436Z",
     "end_time": "2023-05-19T14:31:57.988103Z"
    }
   }
  },
  {
   "cell_type": "code",
   "execution_count": 31,
   "outputs": [
    {
     "data": {
      "text/plain": "-39.42"
     },
     "execution_count": 31,
     "metadata": {},
     "output_type": "execute_result"
    }
   ],
   "source": [
    "R04779 = solution.fluxes[\"R04779_p_Day\"]\n",
    "R00762 = solution.fluxes[\"R00762_p_Day\"]\n",
    "R01070N = solution.fluxes[\"R01070N_p_Day\"]\n",
    "\n",
    "phex1 = round(((R04779 - R00762) + R01070N) / 2, 2)\n",
    "phex1"
   ],
   "metadata": {
    "collapsed": false,
    "ExecuteTime": {
     "start_time": "2023-05-19T13:56:07.694673Z",
     "end_time": "2023-05-19T13:56:07.711053Z"
    }
   }
  },
  {
   "cell_type": "code",
   "execution_count": null,
   "outputs": [],
   "source": [
    "R01061 = solution.fluxes[\"R01061_c_Day\"]\n",
    "R01061 = solution.fluxes[\"R01061_p_Day\"]\n",
    "R01063 = solution.fluxes[\"R01063_p_Day\"]\n",
    "R01512 = solution.fluxes[\"R01512_c_Day\"]\n",
    "R01512 = solution.fluxes[\"R01512_d_Day\"]\n",
    "R01518 = solution.fluxes[\"R01518_p_Day\"]\n",
    "\n",
    "Cphex = round([([(R01061 + R01061 - R01063) + (-R01512 - R01512)]/2) + (R01518_c + R01518_p) + (R00658_c + R00658_p)]/3, 2)\n",
    "Cphex"
   ],
   "metadata": {
    "collapsed": false
   }
  },
  {
   "cell_type": "code",
   "execution_count": null,
   "outputs": [],
   "source": [],
   "metadata": {
    "collapsed": false
   }
  }
 ],
 "metadata": {
  "kernelspec": {
   "display_name": "Python 3",
   "language": "python",
   "name": "python3"
  },
  "language_info": {
   "codemirror_mode": {
    "name": "ipython",
    "version": 2
   },
   "file_extension": ".py",
   "mimetype": "text/x-python",
   "name": "python",
   "nbconvert_exporter": "python",
   "pygments_lexer": "ipython2",
   "version": "2.7.6"
  }
 },
 "nbformat": 4,
 "nbformat_minor": 0
}
