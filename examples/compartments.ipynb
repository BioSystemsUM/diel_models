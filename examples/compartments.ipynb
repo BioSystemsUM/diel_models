{
 "cells": [
  {
   "cell_type": "code",
   "execution_count": 2,
   "metadata": {
    "collapsed": true
   },
   "outputs": [
    {
     "data": {
      "text/plain": "<Model MODEL1507180028 at 0x25fa3b34bb0>",
      "text/html": "\n        <table>\n            <tr>\n                <td><strong>Name</strong></td>\n                <td>MODEL1507180028</td>\n            </tr><tr>\n                <td><strong>Memory address</strong></td>\n                <td>25fa3b34bb0</td>\n            </tr><tr>\n                <td><strong>Number of metabolites</strong></td>\n                <td>1737</td>\n            </tr><tr>\n                <td><strong>Number of reactions</strong></td>\n                <td>1601</td>\n            </tr><tr>\n                <td><strong>Number of genes</strong></td>\n                <td>1404</td>\n            </tr><tr>\n                <td><strong>Number of groups</strong></td>\n                <td>0</td>\n            </tr><tr>\n                <td><strong>Objective expression</strong></td>\n                <td>0.01*Ex16 - 0.01*Ex16_reverse_92c36</td>\n            </tr><tr>\n                <td><strong>Compartments</strong></td>\n                <td>Cytosol, Plastid, Mitochondrion, Peroxisome, Vacuole, Biomass, Accumulation, External</td>\n            </tr>\n          </table>"
     },
     "execution_count": 2,
     "metadata": {},
     "output_type": "execute_result"
    }
   ],
   "source": [
    "import os\n",
    "import cobra\n",
    "from tests import TEST_DIR\n",
    "\n",
    "aragem_model_path = os.path.join(TEST_DIR, 'data', 'AraGEM2010.xml')\n",
    "\n",
    "cobra.io.read_sbml_model(aragem_model_path)"
   ]
  },
  {
   "cell_type": "code",
   "execution_count": null,
   "outputs": [],
   "source": [],
   "metadata": {
    "collapsed": false
   }
  }
 ],
 "metadata": {
  "kernelspec": {
   "display_name": "Python 3",
   "language": "python",
   "name": "python3"
  },
  "language_info": {
   "codemirror_mode": {
    "name": "ipython",
    "version": 2
   },
   "file_extension": ".py",
   "mimetype": "text/x-python",
   "name": "python",
   "nbconvert_exporter": "python",
   "pygments_lexer": "ipython2",
   "version": "2.7.6"
  }
 },
 "nbformat": 4,
 "nbformat_minor": 0
}
