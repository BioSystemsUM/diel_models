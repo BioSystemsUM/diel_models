{
 "cells": [
  {
   "cell_type": "code",
   "execution_count": 1,
   "metadata": {
    "collapsed": true,
    "ExecuteTime": {
     "start_time": "2023-06-04T09:39:34.252880Z",
     "end_time": "2023-06-04T09:39:43.480879Z"
    }
   },
   "outputs": [],
   "source": [
    "import cobra.io\n",
    "from tests import TEST_DIR\n",
    "import os\n",
    "\n",
    "model_path = os.path.join(TEST_DIR, 'reconstruction_results', 'MODEL1507180028','results_troppo', 'DielModel',\n",
    "                              'reconstructed_models', 'Diel_Model.xml')\n",
    "\n",
    "modelo = cobra.io.read_sbml_model(model_path)"
   ]
  },
  {
   "cell_type": "code",
   "execution_count": 2,
   "outputs": [],
   "source": [
    "original_model = cobra.io.read_sbml_model(os.path.join(TEST_DIR, 'data', 'aragem_photo.xml'))"
   ],
   "metadata": {
    "collapsed": false,
    "ExecuteTime": {
     "start_time": "2023-06-04T09:39:57.644321Z",
     "end_time": "2023-06-04T09:40:00.324522Z"
    }
   }
  },
  {
   "cell_type": "code",
   "execution_count": 3,
   "outputs": [],
   "source": [
    "from cobra.flux_analysis import pfba\n",
    "\n",
    "modelo.objective_direction = \"max\"\n",
    "modelo.objective = \"Ex16_Day\"\n",
    "modelo.reactions.get_by_id(\"Biomass_Total\").lower_bound = 0.11\n",
    "modelo.reactions.get_by_id(\"Biomass_Total\").upper_bound = 0.11\n",
    "\n",
    "solution = pfba(modelo)"
   ],
   "metadata": {
    "collapsed": false,
    "ExecuteTime": {
     "start_time": "2023-06-04T09:40:02.949871Z",
     "end_time": "2023-06-04T09:40:06.201151Z"
    }
   }
  },
  {
   "cell_type": "code",
   "execution_count": 8,
   "outputs": [],
   "source": [
    "original_model.objective_direction = \"max\"\n",
    "original_solution = pfba(original_model)"
   ],
   "metadata": {
    "collapsed": false,
    "ExecuteTime": {
     "start_time": "2023-06-04T09:41:54.472059Z",
     "end_time": "2023-06-04T09:41:55.197355Z"
    }
   }
  },
  {
   "cell_type": "code",
   "execution_count": 10,
   "outputs": [
    {
     "name": "stdout",
     "output_type": "stream",
     "text": [
      "125.0 0.0 125.0\n"
     ]
    }
   ],
   "source": [
    "print(solution.fluxes['REner01_p_Day'], solution.fluxes['REner01_p_Night'], original_solution.fluxes['REner01_p']) #FOTOSSÍNTESE"
   ],
   "metadata": {
    "collapsed": false,
    "ExecuteTime": {
     "start_time": "2023-06-04T09:42:07.013711Z",
     "end_time": "2023-06-04T09:42:07.025062Z"
    }
   }
  },
  {
   "cell_type": "code",
   "execution_count": 12,
   "outputs": [
    {
     "name": "stdout",
     "output_type": "stream",
     "text": [
      "2.491038000000573 0.0 2.4728769999994333\n"
     ]
    }
   ],
   "source": [
    "print(solution.fluxes['R00024_p_Day'], solution.fluxes['R00024_p_Night'], original_solution.fluxes['R00024_p']) #RUBISCO + CO2"
   ],
   "metadata": {
    "collapsed": false,
    "ExecuteTime": {
     "start_time": "2023-06-04T09:43:11.265581Z",
     "end_time": "2023-06-04T09:43:11.331777Z"
    }
   }
  },
  {
   "cell_type": "code",
   "execution_count": 14,
   "outputs": [
    {
     "name": "stdout",
     "output_type": "stream",
     "text": [
      "0.0260480000000957 0.0 0.03475999999975918\n"
     ]
    }
   ],
   "source": [
    "print(solution.fluxes['R03140_p_Day'], solution.fluxes['R03140_p_Night'], original_solution.fluxes['R03140_p']) #RUBISCO + O2"
   ],
   "metadata": {
    "collapsed": false,
    "ExecuteTime": {
     "start_time": "2023-06-04T09:44:22.509141Z",
     "end_time": "2023-06-04T09:44:22.542654Z"
    }
   }
  },
  {
   "cell_type": "code",
   "execution_count": 15,
   "outputs": [
    {
     "name": "stdout",
     "output_type": "stream",
     "text": [
      "4.81279150000124 -0.008579999999999999 4.567364999998581\n"
     ]
    }
   ],
   "source": [
    "print(solution.fluxes['R01512_p_Day'], solution.fluxes['R01512_p_Night'], original_solution.fluxes['R01512_p']) #3-PGA to 1,3-BPG"
   ],
   "metadata": {
    "collapsed": false,
    "ExecuteTime": {
     "start_time": "2023-06-04T09:45:05.128526Z",
     "end_time": "2023-06-04T09:45:05.198798Z"
    }
   }
  },
  {
   "cell_type": "code",
   "execution_count": 16,
   "outputs": [
    {
     "name": "stdout",
     "output_type": "stream",
     "text": [
      "-4.811361500001241 0.00858 -4.552267499998575\n"
     ]
    }
   ],
   "source": [
    "print(solution.fluxes['R01063_p_Day'], solution.fluxes['R01063_p_Night'], original_solution.fluxes['R01063_p']) #1,3-BPG to G3P"
   ],
   "metadata": {
    "collapsed": false,
    "ExecuteTime": {
     "start_time": "2023-06-04T09:46:11.176007Z",
     "end_time": "2023-06-04T09:46:11.217155Z"
    }
   }
  },
  {
   "cell_type": "code",
   "execution_count": 18,
   "outputs": [
    {
     "name": "stdout",
     "output_type": "stream",
     "text": [
      "0.8390286666668897 0.0 0.8358789999997308\n"
     ]
    }
   ],
   "source": [
    "print(solution.fluxes['R01641_p_Day'], solution.fluxes['R01641_p_Night'], original_solution.fluxes['R01641_p']) #G3P to R5P"
   ],
   "metadata": {
    "collapsed": false,
    "ExecuteTime": {
     "start_time": "2023-06-04T09:47:05.601707Z",
     "end_time": "2023-06-04T09:47:05.604720Z"
    }
   }
  },
  {
   "cell_type": "code",
   "execution_count": 19,
   "outputs": [
    {
     "name": "stdout",
     "output_type": "stream",
     "text": [
      "0.8390286666668897 0.0 0.8358789999997308\n"
     ]
    }
   ],
   "source": [
    "print(solution.fluxes['R01056_p_Day'], solution.fluxes['R01056_p_Night'], original_solution.fluxes['R01056_p']) #R5P to Ru5P"
   ],
   "metadata": {
    "collapsed": false,
    "ExecuteTime": {
     "start_time": "2023-06-04T09:47:30.854848Z",
     "end_time": "2023-06-04T09:47:30.902787Z"
    }
   }
  },
  {
   "cell_type": "code",
   "execution_count": 20,
   "outputs": [
    {
     "name": "stdout",
     "output_type": "stream",
     "text": [
      "2.517086000000669 0.0 2.5076369999991925\n"
     ]
    }
   ],
   "source": [
    "print(solution.fluxes['R01523_p_Day'], solution.fluxes['R01523_p_Night'], original_solution.fluxes['R01523_p']) #Ru5P to RuBP"
   ],
   "metadata": {
    "collapsed": false,
    "ExecuteTime": {
     "start_time": "2023-06-04T09:47:55.138086Z",
     "end_time": "2023-06-04T09:47:55.165610Z"
    }
   }
  }
 ],
 "metadata": {
  "kernelspec": {
   "display_name": "Python 3",
   "language": "python",
   "name": "python3"
  },
  "language_info": {
   "codemirror_mode": {
    "name": "ipython",
    "version": 2
   },
   "file_extension": ".py",
   "mimetype": "text/x-python",
   "name": "python",
   "nbconvert_exporter": "python",
   "pygments_lexer": "ipython2",
   "version": "2.7.6"
  }
 },
 "nbformat": 4,
 "nbformat_minor": 0
}
