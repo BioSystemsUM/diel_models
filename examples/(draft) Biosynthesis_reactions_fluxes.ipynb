{
 "cells": [
  {
   "cell_type": "code",
   "execution_count": 60,
   "metadata": {
    "collapsed": true,
    "ExecuteTime": {
     "start_time": "2023-05-30T22:50:30.374166Z",
     "end_time": "2023-05-30T22:50:33.442746Z"
    }
   },
   "outputs": [],
   "source": [
    "import cobra.io\n",
    "\n",
    "modelo = cobra.io.read_sbml_model(\"C:\\\\Users\\\\lucia\\\\Desktop\\\\DielModels\\\\reconstruction_results\\\\MODEL1507180028\\\\results_troppo\\\\DielModel\\\\reconstructed_models\\\\Diel_Model.xml\")"
   ]
  },
  {
   "cell_type": "code",
   "execution_count": 61,
   "outputs": [],
   "source": [
    "from cobra.flux_analysis import pfba\n",
    "\n",
    "modelo.objective_direction = \"max\"\n",
    "modelo.objective = \"Ex16_Day\"\n",
    "modelo.reactions.get_by_id(\"Biomass_Total\").lower_bound = 0.11\n",
    "modelo.reactions.get_by_id(\"Biomass_Total\").upper_bound = 0.11\n",
    "\n",
    "solution = pfba(modelo)"
   ],
   "metadata": {
    "collapsed": false,
    "ExecuteTime": {
     "start_time": "2023-05-30T22:50:33.453032Z",
     "end_time": "2023-05-30T22:50:36.266993Z"
    }
   }
  },
  {
   "cell_type": "code",
   "execution_count": 62,
   "outputs": [
    {
     "data": {
      "text/plain": "<cobra.summary.model_summary.ModelSummary at 0x144f9a3b0d0>",
      "text/html": "<h3>Objective</h3><p>1.0 Ex16_Day = 1000.0000000000001</p><h4>Uptake</h4><table border=\"1\" class=\"dataframe\">\n  <thead>\n    <tr style=\"text-align: right;\">\n      <th>Metabolite</th>\n      <th>Reaction</th>\n      <th>Flux</th>\n      <th>C-Number</th>\n      <th>C-Flux</th>\n    </tr>\n  </thead>\n  <tbody>\n    <tr>\n      <td>S_Hydrogen_32_sulfide_c[C_c]_Day</td>\n      <td>Ex11_Day</td>\n      <td>0.00286</td>\n      <td>0</td>\n      <td>0.00%</td>\n    </tr>\n    <tr>\n      <td>S_hv_p[C_p]_Day</td>\n      <td>Ex16_Day</td>\n      <td>1000</td>\n      <td>0</td>\n      <td>0.00%</td>\n    </tr>\n    <tr>\n      <td>S_Orthophosphate_c[C_c]_Day</td>\n      <td>Ex18_Day</td>\n      <td>0.001215</td>\n      <td>0</td>\n      <td>0.00%</td>\n    </tr>\n    <tr>\n      <td>S_Orthophosphate_c[C_c]_Night</td>\n      <td>Ex18_Night</td>\n      <td>0.001215</td>\n      <td>0</td>\n      <td>0.00%</td>\n    </tr>\n    <tr>\n      <td>S_CO2_c[C_c]_Day</td>\n      <td>Ex1_Day</td>\n      <td>2.36</td>\n      <td>0</td>\n      <td>0.00%</td>\n    </tr>\n    <tr>\n      <td>S_H2O_c[C_c]_Day</td>\n      <td>Ex2_Day</td>\n      <td>496.5</td>\n      <td>0</td>\n      <td>0.00%</td>\n    </tr>\n    <tr>\n      <td>S_Oxygen_c[C_c]_Night</td>\n      <td>Ex3_Night</td>\n      <td>0.1482</td>\n      <td>0</td>\n      <td>0.00%</td>\n    </tr>\n    <tr>\n      <td>S_Nitrate_c[C_c]_Day</td>\n      <td>Ex4_Day</td>\n      <td>0.002656</td>\n      <td>0</td>\n      <td>0.00%</td>\n    </tr>\n    <tr>\n      <td>S_NH3_c[C_c]_Day</td>\n      <td>Ex5_Day</td>\n      <td>1.338</td>\n      <td>0</td>\n      <td>0.00%</td>\n    </tr>\n  </tbody>\n</table><h4>Secretion</h4><table border=\"1\" class=\"dataframe\">\n  <thead>\n    <tr style=\"text-align: right;\">\n      <th>Metabolite</th>\n      <th>Reaction</th>\n      <th>Flux</th>\n      <th>C-Number</th>\n      <th>C-Flux</th>\n    </tr>\n  </thead>\n  <tbody>\n    <tr>\n      <td>S_H2O_c[C_c]_Night</td>\n      <td>Ex2_Night</td>\n      <td>-0.2605</td>\n      <td>0</td>\n      <td>0.00%</td>\n    </tr>\n    <tr>\n      <td>S_Oxygen_c[C_c]_Day</td>\n      <td>Ex3_Day</td>\n      <td>-63.79</td>\n      <td>0</td>\n      <td>0.00%</td>\n    </tr>\n    <tr>\n      <td>S_NH3_c[C_c]_Night</td>\n      <td>Ex5_Night</td>\n      <td>-0.9903</td>\n      <td>0</td>\n      <td>0.00%</td>\n    </tr>\n    <tr>\n      <td>S_Riboflavin_c[C_c]_Day</td>\n      <td>V0002_Day</td>\n      <td>-0.005588</td>\n      <td>0</td>\n      <td>0.00%</td>\n    </tr>\n  </tbody>\n</table>"
     },
     "execution_count": 62,
     "metadata": {},
     "output_type": "execute_result"
    }
   ],
   "source": [
    "modelo.summary()"
   ],
   "metadata": {
    "collapsed": false,
    "ExecuteTime": {
     "start_time": "2023-05-30T22:50:36.266993Z",
     "end_time": "2023-05-30T22:50:37.609605Z"
    }
   }
  },
  {
   "cell_type": "code",
   "execution_count": 128,
   "outputs": [
    {
     "data": {
      "text/plain": "0.0"
     },
     "execution_count": 128,
     "metadata": {},
     "output_type": "execute_result"
    }
   ],
   "source": [
    "solution.fluxes['R01523_p_Night']"
   ],
   "metadata": {
    "collapsed": false,
    "ExecuteTime": {
     "start_time": "2023-05-30T23:15:37.086723Z",
     "end_time": "2023-05-30T23:15:37.111833Z"
    }
   }
  },
  {
   "cell_type": "code",
   "execution_count": 131,
   "outputs": [
    {
     "data": {
      "text/plain": "<Reaction R01641_p_Day at 0x144f79eeeb0>",
      "text/html": "\n        <table>\n            <tr>\n                <td><strong>Reaction identifier</strong></td><td>R01641_p_Day</td>\n            </tr><tr>\n                <td><strong>Name</strong></td><td>transketolase, putative</td>\n            </tr><tr>\n                <td><strong>Memory address</strong></td>\n                <td>0x144f79eeeb0</td>\n            </tr><tr>\n                <td><strong>Stoichiometry</strong></td>\n                <td>\n                    <p style='text-align:right'>S_D_45_Sedoheptulose_32_7_45_phosphate_p[C_p]_Day + S__40_2R_41__45_2_45_Hydroxy_45_3_45__40_phosphonooxy_41__45_propanal_p[C_p]_Day <=> S_D_45_Ribose_32_5_45_phosphate_p[C_p]_Day +...</p>\n                    <p style='text-align:right'>D-Sedoheptulose 7-phosphate Day + (2R)-2-Hydroxy-3-(phosphonooxy)-propanal_p Day <=> D-Ribose 5-phosphate Day + D-Xylulose 5-phosphate Day</p>\n                </td>\n            </tr><tr>\n                <td><strong>GPR</strong></td><td>AT2G45290 or AT3G60750</td>\n            </tr><tr>\n                <td><strong>Lower bound</strong></td><td>-1000.0</td>\n            </tr><tr>\n                <td><strong>Upper bound</strong></td><td>1000.0</td>\n            </tr>\n        </table>\n        "
     },
     "execution_count": 131,
     "metadata": {},
     "output_type": "execute_result"
    }
   ],
   "source": [
    "modelo.reactions.get_by_id(\"R01641_p_Day\")"
   ],
   "metadata": {
    "collapsed": false,
    "ExecuteTime": {
     "start_time": "2023-05-30T23:28:08.028832Z",
     "end_time": "2023-05-30T23:28:08.092237Z"
    }
   }
  },
  {
   "cell_type": "code",
   "execution_count": 95,
   "outputs": [
    {
     "data": {
      "text/plain": "<Reaction R01063_p_Day at 0x144f7991e80>",
      "text/html": "\n        <table>\n            <tr>\n                <td><strong>Reaction identifier</strong></td><td>R01063_p_Day</td>\n            </tr><tr>\n                <td><strong>Name</strong></td><td>glyceraldehyde 3-phosphate dehydrogenase, chloroplast, putative / NADP-dependent...</td>\n            </tr><tr>\n                <td><strong>Memory address</strong></td>\n                <td>0x144f7991e80</td>\n            </tr><tr>\n                <td><strong>Stoichiometry</strong></td>\n                <td>\n                    <p style='text-align:right'>S_NADP_43__p[C_p]_Day + S_Orthophosphate_p[C_p]_Day + S__40_2R_41__45_2_45_Hydroxy_45_3_45__40_phosphonooxy_41__45_propanal_p[C_p]_Day <=> S_3_45_Phospho_45_D_45_glyceroyl_32_phosphate_p[C_p]_Day +...</p>\n                    <p style='text-align:right'>NADP+ Day + Orthophosphate_p Day + (2R)-2-Hydroxy-3-(phosphonooxy)-propanal_p Day <=> 3-Phospho-D-glyceroyl phosphate Day + H+_p Day + NADPH Day</p>\n                </td>\n            </tr><tr>\n                <td><strong>GPR</strong></td><td></td>\n            </tr><tr>\n                <td><strong>Lower bound</strong></td><td>-1000.0</td>\n            </tr><tr>\n                <td><strong>Upper bound</strong></td><td>1000.0</td>\n            </tr>\n        </table>\n        "
     },
     "execution_count": 95,
     "metadata": {},
     "output_type": "execute_result"
    }
   ],
   "source": [
    "modelo.reactions.get_by_id(\"R01063_p_Day\")"
   ],
   "metadata": {
    "collapsed": false,
    "ExecuteTime": {
     "start_time": "2023-05-30T23:02:48.037278Z",
     "end_time": "2023-05-30T23:02:48.061896Z"
    }
   }
  },
  {
   "cell_type": "code",
   "execution_count": 110,
   "outputs": [
    {
     "data": {
      "text/plain": "<Reaction R01641_c_Day at 0x144f79f5d60>",
      "text/html": "\n        <table>\n            <tr>\n                <td><strong>Reaction identifier</strong></td><td>R01641_c_Day</td>\n            </tr><tr>\n                <td><strong>Name</strong></td><td>transketolase, putative</td>\n            </tr><tr>\n                <td><strong>Memory address</strong></td>\n                <td>0x144f79f5d60</td>\n            </tr><tr>\n                <td><strong>Stoichiometry</strong></td>\n                <td>\n                    <p style='text-align:right'>S_D_45_Sedoheptulose_32_7_45_phosphate_c[C_c]_Day + S__40_2R_41__45_2_45_Hydroxy_45_3_45__40_phosphonooxy_41__45_propanal_c[C_c]_Day <=> S_D_45_Ribose_32_5_45_phosphate_c[C_c]_Day +...</p>\n                    <p style='text-align:right'>D-Sedoheptulose 7-phosphate Day + (2R)-2-Hydroxy-3-(phosphonooxy)-propanal_c Day <=> D-Ribose 5-phosphate Day + D-Xylulose 5-phosphate Day</p>\n                </td>\n            </tr><tr>\n                <td><strong>GPR</strong></td><td>AT2G45290 or AT3G60750</td>\n            </tr><tr>\n                <td><strong>Lower bound</strong></td><td>-1000.0</td>\n            </tr><tr>\n                <td><strong>Upper bound</strong></td><td>1000.0</td>\n            </tr>\n        </table>\n        "
     },
     "execution_count": 110,
     "metadata": {},
     "output_type": "execute_result"
    }
   ],
   "source": [
    "modelo.reactions.get_by_id(\"R01641_c_Day\")"
   ],
   "metadata": {
    "collapsed": false,
    "ExecuteTime": {
     "start_time": "2023-05-30T23:08:43.254134Z",
     "end_time": "2023-05-30T23:08:43.280288Z"
    }
   }
  },
  {
   "cell_type": "code",
   "execution_count": 69,
   "outputs": [
    {
     "data": {
      "text/plain": "0.026047999999957588"
     },
     "execution_count": 69,
     "metadata": {},
     "output_type": "execute_result"
    }
   ],
   "source": [
    "solution.fluxes[\"R03140_p_Day\"]"
   ],
   "metadata": {
    "collapsed": false,
    "ExecuteTime": {
     "start_time": "2023-05-30T22:51:46.692432Z",
     "end_time": "2023-05-30T22:51:46.738385Z"
    }
   }
  },
  {
   "cell_type": "code",
   "execution_count": 71,
   "outputs": [
    {
     "data": {
      "text/plain": "0.0"
     },
     "execution_count": 71,
     "metadata": {},
     "output_type": "execute_result"
    }
   ],
   "source": [
    "solution.fluxes[\"R03140_p_Night\"]"
   ],
   "metadata": {
    "collapsed": false,
    "ExecuteTime": {
     "start_time": "2023-05-30T22:52:02.799188Z",
     "end_time": "2023-05-30T22:52:02.824819Z"
    }
   }
  },
  {
   "cell_type": "code",
   "execution_count": 40,
   "outputs": [
    {
     "data": {
      "text/plain": "{<Metabolite S__40_2R_41__45_2_45_Hydroxy_45_3_45__40_phosphonooxy_41__45_propanal_p[C_p]_Night at 0x2481dc89370>: -1.0,\n <Metabolite S_NADP_43__p[C_p]_Night at 0x2481dc9b940>: -1.0,\n <Metabolite S_Orthophosphate_p[C_p]_Night at 0x2481dc89460>: -1.0,\n <Metabolite S_3_45_Phospho_45_D_45_glyceroyl_32_phosphate_p[C_p]_Night at 0x2481dcbc9d0>: 1.0,\n <Metabolite S_H_43__p[C_p]_Night at 0x2481dc89700>: 1.0,\n <Metabolite S_NADPH_p[C_p]_Night at 0x2481dc9b970>: 1.0}"
     },
     "execution_count": 40,
     "metadata": {},
     "output_type": "execute_result"
    }
   ],
   "source": [
    "modelo.reactions.get_by_id(\"R01063_p_Night\").metabolites"
   ],
   "metadata": {
    "collapsed": false,
    "ExecuteTime": {
     "start_time": "2023-05-30T17:14:47.324237Z",
     "end_time": "2023-05-30T17:14:47.418469Z"
    }
   }
  },
  {
   "cell_type": "code",
   "execution_count": 46,
   "outputs": [
    {
     "data": {
      "text/plain": "frozenset({<Reaction Ex1_Night at 0x2481eb56a90>,\n           <Reaction R00006_c_Night at 0x2481eb98eb0>,\n           <Reaction R00014_c_Night at 0x2481eb98df0>,\n           <Reaction R00047_c_Night at 0x2481eba2b20>,\n           <Reaction R00131_c_Night at 0x2481ebada00>,\n           <Reaction R00132N_c_Night at 0x2481ebadb50>,\n           <Reaction R00149_c_Night at 0x2481efa6ee0>,\n           <Reaction R00178_c_Night at 0x2481ebad640>,\n           <Reaction R00214_c_Night at 0x2481ebb97f0>,\n           <Reaction R00219_c_Night at 0x2481ebc59d0>,\n           <Reaction R00233_c_Night at 0x2481ebc5b50>,\n           <Reaction R00261_c_Night at 0x2481ebd1340>,\n           <Reaction R00341_c_Night at 0x2481ebddf40>,\n           <Reaction R00345_c_Night at 0x2481ebe8d60>,\n           <Reaction R00451_c_Night at 0x2481ebf4d90>,\n           <Reaction R00489_c_Night at 0x2481ec006d0>,\n           <Reaction R00566_c_Night at 0x2481ec0ba00>,\n           <Reaction R00691_c_Night at 0x2481ec20c40>,\n           <Reaction R00705_c_Night at 0x2481ec20280>,\n           <Reaction R00736_c_Night at 0x2481ec2cd90>,\n           <Reaction R00905_c_Night at 0x2481ec4ef10>,\n           <Reaction R00935_c_Night at 0x2481ec4e4c0>,\n           <Reaction R00965_c_Night at 0x2481ec67760>,\n           <Reaction R00994_c_Night at 0x2481f003f70>,\n           <Reaction R01121_c_Night at 0x2481ec86790>,\n           <Reaction R01167_c_Night at 0x2481f003f40>,\n           <Reaction R01221_c_Night at 0x2481ec94fa0>,\n           <Reaction R01252_c_Night at 0x2481ec9efa0>,\n           <Reaction R01281_c_Night at 0x2481ec9edc0>,\n           <Reaction R01372_c_Night at 0x2481ecb6ac0>,\n           <Reaction R01373N_c_Night at 0x2481ecb6d60>,\n           <Reaction R01373_c_Night at 0x2481ecb6c10>,\n           <Reaction R01384_c_Night at 0x2481ef9c760>,\n           <Reaction R01528_c_Night at 0x2481ecc2160>,\n           <Reaction R01613_c_Night at 0x2481eccdd30>,\n           <Reaction R01652_c_Night at 0x2481efa6700>,\n           <Reaction R01682_c_Night at 0x2481ecd8520>,\n           <Reaction R01701_c_Night at 0x2481ecd83d0>,\n           <Reaction R01702_c_Night at 0x2481ece57f0>,\n           <Reaction R01728_c_Night at 0x2481efb2f70>,\n           <Reaction R01933_c_Night at 0x2481ecfb6d0>,\n           <Reaction R01940_c_Night at 0x2481ed06700>,\n           <Reaction R02055_c_Night at 0x2481ed1caf0>,\n           <Reaction R02080_c_Night at 0x2481ed1cfa0>,\n           <Reaction R02160_c_Night at 0x2481ed32e20>,\n           <Reaction R02444_c_Night at 0x2481ed619a0>,\n           <Reaction R02466_c_Night at 0x2481ed61e20>,\n           <Reaction R02487_c_Night at 0x2481ed61f10>,\n           <Reaction R02488_c_Night at 0x2481ed615b0>,\n           <Reaction R02518_c_Night at 0x2481ed61e80>,\n           <Reaction R02521_c_Night at 0x2481ed6ca00>,\n           <Reaction R02952_c_Night at 0x2481ed99c40>,\n           <Reaction R03008_c_Night at 0x2481ed99fd0>,\n           <Reaction R03126_c_Night at 0x2481eda5f10>,\n           <Reaction R03182_c_Night at 0x2481edb0eb0>,\n           <Reaction R03197_c_Night at 0x2481edb0fa0>,\n           <Reaction R03210_c_Night at 0x2481f00f490>,\n           <Reaction R03220_c_Night at 0x2481edb0400>,\n           <Reaction R03269_c_Night at 0x2481edbcfd0>,\n           <Reaction R03341_c_Night at 0x2481edc7c70>,\n           <Reaction R03348_c_Night at 0x2481edc7fd0>,\n           <Reaction R03367_c_Night at 0x2481edc7520>,\n           <Reaction R03508_c_Night at 0x2481ede0880>,\n           <Reaction R03546_c_Night at 0x2481ede0fd0>,\n           <Reaction R03640_c_Night at 0x2481edeaa00>,\n           <Reaction R03674_c_Night at 0x2481ee00a30>,\n           <Reaction R03806_c_Night at 0x2481ee00f70>,\n           <Reaction R03807_c_Night at 0x2481ee00760>,\n           <Reaction R03809_c_Night at 0x2481ee006d0>,\n           <Reaction R03971_c_Night at 0x2481e060ee0>,\n           <Reaction R04008_c_Night at 0x2481e09ba00>,\n           <Reaction R04053_c_Night at 0x2481e0bb430>,\n           <Reaction R04172_c_Night at 0x2481e191130>,\n           <Reaction R04209_c_Night at 0x2481e1989a0>,\n           <Reaction R04223_c_Night at 0x2481e11baf0>,\n           <Reaction R04225_c_Night at 0x2481e1a3fd0>,\n           <Reaction R04276_c_Night at 0x2481e1a30a0>,\n           <Reaction R04355_c_Night at 0x2481e1bae50>,\n           <Reaction R04515_c_Night at 0x2481e1f3f10>,\n           <Reaction R04666_c_Night at 0x2481e236fa0>,\n           <Reaction R04726_c_Night at 0x2481e249f40>,\n           <Reaction R04732_c_Night at 0x2481e2509a0>,\n           <Reaction R04784_c_Night at 0x2481e279e50>,\n           <Reaction R04885_c_Night at 0x2481ee88d00>,\n           <Reaction R04952_c_Night at 0x2481ee9fd90>,\n           <Reaction R04957_c_Night at 0x2481eea6e20>,\n           <Reaction R04960_c_Night at 0x2481eea6580>,\n           <Reaction R04963_c_Night at 0x2481eeaaa30>,\n           <Reaction R04968_c_Night at 0x2481eeb0e20>,\n           <Reaction R04972_c_Night at 0x2481eeb6f10>,\n           <Reaction R05036_c_Night at 0x2481eec37f0>,\n           <Reaction R05037_c_Night at 0x2481eec99a0>,\n           <Reaction R05039_c_Night at 0x2481eec96a0>,\n           <Reaction R05097_c_Night at 0x2481eed2f70>,\n           <Reaction R05376_c_Night at 0x2481eede760>,\n           <Reaction R05617_c_Night at 0x2481eef1eb0>,\n           <Reaction R05636_c_Night at 0x2481eef7f40>,\n           <Reaction R05723_c_Night at 0x2481eefdb20>,\n           <Reaction R05825_c_Night at 0x2481eefdfd0>,\n           <Reaction R06322_c_Night at 0x2481ef359d0>,\n           <Reaction R06323_c_Night at 0x2481ef35b80>,\n           <Reaction R06326_c_Night at 0x2481ef35d30>,\n           <Reaction R06336_c_Night at 0x2481ef35f10>,\n           <Reaction R06337_c_Night at 0x2481ef35f40>,\n           <Reaction R06338_c_Night at 0x2481ef35ee0>,\n           <Reaction R06539_c_Night at 0x2481ef4cfd0>,\n           <Reaction R06540_c_Night at 0x2481ef4c460>,\n           <Reaction R06605_c_Night at 0x2481f11db80>,\n           <Reaction R06858_c_Night at 0x2481ef63670>,\n           <Reaction R06860_c_Night at 0x2481ef63910>,\n           <Reaction R06895_c_Night at 0x2481ef63fd0>,\n           <Reaction R06925_c_Night at 0x2481ef6e820>,\n           <Reaction R07500_c_Night at 0x2481f0a0be0>,\n           <Reaction R07599_c_Night at 0x2481f0adf70>,\n           <Reaction R07601_c_Night at 0x2481f0ad1c0>,\n           <Reaction R07603_c_Night at 0x2481f0ad490>,\n           <Reaction R07762_c_Night at 0x2481f0c4a00>,\n           <Reaction R07981_c_Night at 0x2481f0f1880>,\n           <Reaction R07987_c_Night at 0x2481f0f1a00>,\n           <Reaction R07988_c_Night at 0x2481f0f1bb0>,\n           <Reaction R07989_c_Night at 0x2481f0f1d30>,\n           <Reaction R07993_c_Night at 0x2481f0f1fd0>,\n           <Reaction R07996_c_Night at 0x2481f0f1a60>,\n           <Reaction R07997_c_Night at 0x2481f0f1580>,\n           <Reaction R08082_c_Night at 0x2481f046eb0>,\n           <Reaction R08165_c_Night at 0x2481f052f40>,\n           <Reaction R08228_c_Night at 0x2481f068e50>,\n           <Reaction TCM17_Night at 0x2481eb6cd60>,\n           <Reaction TCP2_Night at 0x2481eb789d0>})"
     },
     "execution_count": 46,
     "metadata": {},
     "output_type": "execute_result"
    }
   ],
   "source": [
    "modelo.metabolites.get_by_id(\"S_CO2_c[C_c]_Night\").reactions"
   ],
   "metadata": {
    "collapsed": false,
    "ExecuteTime": {
     "start_time": "2023-05-30T17:20:23.864664Z",
     "end_time": "2023-05-30T17:20:23.924893Z"
    }
   }
  },
  {
   "cell_type": "code",
   "execution_count": 50,
   "outputs": [],
   "source": [
    "modelo.reactions.get_by_id(\"Ex1_Night\").lower_bound = -1000"
   ],
   "metadata": {
    "collapsed": false,
    "ExecuteTime": {
     "start_time": "2023-05-30T17:22:56.538216Z",
     "end_time": "2023-05-30T17:22:56.574101Z"
    }
   }
  },
  {
   "cell_type": "code",
   "execution_count": 51,
   "outputs": [
    {
     "data": {
      "text/plain": "<Reaction Ex1_Night at 0x2481eb56a90>",
      "text/html": "\n        <table>\n            <tr>\n                <td><strong>Reaction identifier</strong></td><td>Ex1_Night</td>\n            </tr><tr>\n                <td><strong>Name</strong></td><td>difusion</td>\n            </tr><tr>\n                <td><strong>Memory address</strong></td>\n                <td>0x2481eb56a90</td>\n            </tr><tr>\n                <td><strong>Stoichiometry</strong></td>\n                <td>\n                    <p style='text-align:right'><=> S_CO2_c[C_c]_Night</p>\n                    <p style='text-align:right'><=> CO2_c Night</p>\n                </td>\n            </tr><tr>\n                <td><strong>GPR</strong></td><td></td>\n            </tr><tr>\n                <td><strong>Lower bound</strong></td><td>-1000</td>\n            </tr><tr>\n                <td><strong>Upper bound</strong></td><td>1000.0</td>\n            </tr>\n        </table>\n        "
     },
     "execution_count": 51,
     "metadata": {},
     "output_type": "execute_result"
    }
   ],
   "source": [
    "modelo.reactions.get_by_id(\"Ex1_Night\")"
   ],
   "metadata": {
    "collapsed": false,
    "ExecuteTime": {
     "start_time": "2023-05-30T17:23:07.010180Z",
     "end_time": "2023-05-30T17:23:07.037929Z"
    }
   }
  },
  {
   "cell_type": "code",
   "execution_count": 53,
   "outputs": [],
   "source": [
    "solution = pfba(modelo)"
   ],
   "metadata": {
    "collapsed": false,
    "ExecuteTime": {
     "start_time": "2023-05-30T17:24:30.218084Z",
     "end_time": "2023-05-30T17:24:30.691849Z"
    }
   }
  },
  {
   "cell_type": "code",
   "execution_count": 40,
   "outputs": [
    {
     "data": {
      "text/plain": "4.0133464539807246e-14"
     },
     "execution_count": 40,
     "metadata": {},
     "output_type": "execute_result"
    }
   ],
   "source": [
    "solution.fluxes[\"R00024_p_Day\"]"
   ],
   "metadata": {
    "collapsed": false,
    "ExecuteTime": {
     "start_time": "2023-05-30T22:35:20.828445Z",
     "end_time": "2023-05-30T22:35:20.865152Z"
    }
   }
  },
  {
   "cell_type": "code",
   "execution_count": 41,
   "outputs": [
    {
     "data": {
      "text/plain": "0.0"
     },
     "execution_count": 41,
     "metadata": {},
     "output_type": "execute_result"
    }
   ],
   "source": [
    "solution.fluxes[\"R00024_p_Night\"]"
   ],
   "metadata": {
    "collapsed": false,
    "ExecuteTime": {
     "start_time": "2023-05-30T22:35:29.593332Z",
     "end_time": "2023-05-30T22:35:29.608439Z"
    }
   }
  },
  {
   "cell_type": "code",
   "execution_count": 42,
   "outputs": [
    {
     "data": {
      "text/plain": "2.3151170275490738e-34"
     },
     "execution_count": 42,
     "metadata": {},
     "output_type": "execute_result"
    }
   ],
   "source": [
    "solution.fluxes[\"R01063_p_Night\"]"
   ],
   "metadata": {
    "collapsed": false,
    "ExecuteTime": {
     "start_time": "2023-05-30T22:35:38.596714Z",
     "end_time": "2023-05-30T22:35:38.624412Z"
    }
   }
  },
  {
   "cell_type": "code",
   "execution_count": 57,
   "outputs": [
    {
     "data": {
      "text/plain": "{<Metabolite S_L_45_Tryptophan_c[C_c]_Day at 0x2481dbe7040>: -1.0,\n <Metabolite S_L_45_Tryptophan_c[C_c]__sp at 0x2481ddb4fa0>: 1.0}"
     },
     "execution_count": 57,
     "metadata": {},
     "output_type": "execute_result"
    }
   ],
   "source": [
    "modelo.reactions.get_by_id(\"L-Tryptophan_Day_sp_exchange\").metabolites"
   ],
   "metadata": {
    "collapsed": false,
    "ExecuteTime": {
     "start_time": "2023-05-30T17:41:35.658804Z",
     "end_time": "2023-05-30T17:41:35.672633Z"
    }
   }
  },
  {
   "cell_type": "code",
   "execution_count": 44,
   "outputs": [
    {
     "name": "stdout",
     "output_type": "stream",
     "text": [
      "\n",
      "R01523_c_Night\n",
      "0.0 phosphoribulokinase (PRK) / phosphopentokinase\n"
     ]
    }
   ],
   "source": [
    "for reaction in modelo.metabolites.get_by_id(\"S_D_45_Ribulose_32_1_44_5_45_bisphosphate_c[C_c]_Night\").reactions:\n",
    "    print()\n",
    "    print(reaction.id)\n",
    "    print(solution.fluxes[reaction.id], reaction.name)"
   ],
   "metadata": {
    "collapsed": false,
    "ExecuteTime": {
     "start_time": "2023-05-30T17:17:41.675749Z",
     "end_time": "2023-05-30T17:17:41.705186Z"
    }
   }
  },
  {
   "cell_type": "code",
   "execution_count": 4,
   "outputs": [
    {
     "name": "stdout",
     "output_type": "stream",
     "text": [
      "frozenset({<Reaction Ex16_Night at 0x1b5c96385b0>, <Reaction REner01_p_Night at 0x1b5c8b6f7c0>})\n"
     ]
    }
   ],
   "source": [
    "for metabolite in modelo.metabolites.query('hv'):\n",
    "    if \"Night\" in metabolite.compartment:\n",
    "        print(metabolite.reactions)"
   ],
   "metadata": {
    "collapsed": false,
    "ExecuteTime": {
     "start_time": "2023-05-29T09:49:15.211947Z",
     "end_time": "2023-05-29T09:49:15.252617Z"
    }
   }
  },
  {
   "cell_type": "markdown",
   "source": [
    "### Reação Fotossíntese"
   ],
   "metadata": {
    "collapsed": false
   }
  },
  {
   "cell_type": "code",
   "execution_count": 61,
   "outputs": [
    {
     "data": {
      "text/plain": "125.0"
     },
     "execution_count": 61,
     "metadata": {},
     "output_type": "execute_result"
    }
   ],
   "source": [
    "Rener01_p_Day_flux_diel_model = solution.fluxes['REner01_p_Day']\n",
    "Rener01_p_Day_flux_diel_model"
   ],
   "metadata": {
    "collapsed": false,
    "ExecuteTime": {
     "start_time": "2023-05-30T22:02:12.485014Z",
     "end_time": "2023-05-30T22:02:12.507124Z"
    }
   }
  },
  {
   "cell_type": "code",
   "execution_count": 62,
   "outputs": [
    {
     "data": {
      "text/plain": "0.0"
     },
     "execution_count": 62,
     "metadata": {},
     "output_type": "execute_result"
    }
   ],
   "source": [
    "Rener01_p_Night_flux_diel_model = solution.fluxes['REner01_p_Night']\n",
    "Rener01_p_Night_flux_diel_model"
   ],
   "metadata": {
    "collapsed": false,
    "ExecuteTime": {
     "start_time": "2023-05-30T22:02:12.861876Z",
     "end_time": "2023-05-30T22:02:12.931581Z"
    }
   }
  },
  {
   "cell_type": "markdown",
   "source": [
    "### Reações Ciclo de Calvin"
   ],
   "metadata": {
    "collapsed": false
   }
  },
  {
   "cell_type": "markdown",
   "source": [
    "- Rubisco + CO2"
   ],
   "metadata": {
    "collapsed": false
   }
  },
  {
   "cell_type": "code",
   "execution_count": 63,
   "outputs": [
    {
     "data": {
      "text/plain": "<Reaction R00024_p_Night at 0x248279c2490>",
      "text/html": "\n        <table>\n            <tr>\n                <td><strong>Reaction identifier</strong></td><td>R00024_p_Night</td>\n            </tr><tr>\n                <td><strong>Name</strong></td><td>ribulose bisphosphate carboxylase small chain 1A / RuBisCO small subunit 1A (RBCS-1A) (ATS1A)</td>\n            </tr><tr>\n                <td><strong>Memory address</strong></td>\n                <td>0x248279c2490</td>\n            </tr><tr>\n                <td><strong>Stoichiometry</strong></td>\n                <td>\n                    <p style='text-align:right'>S_CO2_p[C_p]_Night + S_D_45_Ribulose_32_1_44_5_45_bisphosphate_p[C_p]_Night + S_H2O_p[C_p]_Night --> 2.0 S_3_45_Phospho_45_D_45_glycerate_p[C_p]_Night</p>\n                    <p style='text-align:right'>CO2_p Night + D-Ribulose 1,5-bisphosphate Night + H2O_p Night --> 2.0 3-Phospho-D-glycerate_p Night</p>\n                </td>\n            </tr><tr>\n                <td><strong>GPR</strong></td><td></td>\n            </tr><tr>\n                <td><strong>Lower bound</strong></td><td>0.0</td>\n            </tr><tr>\n                <td><strong>Upper bound</strong></td><td>1000.0</td>\n            </tr>\n        </table>\n        "
     },
     "execution_count": 63,
     "metadata": {},
     "output_type": "execute_result"
    }
   ],
   "source": [
    "modelo.reactions.get_by_id('R00024_p_Night')"
   ],
   "metadata": {
    "collapsed": false,
    "ExecuteTime": {
     "start_time": "2023-05-30T22:02:16.904824Z",
     "end_time": "2023-05-30T22:02:18.696968Z"
    }
   }
  },
  {
   "cell_type": "code",
   "execution_count": 14,
   "outputs": [
    {
     "data": {
      "text/plain": "0.0"
     },
     "execution_count": 14,
     "metadata": {},
     "output_type": "execute_result"
    }
   ],
   "source": [
    "R00024_p_Night_flux_diel_model = solution.fluxes['R00024_p_Night']\n",
    "R00024_p_Night_flux_diel_model"
   ],
   "metadata": {
    "collapsed": false,
    "ExecuteTime": {
     "start_time": "2023-05-30T16:59:31.616939Z",
     "end_time": "2023-05-30T16:59:31.639125Z"
    }
   }
  },
  {
   "cell_type": "code",
   "execution_count": 15,
   "outputs": [
    {
     "data": {
      "text/plain": "0.0"
     },
     "execution_count": 15,
     "metadata": {},
     "output_type": "execute_result"
    }
   ],
   "source": [
    "R00024_p_Day_flux_diel_model = solution.fluxes['R00024_p_Day']\n",
    "R00024_p_Day_flux_diel_model"
   ],
   "metadata": {
    "collapsed": false,
    "ExecuteTime": {
     "start_time": "2023-05-30T16:59:32.505126Z",
     "end_time": "2023-05-30T16:59:32.554275Z"
    }
   }
  },
  {
   "cell_type": "markdown",
   "source": [
    "- Rubisco + Oxigénio"
   ],
   "metadata": {
    "collapsed": false
   }
  },
  {
   "cell_type": "code",
   "execution_count": 32,
   "outputs": [
    {
     "data": {
      "text/plain": "<Reaction R03140_p_Day at 0x1b5c8f26ac0>",
      "text/html": "\n        <table>\n            <tr>\n                <td><strong>Reaction identifier</strong></td><td>R03140_p_Day</td>\n            </tr><tr>\n                <td><strong>Name</strong></td><td>ribulose bisphosphate carboxylase small chain 1A / RuBisCO small subunit 1A (RBCS-1A) (ATS1A)</td>\n            </tr><tr>\n                <td><strong>Memory address</strong></td>\n                <td>0x1b5c8f26ac0</td>\n            </tr><tr>\n                <td><strong>Stoichiometry</strong></td>\n                <td>\n                    <p style='text-align:right'>S_D_45_Ribulose_32_1_44_5_45_bisphosphate_p[C_p]_Day + S_Oxygen_p[C_p]_Day --> S_2_45_Phosphoglycolate_p[C_p]_Day + S_3_45_Phospho_45_D_45_glycerate_p[C_p]_Day</p>\n                    <p style='text-align:right'>D-Ribulose 1,5-bisphosphate Day + Oxygen_p Day --> 2-Phosphoglycolate Day + 3-Phospho-D-glycerate_p Day</p>\n                </td>\n            </tr><tr>\n                <td><strong>GPR</strong></td><td>ARTHCP030 or AT1G67090 or AT5G38410 or AT5G38420 or AT5G38430</td>\n            </tr><tr>\n                <td><strong>Lower bound</strong></td><td>0.0</td>\n            </tr><tr>\n                <td><strong>Upper bound</strong></td><td>1000.0</td>\n            </tr>\n        </table>\n        "
     },
     "execution_count": 32,
     "metadata": {},
     "output_type": "execute_result"
    }
   ],
   "source": [
    "modelo.reactions.get_by_id('R03140_p_Day')"
   ],
   "metadata": {
    "collapsed": false,
    "ExecuteTime": {
     "start_time": "2023-05-29T10:21:29.229339Z",
     "end_time": "2023-05-29T10:21:29.276839Z"
    }
   }
  },
  {
   "cell_type": "code",
   "execution_count": 31,
   "outputs": [
    {
     "data": {
      "text/plain": "<Reaction R03140_p_Night at 0x1b5c987bfa0>",
      "text/html": "\n        <table>\n            <tr>\n                <td><strong>Reaction identifier</strong></td><td>R03140_p_Night</td>\n            </tr><tr>\n                <td><strong>Name</strong></td><td>ribulose bisphosphate carboxylase small chain 1A / RuBisCO small subunit 1A (RBCS-1A) (ATS1A)</td>\n            </tr><tr>\n                <td><strong>Memory address</strong></td>\n                <td>0x1b5c987bfa0</td>\n            </tr><tr>\n                <td><strong>Stoichiometry</strong></td>\n                <td>\n                    <p style='text-align:right'>S_D_45_Ribulose_32_1_44_5_45_bisphosphate_p[C_p]_Night + S_Oxygen_p[C_p]_Night --> S_2_45_Phosphoglycolate_p[C_p]_Night + S_3_45_Phospho_45_D_45_glycerate_p[C_p]_Night</p>\n                    <p style='text-align:right'>D-Ribulose 1,5-bisphosphate Night + Oxygen_p Night --> 2-Phosphoglycolate Night + 3-Phospho-D-glycerate_p Night</p>\n                </td>\n            </tr><tr>\n                <td><strong>GPR</strong></td><td></td>\n            </tr><tr>\n                <td><strong>Lower bound</strong></td><td>0.0</td>\n            </tr><tr>\n                <td><strong>Upper bound</strong></td><td>1000.0</td>\n            </tr>\n        </table>\n        "
     },
     "execution_count": 31,
     "metadata": {},
     "output_type": "execute_result"
    }
   ],
   "source": [
    "modelo.reactions.get_by_id('R03140_p_Night')"
   ],
   "metadata": {
    "collapsed": false,
    "ExecuteTime": {
     "start_time": "2023-05-29T10:21:26.612162Z",
     "end_time": "2023-05-29T10:21:26.655165Z"
    }
   }
  },
  {
   "cell_type": "code",
   "execution_count": 36,
   "outputs": [],
   "source": [
    "R03140_p_Day_flux_diel_model = solution.fluxes['R03140_p_Day']"
   ],
   "metadata": {
    "collapsed": false,
    "ExecuteTime": {
     "start_time": "2023-05-29T10:23:09.045845Z",
     "end_time": "2023-05-29T10:23:09.073689Z"
    }
   }
  },
  {
   "cell_type": "code",
   "execution_count": 37,
   "outputs": [],
   "source": [
    "R03140_p_Night_flux_diel_model = solution.fluxes['R03140_p_Night']"
   ],
   "metadata": {
    "collapsed": false,
    "ExecuteTime": {
     "start_time": "2023-05-29T10:23:09.233533Z",
     "end_time": "2023-05-29T10:23:09.273103Z"
    }
   }
  },
  {
   "cell_type": "markdown",
   "source": [
    "- PGK"
   ],
   "metadata": {
    "collapsed": false
   }
  },
  {
   "cell_type": "code",
   "execution_count": 54,
   "outputs": [
    {
     "data": {
      "text/plain": "<Reaction R01512_c_Day at 0x1b5c8d5bca0>",
      "text/html": "\n        <table>\n            <tr>\n                <td><strong>Reaction identifier</strong></td><td>R01512_c_Day</td>\n            </tr><tr>\n                <td><strong>Name</strong></td><td>phosphoglycerate kinase, putative</td>\n            </tr><tr>\n                <td><strong>Memory address</strong></td>\n                <td>0x1b5c8d5bca0</td>\n            </tr><tr>\n                <td><strong>Stoichiometry</strong></td>\n                <td>\n                    <p style='text-align:right'>S_3_45_Phospho_45_D_45_glycerate_c[C_c]_Day + S_ATP_c[C_c]_Day <=> S_3_45_Phospho_45_D_45_glyceroyl_32_phosphate_c[C_c]_Day + S_ADP_c[C_c]_Day</p>\n                    <p style='text-align:right'>3-Phospho-D-glycerate_c Day + ATP_c Day <=> 3-Phospho-D-glyceroyl phosphate Day + ADP_c Day</p>\n                </td>\n            </tr><tr>\n                <td><strong>GPR</strong></td><td>AT1G56190 or AT1G79550 or AT3G12780</td>\n            </tr><tr>\n                <td><strong>Lower bound</strong></td><td>-1000.0</td>\n            </tr><tr>\n                <td><strong>Upper bound</strong></td><td>1000.0</td>\n            </tr>\n        </table>\n        "
     },
     "execution_count": 54,
     "metadata": {},
     "output_type": "execute_result"
    }
   ],
   "source": [
    "modelo.reactions.get_by_id(\"R01512_c_Day\")"
   ],
   "metadata": {
    "collapsed": false,
    "ExecuteTime": {
     "start_time": "2023-05-29T15:30:57.530929Z",
     "end_time": "2023-05-29T15:30:57.566251Z"
    }
   }
  },
  {
   "cell_type": "code",
   "execution_count": 55,
   "outputs": [
    {
     "data": {
      "text/plain": "<Reaction R01512_c_Night at 0x1b5c978cf70>",
      "text/html": "\n        <table>\n            <tr>\n                <td><strong>Reaction identifier</strong></td><td>R01512_c_Night</td>\n            </tr><tr>\n                <td><strong>Name</strong></td><td>phosphoglycerate kinase, putative</td>\n            </tr><tr>\n                <td><strong>Memory address</strong></td>\n                <td>0x1b5c978cf70</td>\n            </tr><tr>\n                <td><strong>Stoichiometry</strong></td>\n                <td>\n                    <p style='text-align:right'>S_3_45_Phospho_45_D_45_glycerate_c[C_c]_Night + S_ATP_c[C_c]_Night <=> S_3_45_Phospho_45_D_45_glyceroyl_32_phosphate_c[C_c]_Night + S_ADP_c[C_c]_Night</p>\n                    <p style='text-align:right'>3-Phospho-D-glycerate_c Night + ATP_c Night <=> 3-Phospho-D-glyceroyl phosphate Night + ADP_c Night</p>\n                </td>\n            </tr><tr>\n                <td><strong>GPR</strong></td><td></td>\n            </tr><tr>\n                <td><strong>Lower bound</strong></td><td>-1000.0</td>\n            </tr><tr>\n                <td><strong>Upper bound</strong></td><td>1000.0</td>\n            </tr>\n        </table>\n        "
     },
     "execution_count": 55,
     "metadata": {},
     "output_type": "execute_result"
    }
   ],
   "source": [
    "modelo.reactions.get_by_id(\"R01512_c_Night\")"
   ],
   "metadata": {
    "collapsed": false,
    "ExecuteTime": {
     "start_time": "2023-05-29T15:30:57.753201Z",
     "end_time": "2023-05-29T15:30:57.813148Z"
    }
   }
  },
  {
   "cell_type": "code",
   "execution_count": 45,
   "outputs": [],
   "source": [
    "R01512_c_Day_flux_diel_model = solution.fluxes['R01512_c_Day']"
   ],
   "metadata": {
    "collapsed": false,
    "ExecuteTime": {
     "start_time": "2023-05-29T15:25:07.295757Z",
     "end_time": "2023-05-29T15:25:07.326714Z"
    }
   }
  },
  {
   "cell_type": "code",
   "execution_count": 44,
   "outputs": [],
   "source": [
    "R01512_c_Night_flux_diel_model =  solution.fluxes['R01512_c_Night']"
   ],
   "metadata": {
    "collapsed": false,
    "ExecuteTime": {
     "start_time": "2023-05-29T15:24:58.643205Z",
     "end_time": "2023-05-29T15:24:58.664055Z"
    }
   }
  },
  {
   "cell_type": "markdown",
   "source": [
    "- Frutose 1,6 bifostato -> Frutose 1,6 fosfato"
   ],
   "metadata": {
    "collapsed": false
   }
  },
  {
   "cell_type": "code",
   "execution_count": 51,
   "outputs": [
    {
     "data": {
      "text/plain": "<Reaction R04780_c_Day at 0x1b5c90b6fa0>",
      "text/html": "\n        <table>\n            <tr>\n                <td><strong>Reaction identifier</strong></td><td>R04780_c_Day</td>\n            </tr><tr>\n                <td><strong>Name</strong></td><td>fructose-1,6-bisphosphatase, putative / D-fructose-1,6-bisphosphate 1-phosphohydrolase, putative...</td>\n            </tr><tr>\n                <td><strong>Memory address</strong></td>\n                <td>0x1b5c90b6fa0</td>\n            </tr><tr>\n                <td><strong>Stoichiometry</strong></td>\n                <td>\n                    <p style='text-align:right'>S_H2O_c[C_c]_Day + S_beta_45_D_45_Fructose_32_1_44_6_45_bisphosphate_c[C_c]_Day --> S_Orthophosphate_c[C_c]_Day + S_beta_45_D_45_Fructose_32_6_45_phosphate_c[C_c]_Day</p>\n                    <p style='text-align:right'>H2O_c Day + beta-D-Fructose 1,6-bisphosphate Day --> Orthophosphate_c Day + beta-D-Fructose 6-phosphate Day</p>\n                </td>\n            </tr><tr>\n                <td><strong>GPR</strong></td><td>AT1G43670 or AT3G54050</td>\n            </tr><tr>\n                <td><strong>Lower bound</strong></td><td>0.0</td>\n            </tr><tr>\n                <td><strong>Upper bound</strong></td><td>1000.0</td>\n            </tr>\n        </table>\n        "
     },
     "execution_count": 51,
     "metadata": {},
     "output_type": "execute_result"
    }
   ],
   "source": [
    "modelo.reactions.get_by_id(\"R04780_c_Day\")"
   ],
   "metadata": {
    "collapsed": false,
    "ExecuteTime": {
     "start_time": "2023-05-29T15:28:48.137427Z",
     "end_time": "2023-05-29T15:28:48.186502Z"
    }
   }
  },
  {
   "cell_type": "code",
   "execution_count": 52,
   "outputs": [],
   "source": [
    "R04780_c_Day_flux_diel_model = solution.fluxes['R04780_c_Day']"
   ],
   "metadata": {
    "collapsed": false,
    "ExecuteTime": {
     "start_time": "2023-05-29T15:30:02.711293Z",
     "end_time": "2023-05-29T15:30:02.728827Z"
    }
   }
  },
  {
   "cell_type": "code",
   "execution_count": 53,
   "outputs": [],
   "source": [
    "R04780_c_Night_flux_diel_model = solution.fluxes['R04780_c_Night']"
   ],
   "metadata": {
    "collapsed": false,
    "ExecuteTime": {
     "start_time": "2023-05-29T15:30:17.464901Z",
     "end_time": "2023-05-29T15:30:17.488758Z"
    }
   }
  },
  {
   "cell_type": "code",
   "execution_count": 67,
   "outputs": [
    {
     "data": {
      "text/plain": "frozenset({<Reaction R00024_p_Night at 0x1b5c966dcd0>,\n           <Reaction R01523_p_Night at 0x1b5c97979d0>,\n           <Reaction R03140_p_Night at 0x1b5c987bfa0>})"
     },
     "execution_count": 67,
     "metadata": {},
     "output_type": "execute_result"
    }
   ],
   "source": [
    "modelo.metabolites.get_by_id(\"S_D_45_Ribulose_32_1_44_5_45_bisphosphate_p[C_p]_Night\").reactions"
   ],
   "metadata": {
    "collapsed": false,
    "ExecuteTime": {
     "start_time": "2023-05-29T15:43:58.380340Z",
     "end_time": "2023-05-29T15:43:58.421258Z"
    }
   }
  },
  {
   "cell_type": "code",
   "execution_count": 42,
   "outputs": [
    {
     "data": {
      "text/plain": "<Reaction R00762_p_Night at 0x226f5671bb0>",
      "text/html": "\n        <table>\n            <tr>\n                <td><strong>Reaction identifier</strong></td><td>R00762_p_Night</td>\n            </tr><tr>\n                <td><strong>Name</strong></td><td>fructose-1,6-bisphosphatase, putative / D-fructose-1,6-bisphosphate 1-phosphohydrolase, putative...</td>\n            </tr><tr>\n                <td><strong>Memory address</strong></td>\n                <td>0x226f5671bb0</td>\n            </tr><tr>\n                <td><strong>Stoichiometry</strong></td>\n                <td>\n                    <p style='text-align:right'>S_D_45_Fructose_32_1_44_6_45_bisphosphate_p[C_p]_Night + S_H2O_p[C_p]_Night --> S_D_45_Fructose_32_6_45_phosphate_p[C_p]_Night + S_Orthophosphate_p[C_p]_Night</p>\n                    <p style='text-align:right'>D-Fructose 1,6-bisphosphate Night + H2O_p Night --> D-Fructose 6-phosphate Night + Orthophosphate_p Night</p>\n                </td>\n            </tr><tr>\n                <td><strong>GPR</strong></td><td></td>\n            </tr><tr>\n                <td><strong>Lower bound</strong></td><td>0.0</td>\n            </tr><tr>\n                <td><strong>Upper bound</strong></td><td>1000.0</td>\n            </tr>\n        </table>\n        "
     },
     "execution_count": 42,
     "metadata": {},
     "output_type": "execute_result"
    }
   ],
   "source": [
    "modelo.reactions.get_by_id(\"R00762_p_Night\")"
   ],
   "metadata": {
    "collapsed": false,
    "ExecuteTime": {
     "start_time": "2023-05-27T21:45:06.899290Z",
     "end_time": "2023-05-27T21:45:06.950349Z"
    }
   }
  },
  {
   "cell_type": "code",
   "execution_count": 60,
   "outputs": [
    {
     "data": {
      "text/plain": "<Reaction R01529_c_Day at 0x1b5c8d7bee0>",
      "text/html": "\n        <table>\n            <tr>\n                <td><strong>Reaction identifier</strong></td><td>R01529_c_Day</td>\n            </tr><tr>\n                <td><strong>Name</strong></td><td>ribulose-phosphate 3-epimerase, cytosolic, putative / pentose-5-phosphate 3-epimerase, putative</td>\n            </tr><tr>\n                <td><strong>Memory address</strong></td>\n                <td>0x1b5c8d7bee0</td>\n            </tr><tr>\n                <td><strong>Stoichiometry</strong></td>\n                <td>\n                    <p style='text-align:right'>S_D_45_Ribulose_32_5_45_phosphate_c[C_c]_Day <=> S_D_45_Xylulose_32_5_45_phosphate_c[C_c]_Day</p>\n                    <p style='text-align:right'>D-Ribulose 5-phosphate Day <=> D-Xylulose 5-phosphate Day</p>\n                </td>\n            </tr><tr>\n                <td><strong>GPR</strong></td><td>AT1G63290 or AT3G01850 or AT5G61410</td>\n            </tr><tr>\n                <td><strong>Lower bound</strong></td><td>-1000.0</td>\n            </tr><tr>\n                <td><strong>Upper bound</strong></td><td>1000.0</td>\n            </tr>\n        </table>\n        "
     },
     "execution_count": 60,
     "metadata": {},
     "output_type": "execute_result"
    }
   ],
   "source": [
    "modelo.reactions.get_by_id(\"R01529_c_Day\")"
   ],
   "metadata": {
    "collapsed": false,
    "ExecuteTime": {
     "start_time": "2023-05-29T15:36:43.405271Z",
     "end_time": "2023-05-29T15:36:43.426311Z"
    }
   }
  },
  {
   "cell_type": "code",
   "execution_count": 61,
   "outputs": [],
   "source": [
    "R01529_c_Day_flux_diel_model = solution.fluxes[\"R01529_c_Day\"]"
   ],
   "metadata": {
    "collapsed": false,
    "ExecuteTime": {
     "start_time": "2023-05-29T15:37:15.515114Z",
     "end_time": "2023-05-29T15:37:15.533916Z"
    }
   }
  },
  {
   "cell_type": "code",
   "execution_count": 62,
   "outputs": [],
   "source": [
    "R01529_c_Night_flux_diel_model = solution.fluxes[\"R01529_c_Night\"]"
   ],
   "metadata": {
    "collapsed": false,
    "ExecuteTime": {
     "start_time": "2023-05-29T15:37:26.743466Z",
     "end_time": "2023-05-29T15:37:26.759658Z"
    }
   }
  },
  {
   "cell_type": "code",
   "execution_count": 82,
   "outputs": [],
   "source": [
    "from tests import TEST_DIR\n",
    "import os\n",
    "original_model = cobra.io.read_sbml_model(os.path.join(TEST_DIR, 'data', 'aragem_photo.xml'))"
   ],
   "metadata": {
    "collapsed": false,
    "ExecuteTime": {
     "start_time": "2023-05-30T22:55:09.397019Z",
     "end_time": "2023-05-30T22:55:13.049050Z"
    }
   }
  },
  {
   "cell_type": "code",
   "execution_count": 83,
   "outputs": [
    {
     "data": {
      "text/plain": "<cobra.summary.model_summary.ModelSummary at 0x144f2d2c2b0>",
      "text/html": "<h3>Objective</h3><p>0.01 Ex16 = 0.23290436512820695</p><h4>Uptake</h4><table border=\"1\" class=\"dataframe\">\n  <thead>\n    <tr style=\"text-align: right;\">\n      <th>Metabolite</th>\n      <th>Reaction</th>\n      <th>Flux</th>\n      <th>C-Number</th>\n      <th>C-Flux</th>\n    </tr>\n  </thead>\n  <tbody>\n    <tr>\n      <td>S_CO2_c[C_c]</td>\n      <td>Ex1</td>\n      <td>2.315</td>\n      <td>0</td>\n      <td>0.00%</td>\n    </tr>\n    <tr>\n      <td>S_Hydrogen_32_sulfide_c[C_c]</td>\n      <td>Ex11</td>\n      <td>0.00286</td>\n      <td>0</td>\n      <td>0.00%</td>\n    </tr>\n    <tr>\n      <td>S_hv_p[C_p]</td>\n      <td>Ex16</td>\n      <td>23.29</td>\n      <td>0</td>\n      <td>0.00%</td>\n    </tr>\n    <tr>\n      <td>S_Orthophosphate_c[C_c]</td>\n      <td>Ex18</td>\n      <td>0.002431</td>\n      <td>0</td>\n      <td>0.00%</td>\n    </tr>\n    <tr>\n      <td>S_H2O_c[C_c]</td>\n      <td>Ex2</td>\n      <td>9.198</td>\n      <td>0</td>\n      <td>0.00%</td>\n    </tr>\n    <tr>\n      <td>S_NH3_c[C_c]</td>\n      <td>Ex5</td>\n      <td>0.3505</td>\n      <td>0</td>\n      <td>0.00%</td>\n    </tr>\n  </tbody>\n</table><h4>Secretion</h4><table border=\"1\" class=\"dataframe\">\n  <thead>\n    <tr style=\"text-align: right;\">\n      <th>Metabolite</th>\n      <th>Reaction</th>\n      <th>Flux</th>\n      <th>C-Number</th>\n      <th>C-Flux</th>\n    </tr>\n  </thead>\n  <tbody>\n    <tr>\n      <td>S_Oxygen_c[C_c]</td>\n      <td>Ex3</td>\n      <td>-2.435</td>\n      <td>0</td>\n      <td>0.00%</td>\n    </tr>\n  </tbody>\n</table>"
     },
     "execution_count": 83,
     "metadata": {},
     "output_type": "execute_result"
    }
   ],
   "source": [
    "original_model.summary()"
   ],
   "metadata": {
    "collapsed": false,
    "ExecuteTime": {
     "start_time": "2023-05-30T22:55:13.054709Z",
     "end_time": "2023-05-30T22:55:15.032682Z"
    }
   }
  },
  {
   "cell_type": "code",
   "execution_count": 84,
   "outputs": [],
   "source": [
    "original_model.objective_direction = \"max\"\n",
    "solution_original = pfba(original_model)"
   ],
   "metadata": {
    "collapsed": false,
    "ExecuteTime": {
     "start_time": "2023-05-30T22:55:16.920305Z",
     "end_time": "2023-05-30T22:55:17.128942Z"
    }
   }
  },
  {
   "cell_type": "code",
   "execution_count": 129,
   "outputs": [
    {
     "data": {
      "text/plain": "2.5076369999991925"
     },
     "execution_count": 129,
     "metadata": {},
     "output_type": "execute_result"
    }
   ],
   "source": [
    "solution_original.fluxes[\"R01523_p\"]"
   ],
   "metadata": {
    "collapsed": false,
    "ExecuteTime": {
     "start_time": "2023-05-30T23:15:50.109672Z",
     "end_time": "2023-05-30T23:15:50.126511Z"
    }
   }
  },
  {
   "cell_type": "code",
   "execution_count": null,
   "outputs": [],
   "source": [],
   "metadata": {
    "collapsed": false
   }
  }
 ],
 "metadata": {
  "kernelspec": {
   "display_name": "Python 3",
   "language": "python",
   "name": "python3"
  },
  "language_info": {
   "codemirror_mode": {
    "name": "ipython",
    "version": 2
   },
   "file_extension": ".py",
   "mimetype": "text/x-python",
   "name": "python",
   "nbconvert_exporter": "python",
   "pygments_lexer": "ipython2",
   "version": "2.7.6"
  }
 },
 "nbformat": 4,
 "nbformat_minor": 0
}
