{
 "cells": [
  {
   "cell_type": "code",
   "execution_count": 1,
   "metadata": {
    "collapsed": true,
    "ExecuteTime": {
     "start_time": "2023-05-29T16:40:22.899617Z",
     "end_time": "2023-05-29T16:40:32.730231Z"
    }
   },
   "outputs": [],
   "source": [
    "import cobra.io\n",
    "\n",
    "modelo = cobra.io.read_sbml_model(\"C:\\\\Users\\\\lucia\\\\Desktop\\\\DielModels\\\\reconstruction_results\\\\MODEL1507180028\\\\results_troppo\\\\DielModel\\\\reconstructed_models\\\\Diel_Model.xml\")"
   ]
  },
  {
   "cell_type": "code",
   "execution_count": 4,
   "outputs": [
    {
     "name": "stdout",
     "output_type": "stream",
     "text": [
      "frozenset({<Reaction Ex16_Night at 0x1b5c96385b0>, <Reaction REner01_p_Night at 0x1b5c8b6f7c0>})\n"
     ]
    }
   ],
   "source": [
    "for metabolite in modelo.metabolites.query('hv'):\n",
    "    if \"Night\" in metabolite.compartment:\n",
    "        print(metabolite.reactions)"
   ],
   "metadata": {
    "collapsed": false,
    "ExecuteTime": {
     "start_time": "2023-05-29T09:49:15.211947Z",
     "end_time": "2023-05-29T09:49:15.252617Z"
    }
   }
  },
  {
   "cell_type": "code",
   "execution_count": 2,
   "outputs": [],
   "source": [
    "from cobra.flux_analysis import pfba"
   ],
   "metadata": {
    "collapsed": false,
    "ExecuteTime": {
     "start_time": "2023-05-29T16:40:32.722031Z",
     "end_time": "2023-05-29T16:40:32.731239Z"
    }
   }
  },
  {
   "cell_type": "code",
   "execution_count": 3,
   "outputs": [],
   "source": [
    "from diel_models.nitrate_uptake_ratio import NitrateUptakeRatioCalibrator\n",
    "\n",
    "modelo.reactions.get_by_id(\"Biomass_Total\").upper_bound = 0.11\n",
    "modelo.reactions.get_by_id(\"Biomass_Total\").lower_bound = 0.11\n",
    "modelo.objective = \"Ex16_Day\"\n",
    "modelo.objective_direction = \"min\"\n",
    "nitrate_calibrator = NitrateUptakeRatioCalibrator(modelo, \"Ex4_Day\", \"Ex4_Night\")\n",
    "nitrate_calibrator.run()\n",
    "model = nitrate_calibrator.model\n",
    "model.reactions.get_by_id(\"Ex5_Night\").bounds = (0, 1000)\n",
    "model.reactions.get_by_id(\"Ex5_Day\").bounds = (0, 1000)\n",
    "solution = pfba(modelo)"
   ],
   "metadata": {
    "collapsed": false,
    "ExecuteTime": {
     "start_time": "2023-05-29T16:40:32.725703Z",
     "end_time": "2023-05-29T16:40:36.730489Z"
    }
   }
  },
  {
   "cell_type": "code",
   "execution_count": 4,
   "outputs": [],
   "source": [
    "produced_at_day = solution.fluxes.loc[(solution.fluxes.index.str.contains('Day_sp')) & (round(solution.fluxes, 5) > 0)]"
   ],
   "metadata": {
    "collapsed": false,
    "ExecuteTime": {
     "start_time": "2023-05-29T16:40:36.737294Z",
     "end_time": "2023-05-29T16:40:36.747061Z"
    }
   }
  },
  {
   "cell_type": "code",
   "execution_count": 9,
   "outputs": [],
   "source": [
    "produced_at_night = solution.fluxes.loc[(solution.fluxes.index.str.contains('Night_sp')) & (round(solution.fluxes, 5) < 0)]"
   ],
   "metadata": {
    "collapsed": false,
    "ExecuteTime": {
     "start_time": "2023-05-29T16:41:21.855656Z",
     "end_time": "2023-05-29T16:41:21.887126Z"
    }
   }
  },
  {
   "cell_type": "code",
   "execution_count": 10,
   "outputs": [],
   "source": [
    "import pandas as pd\n",
    "import os\n",
    "from cobra.flux_analysis import flux_variability_analysis as fva\n",
    "\n",
    "fva_solution = fva(modelo, [storage for storage in modelo.reactions if \"_sp\" in storage.id], fraction_of_optimum=1.0, processes=os.cpu_count())\n",
    "produced_at_day = pd.concat([produced_at_day, fva_solution.loc[produced_at_day.index, ['minimum', 'maximum']]],\n",
    "                                axis=1)\n",
    "produced_at_night = pd.concat([produced_at_night, fva_solution.loc[produced_at_night.index, ['minimum', 'maximum']]], axis=1)"
   ],
   "metadata": {
    "collapsed": false,
    "ExecuteTime": {
     "start_time": "2023-05-29T16:41:22.687713Z",
     "end_time": "2023-05-29T16:41:52.274739Z"
    }
   }
  },
  {
   "cell_type": "code",
   "execution_count": 11,
   "outputs": [
    {
     "data": {
      "text/plain": "                                   fluxes   minimum   maximum   minimum  \\\nSucrose_c_Day_sp_exchange        0.024970 -0.296093  0.296093 -0.296093   \nL-Isoleucine_Day_sp_exchange     0.003300 -0.003300  0.003300 -0.003300   \nL-Leucine_Day_sp_exchange        0.007700 -0.007700  0.007700 -0.007700   \nL-Lysine_Day_sp_exchange         0.000055 -0.000055  0.000055 -0.000055   \nL-Methionine_Day_sp_exchange     0.000110 -0.000110  0.000110 -0.000110   \nL-Phenylalanine_Day_sp_exchange  0.004400 -0.027940  0.027940 -0.027940   \nL-Threonine_Day_sp_exchange      0.004730 -0.011550  0.011550 -0.011550   \nL-Tryptophan_Day_sp_exchange     0.002200 -0.002200  0.002200 -0.002200   \nL-Cysteine_Day_sp_exchange       0.001320 -0.001320  0.001320 -0.001320   \nL-Glutamine_c_Day_sp_exchange    0.140503 -0.481077  0.481077 -0.481077   \nL-Glutamate_c_Day_sp_exchange    1.363633  0.373519  7.024080  0.373519   \nL-Tyrosine_Day_sp_exchange       0.009570 -0.009570  0.009570 -0.009570   \nL-Asparagine_Day_sp_exchange     0.021450 -0.148816  0.148816 -0.148816   \nL-Serine_c_Day_sp_exchange       0.011550 -0.273322  0.273322 -0.273322   \nStarch_p_Day_sp_exchange         0.114129 -0.285697  0.285697 -0.285697   \n(S)-Malate_c_Day_sp_exchange     1.386287  1.310847  9.785551  1.310847   \nFumarate_Day_sp_exchange         0.019646 -0.038148  0.038148 -0.038148   \n\n                                  maximum  \nSucrose_c_Day_sp_exchange        0.296093  \nL-Isoleucine_Day_sp_exchange     0.003300  \nL-Leucine_Day_sp_exchange        0.007700  \nL-Lysine_Day_sp_exchange         0.000055  \nL-Methionine_Day_sp_exchange     0.000110  \nL-Phenylalanine_Day_sp_exchange  0.027940  \nL-Threonine_Day_sp_exchange      0.011550  \nL-Tryptophan_Day_sp_exchange     0.002200  \nL-Cysteine_Day_sp_exchange       0.001320  \nL-Glutamine_c_Day_sp_exchange    0.481077  \nL-Glutamate_c_Day_sp_exchange    7.024080  \nL-Tyrosine_Day_sp_exchange       0.009570  \nL-Asparagine_Day_sp_exchange     0.148816  \nL-Serine_c_Day_sp_exchange       0.273323  \nStarch_p_Day_sp_exchange         0.285698  \n(S)-Malate_c_Day_sp_exchange     9.785551  \nFumarate_Day_sp_exchange         0.038148  ",
      "text/html": "<div>\n<style scoped>\n    .dataframe tbody tr th:only-of-type {\n        vertical-align: middle;\n    }\n\n    .dataframe tbody tr th {\n        vertical-align: top;\n    }\n\n    .dataframe thead th {\n        text-align: right;\n    }\n</style>\n<table border=\"1\" class=\"dataframe\">\n  <thead>\n    <tr style=\"text-align: right;\">\n      <th></th>\n      <th>fluxes</th>\n      <th>minimum</th>\n      <th>maximum</th>\n      <th>minimum</th>\n      <th>maximum</th>\n    </tr>\n  </thead>\n  <tbody>\n    <tr>\n      <th>Sucrose_c_Day_sp_exchange</th>\n      <td>0.024970</td>\n      <td>-0.296093</td>\n      <td>0.296093</td>\n      <td>-0.296093</td>\n      <td>0.296093</td>\n    </tr>\n    <tr>\n      <th>L-Isoleucine_Day_sp_exchange</th>\n      <td>0.003300</td>\n      <td>-0.003300</td>\n      <td>0.003300</td>\n      <td>-0.003300</td>\n      <td>0.003300</td>\n    </tr>\n    <tr>\n      <th>L-Leucine_Day_sp_exchange</th>\n      <td>0.007700</td>\n      <td>-0.007700</td>\n      <td>0.007700</td>\n      <td>-0.007700</td>\n      <td>0.007700</td>\n    </tr>\n    <tr>\n      <th>L-Lysine_Day_sp_exchange</th>\n      <td>0.000055</td>\n      <td>-0.000055</td>\n      <td>0.000055</td>\n      <td>-0.000055</td>\n      <td>0.000055</td>\n    </tr>\n    <tr>\n      <th>L-Methionine_Day_sp_exchange</th>\n      <td>0.000110</td>\n      <td>-0.000110</td>\n      <td>0.000110</td>\n      <td>-0.000110</td>\n      <td>0.000110</td>\n    </tr>\n    <tr>\n      <th>L-Phenylalanine_Day_sp_exchange</th>\n      <td>0.004400</td>\n      <td>-0.027940</td>\n      <td>0.027940</td>\n      <td>-0.027940</td>\n      <td>0.027940</td>\n    </tr>\n    <tr>\n      <th>L-Threonine_Day_sp_exchange</th>\n      <td>0.004730</td>\n      <td>-0.011550</td>\n      <td>0.011550</td>\n      <td>-0.011550</td>\n      <td>0.011550</td>\n    </tr>\n    <tr>\n      <th>L-Tryptophan_Day_sp_exchange</th>\n      <td>0.002200</td>\n      <td>-0.002200</td>\n      <td>0.002200</td>\n      <td>-0.002200</td>\n      <td>0.002200</td>\n    </tr>\n    <tr>\n      <th>L-Cysteine_Day_sp_exchange</th>\n      <td>0.001320</td>\n      <td>-0.001320</td>\n      <td>0.001320</td>\n      <td>-0.001320</td>\n      <td>0.001320</td>\n    </tr>\n    <tr>\n      <th>L-Glutamine_c_Day_sp_exchange</th>\n      <td>0.140503</td>\n      <td>-0.481077</td>\n      <td>0.481077</td>\n      <td>-0.481077</td>\n      <td>0.481077</td>\n    </tr>\n    <tr>\n      <th>L-Glutamate_c_Day_sp_exchange</th>\n      <td>1.363633</td>\n      <td>0.373519</td>\n      <td>7.024080</td>\n      <td>0.373519</td>\n      <td>7.024080</td>\n    </tr>\n    <tr>\n      <th>L-Tyrosine_Day_sp_exchange</th>\n      <td>0.009570</td>\n      <td>-0.009570</td>\n      <td>0.009570</td>\n      <td>-0.009570</td>\n      <td>0.009570</td>\n    </tr>\n    <tr>\n      <th>L-Asparagine_Day_sp_exchange</th>\n      <td>0.021450</td>\n      <td>-0.148816</td>\n      <td>0.148816</td>\n      <td>-0.148816</td>\n      <td>0.148816</td>\n    </tr>\n    <tr>\n      <th>L-Serine_c_Day_sp_exchange</th>\n      <td>0.011550</td>\n      <td>-0.273322</td>\n      <td>0.273322</td>\n      <td>-0.273322</td>\n      <td>0.273323</td>\n    </tr>\n    <tr>\n      <th>Starch_p_Day_sp_exchange</th>\n      <td>0.114129</td>\n      <td>-0.285697</td>\n      <td>0.285697</td>\n      <td>-0.285697</td>\n      <td>0.285698</td>\n    </tr>\n    <tr>\n      <th>(S)-Malate_c_Day_sp_exchange</th>\n      <td>1.386287</td>\n      <td>1.310847</td>\n      <td>9.785551</td>\n      <td>1.310847</td>\n      <td>9.785551</td>\n    </tr>\n    <tr>\n      <th>Fumarate_Day_sp_exchange</th>\n      <td>0.019646</td>\n      <td>-0.038148</td>\n      <td>0.038148</td>\n      <td>-0.038148</td>\n      <td>0.038148</td>\n    </tr>\n  </tbody>\n</table>\n</div>"
     },
     "execution_count": 11,
     "metadata": {},
     "output_type": "execute_result"
    }
   ],
   "source": [
    "produced_at_day"
   ],
   "metadata": {
    "collapsed": false,
    "ExecuteTime": {
     "start_time": "2023-05-29T16:41:52.275762Z",
     "end_time": "2023-05-29T16:41:52.333813Z"
    }
   }
  },
  {
   "cell_type": "code",
   "execution_count": 12,
   "outputs": [
    {
     "data": {
      "text/plain": "                                 fluxes   minimum   maximum\nNitrate_c_Night_sp_exchange   -0.137528 -0.140184  0.210276\nL-Valine_Night_sp_exchange    -0.020900 -0.020900  0.020900\nL-Proline_Night_sp_exchange   -0.000550 -0.267658  3.966457\nL-Alanine_c_Night_sp_exchange -1.540705 -9.637505 -1.458893\nD-Fructose_Night_sp_exchange  -0.033165 -0.559020  0.559020\nCitrate_c_Night_sp_exchange   -1.514663 -9.747674 -1.348725",
      "text/html": "<div>\n<style scoped>\n    .dataframe tbody tr th:only-of-type {\n        vertical-align: middle;\n    }\n\n    .dataframe tbody tr th {\n        vertical-align: top;\n    }\n\n    .dataframe thead th {\n        text-align: right;\n    }\n</style>\n<table border=\"1\" class=\"dataframe\">\n  <thead>\n    <tr style=\"text-align: right;\">\n      <th></th>\n      <th>fluxes</th>\n      <th>minimum</th>\n      <th>maximum</th>\n    </tr>\n  </thead>\n  <tbody>\n    <tr>\n      <th>Nitrate_c_Night_sp_exchange</th>\n      <td>-0.137528</td>\n      <td>-0.140184</td>\n      <td>0.210276</td>\n    </tr>\n    <tr>\n      <th>L-Valine_Night_sp_exchange</th>\n      <td>-0.020900</td>\n      <td>-0.020900</td>\n      <td>0.020900</td>\n    </tr>\n    <tr>\n      <th>L-Proline_Night_sp_exchange</th>\n      <td>-0.000550</td>\n      <td>-0.267658</td>\n      <td>3.966457</td>\n    </tr>\n    <tr>\n      <th>L-Alanine_c_Night_sp_exchange</th>\n      <td>-1.540705</td>\n      <td>-9.637505</td>\n      <td>-1.458893</td>\n    </tr>\n    <tr>\n      <th>D-Fructose_Night_sp_exchange</th>\n      <td>-0.033165</td>\n      <td>-0.559020</td>\n      <td>0.559020</td>\n    </tr>\n    <tr>\n      <th>Citrate_c_Night_sp_exchange</th>\n      <td>-1.514663</td>\n      <td>-9.747674</td>\n      <td>-1.348725</td>\n    </tr>\n  </tbody>\n</table>\n</div>"
     },
     "execution_count": 12,
     "metadata": {},
     "output_type": "execute_result"
    }
   ],
   "source": [
    "produced_at_night"
   ],
   "metadata": {
    "collapsed": false,
    "ExecuteTime": {
     "start_time": "2023-05-29T16:41:52.307259Z",
     "end_time": "2023-05-29T16:41:52.355933Z"
    }
   }
  },
  {
   "cell_type": "markdown",
   "source": [
    "### Reação Fotossíntese"
   ],
   "metadata": {
    "collapsed": false
   }
  },
  {
   "cell_type": "code",
   "execution_count": 10,
   "outputs": [
    {
     "data": {
      "text/plain": "125.0"
     },
     "execution_count": 10,
     "metadata": {},
     "output_type": "execute_result"
    }
   ],
   "source": [
    "Rener01_p_Day_flux_diel_model = solution.fluxes['REner01_p_Day']\n",
    "Rener01_p_Day_flux_diel_model"
   ],
   "metadata": {
    "collapsed": false,
    "ExecuteTime": {
     "start_time": "2023-05-29T09:50:05.238456Z",
     "end_time": "2023-05-29T09:50:05.410938Z"
    }
   }
  },
  {
   "cell_type": "code",
   "execution_count": 11,
   "outputs": [
    {
     "data": {
      "text/plain": "0.0"
     },
     "execution_count": 11,
     "metadata": {},
     "output_type": "execute_result"
    }
   ],
   "source": [
    "Rener01_p_Night_flux_diel_model = solution.fluxes['REner01_p_Night']\n",
    "Rener01_p_Night_flux_diel_model"
   ],
   "metadata": {
    "collapsed": false,
    "ExecuteTime": {
     "start_time": "2023-05-29T09:50:09.996139Z",
     "end_time": "2023-05-29T09:50:10.055773Z"
    }
   }
  },
  {
   "cell_type": "markdown",
   "source": [
    "### Reações Ciclo de Calvin"
   ],
   "metadata": {
    "collapsed": false
   }
  },
  {
   "cell_type": "markdown",
   "source": [
    "- Rubisco + CO2"
   ],
   "metadata": {
    "collapsed": false
   }
  },
  {
   "cell_type": "code",
   "execution_count": 15,
   "outputs": [
    {
     "data": {
      "text/plain": "<Reaction R00024_p_Night at 0x226f55dc880>",
      "text/html": "\n        <table>\n            <tr>\n                <td><strong>Reaction identifier</strong></td><td>R00024_p_Night</td>\n            </tr><tr>\n                <td><strong>Name</strong></td><td>ribulose bisphosphate carboxylase small chain 1A / RuBisCO small subunit 1A (RBCS-1A) (ATS1A)</td>\n            </tr><tr>\n                <td><strong>Memory address</strong></td>\n                <td>0x226f55dc880</td>\n            </tr><tr>\n                <td><strong>Stoichiometry</strong></td>\n                <td>\n                    <p style='text-align:right'>S_CO2_p[C_p]_Night + S_D_45_Ribulose_32_1_44_5_45_bisphosphate_p[C_p]_Night + S_H2O_p[C_p]_Night --> 2.0 S_3_45_Phospho_45_D_45_glycerate_p[C_p]_Night</p>\n                    <p style='text-align:right'>CO2_p Night + D-Ribulose 1,5-bisphosphate Night + H2O_p Night --> 2.0 3-Phospho-D-glycerate_p Night</p>\n                </td>\n            </tr><tr>\n                <td><strong>GPR</strong></td><td></td>\n            </tr><tr>\n                <td><strong>Lower bound</strong></td><td>0.0</td>\n            </tr><tr>\n                <td><strong>Upper bound</strong></td><td>1000.0</td>\n            </tr>\n        </table>\n        "
     },
     "execution_count": 15,
     "metadata": {},
     "output_type": "execute_result"
    }
   ],
   "source": [
    "modelo.reactions.get_by_id('R00024_p_Night')"
   ],
   "metadata": {
    "collapsed": false
   }
  },
  {
   "cell_type": "code",
   "execution_count": 21,
   "outputs": [
    {
     "data": {
      "text/plain": "0.3374561054911554"
     },
     "execution_count": 21,
     "metadata": {},
     "output_type": "execute_result"
    }
   ],
   "source": [
    "R00024_p_Night_flux_diel_model = solution.fluxes['R00024_p_Night']\n",
    "R00024_p_Night_flux_diel_model"
   ],
   "metadata": {
    "collapsed": false,
    "ExecuteTime": {
     "start_time": "2023-05-29T10:14:51.124500Z",
     "end_time": "2023-05-29T10:14:51.175579Z"
    }
   }
  },
  {
   "cell_type": "code",
   "execution_count": 22,
   "outputs": [
    {
     "data": {
      "text/plain": "106.77663763966915"
     },
     "execution_count": 22,
     "metadata": {},
     "output_type": "execute_result"
    }
   ],
   "source": [
    "R00024_p_Day_flux_diel_model = solution.fluxes['R00024_p_Day']\n",
    "R00024_p_Day_flux_diel_model"
   ],
   "metadata": {
    "collapsed": false,
    "ExecuteTime": {
     "start_time": "2023-05-29T10:14:51.452900Z",
     "end_time": "2023-05-29T10:14:51.491328Z"
    }
   }
  },
  {
   "cell_type": "markdown",
   "source": [
    "- Rubisco + Oxigénio"
   ],
   "metadata": {
    "collapsed": false
   }
  },
  {
   "cell_type": "code",
   "execution_count": 32,
   "outputs": [
    {
     "data": {
      "text/plain": "<Reaction R03140_p_Day at 0x1b5c8f26ac0>",
      "text/html": "\n        <table>\n            <tr>\n                <td><strong>Reaction identifier</strong></td><td>R03140_p_Day</td>\n            </tr><tr>\n                <td><strong>Name</strong></td><td>ribulose bisphosphate carboxylase small chain 1A / RuBisCO small subunit 1A (RBCS-1A) (ATS1A)</td>\n            </tr><tr>\n                <td><strong>Memory address</strong></td>\n                <td>0x1b5c8f26ac0</td>\n            </tr><tr>\n                <td><strong>Stoichiometry</strong></td>\n                <td>\n                    <p style='text-align:right'>S_D_45_Ribulose_32_1_44_5_45_bisphosphate_p[C_p]_Day + S_Oxygen_p[C_p]_Day --> S_2_45_Phosphoglycolate_p[C_p]_Day + S_3_45_Phospho_45_D_45_glycerate_p[C_p]_Day</p>\n                    <p style='text-align:right'>D-Ribulose 1,5-bisphosphate Day + Oxygen_p Day --> 2-Phosphoglycolate Day + 3-Phospho-D-glycerate_p Day</p>\n                </td>\n            </tr><tr>\n                <td><strong>GPR</strong></td><td>ARTHCP030 or AT1G67090 or AT5G38410 or AT5G38420 or AT5G38430</td>\n            </tr><tr>\n                <td><strong>Lower bound</strong></td><td>0.0</td>\n            </tr><tr>\n                <td><strong>Upper bound</strong></td><td>1000.0</td>\n            </tr>\n        </table>\n        "
     },
     "execution_count": 32,
     "metadata": {},
     "output_type": "execute_result"
    }
   ],
   "source": [
    "modelo.reactions.get_by_id('R03140_p_Day')"
   ],
   "metadata": {
    "collapsed": false,
    "ExecuteTime": {
     "start_time": "2023-05-29T10:21:29.229339Z",
     "end_time": "2023-05-29T10:21:29.276839Z"
    }
   }
  },
  {
   "cell_type": "code",
   "execution_count": 31,
   "outputs": [
    {
     "data": {
      "text/plain": "<Reaction R03140_p_Night at 0x1b5c987bfa0>",
      "text/html": "\n        <table>\n            <tr>\n                <td><strong>Reaction identifier</strong></td><td>R03140_p_Night</td>\n            </tr><tr>\n                <td><strong>Name</strong></td><td>ribulose bisphosphate carboxylase small chain 1A / RuBisCO small subunit 1A (RBCS-1A) (ATS1A)</td>\n            </tr><tr>\n                <td><strong>Memory address</strong></td>\n                <td>0x1b5c987bfa0</td>\n            </tr><tr>\n                <td><strong>Stoichiometry</strong></td>\n                <td>\n                    <p style='text-align:right'>S_D_45_Ribulose_32_1_44_5_45_bisphosphate_p[C_p]_Night + S_Oxygen_p[C_p]_Night --> S_2_45_Phosphoglycolate_p[C_p]_Night + S_3_45_Phospho_45_D_45_glycerate_p[C_p]_Night</p>\n                    <p style='text-align:right'>D-Ribulose 1,5-bisphosphate Night + Oxygen_p Night --> 2-Phosphoglycolate Night + 3-Phospho-D-glycerate_p Night</p>\n                </td>\n            </tr><tr>\n                <td><strong>GPR</strong></td><td></td>\n            </tr><tr>\n                <td><strong>Lower bound</strong></td><td>0.0</td>\n            </tr><tr>\n                <td><strong>Upper bound</strong></td><td>1000.0</td>\n            </tr>\n        </table>\n        "
     },
     "execution_count": 31,
     "metadata": {},
     "output_type": "execute_result"
    }
   ],
   "source": [
    "modelo.reactions.get_by_id('R03140_p_Night')"
   ],
   "metadata": {
    "collapsed": false,
    "ExecuteTime": {
     "start_time": "2023-05-29T10:21:26.612162Z",
     "end_time": "2023-05-29T10:21:26.655165Z"
    }
   }
  },
  {
   "cell_type": "code",
   "execution_count": 36,
   "outputs": [],
   "source": [
    "R03140_p_Day_flux_diel_model = solution.fluxes['R03140_p_Day']"
   ],
   "metadata": {
    "collapsed": false,
    "ExecuteTime": {
     "start_time": "2023-05-29T10:23:09.045845Z",
     "end_time": "2023-05-29T10:23:09.073689Z"
    }
   }
  },
  {
   "cell_type": "code",
   "execution_count": 37,
   "outputs": [],
   "source": [
    "R03140_p_Night_flux_diel_model = solution.fluxes['R03140_p_Night']"
   ],
   "metadata": {
    "collapsed": false,
    "ExecuteTime": {
     "start_time": "2023-05-29T10:23:09.233533Z",
     "end_time": "2023-05-29T10:23:09.273103Z"
    }
   }
  },
  {
   "cell_type": "markdown",
   "source": [
    "- PGK"
   ],
   "metadata": {
    "collapsed": false
   }
  },
  {
   "cell_type": "code",
   "execution_count": 54,
   "outputs": [
    {
     "data": {
      "text/plain": "<Reaction R01512_c_Day at 0x1b5c8d5bca0>",
      "text/html": "\n        <table>\n            <tr>\n                <td><strong>Reaction identifier</strong></td><td>R01512_c_Day</td>\n            </tr><tr>\n                <td><strong>Name</strong></td><td>phosphoglycerate kinase, putative</td>\n            </tr><tr>\n                <td><strong>Memory address</strong></td>\n                <td>0x1b5c8d5bca0</td>\n            </tr><tr>\n                <td><strong>Stoichiometry</strong></td>\n                <td>\n                    <p style='text-align:right'>S_3_45_Phospho_45_D_45_glycerate_c[C_c]_Day + S_ATP_c[C_c]_Day <=> S_3_45_Phospho_45_D_45_glyceroyl_32_phosphate_c[C_c]_Day + S_ADP_c[C_c]_Day</p>\n                    <p style='text-align:right'>3-Phospho-D-glycerate_c Day + ATP_c Day <=> 3-Phospho-D-glyceroyl phosphate Day + ADP_c Day</p>\n                </td>\n            </tr><tr>\n                <td><strong>GPR</strong></td><td>AT1G56190 or AT1G79550 or AT3G12780</td>\n            </tr><tr>\n                <td><strong>Lower bound</strong></td><td>-1000.0</td>\n            </tr><tr>\n                <td><strong>Upper bound</strong></td><td>1000.0</td>\n            </tr>\n        </table>\n        "
     },
     "execution_count": 54,
     "metadata": {},
     "output_type": "execute_result"
    }
   ],
   "source": [
    "modelo.reactions.get_by_id(\"R01512_c_Day\")"
   ],
   "metadata": {
    "collapsed": false,
    "ExecuteTime": {
     "start_time": "2023-05-29T15:30:57.530929Z",
     "end_time": "2023-05-29T15:30:57.566251Z"
    }
   }
  },
  {
   "cell_type": "code",
   "execution_count": 55,
   "outputs": [
    {
     "data": {
      "text/plain": "<Reaction R01512_c_Night at 0x1b5c978cf70>",
      "text/html": "\n        <table>\n            <tr>\n                <td><strong>Reaction identifier</strong></td><td>R01512_c_Night</td>\n            </tr><tr>\n                <td><strong>Name</strong></td><td>phosphoglycerate kinase, putative</td>\n            </tr><tr>\n                <td><strong>Memory address</strong></td>\n                <td>0x1b5c978cf70</td>\n            </tr><tr>\n                <td><strong>Stoichiometry</strong></td>\n                <td>\n                    <p style='text-align:right'>S_3_45_Phospho_45_D_45_glycerate_c[C_c]_Night + S_ATP_c[C_c]_Night <=> S_3_45_Phospho_45_D_45_glyceroyl_32_phosphate_c[C_c]_Night + S_ADP_c[C_c]_Night</p>\n                    <p style='text-align:right'>3-Phospho-D-glycerate_c Night + ATP_c Night <=> 3-Phospho-D-glyceroyl phosphate Night + ADP_c Night</p>\n                </td>\n            </tr><tr>\n                <td><strong>GPR</strong></td><td></td>\n            </tr><tr>\n                <td><strong>Lower bound</strong></td><td>-1000.0</td>\n            </tr><tr>\n                <td><strong>Upper bound</strong></td><td>1000.0</td>\n            </tr>\n        </table>\n        "
     },
     "execution_count": 55,
     "metadata": {},
     "output_type": "execute_result"
    }
   ],
   "source": [
    "modelo.reactions.get_by_id(\"R01512_c_Night\")"
   ],
   "metadata": {
    "collapsed": false,
    "ExecuteTime": {
     "start_time": "2023-05-29T15:30:57.753201Z",
     "end_time": "2023-05-29T15:30:57.813148Z"
    }
   }
  },
  {
   "cell_type": "code",
   "execution_count": 45,
   "outputs": [],
   "source": [
    "R01512_c_Day_flux_diel_model = solution.fluxes['R01512_c_Day']"
   ],
   "metadata": {
    "collapsed": false,
    "ExecuteTime": {
     "start_time": "2023-05-29T15:25:07.295757Z",
     "end_time": "2023-05-29T15:25:07.326714Z"
    }
   }
  },
  {
   "cell_type": "code",
   "execution_count": 44,
   "outputs": [],
   "source": [
    "R01512_c_Night_flux_diel_model =  solution.fluxes['R01512_c_Night']"
   ],
   "metadata": {
    "collapsed": false,
    "ExecuteTime": {
     "start_time": "2023-05-29T15:24:58.643205Z",
     "end_time": "2023-05-29T15:24:58.664055Z"
    }
   }
  },
  {
   "cell_type": "markdown",
   "source": [
    "- Frutose 1,6 bifostato -> Frutose 1,6 fosfato"
   ],
   "metadata": {
    "collapsed": false
   }
  },
  {
   "cell_type": "code",
   "execution_count": 51,
   "outputs": [
    {
     "data": {
      "text/plain": "<Reaction R04780_c_Day at 0x1b5c90b6fa0>",
      "text/html": "\n        <table>\n            <tr>\n                <td><strong>Reaction identifier</strong></td><td>R04780_c_Day</td>\n            </tr><tr>\n                <td><strong>Name</strong></td><td>fructose-1,6-bisphosphatase, putative / D-fructose-1,6-bisphosphate 1-phosphohydrolase, putative...</td>\n            </tr><tr>\n                <td><strong>Memory address</strong></td>\n                <td>0x1b5c90b6fa0</td>\n            </tr><tr>\n                <td><strong>Stoichiometry</strong></td>\n                <td>\n                    <p style='text-align:right'>S_H2O_c[C_c]_Day + S_beta_45_D_45_Fructose_32_1_44_6_45_bisphosphate_c[C_c]_Day --> S_Orthophosphate_c[C_c]_Day + S_beta_45_D_45_Fructose_32_6_45_phosphate_c[C_c]_Day</p>\n                    <p style='text-align:right'>H2O_c Day + beta-D-Fructose 1,6-bisphosphate Day --> Orthophosphate_c Day + beta-D-Fructose 6-phosphate Day</p>\n                </td>\n            </tr><tr>\n                <td><strong>GPR</strong></td><td>AT1G43670 or AT3G54050</td>\n            </tr><tr>\n                <td><strong>Lower bound</strong></td><td>0.0</td>\n            </tr><tr>\n                <td><strong>Upper bound</strong></td><td>1000.0</td>\n            </tr>\n        </table>\n        "
     },
     "execution_count": 51,
     "metadata": {},
     "output_type": "execute_result"
    }
   ],
   "source": [
    "modelo.reactions.get_by_id(\"R04780_c_Day\")"
   ],
   "metadata": {
    "collapsed": false,
    "ExecuteTime": {
     "start_time": "2023-05-29T15:28:48.137427Z",
     "end_time": "2023-05-29T15:28:48.186502Z"
    }
   }
  },
  {
   "cell_type": "code",
   "execution_count": 52,
   "outputs": [],
   "source": [
    "R04780_c_Day_flux_diel_model = solution.fluxes['R04780_c_Day']"
   ],
   "metadata": {
    "collapsed": false,
    "ExecuteTime": {
     "start_time": "2023-05-29T15:30:02.711293Z",
     "end_time": "2023-05-29T15:30:02.728827Z"
    }
   }
  },
  {
   "cell_type": "code",
   "execution_count": 53,
   "outputs": [],
   "source": [
    "R04780_c_Night_flux_diel_model = solution.fluxes['R04780_c_Night']"
   ],
   "metadata": {
    "collapsed": false,
    "ExecuteTime": {
     "start_time": "2023-05-29T15:30:17.464901Z",
     "end_time": "2023-05-29T15:30:17.488758Z"
    }
   }
  },
  {
   "cell_type": "code",
   "execution_count": 67,
   "outputs": [
    {
     "data": {
      "text/plain": "frozenset({<Reaction R00024_p_Night at 0x1b5c966dcd0>,\n           <Reaction R01523_p_Night at 0x1b5c97979d0>,\n           <Reaction R03140_p_Night at 0x1b5c987bfa0>})"
     },
     "execution_count": 67,
     "metadata": {},
     "output_type": "execute_result"
    }
   ],
   "source": [
    "modelo.metabolites.get_by_id(\"S_D_45_Ribulose_32_1_44_5_45_bisphosphate_p[C_p]_Night\").reactions"
   ],
   "metadata": {
    "collapsed": false,
    "ExecuteTime": {
     "start_time": "2023-05-29T15:43:58.380340Z",
     "end_time": "2023-05-29T15:43:58.421258Z"
    }
   }
  },
  {
   "cell_type": "code",
   "execution_count": 42,
   "outputs": [
    {
     "data": {
      "text/plain": "<Reaction R00762_p_Night at 0x226f5671bb0>",
      "text/html": "\n        <table>\n            <tr>\n                <td><strong>Reaction identifier</strong></td><td>R00762_p_Night</td>\n            </tr><tr>\n                <td><strong>Name</strong></td><td>fructose-1,6-bisphosphatase, putative / D-fructose-1,6-bisphosphate 1-phosphohydrolase, putative...</td>\n            </tr><tr>\n                <td><strong>Memory address</strong></td>\n                <td>0x226f5671bb0</td>\n            </tr><tr>\n                <td><strong>Stoichiometry</strong></td>\n                <td>\n                    <p style='text-align:right'>S_D_45_Fructose_32_1_44_6_45_bisphosphate_p[C_p]_Night + S_H2O_p[C_p]_Night --> S_D_45_Fructose_32_6_45_phosphate_p[C_p]_Night + S_Orthophosphate_p[C_p]_Night</p>\n                    <p style='text-align:right'>D-Fructose 1,6-bisphosphate Night + H2O_p Night --> D-Fructose 6-phosphate Night + Orthophosphate_p Night</p>\n                </td>\n            </tr><tr>\n                <td><strong>GPR</strong></td><td></td>\n            </tr><tr>\n                <td><strong>Lower bound</strong></td><td>0.0</td>\n            </tr><tr>\n                <td><strong>Upper bound</strong></td><td>1000.0</td>\n            </tr>\n        </table>\n        "
     },
     "execution_count": 42,
     "metadata": {},
     "output_type": "execute_result"
    }
   ],
   "source": [
    "modelo.reactions.get_by_id(\"R00762_p_Night\")"
   ],
   "metadata": {
    "collapsed": false,
    "ExecuteTime": {
     "start_time": "2023-05-27T21:45:06.899290Z",
     "end_time": "2023-05-27T21:45:06.950349Z"
    }
   }
  },
  {
   "cell_type": "code",
   "execution_count": 60,
   "outputs": [
    {
     "data": {
      "text/plain": "<Reaction R01529_c_Day at 0x1b5c8d7bee0>",
      "text/html": "\n        <table>\n            <tr>\n                <td><strong>Reaction identifier</strong></td><td>R01529_c_Day</td>\n            </tr><tr>\n                <td><strong>Name</strong></td><td>ribulose-phosphate 3-epimerase, cytosolic, putative / pentose-5-phosphate 3-epimerase, putative</td>\n            </tr><tr>\n                <td><strong>Memory address</strong></td>\n                <td>0x1b5c8d7bee0</td>\n            </tr><tr>\n                <td><strong>Stoichiometry</strong></td>\n                <td>\n                    <p style='text-align:right'>S_D_45_Ribulose_32_5_45_phosphate_c[C_c]_Day <=> S_D_45_Xylulose_32_5_45_phosphate_c[C_c]_Day</p>\n                    <p style='text-align:right'>D-Ribulose 5-phosphate Day <=> D-Xylulose 5-phosphate Day</p>\n                </td>\n            </tr><tr>\n                <td><strong>GPR</strong></td><td>AT1G63290 or AT3G01850 or AT5G61410</td>\n            </tr><tr>\n                <td><strong>Lower bound</strong></td><td>-1000.0</td>\n            </tr><tr>\n                <td><strong>Upper bound</strong></td><td>1000.0</td>\n            </tr>\n        </table>\n        "
     },
     "execution_count": 60,
     "metadata": {},
     "output_type": "execute_result"
    }
   ],
   "source": [
    "modelo.reactions.get_by_id(\"R01529_c_Day\")"
   ],
   "metadata": {
    "collapsed": false,
    "ExecuteTime": {
     "start_time": "2023-05-29T15:36:43.405271Z",
     "end_time": "2023-05-29T15:36:43.426311Z"
    }
   }
  },
  {
   "cell_type": "code",
   "execution_count": 61,
   "outputs": [],
   "source": [
    "R01529_c_Day_flux_diel_model = solution.fluxes[\"R01529_c_Day\"]"
   ],
   "metadata": {
    "collapsed": false,
    "ExecuteTime": {
     "start_time": "2023-05-29T15:37:15.515114Z",
     "end_time": "2023-05-29T15:37:15.533916Z"
    }
   }
  },
  {
   "cell_type": "code",
   "execution_count": 62,
   "outputs": [],
   "source": [
    "R01529_c_Night_flux_diel_model = solution.fluxes[\"R01529_c_Night\"]"
   ],
   "metadata": {
    "collapsed": false,
    "ExecuteTime": {
     "start_time": "2023-05-29T15:37:26.743466Z",
     "end_time": "2023-05-29T15:37:26.759658Z"
    }
   }
  },
  {
   "cell_type": "code",
   "execution_count": 13,
   "outputs": [],
   "source": [
    "from tests import TEST_DIR\n",
    "import os\n",
    "original_model = cobra.io.read_sbml_model(os.path.join(TEST_DIR, 'data', 'aragem_photo.xml'))"
   ],
   "metadata": {
    "collapsed": false,
    "ExecuteTime": {
     "start_time": "2023-05-29T10:08:47.757875Z",
     "end_time": "2023-05-29T10:08:53.250478Z"
    }
   }
  },
  {
   "cell_type": "code",
   "execution_count": 16,
   "outputs": [
    {
     "data": {
      "text/plain": "<Reaction REner01_p at 0x1b5cc17c280>",
      "text/html": "\n        <table>\n            <tr>\n                <td><strong>Reaction identifier</strong></td><td>REner01_p</td>\n            </tr><tr>\n                <td><strong>Name</strong></td><td>R_REner01_p</td>\n            </tr><tr>\n                <td><strong>Memory address</strong></td>\n                <td>0x1b5cc17c280</td>\n            </tr><tr>\n                <td><strong>Stoichiometry</strong></td>\n                <td>\n                    <p style='text-align:right'>3.0 S_ADP_p[C_p] + 2.0 S_H2O_p[C_p] + 2.0 S_NADP_43__p[C_p] + 3.0 S_Orthophosphate_p[C_p] + 8.0 S_hv_p[C_p] --> 3.0 S_ATP_p[C_p] + 2.0 S_H_43__p[C_p] + 2.0 S_NADPH_p[C_p] + S_Oxygen_p[C_p]</p>\n                    <p style='text-align:right'>3.0 ADP_p + 2.0 H2O_p + 2.0 NADP+ + 3.0 Orthophosphate_p + 8.0 hv_p --> 3.0 ATP_p + 2.0 H+_p + 2.0 NADPH + Oxygen_p</p>\n                </td>\n            </tr><tr>\n                <td><strong>GPR</strong></td><td></td>\n            </tr><tr>\n                <td><strong>Lower bound</strong></td><td>0.0</td>\n            </tr><tr>\n                <td><strong>Upper bound</strong></td><td>1000.0</td>\n            </tr>\n        </table>\n        "
     },
     "execution_count": 16,
     "metadata": {},
     "output_type": "execute_result"
    }
   ],
   "source": [
    "original_model.reactions.get_by_id(\"REner01_p\")"
   ],
   "metadata": {
    "collapsed": false,
    "ExecuteTime": {
     "start_time": "2023-05-29T10:09:40.227815Z",
     "end_time": "2023-05-29T10:09:40.253482Z"
    }
   }
  },
  {
   "cell_type": "code",
   "execution_count": 18,
   "outputs": [],
   "source": [
    "original_model.objective_direction = \"max\"\n",
    "solution_original = pfba(original_model)"
   ],
   "metadata": {
    "collapsed": false,
    "ExecuteTime": {
     "start_time": "2023-05-29T10:10:17.697912Z",
     "end_time": "2023-05-29T10:10:17.909568Z"
    }
   }
  },
  {
   "cell_type": "code",
   "execution_count": 19,
   "outputs": [],
   "source": [
    "Rener01_p_flux_original_model = solution_original.fluxes[\"REner01_p\"]"
   ],
   "metadata": {
    "collapsed": false,
    "ExecuteTime": {
     "start_time": "2023-05-29T10:11:06.787028Z",
     "end_time": "2023-05-29T10:11:06.861101Z"
    }
   }
  },
  {
   "cell_type": "code",
   "execution_count": 20,
   "outputs": [
    {
     "data": {
      "text/plain": "125.0"
     },
     "execution_count": 20,
     "metadata": {},
     "output_type": "execute_result"
    }
   ],
   "source": [
    "Rener01_p_flux_original_model"
   ],
   "metadata": {
    "collapsed": false,
    "ExecuteTime": {
     "start_time": "2023-05-29T10:11:12.011870Z",
     "end_time": "2023-05-29T10:11:12.088402Z"
    }
   }
  },
  {
   "cell_type": "code",
   "execution_count": 23,
   "outputs": [],
   "source": [
    "R00024_p_flux_diel_model = solution_original.fluxes[\"R00024_p\"]"
   ],
   "metadata": {
    "collapsed": false,
    "ExecuteTime": {
     "start_time": "2023-05-29T10:16:29.391398Z",
     "end_time": "2023-05-29T10:16:29.418270Z"
    }
   }
  },
  {
   "cell_type": "code",
   "execution_count": 34,
   "outputs": [],
   "source": [
    "R03140_p_flux_diel_model = solution_original.fluxes['R03140_p']"
   ],
   "metadata": {
    "collapsed": false,
    "ExecuteTime": {
     "start_time": "2023-05-29T10:22:12.685662Z",
     "end_time": "2023-05-29T10:22:12.722190Z"
    }
   }
  },
  {
   "cell_type": "code",
   "execution_count": 47,
   "outputs": [],
   "source": [
    "R01512_c_flux_diel_model = solution_original.fluxes['R01512_c']"
   ],
   "metadata": {
    "collapsed": false,
    "ExecuteTime": {
     "start_time": "2023-05-29T15:25:29.621890Z",
     "end_time": "2023-05-29T15:25:29.643696Z"
    }
   }
  },
  {
   "cell_type": "code",
   "execution_count": 57,
   "outputs": [],
   "source": [
    "R04780_c_flux_diel_model = solution_original.fluxes['R04780_c']"
   ],
   "metadata": {
    "collapsed": false,
    "ExecuteTime": {
     "start_time": "2023-05-29T15:33:38.980635Z",
     "end_time": "2023-05-29T15:33:39.016984Z"
    }
   }
  },
  {
   "cell_type": "code",
   "execution_count": 64,
   "outputs": [],
   "source": [
    "R01529_c_flux_diel_model = solution_original.fluxes[\"R01529_c\"]"
   ],
   "metadata": {
    "collapsed": false,
    "ExecuteTime": {
     "start_time": "2023-05-29T15:37:56.233685Z",
     "end_time": "2023-05-29T15:37:56.257291Z"
    }
   }
  },
  {
   "cell_type": "code",
   "execution_count": 73,
   "outputs": [
    {
     "data": {
      "text/plain": "                  Photosynthesis Reaction  RuBisCO + CO2  RuBisCO + O2  \\\nDiel Model Day                      125.0        106.777         0.000   \nDiel Model Night                      0.0          0.337         0.000   \nOriginal Model                      125.0          2.473         0.035   \n\n                  Fructose Reaction  Xylulose-Ribulose Reaction  \nDiel Model Day                1.068                      -0.402  \nDiel Model Night              0.000                       0.187  \nOriginal Model                0.057                      -0.001  ",
      "text/html": "<div>\n<style scoped>\n    .dataframe tbody tr th:only-of-type {\n        vertical-align: middle;\n    }\n\n    .dataframe tbody tr th {\n        vertical-align: top;\n    }\n\n    .dataframe thead th {\n        text-align: right;\n    }\n</style>\n<table border=\"1\" class=\"dataframe\">\n  <thead>\n    <tr style=\"text-align: right;\">\n      <th></th>\n      <th>Photosynthesis Reaction</th>\n      <th>RuBisCO + CO2</th>\n      <th>RuBisCO + O2</th>\n      <th>Fructose Reaction</th>\n      <th>Xylulose-Ribulose Reaction</th>\n    </tr>\n  </thead>\n  <tbody>\n    <tr>\n      <th>Diel Model Day</th>\n      <td>125.0</td>\n      <td>106.777</td>\n      <td>0.000</td>\n      <td>1.068</td>\n      <td>-0.402</td>\n    </tr>\n    <tr>\n      <th>Diel Model Night</th>\n      <td>0.0</td>\n      <td>0.337</td>\n      <td>0.000</td>\n      <td>0.000</td>\n      <td>0.187</td>\n    </tr>\n    <tr>\n      <th>Original Model</th>\n      <td>125.0</td>\n      <td>2.473</td>\n      <td>0.035</td>\n      <td>0.057</td>\n      <td>-0.001</td>\n    </tr>\n  </tbody>\n</table>\n</div>"
     },
     "execution_count": 73,
     "metadata": {},
     "output_type": "execute_result"
    }
   ],
   "source": [
    "import pandas as pd\n",
    "import matplotlib.pyplot as plt\n",
    "\n",
    "data = {'Photosynthesis Reaction': [Rener01_p_Day_flux_diel_model, Rener01_p_Night_flux_diel_model,\n",
    "                                                Rener01_p_flux_original_model],\n",
    "        'RuBisCO + CO2': [R00024_p_Day_flux_diel_model, R00024_p_Night_flux_diel_model, R00024_p_flux_diel_model],\n",
    "        'RuBisCO + O2' : [R03140_p_Day_flux_diel_model, R03140_p_Night_flux_diel_model, R03140_p_flux_diel_model],\n",
    "        'Fructose Reaction' : [R04780_c_Day_flux_diel_model, R04780_c_Night_flux_diel_model, R04780_c_flux_diel_model],\n",
    "        'Xylulose-Ribulose Reaction' : [R01529_c_Day_flux_diel_model, R01529_c_Night_flux_diel_model, R01529_c_flux_diel_model]\n",
    "        }\n",
    "\n",
    "df = pd.DataFrame(data)\n",
    "\n",
    "new_index = ['Diel Model Day', 'Diel Model Night', 'Original Model']\n",
    "\n",
    "for index, row in df.iterrows():\n",
    "    for col in df.columns:\n",
    "        df.at[index, col] = round(df.at[index, col], 3)\n",
    "\n",
    "df.set_index(pd.Index(new_index), inplace=True)\n",
    "\n",
    "df"
   ],
   "metadata": {
    "collapsed": false,
    "ExecuteTime": {
     "start_time": "2023-05-29T15:49:51.139247Z",
     "end_time": "2023-05-29T15:49:51.170874Z"
    }
   }
  }
 ],
 "metadata": {
  "kernelspec": {
   "display_name": "Python 3",
   "language": "python",
   "name": "python3"
  },
  "language_info": {
   "codemirror_mode": {
    "name": "ipython",
    "version": 2
   },
   "file_extension": ".py",
   "mimetype": "text/x-python",
   "name": "python",
   "nbconvert_exporter": "python",
   "pygments_lexer": "ipython2",
   "version": "2.7.6"
  }
 },
 "nbformat": 4,
 "nbformat_minor": 0
}
