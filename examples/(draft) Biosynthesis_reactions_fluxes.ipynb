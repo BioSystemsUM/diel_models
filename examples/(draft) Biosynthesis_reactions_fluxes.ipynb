{
 "cells": [
  {
   "cell_type": "code",
   "execution_count": 2,
   "metadata": {
    "collapsed": true,
    "ExecuteTime": {
     "start_time": "2023-05-27T21:21:07.300470Z",
     "end_time": "2023-05-27T21:21:11.449914Z"
    }
   },
   "outputs": [],
   "source": [
    "import cobra.io\n",
    "\n",
    "modelo = cobra.io.read_sbml_model(\"C:\\\\Users\\\\lucia\\\\Desktop\\\\DielModels\\\\reconstruction_results\\\\MODEL1507180028\\\\results_troppo\\\\DielModel\\\\reconstructed_models\\\\Diel_Model_after_complete_pipeline.xml\")"
   ]
  },
  {
   "cell_type": "code",
   "execution_count": 3,
   "outputs": [
    {
     "name": "stdout",
     "output_type": "stream",
     "text": [
      "frozenset({<Reaction Ex16_Night at 0x226f559d700>, <Reaction REner01_p_Night at 0x226f4a88850>})\n"
     ]
    }
   ],
   "source": [
    "for metabolite in modelo.metabolites.query('hv'):\n",
    "    if \"Night\" in metabolite.compartment:\n",
    "        print(metabolite.reactions)"
   ],
   "metadata": {
    "collapsed": false,
    "ExecuteTime": {
     "start_time": "2023-05-27T21:21:13.600258Z",
     "end_time": "2023-05-27T21:21:13.638047Z"
    }
   }
  },
  {
   "cell_type": "code",
   "execution_count": 4,
   "outputs": [],
   "source": [
    "from cobra.flux_analysis import pfba"
   ],
   "metadata": {
    "collapsed": false,
    "ExecuteTime": {
     "start_time": "2023-05-27T21:21:16.483944Z",
     "end_time": "2023-05-27T21:21:16.494538Z"
    }
   }
  },
  {
   "cell_type": "code",
   "execution_count": 5,
   "outputs": [],
   "source": [
    "modelo.objective_direction = \"max\"\n",
    "solution = pfba(modelo)"
   ],
   "metadata": {
    "collapsed": false,
    "ExecuteTime": {
     "start_time": "2023-05-27T21:21:17.588870Z",
     "end_time": "2023-05-27T21:21:20.365546Z"
    }
   }
  },
  {
   "cell_type": "markdown",
   "source": [
    "### Reação Fotossíntese"
   ],
   "metadata": {
    "collapsed": false
   }
  },
  {
   "cell_type": "code",
   "execution_count": 7,
   "outputs": [
    {
     "data": {
      "text/plain": "<Reaction REner01_p_Night at 0x226f4a88850>",
      "text/html": "\n        <table>\n            <tr>\n                <td><strong>Reaction identifier</strong></td><td>REner01_p_Night</td>\n            </tr><tr>\n                <td><strong>Name</strong></td><td>R_REner01_p</td>\n            </tr><tr>\n                <td><strong>Memory address</strong></td>\n                <td>0x226f4a88850</td>\n            </tr><tr>\n                <td><strong>Stoichiometry</strong></td>\n                <td>\n                    <p style='text-align:right'>3.0 S_ADP_p[C_p]_Night + 2.0 S_H2O_p[C_p]_Night + 2.0 S_NADP_43__p[C_p]_Night + 3.0 S_Orthophosphate_p[C_p]_Night + 8.0 S_hv_p[C_p]_Night --> 3.0 S_ATP_p[C_p]_Night + 2.0 S_H_43__p[C_p]_Night + 2.0...</p>\n                    <p style='text-align:right'>3.0 ADP_p Night + 2.0 H2O_p Night + 2.0 NADP+ Night + 3.0 Orthophosphate_p Night + 8.0 hv_p Night --> 3.0 ATP_p Night + 2.0 H+_p Night + 2.0 NADPH Night + Oxygen_p Night</p>\n                </td>\n            </tr><tr>\n                <td><strong>GPR</strong></td><td></td>\n            </tr><tr>\n                <td><strong>Lower bound</strong></td><td>0.0</td>\n            </tr><tr>\n                <td><strong>Upper bound</strong></td><td>1000.0</td>\n            </tr>\n        </table>\n        "
     },
     "execution_count": 7,
     "metadata": {},
     "output_type": "execute_result"
    }
   ],
   "source": [
    "modelo.reactions.get_by_id('REner01_p_Night')"
   ],
   "metadata": {
    "collapsed": false,
    "ExecuteTime": {
     "start_time": "2023-05-27T21:21:22.744056Z",
     "end_time": "2023-05-27T21:21:22.775796Z"
    }
   }
  },
  {
   "cell_type": "code",
   "execution_count": 9,
   "outputs": [
    {
     "data": {
      "text/plain": "125.0"
     },
     "execution_count": 9,
     "metadata": {},
     "output_type": "execute_result"
    }
   ],
   "source": [
    "solution.fluxes['REner01_p_Day']"
   ],
   "metadata": {
    "collapsed": false,
    "ExecuteTime": {
     "start_time": "2023-05-27T21:22:22.021140Z",
     "end_time": "2023-05-27T21:22:22.041760Z"
    }
   }
  },
  {
   "cell_type": "code",
   "execution_count": 12,
   "outputs": [
    {
     "data": {
      "text/plain": "0.0"
     },
     "execution_count": 12,
     "metadata": {},
     "output_type": "execute_result"
    }
   ],
   "source": [
    "solution.fluxes['REner01_p_Night']"
   ],
   "metadata": {
    "collapsed": false,
    "ExecuteTime": {
     "start_time": "2023-05-27T21:27:43.978092Z",
     "end_time": "2023-05-27T21:27:43.994694Z"
    }
   }
  },
  {
   "cell_type": "markdown",
   "source": [
    "### Reações Ciclo de Calvin"
   ],
   "metadata": {
    "collapsed": false
   }
  },
  {
   "cell_type": "markdown",
   "source": [
    "- Rubisco + CO2"
   ],
   "metadata": {
    "collapsed": false
   }
  },
  {
   "cell_type": "code",
   "execution_count": 14,
   "outputs": [
    {
     "data": {
      "text/plain": "<Reaction R00024_p_Day at 0x226f4aca490>",
      "text/html": "\n        <table>\n            <tr>\n                <td><strong>Reaction identifier</strong></td><td>R00024_p_Day</td>\n            </tr><tr>\n                <td><strong>Name</strong></td><td>ribulose bisphosphate carboxylase small chain 1A / RuBisCO small subunit 1A (RBCS-1A) (ATS1A)</td>\n            </tr><tr>\n                <td><strong>Memory address</strong></td>\n                <td>0x226f4aca490</td>\n            </tr><tr>\n                <td><strong>Stoichiometry</strong></td>\n                <td>\n                    <p style='text-align:right'>S_CO2_p[C_p]_Day + S_D_45_Ribulose_32_1_44_5_45_bisphosphate_p[C_p]_Day + S_H2O_p[C_p]_Day --> 2.0 S_3_45_Phospho_45_D_45_glycerate_p[C_p]_Day</p>\n                    <p style='text-align:right'>CO2_p Day + D-Ribulose 1,5-bisphosphate Day + H2O_p Day --> 2.0 3-Phospho-D-glycerate_p Day</p>\n                </td>\n            </tr><tr>\n                <td><strong>GPR</strong></td><td>ARTHCP030 or AT1G67090 or AT5G38410 or AT5G38420 or AT5G38430</td>\n            </tr><tr>\n                <td><strong>Lower bound</strong></td><td>0.0</td>\n            </tr><tr>\n                <td><strong>Upper bound</strong></td><td>1000.0</td>\n            </tr>\n        </table>\n        "
     },
     "execution_count": 14,
     "metadata": {},
     "output_type": "execute_result"
    }
   ],
   "source": [
    "modelo.reactions.get_by_id('R00024_p_Day')"
   ],
   "metadata": {
    "collapsed": false,
    "ExecuteTime": {
     "start_time": "2023-05-27T21:29:57.371372Z",
     "end_time": "2023-05-27T21:29:57.401201Z"
    }
   }
  },
  {
   "cell_type": "code",
   "execution_count": 15,
   "outputs": [
    {
     "data": {
      "text/plain": "<Reaction R00024_p_Night at 0x226f55dc880>",
      "text/html": "\n        <table>\n            <tr>\n                <td><strong>Reaction identifier</strong></td><td>R00024_p_Night</td>\n            </tr><tr>\n                <td><strong>Name</strong></td><td>ribulose bisphosphate carboxylase small chain 1A / RuBisCO small subunit 1A (RBCS-1A) (ATS1A)</td>\n            </tr><tr>\n                <td><strong>Memory address</strong></td>\n                <td>0x226f55dc880</td>\n            </tr><tr>\n                <td><strong>Stoichiometry</strong></td>\n                <td>\n                    <p style='text-align:right'>S_CO2_p[C_p]_Night + S_D_45_Ribulose_32_1_44_5_45_bisphosphate_p[C_p]_Night + S_H2O_p[C_p]_Night --> 2.0 S_3_45_Phospho_45_D_45_glycerate_p[C_p]_Night</p>\n                    <p style='text-align:right'>CO2_p Night + D-Ribulose 1,5-bisphosphate Night + H2O_p Night --> 2.0 3-Phospho-D-glycerate_p Night</p>\n                </td>\n            </tr><tr>\n                <td><strong>GPR</strong></td><td></td>\n            </tr><tr>\n                <td><strong>Lower bound</strong></td><td>0.0</td>\n            </tr><tr>\n                <td><strong>Upper bound</strong></td><td>1000.0</td>\n            </tr>\n        </table>\n        "
     },
     "execution_count": 15,
     "metadata": {},
     "output_type": "execute_result"
    }
   ],
   "source": [
    "modelo.reactions.get_by_id('R00024_p_Night')"
   ],
   "metadata": {
    "collapsed": false,
    "ExecuteTime": {
     "start_time": "2023-05-27T21:30:14.436795Z",
     "end_time": "2023-05-27T21:30:14.479072Z"
    }
   }
  },
  {
   "cell_type": "code",
   "execution_count": 16,
   "outputs": [
    {
     "data": {
      "text/plain": "0.3374561054911554"
     },
     "execution_count": 16,
     "metadata": {},
     "output_type": "execute_result"
    }
   ],
   "source": [
    "solution.fluxes['R00024_p_Night']"
   ],
   "metadata": {
    "collapsed": false,
    "ExecuteTime": {
     "start_time": "2023-05-27T21:30:29.870524Z",
     "end_time": "2023-05-27T21:30:29.902935Z"
    }
   }
  },
  {
   "cell_type": "code",
   "execution_count": 17,
   "outputs": [
    {
     "data": {
      "text/plain": "106.77663763966915"
     },
     "execution_count": 17,
     "metadata": {},
     "output_type": "execute_result"
    }
   ],
   "source": [
    "solution.fluxes['R00024_p_Day']"
   ],
   "metadata": {
    "collapsed": false,
    "ExecuteTime": {
     "start_time": "2023-05-27T21:30:40.805500Z",
     "end_time": "2023-05-27T21:30:40.854139Z"
    }
   }
  },
  {
   "cell_type": "markdown",
   "source": [
    "- Rubisco + Oxigénio"
   ],
   "metadata": {
    "collapsed": false
   }
  },
  {
   "cell_type": "code",
   "execution_count": 18,
   "outputs": [
    {
     "data": {
      "text/plain": "<Reaction R03140_p_Day at 0x226f4e885b0>",
      "text/html": "\n        <table>\n            <tr>\n                <td><strong>Reaction identifier</strong></td><td>R03140_p_Day</td>\n            </tr><tr>\n                <td><strong>Name</strong></td><td>ribulose bisphosphate carboxylase small chain 1A / RuBisCO small subunit 1A (RBCS-1A) (ATS1A)</td>\n            </tr><tr>\n                <td><strong>Memory address</strong></td>\n                <td>0x226f4e885b0</td>\n            </tr><tr>\n                <td><strong>Stoichiometry</strong></td>\n                <td>\n                    <p style='text-align:right'>S_D_45_Ribulose_32_1_44_5_45_bisphosphate_p[C_p]_Day + S_Oxygen_p[C_p]_Day --> S_2_45_Phosphoglycolate_p[C_p]_Day + S_3_45_Phospho_45_D_45_glycerate_p[C_p]_Day</p>\n                    <p style='text-align:right'>D-Ribulose 1,5-bisphosphate Day + Oxygen_p Day --> 2-Phosphoglycolate Day + 3-Phospho-D-glycerate_p Day</p>\n                </td>\n            </tr><tr>\n                <td><strong>GPR</strong></td><td>ARTHCP030 or AT1G67090 or AT5G38410 or AT5G38420 or AT5G38430</td>\n            </tr><tr>\n                <td><strong>Lower bound</strong></td><td>0.0</td>\n            </tr><tr>\n                <td><strong>Upper bound</strong></td><td>1000.0</td>\n            </tr>\n        </table>\n        "
     },
     "execution_count": 18,
     "metadata": {},
     "output_type": "execute_result"
    }
   ],
   "source": [
    "modelo.reactions.get_by_id('R03140_p_Day')"
   ],
   "metadata": {
    "collapsed": false,
    "ExecuteTime": {
     "start_time": "2023-05-27T21:31:36.528897Z",
     "end_time": "2023-05-27T21:31:36.552484Z"
    }
   }
  },
  {
   "cell_type": "code",
   "execution_count": 19,
   "outputs": [
    {
     "data": {
      "text/plain": "<Reaction R03140_p_Night at 0x226f57ead90>",
      "text/html": "\n        <table>\n            <tr>\n                <td><strong>Reaction identifier</strong></td><td>R03140_p_Night</td>\n            </tr><tr>\n                <td><strong>Name</strong></td><td>ribulose bisphosphate carboxylase small chain 1A / RuBisCO small subunit 1A (RBCS-1A) (ATS1A)</td>\n            </tr><tr>\n                <td><strong>Memory address</strong></td>\n                <td>0x226f57ead90</td>\n            </tr><tr>\n                <td><strong>Stoichiometry</strong></td>\n                <td>\n                    <p style='text-align:right'>S_D_45_Ribulose_32_1_44_5_45_bisphosphate_p[C_p]_Night + S_Oxygen_p[C_p]_Night --> S_2_45_Phosphoglycolate_p[C_p]_Night + S_3_45_Phospho_45_D_45_glycerate_p[C_p]_Night</p>\n                    <p style='text-align:right'>D-Ribulose 1,5-bisphosphate Night + Oxygen_p Night --> 2-Phosphoglycolate Night + 3-Phospho-D-glycerate_p Night</p>\n                </td>\n            </tr><tr>\n                <td><strong>GPR</strong></td><td></td>\n            </tr><tr>\n                <td><strong>Lower bound</strong></td><td>0.0</td>\n            </tr><tr>\n                <td><strong>Upper bound</strong></td><td>1000.0</td>\n            </tr>\n        </table>\n        "
     },
     "execution_count": 19,
     "metadata": {},
     "output_type": "execute_result"
    }
   ],
   "source": [
    "modelo.reactions.get_by_id('R03140_p_Night')"
   ],
   "metadata": {
    "collapsed": false,
    "ExecuteTime": {
     "start_time": "2023-05-27T21:31:47.193629Z",
     "end_time": "2023-05-27T21:31:47.215790Z"
    }
   }
  },
  {
   "cell_type": "code",
   "execution_count": 20,
   "outputs": [
    {
     "data": {
      "text/plain": "0.0"
     },
     "execution_count": 20,
     "metadata": {},
     "output_type": "execute_result"
    }
   ],
   "source": [
    "solution.fluxes['R03140_p_Day']"
   ],
   "metadata": {
    "collapsed": false,
    "ExecuteTime": {
     "start_time": "2023-05-27T21:32:07.795072Z",
     "end_time": "2023-05-27T21:32:07.828330Z"
    }
   }
  },
  {
   "cell_type": "code",
   "execution_count": 21,
   "outputs": [
    {
     "data": {
      "text/plain": "0.0"
     },
     "execution_count": 21,
     "metadata": {},
     "output_type": "execute_result"
    }
   ],
   "source": [
    "solution.fluxes['R03140_p_Night']"
   ],
   "metadata": {
    "collapsed": false,
    "ExecuteTime": {
     "start_time": "2023-05-27T21:32:16.062754Z",
     "end_time": "2023-05-27T21:32:16.112800Z"
    }
   }
  },
  {
   "cell_type": "markdown",
   "source": [
    "- PGK"
   ],
   "metadata": {
    "collapsed": false
   }
  },
  {
   "cell_type": "code",
   "execution_count": 24,
   "outputs": [
    {
     "data": {
      "text/plain": "<Reaction R01512_c_Day at 0x226f4ccabb0>",
      "text/html": "\n        <table>\n            <tr>\n                <td><strong>Reaction identifier</strong></td><td>R01512_c_Day</td>\n            </tr><tr>\n                <td><strong>Name</strong></td><td>phosphoglycerate kinase, putative</td>\n            </tr><tr>\n                <td><strong>Memory address</strong></td>\n                <td>0x226f4ccabb0</td>\n            </tr><tr>\n                <td><strong>Stoichiometry</strong></td>\n                <td>\n                    <p style='text-align:right'>S_3_45_Phospho_45_D_45_glycerate_c[C_c]_Day + S_ATP_c[C_c]_Day <=> S_3_45_Phospho_45_D_45_glyceroyl_32_phosphate_c[C_c]_Day + S_ADP_c[C_c]_Day</p>\n                    <p style='text-align:right'>3-Phospho-D-glycerate_c Day + ATP_c Day <=> 3-Phospho-D-glyceroyl phosphate Day + ADP_c Day</p>\n                </td>\n            </tr><tr>\n                <td><strong>GPR</strong></td><td>AT1G56190 or AT1G79550 or AT3G12780</td>\n            </tr><tr>\n                <td><strong>Lower bound</strong></td><td>-1000.0</td>\n            </tr><tr>\n                <td><strong>Upper bound</strong></td><td>1000.0</td>\n            </tr>\n        </table>\n        "
     },
     "execution_count": 24,
     "metadata": {},
     "output_type": "execute_result"
    }
   ],
   "source": [
    "modelo.reactions.get_by_id(\"R01512_c_Day\")"
   ],
   "metadata": {
    "collapsed": false,
    "ExecuteTime": {
     "start_time": "2023-05-27T21:34:56.689880Z",
     "end_time": "2023-05-27T21:34:56.717860Z"
    }
   }
  },
  {
   "cell_type": "code",
   "execution_count": 25,
   "outputs": [
    {
     "data": {
      "text/plain": "<Reaction R01512_c_Night at 0x226f56fbdf0>",
      "text/html": "\n        <table>\n            <tr>\n                <td><strong>Reaction identifier</strong></td><td>R01512_c_Night</td>\n            </tr><tr>\n                <td><strong>Name</strong></td><td>phosphoglycerate kinase, putative</td>\n            </tr><tr>\n                <td><strong>Memory address</strong></td>\n                <td>0x226f56fbdf0</td>\n            </tr><tr>\n                <td><strong>Stoichiometry</strong></td>\n                <td>\n                    <p style='text-align:right'>S_3_45_Phospho_45_D_45_glycerate_c[C_c]_Night + S_ATP_c[C_c]_Night <=> S_3_45_Phospho_45_D_45_glyceroyl_32_phosphate_c[C_c]_Night + S_ADP_c[C_c]_Night</p>\n                    <p style='text-align:right'>3-Phospho-D-glycerate_c Night + ATP_c Night <=> 3-Phospho-D-glyceroyl phosphate Night + ADP_c Night</p>\n                </td>\n            </tr><tr>\n                <td><strong>GPR</strong></td><td></td>\n            </tr><tr>\n                <td><strong>Lower bound</strong></td><td>-1000.0</td>\n            </tr><tr>\n                <td><strong>Upper bound</strong></td><td>1000.0</td>\n            </tr>\n        </table>\n        "
     },
     "execution_count": 25,
     "metadata": {},
     "output_type": "execute_result"
    }
   ],
   "source": [
    "modelo.reactions.get_by_id(\"R01512_c_Night\")"
   ],
   "metadata": {
    "collapsed": false,
    "ExecuteTime": {
     "start_time": "2023-05-27T21:35:08.166107Z",
     "end_time": "2023-05-27T21:35:08.191273Z"
    }
   }
  },
  {
   "cell_type": "code",
   "execution_count": 28,
   "outputs": [
    {
     "data": {
      "text/plain": "-30.381016165838282"
     },
     "execution_count": 28,
     "metadata": {},
     "output_type": "execute_result"
    }
   ],
   "source": [
    "solution.fluxes['R01512_c_Day']"
   ],
   "metadata": {
    "collapsed": false,
    "ExecuteTime": {
     "start_time": "2023-05-27T21:38:02.984810Z",
     "end_time": "2023-05-27T21:38:03.000327Z"
    }
   }
  },
  {
   "cell_type": "code",
   "execution_count": 27,
   "outputs": [
    {
     "data": {
      "text/plain": "0.35186115965192183"
     },
     "execution_count": 27,
     "metadata": {},
     "output_type": "execute_result"
    }
   ],
   "source": [
    "solution.fluxes['R01512_c_Night']"
   ],
   "metadata": {
    "collapsed": false,
    "ExecuteTime": {
     "start_time": "2023-05-27T21:35:25.468385Z",
     "end_time": "2023-05-27T21:35:25.532182Z"
    }
   }
  },
  {
   "cell_type": "markdown",
   "source": [
    "- GAPDH"
   ],
   "metadata": {
    "collapsed": false
   }
  },
  {
   "cell_type": "code",
   "execution_count": 33,
   "outputs": [
    {
     "data": {
      "text/plain": "<Reaction R01063_p_Night at 0x226f56b5700>",
      "text/html": "\n        <table>\n            <tr>\n                <td><strong>Reaction identifier</strong></td><td>R01063_p_Night</td>\n            </tr><tr>\n                <td><strong>Name</strong></td><td>glyceraldehyde 3-phosphate dehydrogenase, chloroplast, putative / NADP-dependent...</td>\n            </tr><tr>\n                <td><strong>Memory address</strong></td>\n                <td>0x226f56b5700</td>\n            </tr><tr>\n                <td><strong>Stoichiometry</strong></td>\n                <td>\n                    <p style='text-align:right'>S_NADP_43__p[C_p]_Night + S_Orthophosphate_p[C_p]_Night + S__40_2R_41__45_2_45_Hydroxy_45_3_45__40_phosphonooxy_41__45_propanal_p[C_p]_Night <=>...</p>\n                    <p style='text-align:right'>NADP+ Night + Orthophosphate_p Night + (2R)-2-Hydroxy-3-(phosphonooxy)-propanal_p Night <=> 3-Phospho-D-glyceroyl phosphate Night + H+_p Night + NADPH Night</p>\n                </td>\n            </tr><tr>\n                <td><strong>GPR</strong></td><td></td>\n            </tr><tr>\n                <td><strong>Lower bound</strong></td><td>-1000.0</td>\n            </tr><tr>\n                <td><strong>Upper bound</strong></td><td>1000.0</td>\n            </tr>\n        </table>\n        "
     },
     "execution_count": 33,
     "metadata": {},
     "output_type": "execute_result"
    }
   ],
   "source": [
    "modelo.reactions.get_by_id(\"R01063_p_Night\")"
   ],
   "metadata": {
    "collapsed": false,
    "ExecuteTime": {
     "start_time": "2023-05-27T21:42:30.348674Z",
     "end_time": "2023-05-27T21:42:30.380328Z"
    }
   }
  },
  {
   "cell_type": "code",
   "execution_count": 34,
   "outputs": [
    {
     "data": {
      "text/plain": "0.06139859161561175"
     },
     "execution_count": 34,
     "metadata": {},
     "output_type": "execute_result"
    }
   ],
   "source": [
    "solution.fluxes['R01063_p_Night']"
   ],
   "metadata": {
    "collapsed": false,
    "ExecuteTime": {
     "start_time": "2023-05-27T21:42:39.906957Z",
     "end_time": "2023-05-27T21:42:39.971145Z"
    }
   }
  },
  {
   "cell_type": "code",
   "execution_count": 41,
   "outputs": [
    {
     "data": {
      "text/plain": "frozenset({<Reaction R00762_p_Night at 0x226f5671bb0>,\n           <Reaction R01068N_p_Night at 0x226f4b5b8b0>})"
     },
     "execution_count": 41,
     "metadata": {},
     "output_type": "execute_result"
    }
   ],
   "source": [
    "modelo.metabolites.get_by_id(\"S_D_45_Fructose_32_1_44_6_45_bisphosphate_p[C_p]_Night\").reactions"
   ],
   "metadata": {
    "collapsed": false,
    "ExecuteTime": {
     "start_time": "2023-05-27T21:44:52.830675Z",
     "end_time": "2023-05-27T21:44:52.895581Z"
    }
   }
  },
  {
   "cell_type": "code",
   "execution_count": 42,
   "outputs": [
    {
     "data": {
      "text/plain": "<Reaction R00762_p_Night at 0x226f5671bb0>",
      "text/html": "\n        <table>\n            <tr>\n                <td><strong>Reaction identifier</strong></td><td>R00762_p_Night</td>\n            </tr><tr>\n                <td><strong>Name</strong></td><td>fructose-1,6-bisphosphatase, putative / D-fructose-1,6-bisphosphate 1-phosphohydrolase, putative...</td>\n            </tr><tr>\n                <td><strong>Memory address</strong></td>\n                <td>0x226f5671bb0</td>\n            </tr><tr>\n                <td><strong>Stoichiometry</strong></td>\n                <td>\n                    <p style='text-align:right'>S_D_45_Fructose_32_1_44_6_45_bisphosphate_p[C_p]_Night + S_H2O_p[C_p]_Night --> S_D_45_Fructose_32_6_45_phosphate_p[C_p]_Night + S_Orthophosphate_p[C_p]_Night</p>\n                    <p style='text-align:right'>D-Fructose 1,6-bisphosphate Night + H2O_p Night --> D-Fructose 6-phosphate Night + Orthophosphate_p Night</p>\n                </td>\n            </tr><tr>\n                <td><strong>GPR</strong></td><td></td>\n            </tr><tr>\n                <td><strong>Lower bound</strong></td><td>0.0</td>\n            </tr><tr>\n                <td><strong>Upper bound</strong></td><td>1000.0</td>\n            </tr>\n        </table>\n        "
     },
     "execution_count": 42,
     "metadata": {},
     "output_type": "execute_result"
    }
   ],
   "source": [
    "modelo.reactions.get_by_id(\"R00762_p_Night\")"
   ],
   "metadata": {
    "collapsed": false,
    "ExecuteTime": {
     "start_time": "2023-05-27T21:45:06.899290Z",
     "end_time": "2023-05-27T21:45:06.950349Z"
    }
   }
  },
  {
   "cell_type": "code",
   "execution_count": null,
   "outputs": [],
   "source": [],
   "metadata": {
    "collapsed": false
   }
  }
 ],
 "metadata": {
  "kernelspec": {
   "display_name": "Python 3",
   "language": "python",
   "name": "python3"
  },
  "language_info": {
   "codemirror_mode": {
    "name": "ipython",
    "version": 2
   },
   "file_extension": ".py",
   "mimetype": "text/x-python",
   "name": "python",
   "nbconvert_exporter": "python",
   "pygments_lexer": "ipython2",
   "version": "2.7.6"
  }
 },
 "nbformat": 4,
 "nbformat_minor": 0
}
