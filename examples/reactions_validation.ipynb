{
 "cells": [
  {
   "cell_type": "code",
   "execution_count": 3,
   "outputs": [],
   "source": [
    "import cobra\n",
    "\n",
    "modelo = cobra.io.read_sbml_model('DielModel_Pipeline.xml')"
   ],
   "metadata": {
    "collapsed": false,
    "ExecuteTime": {
     "start_time": "2023-05-23T18:04:34.711804Z",
     "end_time": "2023-05-23T18:04:36.838669Z"
    }
   }
  },
  {
   "cell_type": "code",
   "execution_count": 36,
   "outputs": [],
   "source": [
    "modelo.reactions.get_by_id(\"Biomass_Total\").upper_bound = 0.11\n",
    "modelo.reactions.get_by_id(\"Biomass_Total\").lower_bound = 0.11\n",
    "modelo.objective = \"Ex16_Day\"\n",
    "modelo.objective_direction = \"max\""
   ],
   "metadata": {
    "collapsed": false,
    "ExecuteTime": {
     "start_time": "2023-05-23T18:08:59.744418Z",
     "end_time": "2023-05-23T18:08:59.764873Z"
    }
   }
  },
  {
   "cell_type": "code",
   "execution_count": 13,
   "outputs": [],
   "source": [
    "modelo.reactions.get_by_id(\"Biomass_Total\").upper_bound = 1000\n",
    "modelo.reactions.get_by_id(\"Biomass_Total\").lower_bound = 0\n",
    "modelo.objective = \"Ex16_Day\"\n",
    "modelo.objective_direction = \"max\""
   ],
   "metadata": {
    "collapsed": false,
    "ExecuteTime": {
     "start_time": "2023-05-23T18:06:05.138189Z",
     "end_time": "2023-05-23T18:06:05.160959Z"
    }
   }
  },
  {
   "cell_type": "code",
   "execution_count": 20,
   "outputs": [],
   "source": [
    "modelo.reactions.get_by_id(\"Biomass_Total\").upper_bound = 0.11\n",
    "modelo.reactions.get_by_id(\"Biomass_Total\").lower_bound = 0.11\n",
    "modelo.objective = \"Biomass_Total\"\n",
    "modelo.objective_direction = \"max\""
   ],
   "metadata": {
    "collapsed": false,
    "ExecuteTime": {
     "start_time": "2023-05-23T18:06:51.540123Z",
     "end_time": "2023-05-23T18:06:51.556959Z"
    }
   }
  },
  {
   "cell_type": "code",
   "execution_count": 28,
   "outputs": [],
   "source": [
    "modelo.reactions.get_by_id(\"Biomass_Total\").upper_bound = 1000\n",
    "modelo.reactions.get_by_id(\"Biomass_Total\").lower_bound = 0\n",
    "modelo.objective = \"Biomass_Total\"\n",
    "modelo.objective_direction = \"max\""
   ],
   "metadata": {
    "collapsed": false,
    "ExecuteTime": {
     "start_time": "2023-05-23T18:08:13.539438Z",
     "end_time": "2023-05-23T18:08:13.556394Z"
    }
   }
  },
  {
   "cell_type": "code",
   "execution_count": 37,
   "outputs": [
    {
     "name": "stdout",
     "output_type": "stream",
     "text": [
      "9.27\n"
     ]
    }
   ],
   "source": [
    "from cobra.flux_analysis import pfba\n",
    "\n",
    "solution = pfba(modelo)\n",
    "R02732_c = solution.fluxes[\"R02732_c_Day\"] + solution.fluxes[\"R02732_c_Night\"]\n",
    "R01070N_c = solution.fluxes[\"R01070N_c_Day\"] + solution.fluxes[\"R01070N_c_Night\"]\n",
    "R00762_c = solution.fluxes[\"R00762_c_Day\"] + solution.fluxes[\"R00762_c_Night\"]\n",
    "\n",
    "chex2 = abs(round(((R02732_c - R01070N_c) + R00762_c) / 2, 2))\n",
    "print(chex2)"
   ],
   "metadata": {
    "collapsed": false,
    "ExecuteTime": {
     "start_time": "2023-05-23T18:09:02.215742Z",
     "end_time": "2023-05-23T18:09:02.880622Z"
    }
   }
  },
  {
   "cell_type": "code",
   "execution_count": 38,
   "outputs": [
    {
     "data": {
      "text/plain": "39.42"
     },
     "execution_count": 38,
     "metadata": {},
     "output_type": "execute_result"
    }
   ],
   "source": [
    "R04779_p = solution.fluxes[\"R04779_p_Day\"] + solution.fluxes[\"R04779_p_Night\"]\n",
    "R00762_p = solution.fluxes[\"R00762_p_Day\"] + solution.fluxes[\"R00762_p_Night\"]\n",
    "R01070N_p = solution.fluxes[\"R01070N_p_Day\"] + solution.fluxes[\"R01070N_p_Night\"]\n",
    "\n",
    "\n",
    "phex1 = abs(round(((R04779_p - R00762_p) - R01070N_p) / 2, 2))\n",
    "phex1"
   ],
   "metadata": {
    "collapsed": false,
    "ExecuteTime": {
     "start_time": "2023-05-23T18:09:02.872179Z",
     "end_time": "2023-05-23T18:09:02.951337Z"
    }
   }
  },
  {
   "cell_type": "code",
   "execution_count": 39,
   "outputs": [
    {
     "data": {
      "text/plain": "0.33"
     },
     "execution_count": 39,
     "metadata": {},
     "output_type": "execute_result"
    }
   ],
   "source": [
    "R01061_c = solution.fluxes[\"R01061_c_Day\"] + solution.fluxes[\"R01061_c_Night\"]\n",
    "R01061_p = solution.fluxes[\"R01061_p_Day\"] + solution.fluxes[\"R01061_p_Night\"]\n",
    "R01063_p = solution.fluxes[\"R01063_p_Day\"] + solution.fluxes[\"R01063_p_Night\"]\n",
    "R01512_c = solution.fluxes[\"R01512_c_Day\"] + solution.fluxes[\"R01512_c_Night\"]\n",
    "R01518_c = solution.fluxes[\"R01518_c_Day\"] + solution.fluxes[\"R01518_c_Night\"]\n",
    "R01518_p = solution.fluxes[\"R01518_p_Day\"] + solution.fluxes[\"R01518_p_Night\"]\n",
    "R00658_c = solution.fluxes[\"R00658_c_Day\"] + solution.fluxes[\"R00658_c_Night\"]\n",
    "R00658_p = solution.fluxes[\"R00658_p_Day\"] + solution.fluxes[\"R00658_p_Night\"]\n",
    "R01512_p = solution.fluxes[\"R01512_p_Day\"] + solution.fluxes[\"R01512_p_Night\"]\n",
    "\n",
    "Cphex = abs(round(((R01061_c + R01061_p - R01063_p - R01512_c - R01512_p)/2 + (R01518_c + R01518_p) + (R00658_c + R00658_p))/3, 2))\n",
    "Cphex"
   ],
   "metadata": {
    "collapsed": false,
    "ExecuteTime": {
     "start_time": "2023-05-23T18:09:02.911002Z",
     "end_time": "2023-05-23T18:09:02.975311Z"
    }
   }
  },
  {
   "cell_type": "code",
   "execution_count": 40,
   "outputs": [
    {
     "data": {
      "text/plain": "0.37"
     },
     "execution_count": 40,
     "metadata": {},
     "output_type": "execute_result"
    }
   ],
   "source": [
    "R00200_c = solution.fluxes[\"R00200_c_Day\"] + solution.fluxes[\"R00200_c_Night\"]\n",
    "\n",
    "chex3 = abs(round(R00200_c,2))\n",
    "chex3"
   ],
   "metadata": {
    "collapsed": false,
    "ExecuteTime": {
     "start_time": "2023-05-23T18:09:03.293926Z",
     "end_time": "2023-05-23T18:09:03.329288Z"
    }
   }
  },
  {
   "cell_type": "code",
   "execution_count": 41,
   "outputs": [
    {
     "data": {
      "text/plain": "0.0057"
     },
     "execution_count": 41,
     "metadata": {},
     "output_type": "execute_result"
    }
   ],
   "source": [
    "R00200_p = solution.fluxes[\"R00200_p_Day\"] + solution.fluxes[\"R00200_p_Night\"]\n",
    "R00206_p = solution.fluxes[\"R00206_p_Day\"] + solution.fluxes[\"R00206_p_Night\"]\n",
    "\n",
    "phex2 = abs(round(R00200_p - R00206_p, 4))\n",
    "phex2"
   ],
   "metadata": {
    "collapsed": false,
    "ExecuteTime": {
     "start_time": "2023-05-23T18:09:03.640472Z",
     "end_time": "2023-05-23T18:09:03.663968Z"
    }
   }
  },
  {
   "cell_type": "code",
   "execution_count": 42,
   "outputs": [
    {
     "data": {
      "text/plain": "0.01"
     },
     "execution_count": 42,
     "metadata": {},
     "output_type": "execute_result"
    }
   ],
   "source": [
    "R00351_m = solution.fluxes[\"R00351_m_Day\"] + solution.fluxes[\"R00351_m_Night\"]\n",
    "R00209_m = solution.fluxes[\"R00209_m_Day\"] + solution.fluxes[\"R00209_m_Night\"]\n",
    "TCM1 = solution.fluxes[\"TCM1_Day\"] + solution.fluxes[\"TCM1_Night\"]\n",
    "\n",
    "tca2 = abs(round((-TCM1 + R00351_m + R00209_m)/3, 2))\n",
    "tca2"
   ],
   "metadata": {
    "collapsed": false,
    "ExecuteTime": {
     "start_time": "2023-05-23T18:09:04.273378Z",
     "end_time": "2023-05-23T18:09:04.288377Z"
    }
   }
  },
  {
   "cell_type": "code",
   "execution_count": 43,
   "outputs": [
    {
     "data": {
      "text/plain": "      Valores Artigo (pFBA) Valores Artigo (MFA) OF: max of Ex16_Day (pFBA)  \\\nchex2                 11.38                 7.33                       9.28   \nphex1                 1.719                 2.89                      39.42   \nCphex                 19.07                23.96                       0.33   \nchex3                0.0065                11.18                       0.36   \nphex2                  5.40                 7.95                     0.0229   \ntca2                   9.51                10.27                       0.01   \n\n      OF: max of Ex16_Day (pFBA)* OF: max of Biomass_Total (pFBA)  \\\nchex2                        9.84                            0.02   \nphex1                       40.54                             0.0   \nCphex                        0.17                            0.13   \nchex3                        0.19                             0.3   \nphex2                      0.0029                          0.0557   \ntca2                          0.0                             0.0   \n\n      OF: max of Biomass_Total (pFBA)*  \nchex2                             8.81  \nphex1                              0.0  \nCphex                            21.49  \nchex3                            36.19  \nphex2                           8.5548  \ntca2                               0.0  ",
      "text/html": "<div>\n<style scoped>\n    .dataframe tbody tr th:only-of-type {\n        vertical-align: middle;\n    }\n\n    .dataframe tbody tr th {\n        vertical-align: top;\n    }\n\n    .dataframe thead th {\n        text-align: right;\n    }\n</style>\n<table border=\"1\" class=\"dataframe\">\n  <thead>\n    <tr style=\"text-align: right;\">\n      <th></th>\n      <th>Valores Artigo (pFBA)</th>\n      <th>Valores Artigo (MFA)</th>\n      <th>OF: max of Ex16_Day (pFBA)</th>\n      <th>OF: max of Ex16_Day (pFBA)*</th>\n      <th>OF: max of Biomass_Total (pFBA)</th>\n      <th>OF: max of Biomass_Total (pFBA)*</th>\n    </tr>\n  </thead>\n  <tbody>\n    <tr>\n      <th>chex2</th>\n      <td>11.38</td>\n      <td>7.33</td>\n      <td>9.28</td>\n      <td>9.84</td>\n      <td>0.02</td>\n      <td>8.81</td>\n    </tr>\n    <tr>\n      <th>phex1</th>\n      <td>1.719</td>\n      <td>2.89</td>\n      <td>39.42</td>\n      <td>40.54</td>\n      <td>0.0</td>\n      <td>0.0</td>\n    </tr>\n    <tr>\n      <th>Cphex</th>\n      <td>19.07</td>\n      <td>23.96</td>\n      <td>0.33</td>\n      <td>0.17</td>\n      <td>0.13</td>\n      <td>21.49</td>\n    </tr>\n    <tr>\n      <th>chex3</th>\n      <td>0.0065</td>\n      <td>11.18</td>\n      <td>0.36</td>\n      <td>0.19</td>\n      <td>0.3</td>\n      <td>36.19</td>\n    </tr>\n    <tr>\n      <th>phex2</th>\n      <td>5.40</td>\n      <td>7.95</td>\n      <td>0.0229</td>\n      <td>0.0029</td>\n      <td>0.0557</td>\n      <td>8.5548</td>\n    </tr>\n    <tr>\n      <th>tca2</th>\n      <td>9.51</td>\n      <td>10.27</td>\n      <td>0.01</td>\n      <td>0.0</td>\n      <td>0.0</td>\n      <td>0.0</td>\n    </tr>\n  </tbody>\n</table>\n</div>"
     },
     "execution_count": 43,
     "metadata": {},
     "output_type": "execute_result"
    }
   ],
   "source": [
    "import pandas as pd\n",
    "\n",
    "dados = {'Valores Artigo (pFBA)': ['11.38', '1.719', '19.07', '0.0065', '5.40', '9.51'],\n",
    "         'Valores Artigo (MFA)' : ['7.33', '2.89', '23.96', '11.18', '7.95', '10.27'],\n",
    "         'OF: max of Ex16_Day (pFBA)': ['9.28', '39.42', '0.33', '0.36', '0.0229', '0.01'],\n",
    "         'OF: max of Ex16_Day (pFBA)*': ['9.84', '40.54', '0.17', '0.19', '0.0029', '0.0'],\n",
    "         'OF: max of Biomass_Total (pFBA)' : ['0.02', '0.0', '0.13', '0.3', '0.0557', '0.0'],\n",
    "         'OF: max of Biomass_Total (pFBA)*' : ['8.81', '0.0', '21.49', '36.19', '8.5548', '0.0']}\n",
    "\n",
    "df = pd.DataFrame(dados)\n",
    "\n",
    "nomes = ['chex2', 'phex1', 'Cphex', 'chex3', 'phex2', 'tca2']\n",
    "df.index = nomes\n",
    "\n",
    "df"
   ],
   "metadata": {
    "collapsed": false,
    "ExecuteTime": {
     "start_time": "2023-05-23T18:09:04.676546Z",
     "end_time": "2023-05-23T18:09:04.700842Z"
    }
   }
  },
  {
   "cell_type": "markdown",
   "source": [
    "*As constraints para a reação de Biomass_Total estão a (0, 1000) nestas hipóteses"
   ],
   "metadata": {
    "collapsed": false
   }
  },
  {
   "cell_type": "code",
   "execution_count": null,
   "outputs": [],
   "source": [],
   "metadata": {
    "collapsed": false
   }
  }
 ],
 "metadata": {
  "kernelspec": {
   "display_name": "Python 3",
   "language": "python",
   "name": "python3"
  },
  "language_info": {
   "codemirror_mode": {
    "name": "ipython",
    "version": 2
   },
   "file_extension": ".py",
   "mimetype": "text/x-python",
   "name": "python",
   "nbconvert_exporter": "python",
   "pygments_lexer": "ipython2",
   "version": "2.7.6"
  }
 },
 "nbformat": 4,
 "nbformat_minor": 0
}
