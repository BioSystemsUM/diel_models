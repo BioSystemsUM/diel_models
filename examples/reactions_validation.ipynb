{
 "cells": [
  {
   "cell_type": "code",
   "execution_count": 1,
   "outputs": [],
   "source": [
    "from diel_models.pipeline import Pipeline\n",
    "from diel_models.pipeline_intermediate import DayNightCreator, BiomassRegulator, NitrateUptakeRatioCalibrator, StoragePoolGenerator, PhotonReactionInhibitor\n",
    "import os\n",
    "import cobra\n",
    "from tests import TEST_DIR\n",
    "\n",
    "aragem_model_path = os.path.join(TEST_DIR, 'data', 'AraGEM2010.xml')\n",
    "\n",
    "modelo = cobra.io.read_sbml_model(aragem_model_path)\n",
    "\n",
    "Steps = [\n",
    "    DayNightCreator(modelo),\n",
    "    StoragePoolGenerator(modelo, metabolites = [\"S_Sucrose_c_Day\", \"S_Sulfate_c_Day\", \"S_Nitrate_c_Day\", \"S_L_45_Histidine_c_Day\", \"S_L_45_Isoleucine_c_Day\", \"S_L_45_Leucine_c_Day\", \"S_L_45_Lysine_c_Day\", \"S_L_45_Methionine_c_Day\", \"S_L_45_Phenylalanine_c_Day\", \"S_L_45_Threonine_c_Day\", \"S_L_45_Tryptophan_c_Day\", \"S_L_45_Valine_c_Day\", \"S_L_45_Arginine_c_Day\", \"S_L_45_Cysteine_c_Day\", \"S_L_45_Glutamine_c_Day\", \"S_L_45_Glutamate_c_Day\", \"S_Glycine_c_Day\", \"S_L_45_Proline_c_Day\", \"S_L_45_Tyrosine_c_Day\", \"S_L_45_Alanine_c_Day\", \"S_L_45_Asparagine_c_Day\", \"S_L_45_Serine_c_Day\", \"S_Orthophosphate_c_Day\", \"S_Starch_p_Day\", \"S_D_45_Fructose_c_Day\", \"S__40_S_41__45_Malate_c_Day\", \"S_Fumarate_c_Day\", \"S_Citrate_c_Day\"]),\n",
    "    PhotonReactionInhibitor(modelo, \"Ex16_Night\"),\n",
    "    BiomassRegulator(modelo, \"BIO_L_Day\", \"BIO_L_Night\", [\"R03845_c_Night\", \"R06267_c_Night\", \"R06286_c_Night\", \"R04801_c_Night\", \"R07856_c_Night\", \"R04803_c_Night\", \"R06961_c_Night\", \"R06960_c_Night\", \"V0004_Night\", \"R06284_c_Night\", \"R05618_c_Night\", \"R03824_c_Night\", \"R05341_c_Night\", \"R06965_c_Night\", \"R07558_c_Night\", \"R04798_c_Night\", \"R04787_c_Night\", \"R07840_c_Night\", \"R06963_c_Night\", \"R06962_c_Night\", \"R07850_c_Night\", \"R07530_c_Night\"]),\n",
    "    NitrateUptakeRatioCalibrator(modelo, \"Ex4_Day\", \"Ex4_Night\")\n",
    "]\n",
    "\n",
    "pipeline = Pipeline(modelo, Steps)\n",
    "pipeline.run()"
   ],
   "metadata": {
    "collapsed": false,
    "ExecuteTime": {
     "start_time": "2023-05-23T17:33:35.075167Z",
     "end_time": "2023-05-23T17:34:26.730282Z"
    }
   }
  },
  {
   "cell_type": "code",
   "execution_count": 10,
   "outputs": [],
   "source": [
    "#modelo.reactions.get_by_id(\"Biomass_Total\").upper_bound = 0.11\n",
    "#modelo.reactions.get_by_id(\"Biomass_Total\").lower_bound = 0.11\n",
    "#modelo.objective = \"Ex16_Day\"\n",
    "#modelo.objective_direction = \"max\""
   ],
   "metadata": {
    "collapsed": false,
    "ExecuteTime": {
     "start_time": "2023-05-23T17:39:22.763418Z",
     "end_time": "2023-05-23T17:39:22.788419Z"
    }
   }
  },
  {
   "cell_type": "code",
   "execution_count": 17,
   "outputs": [],
   "source": [
    "#modelo.reactions.get_by_id(\"Biomass_Total\").upper_bound = 1000\n",
    "#modelo.reactions.get_by_id(\"Biomass_Total\").lower_bound = 0\n",
    "#modelo.objective = \"Ex16_Day\"\n",
    "#modelo.objective_direction = \"max\""
   ],
   "metadata": {
    "collapsed": false,
    "ExecuteTime": {
     "start_time": "2023-05-23T17:39:44.132372Z",
     "end_time": "2023-05-23T17:39:44.195156Z"
    }
   }
  },
  {
   "cell_type": "code",
   "execution_count": 24,
   "outputs": [],
   "source": [
    "#modelo.reactions.get_by_id(\"Biomass_Total\").upper_bound = 0.11\n",
    "#modelo.reactions.get_by_id(\"Biomass_Total\").lower_bound = 0.11\n",
    "#modelo.objective = \"Biomass_Total\"\n",
    "#modelo.objective_direction = \"max\""
   ],
   "metadata": {
    "collapsed": false,
    "ExecuteTime": {
     "start_time": "2023-05-23T17:40:08.687531Z",
     "end_time": "2023-05-23T17:40:08.727029Z"
    }
   }
  },
  {
   "cell_type": "code",
   "execution_count": 31,
   "outputs": [],
   "source": [
    "modelo.reactions.get_by_id(\"Biomass_Total\").upper_bound = 1000\n",
    "modelo.reactions.get_by_id(\"Biomass_Total\").lower_bound = 0\n",
    "modelo.objective = \"Biomass_Total\"\n",
    "modelo.objective_direction = \"max\""
   ],
   "metadata": {
    "collapsed": false,
    "ExecuteTime": {
     "start_time": "2023-05-23T17:40:26.321125Z",
     "end_time": "2023-05-23T17:40:26.352374Z"
    }
   }
  },
  {
   "cell_type": "code",
   "execution_count": 32,
   "outputs": [
    {
     "name": "stdout",
     "output_type": "stream",
     "text": [
      "9.88\n"
     ]
    }
   ],
   "source": [
    "from cobra.flux_analysis import pfba\n",
    "\n",
    "solution = pfba(modelo)\n",
    "R02732_c = solution.fluxes[\"R02732_c_Day\"] + solution.fluxes[\"R02732_c_Night\"]\n",
    "R01070N_c = solution.fluxes[\"R01070N_c_Day\"] + solution.fluxes[\"R01070N_c_Night\"]\n",
    "R00762_c = solution.fluxes[\"R00762_c_Day\"] + solution.fluxes[\"R00762_c_Night\"]\n",
    "\n",
    "chex2 = round(((R02732_c - R01070N_c) + R00762_c) / 2, 2)\n",
    "print(chex2)"
   ],
   "metadata": {
    "collapsed": false,
    "ExecuteTime": {
     "start_time": "2023-05-23T17:40:27.226666Z",
     "end_time": "2023-05-23T17:40:27.722888Z"
    }
   }
  },
  {
   "cell_type": "code",
   "execution_count": 33,
   "outputs": [
    {
     "data": {
      "text/plain": "0.0"
     },
     "execution_count": 33,
     "metadata": {},
     "output_type": "execute_result"
    }
   ],
   "source": [
    "R04779_p = solution.fluxes[\"R04779_p_Day\"] + solution.fluxes[\"R04779_p_Night\"]\n",
    "R00762_p = solution.fluxes[\"R00762_p_Day\"] + solution.fluxes[\"R00762_p_Night\"]\n",
    "R01070N_p = solution.fluxes[\"R01070N_p_Day\"] + solution.fluxes[\"R01070N_p_Night\"]\n",
    "\n",
    "\n",
    "phex1 = round(((R04779_p - R00762_p) - R01070N_p) / 2, 2)\n",
    "phex1"
   ],
   "metadata": {
    "collapsed": false,
    "ExecuteTime": {
     "start_time": "2023-05-23T17:40:28.899889Z",
     "end_time": "2023-05-23T17:40:28.910033Z"
    }
   }
  },
  {
   "cell_type": "code",
   "execution_count": 34,
   "outputs": [
    {
     "data": {
      "text/plain": "40.03"
     },
     "execution_count": 34,
     "metadata": {},
     "output_type": "execute_result"
    }
   ],
   "source": [
    "R01061_c = solution.fluxes[\"R01061_c_Day\"] + solution.fluxes[\"R01061_c_Night\"]\n",
    "R01061_p = solution.fluxes[\"R01061_p_Day\"] + solution.fluxes[\"R01061_p_Night\"]\n",
    "R01063_p = solution.fluxes[\"R01063_p_Day\"] + solution.fluxes[\"R01063_p_Night\"]\n",
    "R01512_c = solution.fluxes[\"R01512_c_Day\"] + solution.fluxes[\"R01512_c_Night\"]\n",
    "R01518_c = solution.fluxes[\"R01518_c_Day\"] + solution.fluxes[\"R01518_c_Night\"]\n",
    "R01518_p = solution.fluxes[\"R01518_p_Day\"] + solution.fluxes[\"R01518_p_Night\"]\n",
    "R00658_c = solution.fluxes[\"R00658_c_Day\"] + solution.fluxes[\"R00658_c_Night\"]\n",
    "R00658_p = solution.fluxes[\"R00658_p_Day\"] + solution.fluxes[\"R00658_p_Night\"]\n",
    "\n",
    "Cphex = round(((R01061_c + R01061_p - R01063_p - R01512_c)/2 + (R01518_c + R01518_p) + (R00658_c + R00658_p))/3, 2)\n",
    "Cphex #sem contar com R01512_d"
   ],
   "metadata": {
    "collapsed": false,
    "ExecuteTime": {
     "start_time": "2023-05-23T17:40:29.436157Z",
     "end_time": "2023-05-23T17:40:29.451796Z"
    }
   }
  },
  {
   "cell_type": "code",
   "execution_count": 35,
   "outputs": [
    {
     "data": {
      "text/plain": "44.04"
     },
     "execution_count": 35,
     "metadata": {},
     "output_type": "execute_result"
    }
   ],
   "source": [
    "R00200_c = solution.fluxes[\"R00200_c_Day\"] + solution.fluxes[\"R00200_c_Night\"]\n",
    "\n",
    "chex3 = round(R00200_c,2)\n",
    "chex3"
   ],
   "metadata": {
    "collapsed": false,
    "ExecuteTime": {
     "start_time": "2023-05-23T17:40:30.007512Z",
     "end_time": "2023-05-23T17:40:30.032414Z"
    }
   }
  },
  {
   "cell_type": "code",
   "execution_count": 36,
   "outputs": [
    {
     "data": {
      "text/plain": "0.7129"
     },
     "execution_count": 36,
     "metadata": {},
     "output_type": "execute_result"
    }
   ],
   "source": [
    "R00200_p = solution.fluxes[\"R00200_p_Day\"] + solution.fluxes[\"R00200_p_Night\"]\n",
    "R00206_p = solution.fluxes[\"R00206_p_Day\"] + solution.fluxes[\"R00206_p_Night\"]\n",
    "\n",
    "phex2 = round(R00200_p - R00206_p, 4)\n",
    "phex2"
   ],
   "metadata": {
    "collapsed": false,
    "ExecuteTime": {
     "start_time": "2023-05-23T17:40:30.623330Z",
     "end_time": "2023-05-23T17:40:30.641592Z"
    }
   }
  },
  {
   "cell_type": "code",
   "execution_count": 37,
   "outputs": [
    {
     "data": {
      "text/plain": "0.0"
     },
     "execution_count": 37,
     "metadata": {},
     "output_type": "execute_result"
    }
   ],
   "source": [
    "R00351_m = solution.fluxes[\"R00351_m_Day\"] + solution.fluxes[\"R00351_m_Night\"]\n",
    "R00209_m = solution.fluxes[\"R00209_m_Day\"] + solution.fluxes[\"R00209_m_Night\"]\n",
    "TCM1 = solution.fluxes[\"TCM1_Day\"] + solution.fluxes[\"TCM1_Night\"]\n",
    "\n",
    "tca2 = round((-TCM1 + R00351_m + R00209_m)/3, 2)\n",
    "tca2"
   ],
   "metadata": {
    "collapsed": false,
    "ExecuteTime": {
     "start_time": "2023-05-23T17:40:31.149244Z",
     "end_time": "2023-05-23T17:40:31.170331Z"
    }
   }
  },
  {
   "cell_type": "code",
   "execution_count": 38,
   "outputs": [
    {
     "data": {
      "text/plain": "      Valores Artigo (pFBA) Valores Artigo (MFA) OF: max of Ex16_Day (pFBA)  \\\nchex2                 11.38                 7.33                       9.27   \nphex1                 1.719                 2.89                      39.42   \nCphex                 19.07                23.96                      39.51   \nchex3                0.0065                11.18                       0.37   \nphex2                  5.40                 7.95                     0.0057   \ntca2                   9.51                10.27                       0.01   \n\n      OF: max of Ex16_Day (pFBA)* OF: max of Biomass_Total (pFBA)  \\\nchex2                        9.85                            0.02   \nphex1                       40.53                             0.0   \nCphex                       40.59                            0.34   \nchex3                        0.18                            0.35   \nphex2                      0.0114                          0.0057   \ntca2                          0.0                             0.0   \n\n      OF: max of Biomass_Total (pFBA)*  \nchex2                             9.88  \nphex1                              0.0  \nCphex                            40.03  \nchex3                            44.04  \nphex2                           0.7129  \ntca2                               0.0  ",
      "text/html": "<div>\n<style scoped>\n    .dataframe tbody tr th:only-of-type {\n        vertical-align: middle;\n    }\n\n    .dataframe tbody tr th {\n        vertical-align: top;\n    }\n\n    .dataframe thead th {\n        text-align: right;\n    }\n</style>\n<table border=\"1\" class=\"dataframe\">\n  <thead>\n    <tr style=\"text-align: right;\">\n      <th></th>\n      <th>Valores Artigo (pFBA)</th>\n      <th>Valores Artigo (MFA)</th>\n      <th>OF: max of Ex16_Day (pFBA)</th>\n      <th>OF: max of Ex16_Day (pFBA)*</th>\n      <th>OF: max of Biomass_Total (pFBA)</th>\n      <th>OF: max of Biomass_Total (pFBA)*</th>\n    </tr>\n  </thead>\n  <tbody>\n    <tr>\n      <th>chex2</th>\n      <td>11.38</td>\n      <td>7.33</td>\n      <td>9.27</td>\n      <td>9.85</td>\n      <td>0.02</td>\n      <td>9.88</td>\n    </tr>\n    <tr>\n      <th>phex1</th>\n      <td>1.719</td>\n      <td>2.89</td>\n      <td>39.42</td>\n      <td>40.53</td>\n      <td>0.0</td>\n      <td>0.0</td>\n    </tr>\n    <tr>\n      <th>Cphex</th>\n      <td>19.07</td>\n      <td>23.96</td>\n      <td>39.51</td>\n      <td>40.59</td>\n      <td>0.34</td>\n      <td>40.03</td>\n    </tr>\n    <tr>\n      <th>chex3</th>\n      <td>0.0065</td>\n      <td>11.18</td>\n      <td>0.37</td>\n      <td>0.18</td>\n      <td>0.35</td>\n      <td>44.04</td>\n    </tr>\n    <tr>\n      <th>phex2</th>\n      <td>5.40</td>\n      <td>7.95</td>\n      <td>0.0057</td>\n      <td>0.0114</td>\n      <td>0.0057</td>\n      <td>0.7129</td>\n    </tr>\n    <tr>\n      <th>tca2</th>\n      <td>9.51</td>\n      <td>10.27</td>\n      <td>0.01</td>\n      <td>0.0</td>\n      <td>0.0</td>\n      <td>0.0</td>\n    </tr>\n  </tbody>\n</table>\n</div>"
     },
     "execution_count": 38,
     "metadata": {},
     "output_type": "execute_result"
    }
   ],
   "source": [
    "import pandas as pd\n",
    "\n",
    "dados = {'Valores Artigo (pFBA)': ['11.38', '1.719', '19.07', '0.0065', '5.40', '9.51'],\n",
    "         'Valores Artigo (MFA)' : ['7.33', '2.89', '23.96', '11.18', '7.95', '10.27'],\n",
    "         'OF: max of Ex16_Day (pFBA)': ['9.27', '39.42', '39.51', '0.37', '0.0057', '0.01'],\n",
    "         'OF: max of Ex16_Day (pFBA)*': ['9.85', '40.54', '40.59', '0.18', '0.0114', '0.0'],\n",
    "         'OF: max of Biomass_Total (pFBA)' : ['0.02', '0.0', '0.34', '0.35', '0.0057', '0.0'],\n",
    "         'OF: max of Biomass_Total (pFBA)*' : ['9.88', '0.0', '40.03', '44.04', '0.7129', '0.0']}\n",
    "\n",
    "df = pd.DataFrame(dados)\n",
    "\n",
    "nomes = ['chex2', 'phex1', 'Cphex', 'chex3', 'phex2', 'tca2']\n",
    "df.index = nomes\n",
    "\n",
    "df"
   ],
   "metadata": {
    "collapsed": false,
    "ExecuteTime": {
     "start_time": "2023-05-23T17:40:33.725404Z",
     "end_time": "2023-05-23T17:40:33.778301Z"
    }
   }
  },
  {
   "cell_type": "markdown",
   "source": [
    "*As constraints para a reação de Biomass_Total estão a (0, 1000) nestas hipóteses"
   ],
   "metadata": {
    "collapsed": false
   }
  },
  {
   "cell_type": "code",
   "execution_count": null,
   "outputs": [],
   "source": [],
   "metadata": {
    "collapsed": false
   }
  }
 ],
 "metadata": {
  "kernelspec": {
   "display_name": "Python 3",
   "language": "python",
   "name": "python3"
  },
  "language_info": {
   "codemirror_mode": {
    "name": "ipython",
    "version": 2
   },
   "file_extension": ".py",
   "mimetype": "text/x-python",
   "name": "python",
   "nbconvert_exporter": "python",
   "pygments_lexer": "ipython2",
   "version": "2.7.6"
  }
 },
 "nbformat": 4,
 "nbformat_minor": 0
}
