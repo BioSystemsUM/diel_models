{
 "cells": [
  {
   "cell_type": "code",
   "execution_count": 11,
   "outputs": [],
   "source": [
    "import cobra\n",
    "\n",
    "modelo = cobra.io.read_sbml_model('AraGEM_Photo_after_Pipeline.xml')"
   ],
   "metadata": {
    "collapsed": false,
    "ExecuteTime": {
     "start_time": "2023-05-24T17:54:03.972388Z",
     "end_time": "2023-05-24T17:54:09.071507Z"
    }
   }
  },
  {
   "cell_type": "code",
   "execution_count": 12,
   "outputs": [],
   "source": [
    "modelo.objective_direction = \"max\""
   ],
   "metadata": {
    "collapsed": false,
    "ExecuteTime": {
     "start_time": "2023-05-24T17:54:09.079798Z",
     "end_time": "2023-05-24T17:54:09.090884Z"
    }
   }
  },
  {
   "cell_type": "code",
   "execution_count": 13,
   "outputs": [
    {
     "data": {
      "text/plain": "<cobra.summary.model_summary.ModelSummary at 0x1a3df6ffb50>",
      "text/html": "<h3>Objective</h3><p>1.0 Biomass_Total = 0.0</p><h4>Uptake</h4><table border=\"1\" class=\"dataframe\">\n  <thead>\n    <tr style=\"text-align: right;\">\n      <th>Metabolite</th>\n      <th>Reaction</th>\n      <th>Flux</th>\n      <th>C-Number</th>\n      <th>C-Flux</th>\n    </tr>\n  </thead>\n  <tbody>\n  </tbody>\n</table><h4>Secretion</h4><table border=\"1\" class=\"dataframe\">\n  <thead>\n    <tr style=\"text-align: right;\">\n      <th>Metabolite</th>\n      <th>Reaction</th>\n      <th>Flux</th>\n      <th>C-Number</th>\n      <th>C-Flux</th>\n    </tr>\n  </thead>\n  <tbody>\n  </tbody>\n</table>"
     },
     "execution_count": 13,
     "metadata": {},
     "output_type": "execute_result"
    }
   ],
   "source": [
    "modelo.summary()"
   ],
   "metadata": {
    "collapsed": false,
    "ExecuteTime": {
     "start_time": "2023-05-24T17:54:09.092207Z",
     "end_time": "2023-05-24T17:54:11.337232Z"
    }
   }
  },
  {
   "cell_type": "code",
   "execution_count": 6,
   "outputs": [],
   "source": [
    "modelo.reactions.get_by_id(\"Biomass_Total\").upper_bound = 0.11\n",
    "modelo.reactions.get_by_id(\"Biomass_Total\").lower_bound = 0.11\n",
    "modelo.objective = \"Ex16_Day\"\n",
    "modelo.objective_direction = \"max\""
   ],
   "metadata": {
    "collapsed": false,
    "ExecuteTime": {
     "start_time": "2023-05-24T17:51:47.175568Z",
     "end_time": "2023-05-24T17:51:47.273787Z"
    }
   }
  },
  {
   "cell_type": "code",
   "execution_count": 12,
   "outputs": [],
   "source": [
    "modelo.reactions.get_by_id(\"Biomass_Total\").upper_bound = 1000\n",
    "modelo.reactions.get_by_id(\"Biomass_Total\").lower_bound = 0\n",
    "modelo.objective = \"Ex16_Day\"\n",
    "modelo.objective_direction = \"max\""
   ],
   "metadata": {
    "collapsed": false,
    "ExecuteTime": {
     "start_time": "2023-05-24T14:47:08.299471Z",
     "end_time": "2023-05-24T14:47:08.329149Z"
    }
   }
  },
  {
   "cell_type": "code",
   "execution_count": 19,
   "outputs": [],
   "source": [
    "modelo.reactions.get_by_id(\"Biomass_Total\").upper_bound = 0.11\n",
    "modelo.reactions.get_by_id(\"Biomass_Total\").lower_bound = 0.11\n",
    "modelo.objective = \"Biomass_Total\"\n",
    "modelo.objective_direction = \"max\""
   ],
   "metadata": {
    "collapsed": false,
    "ExecuteTime": {
     "start_time": "2023-05-24T14:47:20.429512Z",
     "end_time": "2023-05-24T14:47:20.442801Z"
    }
   }
  },
  {
   "cell_type": "code",
   "execution_count": 26,
   "outputs": [],
   "source": [
    "modelo.reactions.get_by_id(\"Biomass_Total\").upper_bound = 1000\n",
    "modelo.reactions.get_by_id(\"Biomass_Total\").lower_bound = 0\n",
    "modelo.objective = \"Biomass_Total\"\n",
    "modelo.objective_direction = \"max\""
   ],
   "metadata": {
    "collapsed": false,
    "ExecuteTime": {
     "start_time": "2023-05-24T14:47:29.587756Z",
     "end_time": "2023-05-24T14:47:29.619263Z"
    }
   }
  },
  {
   "cell_type": "code",
   "execution_count": 7,
   "outputs": [
    {
     "ename": "Infeasible",
     "evalue": "None (infeasible).",
     "output_type": "error",
     "traceback": [
      "\u001B[1;31m---------------------------------------------------------------------------\u001B[0m",
      "\u001B[1;31mInfeasible\u001B[0m                                Traceback (most recent call last)",
      "Cell \u001B[1;32mIn[7], line 3\u001B[0m\n\u001B[0;32m      1\u001B[0m \u001B[38;5;28;01mfrom\u001B[39;00m \u001B[38;5;21;01mcobra\u001B[39;00m\u001B[38;5;21;01m.\u001B[39;00m\u001B[38;5;21;01mflux_analysis\u001B[39;00m \u001B[38;5;28;01mimport\u001B[39;00m pfba\n\u001B[1;32m----> 3\u001B[0m solution \u001B[38;5;241m=\u001B[39m \u001B[43mpfba\u001B[49m\u001B[43m(\u001B[49m\u001B[43mmodelo\u001B[49m\u001B[43m)\u001B[49m\n\u001B[0;32m      4\u001B[0m R02732_c \u001B[38;5;241m=\u001B[39m solution\u001B[38;5;241m.\u001B[39mfluxes[\u001B[38;5;124m\"\u001B[39m\u001B[38;5;124mR02732_c_Day\u001B[39m\u001B[38;5;124m\"\u001B[39m] \u001B[38;5;241m+\u001B[39m solution\u001B[38;5;241m.\u001B[39mfluxes[\u001B[38;5;124m\"\u001B[39m\u001B[38;5;124mR02732_c_Night\u001B[39m\u001B[38;5;124m\"\u001B[39m]\n\u001B[0;32m      5\u001B[0m R01070N_c \u001B[38;5;241m=\u001B[39m solution\u001B[38;5;241m.\u001B[39mfluxes[\u001B[38;5;124m\"\u001B[39m\u001B[38;5;124mR01070N_c_Day\u001B[39m\u001B[38;5;124m\"\u001B[39m] \u001B[38;5;241m+\u001B[39m solution\u001B[38;5;241m.\u001B[39mfluxes[\u001B[38;5;124m\"\u001B[39m\u001B[38;5;124mR01070N_c_Night\u001B[39m\u001B[38;5;124m\"\u001B[39m]\n",
      "File \u001B[1;32m~\\anaconda3\\envs\\diel_models\\lib\\site-packages\\cobra\\flux_analysis\\parsimonious.py:94\u001B[0m, in \u001B[0;36mpfba\u001B[1;34m(model, fraction_of_optimum, objective, reactions)\u001B[0m\n\u001B[0;32m     90\u001B[0m reactions \u001B[38;5;241m=\u001B[39m (\n\u001B[0;32m     91\u001B[0m     model\u001B[38;5;241m.\u001B[39mreactions \u001B[38;5;28;01mif\u001B[39;00m reactions \u001B[38;5;129;01mis\u001B[39;00m \u001B[38;5;28;01mNone\u001B[39;00m \u001B[38;5;28;01melse\u001B[39;00m model\u001B[38;5;241m.\u001B[39mreactions\u001B[38;5;241m.\u001B[39mget_by_any(reactions)\n\u001B[0;32m     92\u001B[0m )\n\u001B[0;32m     93\u001B[0m \u001B[38;5;28;01mwith\u001B[39;00m model \u001B[38;5;28;01mas\u001B[39;00m m:\n\u001B[1;32m---> 94\u001B[0m     \u001B[43madd_pfba\u001B[49m\u001B[43m(\u001B[49m\u001B[43mm\u001B[49m\u001B[43m,\u001B[49m\u001B[43m \u001B[49m\u001B[43mobjective\u001B[49m\u001B[38;5;241;43m=\u001B[39;49m\u001B[43mobjective\u001B[49m\u001B[43m,\u001B[49m\u001B[43m \u001B[49m\u001B[43mfraction_of_optimum\u001B[49m\u001B[38;5;241;43m=\u001B[39;49m\u001B[43mfraction_of_optimum\u001B[49m\u001B[43m)\u001B[49m\n\u001B[0;32m     95\u001B[0m     m\u001B[38;5;241m.\u001B[39mslim_optimize(error_value\u001B[38;5;241m=\u001B[39m\u001B[38;5;28;01mNone\u001B[39;00m)\n\u001B[0;32m     96\u001B[0m     solution \u001B[38;5;241m=\u001B[39m get_solution(m, reactions\u001B[38;5;241m=\u001B[39mreactions)\n",
      "File \u001B[1;32m~\\anaconda3\\envs\\diel_models\\lib\\site-packages\\cobra\\flux_analysis\\parsimonious.py:132\u001B[0m, in \u001B[0;36madd_pfba\u001B[1;34m(model, objective, fraction_of_optimum)\u001B[0m\n\u001B[0;32m    130\u001B[0m \u001B[38;5;28;01mif\u001B[39;00m model\u001B[38;5;241m.\u001B[39msolver\u001B[38;5;241m.\u001B[39mobjective\u001B[38;5;241m.\u001B[39mname \u001B[38;5;241m==\u001B[39m \u001B[38;5;124m\"\u001B[39m\u001B[38;5;124m_pfba_objective\u001B[39m\u001B[38;5;124m\"\u001B[39m:\n\u001B[0;32m    131\u001B[0m     \u001B[38;5;28;01mraise\u001B[39;00m \u001B[38;5;167;01mValueError\u001B[39;00m(\u001B[38;5;124m\"\u001B[39m\u001B[38;5;124mThe model already has a pFBA objective.\u001B[39m\u001B[38;5;124m\"\u001B[39m)\n\u001B[1;32m--> 132\u001B[0m \u001B[43msutil\u001B[49m\u001B[38;5;241;43m.\u001B[39;49m\u001B[43mfix_objective_as_constraint\u001B[49m\u001B[43m(\u001B[49m\u001B[43mmodel\u001B[49m\u001B[43m,\u001B[49m\u001B[43m \u001B[49m\u001B[43mfraction\u001B[49m\u001B[38;5;241;43m=\u001B[39;49m\u001B[43mfraction_of_optimum\u001B[49m\u001B[43m)\u001B[49m\n\u001B[0;32m    133\u001B[0m reaction_variables \u001B[38;5;241m=\u001B[39m (\n\u001B[0;32m    134\u001B[0m     (rxn\u001B[38;5;241m.\u001B[39mforward_variable, rxn\u001B[38;5;241m.\u001B[39mreverse_variable) \u001B[38;5;28;01mfor\u001B[39;00m rxn \u001B[38;5;129;01min\u001B[39;00m model\u001B[38;5;241m.\u001B[39mreactions\n\u001B[0;32m    135\u001B[0m )\n\u001B[0;32m    136\u001B[0m variables \u001B[38;5;241m=\u001B[39m chain(\u001B[38;5;241m*\u001B[39mreaction_variables)\n",
      "File \u001B[1;32m~\\anaconda3\\envs\\diel_models\\lib\\site-packages\\cobra\\util\\solver.py:513\u001B[0m, in \u001B[0;36mfix_objective_as_constraint\u001B[1;34m(model, fraction, bound, name)\u001B[0m\n\u001B[0;32m    511\u001B[0m     model\u001B[38;5;241m.\u001B[39msolver\u001B[38;5;241m.\u001B[39mremove(fix_objective_name)\n\u001B[0;32m    512\u001B[0m \u001B[38;5;28;01mif\u001B[39;00m bound \u001B[38;5;129;01mis\u001B[39;00m \u001B[38;5;28;01mNone\u001B[39;00m:\n\u001B[1;32m--> 513\u001B[0m     bound \u001B[38;5;241m=\u001B[39m \u001B[43mmodel\u001B[49m\u001B[38;5;241;43m.\u001B[39;49m\u001B[43mslim_optimize\u001B[49m\u001B[43m(\u001B[49m\u001B[43merror_value\u001B[49m\u001B[38;5;241;43m=\u001B[39;49m\u001B[38;5;28;43;01mNone\u001B[39;49;00m\u001B[43m)\u001B[49m \u001B[38;5;241m*\u001B[39m fraction\n\u001B[0;32m    514\u001B[0m \u001B[38;5;28;01mif\u001B[39;00m model\u001B[38;5;241m.\u001B[39mobjective\u001B[38;5;241m.\u001B[39mdirection \u001B[38;5;241m==\u001B[39m \u001B[38;5;124m\"\u001B[39m\u001B[38;5;124mmax\u001B[39m\u001B[38;5;124m\"\u001B[39m:\n\u001B[0;32m    515\u001B[0m     ub, lb \u001B[38;5;241m=\u001B[39m \u001B[38;5;28;01mNone\u001B[39;00m, bound\n",
      "File \u001B[1;32m~\\anaconda3\\envs\\diel_models\\lib\\site-packages\\cobra\\core\\model.py:1203\u001B[0m, in \u001B[0;36mModel.slim_optimize\u001B[1;34m(self, error_value, message)\u001B[0m\n\u001B[0;32m   1201\u001B[0m     \u001B[38;5;28;01mreturn\u001B[39;00m error_value\n\u001B[0;32m   1202\u001B[0m \u001B[38;5;28;01melse\u001B[39;00m:\n\u001B[1;32m-> 1203\u001B[0m     \u001B[43massert_optimal\u001B[49m\u001B[43m(\u001B[49m\u001B[38;5;28;43mself\u001B[39;49m\u001B[43m,\u001B[49m\u001B[43m \u001B[49m\u001B[43mmessage\u001B[49m\u001B[43m)\u001B[49m\n",
      "File \u001B[1;32m~\\anaconda3\\envs\\diel_models\\lib\\site-packages\\cobra\\util\\solver.py:590\u001B[0m, in \u001B[0;36massert_optimal\u001B[1;34m(model, message)\u001B[0m\n\u001B[0;32m    588\u001B[0m \u001B[38;5;28;01mif\u001B[39;00m status \u001B[38;5;241m!=\u001B[39m OPTIMAL:\n\u001B[0;32m    589\u001B[0m     exception_cls \u001B[38;5;241m=\u001B[39m OPTLANG_TO_EXCEPTIONS_DICT\u001B[38;5;241m.\u001B[39mget(status, OptimizationError)\n\u001B[1;32m--> 590\u001B[0m     \u001B[38;5;28;01mraise\u001B[39;00m exception_cls(\u001B[38;5;124mf\u001B[39m\u001B[38;5;124m\"\u001B[39m\u001B[38;5;132;01m{\u001B[39;00mmessage\u001B[38;5;132;01m}\u001B[39;00m\u001B[38;5;124m (\u001B[39m\u001B[38;5;132;01m{\u001B[39;00mstatus\u001B[38;5;132;01m}\u001B[39;00m\u001B[38;5;124m).\u001B[39m\u001B[38;5;124m\"\u001B[39m)\n",
      "\u001B[1;31mInfeasible\u001B[0m: None (infeasible)."
     ]
    }
   ],
   "source": [
    "from cobra.flux_analysis import pfba\n",
    "\n",
    "solution = pfba(modelo)\n",
    "R02732_c = solution.fluxes[\"R02732_c_Day\"] + solution.fluxes[\"R02732_c_Night\"]\n",
    "R01070N_c = solution.fluxes[\"R01070N_c_Day\"] + solution.fluxes[\"R01070N_c_Night\"]\n",
    "R00762_c = solution.fluxes[\"R00762_c_Day\"] + solution.fluxes[\"R00762_c_Night\"]\n",
    "\n",
    "chex2 = abs(round(((R02732_c - R01070N_c) + R00762_c) / 2, 2))\n",
    "print(chex2)"
   ],
   "metadata": {
    "collapsed": false,
    "ExecuteTime": {
     "start_time": "2023-05-24T14:47:30.301135Z",
     "end_time": "2023-05-24T14:47:31.095741Z"
    }
   }
  },
  {
   "cell_type": "code",
   "execution_count": 28,
   "outputs": [
    {
     "data": {
      "text/plain": "0.0"
     },
     "execution_count": 28,
     "metadata": {},
     "output_type": "execute_result"
    }
   ],
   "source": [
    "R04779_p = solution.fluxes[\"R04779_p_Day\"] + solution.fluxes[\"R04779_p_Night\"]\n",
    "R00762_p = solution.fluxes[\"R00762_p_Day\"] + solution.fluxes[\"R00762_p_Night\"]\n",
    "R01070N_p = solution.fluxes[\"R01070N_p_Day\"] + solution.fluxes[\"R01070N_p_Night\"]\n",
    "\n",
    "\n",
    "phex1 = abs(round(((R04779_p - R00762_p) - R01070N_p) / 2, 2))\n",
    "phex1"
   ],
   "metadata": {
    "collapsed": false,
    "ExecuteTime": {
     "start_time": "2023-05-24T14:47:31.048010Z",
     "end_time": "2023-05-24T14:47:31.114542Z"
    }
   }
  },
  {
   "cell_type": "code",
   "execution_count": 29,
   "outputs": [
    {
     "data": {
      "text/plain": "21.49"
     },
     "execution_count": 29,
     "metadata": {},
     "output_type": "execute_result"
    }
   ],
   "source": [
    "R01061_c = solution.fluxes[\"R01061_c_Day\"] + solution.fluxes[\"R01061_c_Night\"]\n",
    "R01061_p = solution.fluxes[\"R01061_p_Day\"] + solution.fluxes[\"R01061_p_Night\"]\n",
    "R01063_p = solution.fluxes[\"R01063_p_Day\"] + solution.fluxes[\"R01063_p_Night\"]\n",
    "R01512_c = solution.fluxes[\"R01512_c_Day\"] + solution.fluxes[\"R01512_c_Night\"]\n",
    "R01518_c = solution.fluxes[\"R01518_c_Day\"] + solution.fluxes[\"R01518_c_Night\"]\n",
    "R01518_p = solution.fluxes[\"R01518_p_Day\"] + solution.fluxes[\"R01518_p_Night\"]\n",
    "R00658_c = solution.fluxes[\"R00658_c_Day\"] + solution.fluxes[\"R00658_c_Night\"]\n",
    "R00658_p = solution.fluxes[\"R00658_p_Day\"] + solution.fluxes[\"R00658_p_Night\"]\n",
    "R01512_p = solution.fluxes[\"R01512_p_Day\"] + solution.fluxes[\"R01512_p_Night\"]\n",
    "\n",
    "Cphex = abs(round(((R01061_c + R01061_p - R01063_p - R01512_c - R01512_p)/2 + (R01518_c + R01518_p) + (R00658_c + R00658_p))/3, 2))\n",
    "Cphex"
   ],
   "metadata": {
    "collapsed": false,
    "ExecuteTime": {
     "start_time": "2023-05-24T14:47:31.455671Z",
     "end_time": "2023-05-24T14:47:31.488174Z"
    }
   }
  },
  {
   "cell_type": "code",
   "execution_count": 30,
   "outputs": [
    {
     "data": {
      "text/plain": "36.19"
     },
     "execution_count": 30,
     "metadata": {},
     "output_type": "execute_result"
    }
   ],
   "source": [
    "R00200_c = solution.fluxes[\"R00200_c_Day\"] + solution.fluxes[\"R00200_c_Night\"]\n",
    "\n",
    "chex3 = abs(round(R00200_c,2))\n",
    "chex3"
   ],
   "metadata": {
    "collapsed": false,
    "ExecuteTime": {
     "start_time": "2023-05-24T14:47:32.225087Z",
     "end_time": "2023-05-24T14:47:32.242087Z"
    }
   }
  },
  {
   "cell_type": "code",
   "execution_count": 31,
   "outputs": [
    {
     "data": {
      "text/plain": "8.5548"
     },
     "execution_count": 31,
     "metadata": {},
     "output_type": "execute_result"
    }
   ],
   "source": [
    "R00200_p = solution.fluxes[\"R00200_p_Day\"] + solution.fluxes[\"R00200_p_Night\"]\n",
    "R00206_p = solution.fluxes[\"R00206_p_Day\"] + solution.fluxes[\"R00206_p_Night\"]\n",
    "\n",
    "phex2 = abs(round(R00200_p - R00206_p, 4))\n",
    "phex2"
   ],
   "metadata": {
    "collapsed": false,
    "ExecuteTime": {
     "start_time": "2023-05-24T14:47:32.992279Z",
     "end_time": "2023-05-24T14:47:33.011797Z"
    }
   }
  },
  {
   "cell_type": "code",
   "execution_count": 32,
   "outputs": [
    {
     "data": {
      "text/plain": "0.0"
     },
     "execution_count": 32,
     "metadata": {},
     "output_type": "execute_result"
    }
   ],
   "source": [
    "R00351_m = solution.fluxes[\"R00351_m_Day\"] + solution.fluxes[\"R00351_m_Night\"]\n",
    "R00209_m = solution.fluxes[\"R00209_m_Day\"] + solution.fluxes[\"R00209_m_Night\"]\n",
    "TCM1 = solution.fluxes[\"TCM1_Day\"] + solution.fluxes[\"TCM1_Night\"]\n",
    "\n",
    "tca2 = abs(round((-TCM1 + R00351_m + R00209_m)/3, 2))\n",
    "tca2"
   ],
   "metadata": {
    "collapsed": false,
    "ExecuteTime": {
     "start_time": "2023-05-24T14:47:33.810228Z",
     "end_time": "2023-05-24T14:47:33.841723Z"
    }
   }
  },
  {
   "cell_type": "code",
   "execution_count": 33,
   "outputs": [
    {
     "data": {
      "text/plain": "      Valores Artigo (pFBA) Valores Artigo (MFA) OF: max of Ex16_Day (pFBA)  \\\nchex2                 11.38                 7.33                       9.27   \nphex1                 1.719                 2.89                      39.42   \nCphex                 19.07                23.96                       0.33   \nchex3                0.0065                11.18                       0.36   \nphex2                  5.40                 7.95                     0.0229   \ntca2                   9.51                10.27                       0.01   \n\n      OF: max of Ex16_Day (pFBA)* OF: max of Biomass_Total (pFBA)  \\\nchex2                        9.84                            0.02   \nphex1                       40.54                             0.0   \nCphex                        0.17                            0.13   \nchex3                        0.19                             0.3   \nphex2                      0.0029                          0.0557   \ntca2                          0.0                             0.0   \n\n      OF: max of Biomass_Total (pFBA)*  \nchex2                             8.81  \nphex1                              0.0  \nCphex                            21.49  \nchex3                            36.19  \nphex2                           8.5548  \ntca2                               0.0  ",
      "text/html": "<div>\n<style scoped>\n    .dataframe tbody tr th:only-of-type {\n        vertical-align: middle;\n    }\n\n    .dataframe tbody tr th {\n        vertical-align: top;\n    }\n\n    .dataframe thead th {\n        text-align: right;\n    }\n</style>\n<table border=\"1\" class=\"dataframe\">\n  <thead>\n    <tr style=\"text-align: right;\">\n      <th></th>\n      <th>Valores Artigo (pFBA)</th>\n      <th>Valores Artigo (MFA)</th>\n      <th>OF: max of Ex16_Day (pFBA)</th>\n      <th>OF: max of Ex16_Day (pFBA)*</th>\n      <th>OF: max of Biomass_Total (pFBA)</th>\n      <th>OF: max of Biomass_Total (pFBA)*</th>\n    </tr>\n  </thead>\n  <tbody>\n    <tr>\n      <th>chex2</th>\n      <td>11.38</td>\n      <td>7.33</td>\n      <td>9.27</td>\n      <td>9.84</td>\n      <td>0.02</td>\n      <td>8.81</td>\n    </tr>\n    <tr>\n      <th>phex1</th>\n      <td>1.719</td>\n      <td>2.89</td>\n      <td>39.42</td>\n      <td>40.54</td>\n      <td>0.0</td>\n      <td>0.0</td>\n    </tr>\n    <tr>\n      <th>Cphex</th>\n      <td>19.07</td>\n      <td>23.96</td>\n      <td>0.33</td>\n      <td>0.17</td>\n      <td>0.13</td>\n      <td>21.49</td>\n    </tr>\n    <tr>\n      <th>chex3</th>\n      <td>0.0065</td>\n      <td>11.18</td>\n      <td>0.36</td>\n      <td>0.19</td>\n      <td>0.3</td>\n      <td>36.19</td>\n    </tr>\n    <tr>\n      <th>phex2</th>\n      <td>5.40</td>\n      <td>7.95</td>\n      <td>0.0229</td>\n      <td>0.0029</td>\n      <td>0.0557</td>\n      <td>8.5548</td>\n    </tr>\n    <tr>\n      <th>tca2</th>\n      <td>9.51</td>\n      <td>10.27</td>\n      <td>0.01</td>\n      <td>0.0</td>\n      <td>0.0</td>\n      <td>0.0</td>\n    </tr>\n  </tbody>\n</table>\n</div>"
     },
     "execution_count": 33,
     "metadata": {},
     "output_type": "execute_result"
    }
   ],
   "source": [
    "import pandas as pd\n",
    "\n",
    "dados = {'Valores Artigo (pFBA)': ['11.38', '1.719', '19.07', '0.0065', '5.40', '9.51'],\n",
    "         'Valores Artigo (MFA)' : ['7.33', '2.89', '23.96', '11.18', '7.95', '10.27'],\n",
    "         'OF: max of Ex16_Day (pFBA)': ['9.27', '39.42', '0.33', '0.36', '0.0229', '0.01'],\n",
    "         'OF: max of Ex16_Day (pFBA)*': ['9.84', '40.54', '0.17', '0.19', '0.0029', '0.0'],\n",
    "         'OF: max of Biomass_Total (pFBA)' : ['0.02', '0.0', '0.13', '0.3', '0.0557', '0.0'],\n",
    "         'OF: max of Biomass_Total (pFBA)*' : ['8.81', '0.0', '21.49', '36.19', '8.5548', '0.0']}\n",
    "\n",
    "df = pd.DataFrame(dados)\n",
    "\n",
    "nomes = ['chex2', 'phex1', 'Cphex', 'chex3', 'phex2', 'tca2']\n",
    "df.index = nomes\n",
    "\n",
    "df"
   ],
   "metadata": {
    "collapsed": false,
    "ExecuteTime": {
     "start_time": "2023-05-24T14:48:04.457408Z",
     "end_time": "2023-05-24T14:48:04.513335Z"
    }
   }
  },
  {
   "cell_type": "markdown",
   "source": [
    "*As constraints para a reação de Biomass_Total estão a (0, 1000) nestas hipóteses"
   ],
   "metadata": {
    "collapsed": false
   }
  },
  {
   "cell_type": "code",
   "execution_count": null,
   "outputs": [],
   "source": [],
   "metadata": {
    "collapsed": false
   }
  }
 ],
 "metadata": {
  "kernelspec": {
   "display_name": "Python 3",
   "language": "python",
   "name": "python3"
  },
  "language_info": {
   "codemirror_mode": {
    "name": "ipython",
    "version": 2
   },
   "file_extension": ".py",
   "mimetype": "text/x-python",
   "name": "python",
   "nbconvert_exporter": "python",
   "pygments_lexer": "ipython2",
   "version": "2.7.6"
  }
 },
 "nbformat": 4,
 "nbformat_minor": 0
}
