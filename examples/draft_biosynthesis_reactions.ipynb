{
 "cells": [
  {
   "cell_type": "code",
   "execution_count": 21,
   "metadata": {
    "collapsed": true,
    "ExecuteTime": {
     "start_time": "2023-05-26T17:59:21.947730Z",
     "end_time": "2023-05-26T17:59:25.893771Z"
    }
   },
   "outputs": [],
   "source": [
    "import cobra.io\n",
    "\n",
    "modelo = cobra.io.read_sbml_model(\"Diel_Model_after_complete_pipeline.xml\")"
   ]
  },
  {
   "cell_type": "code",
   "execution_count": 34,
   "outputs": [
    {
     "name": "stdout",
     "output_type": "stream",
     "text": [
      "frozenset({<Reaction Ex16_Night at 0x25df25dafa0>, <Reaction REner01_p_Night at 0x25df2a33f70>})\n"
     ]
    }
   ],
   "source": [
    "for metabolite in modelo.metabolites.query('hv'):\n",
    "    if \"Night\" in metabolite.compartment:\n",
    "        print(metabolite.reactions)"
   ],
   "metadata": {
    "collapsed": false,
    "ExecuteTime": {
     "start_time": "2023-05-26T18:03:44.136884Z",
     "end_time": "2023-05-26T18:03:44.153243Z"
    }
   }
  },
  {
   "cell_type": "code",
   "execution_count": 22,
   "outputs": [],
   "source": [
    "from cobra.flux_analysis import pfba"
   ],
   "metadata": {
    "collapsed": false,
    "ExecuteTime": {
     "start_time": "2023-05-26T17:59:29.605582Z",
     "end_time": "2023-05-26T17:59:29.625628Z"
    }
   }
  },
  {
   "cell_type": "code",
   "execution_count": 25,
   "outputs": [],
   "source": [
    "modelo.objective_direction = \"max\"\n",
    "solution = pfba(modelo)"
   ],
   "metadata": {
    "collapsed": false,
    "ExecuteTime": {
     "start_time": "2023-05-26T18:00:06.691237Z",
     "end_time": "2023-05-26T18:00:07.651946Z"
    }
   }
  },
  {
   "cell_type": "code",
   "execution_count": 39,
   "outputs": [
    {
     "data": {
      "text/plain": "<Reaction REner01_p_Day at 0x25df2350a90>",
      "text/html": "\n        <table>\n            <tr>\n                <td><strong>Reaction identifier</strong></td><td>REner01_p_Day</td>\n            </tr><tr>\n                <td><strong>Name</strong></td><td>R_REner01_p</td>\n            </tr><tr>\n                <td><strong>Memory address</strong></td>\n                <td>0x25df2350a90</td>\n            </tr><tr>\n                <td><strong>Stoichiometry</strong></td>\n                <td>\n                    <p style='text-align:right'>3.0 S_ADP_p[C_p]_Day + 2.0 S_H2O_p[C_p]_Day + 2.0 S_NADP_43__p[C_p]_Day + 3.0 S_Orthophosphate_p[C_p]_Day + 8.0 S_hv_p[C_p]_Day --> 3.0 S_ATP_p[C_p]_Day + 2.0 S_H_43__p[C_p]_Day + 2.0...</p>\n                    <p style='text-align:right'>3.0 ADP_p Day + 2.0 H2O_p Day + 2.0 NADP+ Day + 3.0 Orthophosphate_p Day + 8.0 hv_p Day --> 3.0 ATP_p Day + 2.0 H+_p Day + 2.0 NADPH Day + Oxygen_p Day</p>\n                </td>\n            </tr><tr>\n                <td><strong>GPR</strong></td><td></td>\n            </tr><tr>\n                <td><strong>Lower bound</strong></td><td>0.0</td>\n            </tr><tr>\n                <td><strong>Upper bound</strong></td><td>1000.0</td>\n            </tr>\n        </table>\n        "
     },
     "execution_count": 39,
     "metadata": {},
     "output_type": "execute_result"
    }
   ],
   "source": [
    "modelo.reactions.get_by_id('REner01_p_Day')"
   ],
   "metadata": {
    "collapsed": false,
    "ExecuteTime": {
     "start_time": "2023-05-26T18:04:52.144923Z",
     "end_time": "2023-05-26T18:04:52.204478Z"
    }
   }
  },
  {
   "cell_type": "code",
   "execution_count": 32,
   "outputs": [
    {
     "data": {
      "text/plain": "0.0"
     },
     "execution_count": 32,
     "metadata": {},
     "output_type": "execute_result"
    }
   ],
   "source": [
    "solution.fluxes['V0004_Day']"
   ],
   "metadata": {
    "collapsed": false,
    "ExecuteTime": {
     "start_time": "2023-05-26T18:01:11.503528Z",
     "end_time": "2023-05-26T18:01:11.526778Z"
    }
   }
  },
  {
   "cell_type": "code",
   "execution_count": 33,
   "outputs": [
    {
     "data": {
      "text/plain": "<cobra.summary.model_summary.ModelSummary at 0x25df030cd30>",
      "text/html": "<h3>Objective</h3><p>1.0 Biomass_Total = 4.722968585816379</p><h4>Uptake</h4><table border=\"1\" class=\"dataframe\">\n  <thead>\n    <tr style=\"text-align: right;\">\n      <th>Metabolite</th>\n      <th>Reaction</th>\n      <th>Flux</th>\n      <th>C-Number</th>\n      <th>C-Flux</th>\n    </tr>\n  </thead>\n  <tbody>\n    <tr>\n      <td>S_Hydrogen_32_sulfide_c[C_c]_Day</td>\n      <td>Ex11_Day</td>\n      <td>0.1228</td>\n      <td>0</td>\n      <td>0.00%</td>\n    </tr>\n    <tr>\n      <td>S_hv_p[C_p]_Day</td>\n      <td>Ex16_Day</td>\n      <td>1000</td>\n      <td>0</td>\n      <td>0.00%</td>\n    </tr>\n    <tr>\n      <td>S_Orthophosphate_c[C_c]_Day</td>\n      <td>Ex18_Day</td>\n      <td>0.05219</td>\n      <td>0</td>\n      <td>0.00%</td>\n    </tr>\n    <tr>\n      <td>S_Orthophosphate_c[C_c]_Night</td>\n      <td>Ex18_Night</td>\n      <td>0.05219</td>\n      <td>0</td>\n      <td>0.00%</td>\n    </tr>\n    <tr>\n      <td>S_CO2_c[C_c]_Day</td>\n      <td>Ex1_Day</td>\n      <td>99.39</td>\n      <td>0</td>\n      <td>0.00%</td>\n    </tr>\n    <tr>\n      <td>S_H2O_c[C_c]_Day</td>\n      <td>Ex2_Day</td>\n      <td>406.8</td>\n      <td>0</td>\n      <td>0.00%</td>\n    </tr>\n    <tr>\n      <td>S_Oxygen_c[C_c]_Night</td>\n      <td>Ex3_Night</td>\n      <td>17.02</td>\n      <td>0</td>\n      <td>0.00%</td>\n    </tr>\n    <tr>\n      <td>S_NH3_c[C_c]_Day</td>\n      <td>Ex5_Day</td>\n      <td>15.77</td>\n      <td>0</td>\n      <td>0.00%</td>\n    </tr>\n  </tbody>\n</table><h4>Secretion</h4><table border=\"1\" class=\"dataframe\">\n  <thead>\n    <tr style=\"text-align: right;\">\n      <th>Metabolite</th>\n      <th>Reaction</th>\n      <th>Flux</th>\n      <th>C-Number</th>\n      <th>C-Flux</th>\n    </tr>\n  </thead>\n  <tbody>\n    <tr>\n      <td>S_H2O_c[C_c]_Night</td>\n      <td>Ex2_Night</td>\n      <td>-12.37</td>\n      <td>0</td>\n      <td>0.00%</td>\n    </tr>\n    <tr>\n      <td>S_Oxygen_c[C_c]_Day</td>\n      <td>Ex3_Day</td>\n      <td>-121.8</td>\n      <td>0</td>\n      <td>0.00%</td>\n    </tr>\n    <tr>\n      <td>S_NH3_c[C_c]_Night</td>\n      <td>Ex5_Night</td>\n      <td>-0.7262</td>\n      <td>0</td>\n      <td>0.00%</td>\n    </tr>\n  </tbody>\n</table>"
     },
     "execution_count": 33,
     "metadata": {},
     "output_type": "execute_result"
    }
   ],
   "source": [
    "modelo.summary()"
   ],
   "metadata": {
    "collapsed": false,
    "ExecuteTime": {
     "start_time": "2023-05-26T18:01:41.588778Z",
     "end_time": "2023-05-26T18:01:42.615886Z"
    }
   }
  },
  {
   "cell_type": "code",
   "execution_count": null,
   "outputs": [],
   "source": [],
   "metadata": {
    "collapsed": false
   }
  }
 ],
 "metadata": {
  "kernelspec": {
   "display_name": "Python 3",
   "language": "python",
   "name": "python3"
  },
  "language_info": {
   "codemirror_mode": {
    "name": "ipython",
    "version": 2
   },
   "file_extension": ".py",
   "mimetype": "text/x-python",
   "name": "python",
   "nbconvert_exporter": "python",
   "pygments_lexer": "ipython2",
   "version": "2.7.6"
  }
 },
 "nbformat": 4,
 "nbformat_minor": 0
}
