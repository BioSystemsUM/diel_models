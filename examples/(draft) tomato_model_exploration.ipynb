{
 "cells": [
  {
   "cell_type": "code",
   "execution_count": 175,
   "metadata": {
    "collapsed": true,
    "ExecuteTime": {
     "start_time": "2023-06-08T20:47:33.618938Z",
     "end_time": "2023-06-08T20:47:38.863808Z"
    }
   },
   "outputs": [
    {
     "name": "stderr",
     "output_type": "stream",
     "text": [
      "'' is not a valid SBML 'SId'.\n"
     ]
    }
   ],
   "source": [
    "import os\n",
    "import cobra\n",
    "from tests import TEST_DIR\n",
    "\n",
    "tomato_model_path = os.path.join(TEST_DIR, 'data', 'functional_tomato_model.xml')\n",
    "\n",
    "tomato_model = cobra.io.read_sbml_model(tomato_model_path)"
   ]
  },
  {
   "cell_type": "code",
   "execution_count": 176,
   "outputs": [
    {
     "data": {
      "text/plain": "<Model  at 0x160520f2580>",
      "text/html": "\n        <table>\n            <tr>\n                <td><strong>Name</strong></td>\n                <td></td>\n            </tr><tr>\n                <td><strong>Memory address</strong></td>\n                <td>160520f2580</td>\n            </tr><tr>\n                <td><strong>Number of metabolites</strong></td>\n                <td>2079</td>\n            </tr><tr>\n                <td><strong>Number of reactions</strong></td>\n                <td>2225</td>\n            </tr><tr>\n                <td><strong>Number of genes</strong></td>\n                <td>0</td>\n            </tr><tr>\n                <td><strong>Number of groups</strong></td>\n                <td>0</td>\n            </tr><tr>\n                <td><strong>Objective expression</strong></td>\n                <td>1.0*EX_x_Photon - 1.0*EX_x_Photon_reverse_ff22b</td>\n            </tr><tr>\n                <td><strong>Compartments</strong></td>\n                <td>DefaultCompartment</td>\n            </tr>\n          </table>"
     },
     "execution_count": 176,
     "metadata": {},
     "output_type": "execute_result"
    }
   ],
   "source": [
    "tomato_model"
   ],
   "metadata": {
    "collapsed": false,
    "ExecuteTime": {
     "start_time": "2023-06-08T20:47:38.852467Z",
     "end_time": "2023-06-08T20:47:38.925382Z"
    }
   }
  },
  {
   "cell_type": "code",
   "execution_count": 177,
   "outputs": [
    {
     "data": {
      "text/plain": "<cobra.summary.model_summary.ModelSummary at 0x1604ec89b80>",
      "text/html": "<h3>Objective</h3><p>1.0 EX_x_Photon = -1000000.0000000001</p><h4>Uptake</h4><table border=\"1\" class=\"dataframe\">\n  <thead>\n    <tr style=\"text-align: right;\">\n      <th>Metabolite</th>\n      <th>Reaction</th>\n      <th>Flux</th>\n      <th>C-Number</th>\n      <th>C-Flux</th>\n    </tr>\n  </thead>\n  <tbody>\n    <tr>\n      <td>WATER_Plas</td>\n      <td>EX_WATER_Plas</td>\n      <td>5.804E+04</td>\n      <td>0</td>\n      <td>0.00%</td>\n    </tr>\n    <tr>\n      <td>x_Photon</td>\n      <td>EX_x_Photon</td>\n      <td>1E+06</td>\n      <td>0</td>\n      <td>0.00%</td>\n    </tr>\n  </tbody>\n</table><h4>Secretion</h4><table border=\"1\" class=\"dataframe\">\n  <thead>\n    <tr style=\"text-align: right;\">\n      <th>Metabolite</th>\n      <th>Reaction</th>\n      <th>Flux</th>\n      <th>C-Number</th>\n      <th>C-Flux</th>\n    </tr>\n  </thead>\n  <tbody>\n  </tbody>\n</table>"
     },
     "execution_count": 177,
     "metadata": {},
     "output_type": "execute_result"
    }
   ],
   "source": [
    "tomato_model.objective = \"EX_x_Photon\"\n",
    "tomato_model.objective_direction = \"min\"\n",
    "tomato_model.summary()"
   ],
   "metadata": {
    "collapsed": false,
    "ExecuteTime": {
     "start_time": "2023-06-08T20:47:41.316422Z",
     "end_time": "2023-06-08T20:47:43.072936Z"
    }
   }
  },
  {
   "cell_type": "code",
   "execution_count": 178,
   "outputs": [],
   "source": [
    "from cobra.flux_analysis import pfba\n",
    "\n",
    "original_solution = pfba(tomato_model).fluxes"
   ],
   "metadata": {
    "collapsed": false,
    "ExecuteTime": {
     "start_time": "2023-06-08T20:47:43.075695Z",
     "end_time": "2023-06-08T20:47:43.433486Z"
    }
   }
  },
  {
   "cell_type": "code",
   "execution_count": 179,
   "outputs": [
    {
     "data": {
      "text/plain": "<Model  at 0x160520f2580>",
      "text/html": "\n        <table>\n            <tr>\n                <td><strong>Name</strong></td>\n                <td></td>\n            </tr><tr>\n                <td><strong>Memory address</strong></td>\n                <td>160520f2580</td>\n            </tr><tr>\n                <td><strong>Number of metabolites</strong></td>\n                <td>4185</td>\n            </tr><tr>\n                <td><strong>Number of reactions</strong></td>\n                <td>4505</td>\n            </tr><tr>\n                <td><strong>Number of genes</strong></td>\n                <td>0</td>\n            </tr><tr>\n                <td><strong>Number of groups</strong></td>\n                <td>0</td>\n            </tr><tr>\n                <td><strong>Objective expression</strong></td>\n                <td>1.0*Biomass_Total - 1.0*Biomass_Total_reverse_a0aa3</td>\n            </tr><tr>\n                <td><strong>Compartments</strong></td>\n                <td>DefaultCompartment Day, DefaultCompartment Night, Storage Pool</td>\n            </tr>\n          </table>"
     },
     "execution_count": 179,
     "metadata": {},
     "output_type": "execute_result"
    }
   ],
   "source": [
    "from diel_models.diel_models_creator import diel_models_creator\n",
    "\n",
    "diel_models_creator(tomato_model, [\"SUCROSE_Cyto\", \"SULFATE_Cyto\", \"NITRATE_Cyto\", \"HIS_Cyto\", \"ILE_Cyto\", \"LEU_Cyto\", \"LYS_Cyto\", \"MET_Cyto\", \"PHE_Cyto\", \"THR_Cyto\", \"TRP_Cyto\", \"VAL_Cyto\", \"ARG_Cyto\", \"CYS_Cyto\", \"GLN_Cyto\", \"x_GLT\", \"GLY_Cyto\", \"TYR_Cyto\", \"x_ALA\", \"ASN_Cyto\", \"SER_Cyto\", \"x_ASPARTATE\", \"STARCH_Cyto\", \"FRU_Cyto\", \"MAL_Cyto\", \"FUM_Cyto\", \"CIT_Cyto\"], 'EX_x_Photon', 'biomass_reaction', 'EX_x_NO3')"
   ],
   "metadata": {
    "collapsed": false,
    "ExecuteTime": {
     "start_time": "2023-06-08T20:47:44.935402Z",
     "end_time": "2023-06-08T20:47:55.251900Z"
    }
   }
  },
  {
   "cell_type": "code",
   "execution_count": 180,
   "outputs": [
    {
     "data": {
      "text/plain": "<cobra.summary.model_summary.ModelSummary at 0x1605443e2e0>",
      "text/html": "<h3>Objective</h3><p>1.0 EX_x_Photon_Day = -1000000.0</p><h4>Uptake</h4><table border=\"1\" class=\"dataframe\">\n  <thead>\n    <tr style=\"text-align: right;\">\n      <th>Metabolite</th>\n      <th>Reaction</th>\n      <th>Flux</th>\n      <th>C-Number</th>\n      <th>C-Flux</th>\n    </tr>\n  </thead>\n  <tbody>\n    <tr>\n      <td>WATER_Plas_Day</td>\n      <td>EX_WATER_Plas_Day</td>\n      <td>5.804E+04</td>\n      <td>0</td>\n      <td>0.00%</td>\n    </tr>\n    <tr>\n      <td>x_Photon_Day</td>\n      <td>EX_x_Photon_Day</td>\n      <td>1E+06</td>\n      <td>0</td>\n      <td>0.00%</td>\n    </tr>\n  </tbody>\n</table><h4>Secretion</h4><table border=\"1\" class=\"dataframe\">\n  <thead>\n    <tr style=\"text-align: right;\">\n      <th>Metabolite</th>\n      <th>Reaction</th>\n      <th>Flux</th>\n      <th>C-Number</th>\n      <th>C-Flux</th>\n    </tr>\n  </thead>\n  <tbody>\n  </tbody>\n</table>"
     },
     "execution_count": 180,
     "metadata": {},
     "output_type": "execute_result"
    }
   ],
   "source": [
    "tomato_model.objective = \"EX_x_Photon_Day\"\n",
    "tomato_model.objective_direction = \"min\"\n",
    "tomato_model.summary()"
   ],
   "metadata": {
    "collapsed": false,
    "ExecuteTime": {
     "start_time": "2023-06-08T20:47:58.771977Z",
     "end_time": "2023-06-08T20:48:01.872369Z"
    }
   }
  },
  {
   "cell_type": "code",
   "execution_count": 181,
   "outputs": [],
   "source": [
    "from cobra.flux_analysis import pfba\n",
    "\n",
    "solution = pfba(tomato_model).fluxes"
   ],
   "metadata": {
    "collapsed": false,
    "ExecuteTime": {
     "start_time": "2023-06-08T20:48:02.879119Z",
     "end_time": "2023-06-08T20:48:03.698056Z"
    }
   }
  },
  {
   "cell_type": "code",
   "execution_count": 182,
   "outputs": [
    {
     "name": "stdout",
     "output_type": "stream",
     "text": [
      "-1000000.0000000001 -1000000.0 0.0\n"
     ]
    }
   ],
   "source": [
    "print(original_solution['EX_x_Photon'], solution[\"EX_x_Photon_Day\"], solution[\"EX_x_Photon_Night\"])"
   ],
   "metadata": {
    "collapsed": false,
    "ExecuteTime": {
     "start_time": "2023-06-08T20:48:04.615583Z",
     "end_time": "2023-06-08T20:48:04.648006Z"
    }
   }
  },
  {
   "cell_type": "code",
   "execution_count": 183,
   "outputs": [
    {
     "name": "stdout",
     "output_type": "stream",
     "text": [
      "125000.00000000006 124999.99999999999 0.0\n"
     ]
    }
   ],
   "source": [
    "print(original_solution['reac_1017'], solution[\"reac_1017_Day\"], solution[\"reac_1017_Night\"])"
   ],
   "metadata": {
    "collapsed": false,
    "ExecuteTime": {
     "start_time": "2023-06-08T20:48:05.468541Z",
     "end_time": "2023-06-08T20:48:05.501839Z"
    }
   }
  },
  {
   "cell_type": "code",
   "execution_count": 184,
   "outputs": [
    {
     "name": "stdout",
     "output_type": "stream",
     "text": [
      "500000.0000000003 499999.99999999994 0.0\n"
     ]
    }
   ],
   "source": [
    "print(original_solution['reac_1883'], solution[\"reac_1883_Day\"], solution[\"reac_1883_Night\"])"
   ],
   "metadata": {
    "collapsed": false,
    "ExecuteTime": {
     "start_time": "2023-06-08T20:48:07.199321Z",
     "end_time": "2023-06-08T20:48:07.227285Z"
    }
   }
  },
  {
   "cell_type": "code",
   "execution_count": 185,
   "outputs": [
    {
     "name": "stdout",
     "output_type": "stream",
     "text": [
      "0.0 0.0 0.0\n"
     ]
    }
   ],
   "source": [
    "print(original_solution[\"reac_1070\"], solution[\"reac_1070_Day\"], solution[\"reac_1070_Night\"]) #RuBisCO + CO2"
   ],
   "metadata": {
    "collapsed": false,
    "ExecuteTime": {
     "start_time": "2023-06-08T20:48:07.675278Z",
     "end_time": "2023-06-08T20:48:07.705931Z"
    }
   }
  },
  {
   "cell_type": "code",
   "execution_count": 186,
   "outputs": [
    {
     "name": "stdout",
     "output_type": "stream",
     "text": [
      "3.80819678194718e-11 -3.4185553915019782e-12 0.0\n"
     ]
    }
   ],
   "source": [
    "print(original_solution[\"reac_1742\"], solution[\"reac_1742_Day\"], solution[\"reac_1742_Night\"]) #RuBisCO + O2"
   ],
   "metadata": {
    "collapsed": false,
    "ExecuteTime": {
     "start_time": "2023-06-08T20:48:08.238515Z",
     "end_time": "2023-06-08T20:48:08.265096Z"
    }
   }
  },
  {
   "cell_type": "code",
   "execution_count": 187,
   "outputs": [
    {
     "name": "stdout",
     "output_type": "stream",
     "text": [
      "9.485225322119773e-12 -1.8871766786833537e-11 -1.6626186467892428e-12\n"
     ]
    }
   ],
   "source": [
    "print(original_solution[\"reac_972\"], solution[\"reac_972_Day\"], solution[\"reac_972_Night\"]) #G3P to 1,3BPG"
   ],
   "metadata": {
    "collapsed": false,
    "ExecuteTime": {
     "start_time": "2023-06-08T20:48:08.681563Z",
     "end_time": "2023-06-08T20:48:08.706456Z"
    }
   }
  },
  {
   "cell_type": "code",
   "execution_count": 188,
   "outputs": [
    {
     "name": "stdout",
     "output_type": "stream",
     "text": [
      "0.0 0.0 0.0\n"
     ]
    }
   ],
   "source": [
    "print(original_solution[\"reac_30\"], solution[\"reac_30_Day\"], solution[\"reac_30_Night\"]) #1,3BPG to GAP"
   ],
   "metadata": {
    "collapsed": false,
    "ExecuteTime": {
     "start_time": "2023-06-08T20:48:09.080528Z",
     "end_time": "2023-06-08T20:48:09.118043Z"
    }
   }
  },
  {
   "cell_type": "code",
   "execution_count": 189,
   "outputs": [
    {
     "name": "stdout",
     "output_type": "stream",
     "text": [
      "-1.087551212228556e-11 -1.6931703437079034e-12 -3.715935535053609e-14\n"
     ]
    }
   ],
   "source": [
    "print(original_solution[\"reac_60\"], solution[\"reac_60_Day\"], solution[\"reac_60_Night\"])  #GAP to Ribulose-5P"
   ],
   "metadata": {
    "collapsed": false,
    "ExecuteTime": {
     "start_time": "2023-06-08T20:48:09.546362Z",
     "end_time": "2023-06-08T20:48:09.568014Z"
    }
   }
  },
  {
   "cell_type": "code",
   "execution_count": 190,
   "outputs": [
    {
     "name": "stdout",
     "output_type": "stream",
     "text": [
      "1.8249973377088282e-11 2.184912067690267e-12 3.715935535053609e-14\n"
     ]
    }
   ],
   "source": [
    "print(original_solution[\"reac_1063\"], solution[\"reac_1063_Day\"], solution[\"reac_1063_Night\"])  #Ribose-5P to Ribulose-5P"
   ],
   "metadata": {
    "collapsed": false,
    "ExecuteTime": {
     "start_time": "2023-06-08T20:48:09.913513Z",
     "end_time": "2023-06-08T20:48:09.952669Z"
    }
   }
  },
  {
   "cell_type": "code",
   "execution_count": 191,
   "outputs": [
    {
     "name": "stdout",
     "output_type": "stream",
     "text": [
      "3.808196781947181e-11 -3.4185553915019782e-12 0.0\n"
     ]
    }
   ],
   "source": [
    "print(original_solution[\"reac_977\"], solution[\"reac_977_Day\"], solution[\"reac_977_Night\"])  #Ribulose-5P to Ribulose-1,5P"
   ],
   "metadata": {
    "collapsed": false,
    "ExecuteTime": {
     "start_time": "2023-06-08T20:48:10.329315Z",
     "end_time": "2023-06-08T20:48:10.352002Z"
    }
   }
  },
  {
   "cell_type": "code",
   "execution_count": null,
   "outputs": [],
   "source": [],
   "metadata": {
    "collapsed": false
   }
  }
 ],
 "metadata": {
  "kernelspec": {
   "display_name": "Python 3",
   "language": "python",
   "name": "python3"
  },
  "language_info": {
   "codemirror_mode": {
    "name": "ipython",
    "version": 2
   },
   "file_extension": ".py",
   "mimetype": "text/x-python",
   "name": "python",
   "nbconvert_exporter": "python",
   "pygments_lexer": "ipython2",
   "version": "2.7.6"
  }
 },
 "nbformat": 4,
 "nbformat_minor": 0
}
